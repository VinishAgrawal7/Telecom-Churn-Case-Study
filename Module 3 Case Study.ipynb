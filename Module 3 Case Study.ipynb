{
 "cells": [
  {
   "cell_type": "code",
   "execution_count": 0,
   "metadata": {
    "colab": {},
    "colab_type": "code",
    "id": "IaBYNFENBpGy"
   },
   "outputs": [],
   "source": [
    "# Importing libraries\n",
    "import pandas as pd\n",
    "import numpy as np\n",
    "import matplotlib.pyplot as plt\n",
    "import seaborn as sns\n",
    "\n",
    "from sklearn.preprocessing import StandardScaler, LabelEncoder\n",
    "from sklearn.ensemble import RandomForestClassifier\n",
    "from sklearn.model_selection import train_test_split\n",
    "from sklearn.linear_model import LogisticRegression\n",
    "\n",
    "from sklearn.feature_selection import RFE\n",
    "from sklearn import metrics\n",
    "from sklearn.model_selection import GridSearchCV\n",
    "\n",
    "from statsmodels.stats.outliers_influence import variance_inflation_factor\n",
    "\n",
    "import math\n",
    "import statsmodels.api as stm\n",
    "import warnings\n",
    "warnings.filterwarnings(\"ignore\")"
   ]
  },
  {
   "cell_type": "markdown",
   "metadata": {
    "colab_type": "text",
    "id": "16NWmNsSCx-2"
   },
   "source": [
    "# Reading and Understanding Data"
   ]
  },
  {
   "cell_type": "code",
   "execution_count": 21,
   "metadata": {
    "colab": {
     "base_uri": "https://localhost:8080/",
     "height": 34
    },
    "colab_type": "code",
    "id": "951qZG91CYly",
    "outputId": "d949d164-187b-4503-d59e-2fd42db722bf"
   },
   "outputs": [
    {
     "name": "stdout",
     "output_type": "stream",
     "text": [
      "Drive already mounted at /content/gdrive; to attempt to forcibly remount, call drive.mount(\"/content/gdrive\", force_remount=True).\n"
     ]
    }
   ],
   "source": [
    "from google.colab import drive\n",
    "drive.mount('/content/gdrive')"
   ]
  },
  {
   "cell_type": "code",
   "execution_count": 22,
   "metadata": {
    "colab": {
     "base_uri": "https://localhost:8080/",
     "height": 253
    },
    "colab_type": "code",
    "id": "NB0JW983EURa",
    "outputId": "d20bbdfc-259a-4990-aefa-d226c10f8782"
   },
   "outputs": [
    {
     "data": {
      "text/html": [
       "<div>\n",
       "<style scoped>\n",
       "    .dataframe tbody tr th:only-of-type {\n",
       "        vertical-align: middle;\n",
       "    }\n",
       "\n",
       "    .dataframe tbody tr th {\n",
       "        vertical-align: top;\n",
       "    }\n",
       "\n",
       "    .dataframe thead th {\n",
       "        text-align: right;\n",
       "    }\n",
       "</style>\n",
       "<table border=\"1\" class=\"dataframe\">\n",
       "  <thead>\n",
       "    <tr style=\"text-align: right;\">\n",
       "      <th></th>\n",
       "      <th>mobile_number</th>\n",
       "      <th>circle_id</th>\n",
       "      <th>loc_og_t2o_mou</th>\n",
       "      <th>std_og_t2o_mou</th>\n",
       "      <th>loc_ic_t2o_mou</th>\n",
       "      <th>last_date_of_month_6</th>\n",
       "      <th>last_date_of_month_7</th>\n",
       "      <th>last_date_of_month_8</th>\n",
       "      <th>last_date_of_month_9</th>\n",
       "      <th>arpu_6</th>\n",
       "      <th>arpu_7</th>\n",
       "      <th>arpu_8</th>\n",
       "      <th>arpu_9</th>\n",
       "      <th>onnet_mou_6</th>\n",
       "      <th>onnet_mou_7</th>\n",
       "      <th>onnet_mou_8</th>\n",
       "      <th>onnet_mou_9</th>\n",
       "      <th>offnet_mou_6</th>\n",
       "      <th>offnet_mou_7</th>\n",
       "      <th>offnet_mou_8</th>\n",
       "      <th>offnet_mou_9</th>\n",
       "      <th>roam_ic_mou_6</th>\n",
       "      <th>roam_ic_mou_7</th>\n",
       "      <th>roam_ic_mou_8</th>\n",
       "      <th>roam_ic_mou_9</th>\n",
       "      <th>roam_og_mou_6</th>\n",
       "      <th>roam_og_mou_7</th>\n",
       "      <th>roam_og_mou_8</th>\n",
       "      <th>roam_og_mou_9</th>\n",
       "      <th>loc_og_t2t_mou_6</th>\n",
       "      <th>loc_og_t2t_mou_7</th>\n",
       "      <th>loc_og_t2t_mou_8</th>\n",
       "      <th>loc_og_t2t_mou_9</th>\n",
       "      <th>loc_og_t2m_mou_6</th>\n",
       "      <th>loc_og_t2m_mou_7</th>\n",
       "      <th>loc_og_t2m_mou_8</th>\n",
       "      <th>loc_og_t2m_mou_9</th>\n",
       "      <th>loc_og_t2f_mou_6</th>\n",
       "      <th>loc_og_t2f_mou_7</th>\n",
       "      <th>loc_og_t2f_mou_8</th>\n",
       "      <th>...</th>\n",
       "      <th>vol_3g_mb_7</th>\n",
       "      <th>vol_3g_mb_8</th>\n",
       "      <th>vol_3g_mb_9</th>\n",
       "      <th>arpu_3g_6</th>\n",
       "      <th>arpu_3g_7</th>\n",
       "      <th>arpu_3g_8</th>\n",
       "      <th>arpu_3g_9</th>\n",
       "      <th>arpu_2g_6</th>\n",
       "      <th>arpu_2g_7</th>\n",
       "      <th>arpu_2g_8</th>\n",
       "      <th>arpu_2g_9</th>\n",
       "      <th>night_pck_user_6</th>\n",
       "      <th>night_pck_user_7</th>\n",
       "      <th>night_pck_user_8</th>\n",
       "      <th>night_pck_user_9</th>\n",
       "      <th>monthly_2g_6</th>\n",
       "      <th>monthly_2g_7</th>\n",
       "      <th>monthly_2g_8</th>\n",
       "      <th>monthly_2g_9</th>\n",
       "      <th>sachet_2g_6</th>\n",
       "      <th>sachet_2g_7</th>\n",
       "      <th>sachet_2g_8</th>\n",
       "      <th>sachet_2g_9</th>\n",
       "      <th>monthly_3g_6</th>\n",
       "      <th>monthly_3g_7</th>\n",
       "      <th>monthly_3g_8</th>\n",
       "      <th>monthly_3g_9</th>\n",
       "      <th>sachet_3g_6</th>\n",
       "      <th>sachet_3g_7</th>\n",
       "      <th>sachet_3g_8</th>\n",
       "      <th>sachet_3g_9</th>\n",
       "      <th>fb_user_6</th>\n",
       "      <th>fb_user_7</th>\n",
       "      <th>fb_user_8</th>\n",
       "      <th>fb_user_9</th>\n",
       "      <th>aon</th>\n",
       "      <th>aug_vbc_3g</th>\n",
       "      <th>jul_vbc_3g</th>\n",
       "      <th>jun_vbc_3g</th>\n",
       "      <th>sep_vbc_3g</th>\n",
       "    </tr>\n",
       "  </thead>\n",
       "  <tbody>\n",
       "    <tr>\n",
       "      <th>0</th>\n",
       "      <td>7000842753</td>\n",
       "      <td>109</td>\n",
       "      <td>0.0</td>\n",
       "      <td>0.0</td>\n",
       "      <td>0.0</td>\n",
       "      <td>6/30/2014</td>\n",
       "      <td>7/31/2014</td>\n",
       "      <td>8/31/2014</td>\n",
       "      <td>9/30/2014</td>\n",
       "      <td>197.385</td>\n",
       "      <td>214.816</td>\n",
       "      <td>213.803</td>\n",
       "      <td>21.100</td>\n",
       "      <td>NaN</td>\n",
       "      <td>NaN</td>\n",
       "      <td>0.00</td>\n",
       "      <td>NaN</td>\n",
       "      <td>NaN</td>\n",
       "      <td>NaN</td>\n",
       "      <td>0.00</td>\n",
       "      <td>NaN</td>\n",
       "      <td>NaN</td>\n",
       "      <td>NaN</td>\n",
       "      <td>0.00</td>\n",
       "      <td>NaN</td>\n",
       "      <td>NaN</td>\n",
       "      <td>NaN</td>\n",
       "      <td>0.00</td>\n",
       "      <td>NaN</td>\n",
       "      <td>NaN</td>\n",
       "      <td>NaN</td>\n",
       "      <td>0.00</td>\n",
       "      <td>NaN</td>\n",
       "      <td>NaN</td>\n",
       "      <td>NaN</td>\n",
       "      <td>0.00</td>\n",
       "      <td>NaN</td>\n",
       "      <td>NaN</td>\n",
       "      <td>NaN</td>\n",
       "      <td>0.00</td>\n",
       "      <td>...</td>\n",
       "      <td>150.76</td>\n",
       "      <td>109.61</td>\n",
       "      <td>0.00</td>\n",
       "      <td>212.17</td>\n",
       "      <td>212.17</td>\n",
       "      <td>212.17</td>\n",
       "      <td>NaN</td>\n",
       "      <td>212.17</td>\n",
       "      <td>212.17</td>\n",
       "      <td>212.17</td>\n",
       "      <td>NaN</td>\n",
       "      <td>0.0</td>\n",
       "      <td>0.0</td>\n",
       "      <td>0.0</td>\n",
       "      <td>NaN</td>\n",
       "      <td>0</td>\n",
       "      <td>0</td>\n",
       "      <td>0</td>\n",
       "      <td>0</td>\n",
       "      <td>0</td>\n",
       "      <td>0</td>\n",
       "      <td>0</td>\n",
       "      <td>0</td>\n",
       "      <td>1</td>\n",
       "      <td>1</td>\n",
       "      <td>1</td>\n",
       "      <td>0</td>\n",
       "      <td>0</td>\n",
       "      <td>0</td>\n",
       "      <td>0</td>\n",
       "      <td>0</td>\n",
       "      <td>1.0</td>\n",
       "      <td>1.0</td>\n",
       "      <td>1.0</td>\n",
       "      <td>NaN</td>\n",
       "      <td>968</td>\n",
       "      <td>30.4</td>\n",
       "      <td>0.0</td>\n",
       "      <td>101.20</td>\n",
       "      <td>3.58</td>\n",
       "    </tr>\n",
       "    <tr>\n",
       "      <th>1</th>\n",
       "      <td>7001865778</td>\n",
       "      <td>109</td>\n",
       "      <td>0.0</td>\n",
       "      <td>0.0</td>\n",
       "      <td>0.0</td>\n",
       "      <td>6/30/2014</td>\n",
       "      <td>7/31/2014</td>\n",
       "      <td>8/31/2014</td>\n",
       "      <td>9/30/2014</td>\n",
       "      <td>34.047</td>\n",
       "      <td>355.074</td>\n",
       "      <td>268.321</td>\n",
       "      <td>86.285</td>\n",
       "      <td>24.11</td>\n",
       "      <td>78.68</td>\n",
       "      <td>7.68</td>\n",
       "      <td>18.34</td>\n",
       "      <td>15.74</td>\n",
       "      <td>99.84</td>\n",
       "      <td>304.76</td>\n",
       "      <td>53.76</td>\n",
       "      <td>0.0</td>\n",
       "      <td>0.00</td>\n",
       "      <td>0.00</td>\n",
       "      <td>0.00</td>\n",
       "      <td>0.0</td>\n",
       "      <td>0.00</td>\n",
       "      <td>0.00</td>\n",
       "      <td>0.00</td>\n",
       "      <td>23.88</td>\n",
       "      <td>74.56</td>\n",
       "      <td>7.68</td>\n",
       "      <td>18.34</td>\n",
       "      <td>11.51</td>\n",
       "      <td>75.94</td>\n",
       "      <td>291.86</td>\n",
       "      <td>53.76</td>\n",
       "      <td>0.00</td>\n",
       "      <td>0.00</td>\n",
       "      <td>0.00</td>\n",
       "      <td>...</td>\n",
       "      <td>0.00</td>\n",
       "      <td>0.00</td>\n",
       "      <td>0.00</td>\n",
       "      <td>NaN</td>\n",
       "      <td>0.00</td>\n",
       "      <td>0.00</td>\n",
       "      <td>NaN</td>\n",
       "      <td>NaN</td>\n",
       "      <td>28.61</td>\n",
       "      <td>7.60</td>\n",
       "      <td>NaN</td>\n",
       "      <td>NaN</td>\n",
       "      <td>0.0</td>\n",
       "      <td>0.0</td>\n",
       "      <td>NaN</td>\n",
       "      <td>0</td>\n",
       "      <td>1</td>\n",
       "      <td>0</td>\n",
       "      <td>0</td>\n",
       "      <td>0</td>\n",
       "      <td>0</td>\n",
       "      <td>2</td>\n",
       "      <td>0</td>\n",
       "      <td>0</td>\n",
       "      <td>0</td>\n",
       "      <td>0</td>\n",
       "      <td>0</td>\n",
       "      <td>0</td>\n",
       "      <td>0</td>\n",
       "      <td>0</td>\n",
       "      <td>0</td>\n",
       "      <td>NaN</td>\n",
       "      <td>1.0</td>\n",
       "      <td>1.0</td>\n",
       "      <td>NaN</td>\n",
       "      <td>1006</td>\n",
       "      <td>0.0</td>\n",
       "      <td>0.0</td>\n",
       "      <td>0.00</td>\n",
       "      <td>0.00</td>\n",
       "    </tr>\n",
       "    <tr>\n",
       "      <th>2</th>\n",
       "      <td>7001625959</td>\n",
       "      <td>109</td>\n",
       "      <td>0.0</td>\n",
       "      <td>0.0</td>\n",
       "      <td>0.0</td>\n",
       "      <td>6/30/2014</td>\n",
       "      <td>7/31/2014</td>\n",
       "      <td>8/31/2014</td>\n",
       "      <td>9/30/2014</td>\n",
       "      <td>167.690</td>\n",
       "      <td>189.058</td>\n",
       "      <td>210.226</td>\n",
       "      <td>290.714</td>\n",
       "      <td>11.54</td>\n",
       "      <td>55.24</td>\n",
       "      <td>37.26</td>\n",
       "      <td>74.81</td>\n",
       "      <td>143.33</td>\n",
       "      <td>220.59</td>\n",
       "      <td>208.36</td>\n",
       "      <td>118.91</td>\n",
       "      <td>0.0</td>\n",
       "      <td>0.00</td>\n",
       "      <td>0.00</td>\n",
       "      <td>38.49</td>\n",
       "      <td>0.0</td>\n",
       "      <td>0.00</td>\n",
       "      <td>0.00</td>\n",
       "      <td>70.94</td>\n",
       "      <td>7.19</td>\n",
       "      <td>28.74</td>\n",
       "      <td>13.58</td>\n",
       "      <td>14.39</td>\n",
       "      <td>29.34</td>\n",
       "      <td>16.86</td>\n",
       "      <td>38.46</td>\n",
       "      <td>28.16</td>\n",
       "      <td>24.11</td>\n",
       "      <td>21.79</td>\n",
       "      <td>15.61</td>\n",
       "      <td>...</td>\n",
       "      <td>0.00</td>\n",
       "      <td>0.00</td>\n",
       "      <td>8.42</td>\n",
       "      <td>NaN</td>\n",
       "      <td>NaN</td>\n",
       "      <td>NaN</td>\n",
       "      <td>2.84</td>\n",
       "      <td>NaN</td>\n",
       "      <td>NaN</td>\n",
       "      <td>NaN</td>\n",
       "      <td>0.0</td>\n",
       "      <td>NaN</td>\n",
       "      <td>NaN</td>\n",
       "      <td>NaN</td>\n",
       "      <td>0.0</td>\n",
       "      <td>0</td>\n",
       "      <td>0</td>\n",
       "      <td>0</td>\n",
       "      <td>0</td>\n",
       "      <td>0</td>\n",
       "      <td>0</td>\n",
       "      <td>0</td>\n",
       "      <td>1</td>\n",
       "      <td>0</td>\n",
       "      <td>0</td>\n",
       "      <td>0</td>\n",
       "      <td>0</td>\n",
       "      <td>0</td>\n",
       "      <td>0</td>\n",
       "      <td>0</td>\n",
       "      <td>0</td>\n",
       "      <td>NaN</td>\n",
       "      <td>NaN</td>\n",
       "      <td>NaN</td>\n",
       "      <td>1.0</td>\n",
       "      <td>1103</td>\n",
       "      <td>0.0</td>\n",
       "      <td>0.0</td>\n",
       "      <td>4.17</td>\n",
       "      <td>0.00</td>\n",
       "    </tr>\n",
       "    <tr>\n",
       "      <th>3</th>\n",
       "      <td>7001204172</td>\n",
       "      <td>109</td>\n",
       "      <td>0.0</td>\n",
       "      <td>0.0</td>\n",
       "      <td>0.0</td>\n",
       "      <td>6/30/2014</td>\n",
       "      <td>7/31/2014</td>\n",
       "      <td>8/31/2014</td>\n",
       "      <td>9/30/2014</td>\n",
       "      <td>221.338</td>\n",
       "      <td>251.102</td>\n",
       "      <td>508.054</td>\n",
       "      <td>389.500</td>\n",
       "      <td>99.91</td>\n",
       "      <td>54.39</td>\n",
       "      <td>310.98</td>\n",
       "      <td>241.71</td>\n",
       "      <td>123.31</td>\n",
       "      <td>109.01</td>\n",
       "      <td>71.68</td>\n",
       "      <td>113.54</td>\n",
       "      <td>0.0</td>\n",
       "      <td>54.86</td>\n",
       "      <td>44.38</td>\n",
       "      <td>0.00</td>\n",
       "      <td>0.0</td>\n",
       "      <td>28.09</td>\n",
       "      <td>39.04</td>\n",
       "      <td>0.00</td>\n",
       "      <td>73.68</td>\n",
       "      <td>34.81</td>\n",
       "      <td>10.61</td>\n",
       "      <td>15.49</td>\n",
       "      <td>107.43</td>\n",
       "      <td>83.21</td>\n",
       "      <td>22.46</td>\n",
       "      <td>65.46</td>\n",
       "      <td>1.91</td>\n",
       "      <td>0.65</td>\n",
       "      <td>4.91</td>\n",
       "      <td>...</td>\n",
       "      <td>0.00</td>\n",
       "      <td>0.00</td>\n",
       "      <td>0.00</td>\n",
       "      <td>NaN</td>\n",
       "      <td>NaN</td>\n",
       "      <td>NaN</td>\n",
       "      <td>NaN</td>\n",
       "      <td>NaN</td>\n",
       "      <td>NaN</td>\n",
       "      <td>NaN</td>\n",
       "      <td>NaN</td>\n",
       "      <td>NaN</td>\n",
       "      <td>NaN</td>\n",
       "      <td>NaN</td>\n",
       "      <td>NaN</td>\n",
       "      <td>0</td>\n",
       "      <td>0</td>\n",
       "      <td>0</td>\n",
       "      <td>0</td>\n",
       "      <td>0</td>\n",
       "      <td>0</td>\n",
       "      <td>0</td>\n",
       "      <td>0</td>\n",
       "      <td>0</td>\n",
       "      <td>0</td>\n",
       "      <td>0</td>\n",
       "      <td>0</td>\n",
       "      <td>0</td>\n",
       "      <td>0</td>\n",
       "      <td>0</td>\n",
       "      <td>0</td>\n",
       "      <td>NaN</td>\n",
       "      <td>NaN</td>\n",
       "      <td>NaN</td>\n",
       "      <td>NaN</td>\n",
       "      <td>2491</td>\n",
       "      <td>0.0</td>\n",
       "      <td>0.0</td>\n",
       "      <td>0.00</td>\n",
       "      <td>0.00</td>\n",
       "    </tr>\n",
       "    <tr>\n",
       "      <th>4</th>\n",
       "      <td>7000142493</td>\n",
       "      <td>109</td>\n",
       "      <td>0.0</td>\n",
       "      <td>0.0</td>\n",
       "      <td>0.0</td>\n",
       "      <td>6/30/2014</td>\n",
       "      <td>7/31/2014</td>\n",
       "      <td>8/31/2014</td>\n",
       "      <td>9/30/2014</td>\n",
       "      <td>261.636</td>\n",
       "      <td>309.876</td>\n",
       "      <td>238.174</td>\n",
       "      <td>163.426</td>\n",
       "      <td>50.31</td>\n",
       "      <td>149.44</td>\n",
       "      <td>83.89</td>\n",
       "      <td>58.78</td>\n",
       "      <td>76.96</td>\n",
       "      <td>91.88</td>\n",
       "      <td>124.26</td>\n",
       "      <td>45.81</td>\n",
       "      <td>0.0</td>\n",
       "      <td>0.00</td>\n",
       "      <td>0.00</td>\n",
       "      <td>0.00</td>\n",
       "      <td>0.0</td>\n",
       "      <td>0.00</td>\n",
       "      <td>0.00</td>\n",
       "      <td>0.00</td>\n",
       "      <td>50.31</td>\n",
       "      <td>149.44</td>\n",
       "      <td>83.89</td>\n",
       "      <td>58.78</td>\n",
       "      <td>67.64</td>\n",
       "      <td>91.88</td>\n",
       "      <td>124.26</td>\n",
       "      <td>37.89</td>\n",
       "      <td>0.00</td>\n",
       "      <td>0.00</td>\n",
       "      <td>0.00</td>\n",
       "      <td>...</td>\n",
       "      <td>0.00</td>\n",
       "      <td>0.00</td>\n",
       "      <td>0.00</td>\n",
       "      <td>0.00</td>\n",
       "      <td>NaN</td>\n",
       "      <td>NaN</td>\n",
       "      <td>NaN</td>\n",
       "      <td>0.00</td>\n",
       "      <td>NaN</td>\n",
       "      <td>NaN</td>\n",
       "      <td>NaN</td>\n",
       "      <td>0.0</td>\n",
       "      <td>NaN</td>\n",
       "      <td>NaN</td>\n",
       "      <td>NaN</td>\n",
       "      <td>0</td>\n",
       "      <td>0</td>\n",
       "      <td>0</td>\n",
       "      <td>0</td>\n",
       "      <td>1</td>\n",
       "      <td>0</td>\n",
       "      <td>0</td>\n",
       "      <td>0</td>\n",
       "      <td>0</td>\n",
       "      <td>0</td>\n",
       "      <td>0</td>\n",
       "      <td>0</td>\n",
       "      <td>0</td>\n",
       "      <td>0</td>\n",
       "      <td>0</td>\n",
       "      <td>0</td>\n",
       "      <td>0.0</td>\n",
       "      <td>NaN</td>\n",
       "      <td>NaN</td>\n",
       "      <td>NaN</td>\n",
       "      <td>1526</td>\n",
       "      <td>0.0</td>\n",
       "      <td>0.0</td>\n",
       "      <td>0.00</td>\n",
       "      <td>0.00</td>\n",
       "    </tr>\n",
       "  </tbody>\n",
       "</table>\n",
       "<p>5 rows × 226 columns</p>\n",
       "</div>"
      ],
      "text/plain": [
       "   mobile_number  circle_id  loc_og_t2o_mou  ...  jul_vbc_3g  jun_vbc_3g sep_vbc_3g\n",
       "0     7000842753        109             0.0  ...         0.0      101.20       3.58\n",
       "1     7001865778        109             0.0  ...         0.0        0.00       0.00\n",
       "2     7001625959        109             0.0  ...         0.0        4.17       0.00\n",
       "3     7001204172        109             0.0  ...         0.0        0.00       0.00\n",
       "4     7000142493        109             0.0  ...         0.0        0.00       0.00\n",
       "\n",
       "[5 rows x 226 columns]"
      ]
     },
     "execution_count": 22,
     "metadata": {
      "tags": []
     },
     "output_type": "execute_result"
    }
   ],
   "source": [
    "tel_df=pd.read_csv('/content/gdrive/My Drive/Colab Notebooks/telecom_churn_data.csv')\n",
    "tel_df.head()"
   ]
  },
  {
   "cell_type": "code",
   "execution_count": 23,
   "metadata": {
    "colab": {
     "base_uri": "https://localhost:8080/",
     "height": 34
    },
    "colab_type": "code",
    "id": "HKtTaqePHSQ7",
    "outputId": "497ec738-744d-4e80-f646-c6bd90eadd83"
   },
   "outputs": [
    {
     "data": {
      "text/plain": [
       "(99999, 226)"
      ]
     },
     "execution_count": 23,
     "metadata": {
      "tags": []
     },
     "output_type": "execute_result"
    }
   ],
   "source": [
    "# Identifying the Shape of the dataset\n",
    "tel_df.shape"
   ]
  },
  {
   "cell_type": "code",
   "execution_count": 24,
   "metadata": {
    "colab": {
     "base_uri": "https://localhost:8080/",
     "height": 346
    },
    "colab_type": "code",
    "id": "fT9UaEyXEhIC",
    "outputId": "1c5360d9-52fd-4014-e5b0-8beb90286ab5"
   },
   "outputs": [
    {
     "data": {
      "text/html": [
       "<div>\n",
       "<style scoped>\n",
       "    .dataframe tbody tr th:only-of-type {\n",
       "        vertical-align: middle;\n",
       "    }\n",
       "\n",
       "    .dataframe tbody tr th {\n",
       "        vertical-align: top;\n",
       "    }\n",
       "\n",
       "    .dataframe thead th {\n",
       "        text-align: right;\n",
       "    }\n",
       "</style>\n",
       "<table border=\"1\" class=\"dataframe\">\n",
       "  <thead>\n",
       "    <tr style=\"text-align: right;\">\n",
       "      <th></th>\n",
       "      <th>mobile_number</th>\n",
       "      <th>circle_id</th>\n",
       "      <th>loc_og_t2o_mou</th>\n",
       "      <th>std_og_t2o_mou</th>\n",
       "      <th>loc_ic_t2o_mou</th>\n",
       "      <th>arpu_6</th>\n",
       "      <th>arpu_7</th>\n",
       "      <th>arpu_8</th>\n",
       "      <th>arpu_9</th>\n",
       "      <th>onnet_mou_6</th>\n",
       "      <th>onnet_mou_7</th>\n",
       "      <th>onnet_mou_8</th>\n",
       "      <th>onnet_mou_9</th>\n",
       "      <th>offnet_mou_6</th>\n",
       "      <th>offnet_mou_7</th>\n",
       "      <th>offnet_mou_8</th>\n",
       "      <th>offnet_mou_9</th>\n",
       "      <th>roam_ic_mou_6</th>\n",
       "      <th>roam_ic_mou_7</th>\n",
       "      <th>roam_ic_mou_8</th>\n",
       "      <th>roam_ic_mou_9</th>\n",
       "      <th>roam_og_mou_6</th>\n",
       "      <th>roam_og_mou_7</th>\n",
       "      <th>roam_og_mou_8</th>\n",
       "      <th>roam_og_mou_9</th>\n",
       "      <th>loc_og_t2t_mou_6</th>\n",
       "      <th>loc_og_t2t_mou_7</th>\n",
       "      <th>loc_og_t2t_mou_8</th>\n",
       "      <th>loc_og_t2t_mou_9</th>\n",
       "      <th>loc_og_t2m_mou_6</th>\n",
       "      <th>loc_og_t2m_mou_7</th>\n",
       "      <th>loc_og_t2m_mou_8</th>\n",
       "      <th>loc_og_t2m_mou_9</th>\n",
       "      <th>loc_og_t2f_mou_6</th>\n",
       "      <th>loc_og_t2f_mou_7</th>\n",
       "      <th>loc_og_t2f_mou_8</th>\n",
       "      <th>loc_og_t2f_mou_9</th>\n",
       "      <th>loc_og_t2c_mou_6</th>\n",
       "      <th>loc_og_t2c_mou_7</th>\n",
       "      <th>loc_og_t2c_mou_8</th>\n",
       "      <th>...</th>\n",
       "      <th>vol_3g_mb_7</th>\n",
       "      <th>vol_3g_mb_8</th>\n",
       "      <th>vol_3g_mb_9</th>\n",
       "      <th>arpu_3g_6</th>\n",
       "      <th>arpu_3g_7</th>\n",
       "      <th>arpu_3g_8</th>\n",
       "      <th>arpu_3g_9</th>\n",
       "      <th>arpu_2g_6</th>\n",
       "      <th>arpu_2g_7</th>\n",
       "      <th>arpu_2g_8</th>\n",
       "      <th>arpu_2g_9</th>\n",
       "      <th>night_pck_user_6</th>\n",
       "      <th>night_pck_user_7</th>\n",
       "      <th>night_pck_user_8</th>\n",
       "      <th>night_pck_user_9</th>\n",
       "      <th>monthly_2g_6</th>\n",
       "      <th>monthly_2g_7</th>\n",
       "      <th>monthly_2g_8</th>\n",
       "      <th>monthly_2g_9</th>\n",
       "      <th>sachet_2g_6</th>\n",
       "      <th>sachet_2g_7</th>\n",
       "      <th>sachet_2g_8</th>\n",
       "      <th>sachet_2g_9</th>\n",
       "      <th>monthly_3g_6</th>\n",
       "      <th>monthly_3g_7</th>\n",
       "      <th>monthly_3g_8</th>\n",
       "      <th>monthly_3g_9</th>\n",
       "      <th>sachet_3g_6</th>\n",
       "      <th>sachet_3g_7</th>\n",
       "      <th>sachet_3g_8</th>\n",
       "      <th>sachet_3g_9</th>\n",
       "      <th>fb_user_6</th>\n",
       "      <th>fb_user_7</th>\n",
       "      <th>fb_user_8</th>\n",
       "      <th>fb_user_9</th>\n",
       "      <th>aon</th>\n",
       "      <th>aug_vbc_3g</th>\n",
       "      <th>jul_vbc_3g</th>\n",
       "      <th>jun_vbc_3g</th>\n",
       "      <th>sep_vbc_3g</th>\n",
       "    </tr>\n",
       "  </thead>\n",
       "  <tbody>\n",
       "    <tr>\n",
       "      <th>count</th>\n",
       "      <td>9.999900e+04</td>\n",
       "      <td>99999.0</td>\n",
       "      <td>98981.0</td>\n",
       "      <td>98981.0</td>\n",
       "      <td>98981.0</td>\n",
       "      <td>99999.000000</td>\n",
       "      <td>99999.000000</td>\n",
       "      <td>99999.000000</td>\n",
       "      <td>99999.000000</td>\n",
       "      <td>96062.000000</td>\n",
       "      <td>96140.000000</td>\n",
       "      <td>94621.000000</td>\n",
       "      <td>92254.000000</td>\n",
       "      <td>96062.000000</td>\n",
       "      <td>96140.000000</td>\n",
       "      <td>94621.000000</td>\n",
       "      <td>92254.000000</td>\n",
       "      <td>96062.000000</td>\n",
       "      <td>96140.000000</td>\n",
       "      <td>94621.000000</td>\n",
       "      <td>92254.000000</td>\n",
       "      <td>96062.000000</td>\n",
       "      <td>96140.000000</td>\n",
       "      <td>94621.000000</td>\n",
       "      <td>92254.000000</td>\n",
       "      <td>96062.000000</td>\n",
       "      <td>96140.000000</td>\n",
       "      <td>94621.000000</td>\n",
       "      <td>92254.000000</td>\n",
       "      <td>96062.000000</td>\n",
       "      <td>96140.000000</td>\n",
       "      <td>94621.000000</td>\n",
       "      <td>92254.000000</td>\n",
       "      <td>96062.000000</td>\n",
       "      <td>96140.000000</td>\n",
       "      <td>94621.000000</td>\n",
       "      <td>92254.000000</td>\n",
       "      <td>96062.000000</td>\n",
       "      <td>96140.000000</td>\n",
       "      <td>94621.000000</td>\n",
       "      <td>...</td>\n",
       "      <td>99999.000000</td>\n",
       "      <td>99999.000000</td>\n",
       "      <td>99999.000000</td>\n",
       "      <td>25153.000000</td>\n",
       "      <td>25571.000000</td>\n",
       "      <td>26339.000000</td>\n",
       "      <td>25922.000000</td>\n",
       "      <td>25153.000000</td>\n",
       "      <td>25571.000000</td>\n",
       "      <td>26339.000000</td>\n",
       "      <td>25922.000000</td>\n",
       "      <td>25153.000000</td>\n",
       "      <td>25571.000000</td>\n",
       "      <td>26339.000000</td>\n",
       "      <td>25922.000000</td>\n",
       "      <td>99999.000000</td>\n",
       "      <td>99999.000000</td>\n",
       "      <td>99999.000000</td>\n",
       "      <td>99999.000000</td>\n",
       "      <td>99999.000000</td>\n",
       "      <td>99999.000000</td>\n",
       "      <td>99999.000000</td>\n",
       "      <td>99999.000000</td>\n",
       "      <td>99999.000000</td>\n",
       "      <td>99999.000000</td>\n",
       "      <td>99999.000000</td>\n",
       "      <td>99999.000000</td>\n",
       "      <td>99999.000000</td>\n",
       "      <td>99999.000000</td>\n",
       "      <td>99999.000000</td>\n",
       "      <td>99999.000000</td>\n",
       "      <td>25153.000000</td>\n",
       "      <td>25571.000000</td>\n",
       "      <td>26339.000000</td>\n",
       "      <td>25922.000000</td>\n",
       "      <td>99999.000000</td>\n",
       "      <td>99999.000000</td>\n",
       "      <td>99999.000000</td>\n",
       "      <td>99999.000000</td>\n",
       "      <td>99999.000000</td>\n",
       "    </tr>\n",
       "    <tr>\n",
       "      <th>mean</th>\n",
       "      <td>7.001207e+09</td>\n",
       "      <td>109.0</td>\n",
       "      <td>0.0</td>\n",
       "      <td>0.0</td>\n",
       "      <td>0.0</td>\n",
       "      <td>282.987358</td>\n",
       "      <td>278.536648</td>\n",
       "      <td>279.154731</td>\n",
       "      <td>261.645069</td>\n",
       "      <td>132.395875</td>\n",
       "      <td>133.670805</td>\n",
       "      <td>133.018098</td>\n",
       "      <td>130.302327</td>\n",
       "      <td>197.935577</td>\n",
       "      <td>197.045133</td>\n",
       "      <td>196.574803</td>\n",
       "      <td>190.337222</td>\n",
       "      <td>9.950013</td>\n",
       "      <td>7.149898</td>\n",
       "      <td>7.292981</td>\n",
       "      <td>6.343841</td>\n",
       "      <td>13.911337</td>\n",
       "      <td>9.818732</td>\n",
       "      <td>9.971890</td>\n",
       "      <td>8.555519</td>\n",
       "      <td>47.100763</td>\n",
       "      <td>46.473010</td>\n",
       "      <td>45.887806</td>\n",
       "      <td>44.584446</td>\n",
       "      <td>93.342088</td>\n",
       "      <td>91.397131</td>\n",
       "      <td>91.755128</td>\n",
       "      <td>90.463192</td>\n",
       "      <td>3.751013</td>\n",
       "      <td>3.792985</td>\n",
       "      <td>3.677991</td>\n",
       "      <td>3.655123</td>\n",
       "      <td>1.123056</td>\n",
       "      <td>1.368500</td>\n",
       "      <td>1.433821</td>\n",
       "      <td>...</td>\n",
       "      <td>128.995847</td>\n",
       "      <td>135.410689</td>\n",
       "      <td>136.056613</td>\n",
       "      <td>89.555057</td>\n",
       "      <td>89.384120</td>\n",
       "      <td>91.173849</td>\n",
       "      <td>100.264116</td>\n",
       "      <td>86.398003</td>\n",
       "      <td>85.914450</td>\n",
       "      <td>86.599478</td>\n",
       "      <td>93.712026</td>\n",
       "      <td>0.025086</td>\n",
       "      <td>0.023034</td>\n",
       "      <td>0.020844</td>\n",
       "      <td>0.015971</td>\n",
       "      <td>0.079641</td>\n",
       "      <td>0.083221</td>\n",
       "      <td>0.081001</td>\n",
       "      <td>0.068781</td>\n",
       "      <td>0.389384</td>\n",
       "      <td>0.439634</td>\n",
       "      <td>0.450075</td>\n",
       "      <td>0.393104</td>\n",
       "      <td>0.075921</td>\n",
       "      <td>0.078581</td>\n",
       "      <td>0.082941</td>\n",
       "      <td>0.086341</td>\n",
       "      <td>0.074781</td>\n",
       "      <td>0.080401</td>\n",
       "      <td>0.084501</td>\n",
       "      <td>0.084581</td>\n",
       "      <td>0.914404</td>\n",
       "      <td>0.908764</td>\n",
       "      <td>0.890808</td>\n",
       "      <td>0.860968</td>\n",
       "      <td>1219.854749</td>\n",
       "      <td>68.170248</td>\n",
       "      <td>66.839062</td>\n",
       "      <td>60.021204</td>\n",
       "      <td>3.299373</td>\n",
       "    </tr>\n",
       "    <tr>\n",
       "      <th>std</th>\n",
       "      <td>6.956694e+05</td>\n",
       "      <td>0.0</td>\n",
       "      <td>0.0</td>\n",
       "      <td>0.0</td>\n",
       "      <td>0.0</td>\n",
       "      <td>328.439770</td>\n",
       "      <td>338.156291</td>\n",
       "      <td>344.474791</td>\n",
       "      <td>341.998630</td>\n",
       "      <td>297.207406</td>\n",
       "      <td>308.794148</td>\n",
       "      <td>308.951589</td>\n",
       "      <td>308.477668</td>\n",
       "      <td>316.851613</td>\n",
       "      <td>325.862803</td>\n",
       "      <td>327.170662</td>\n",
       "      <td>319.396092</td>\n",
       "      <td>72.825411</td>\n",
       "      <td>73.447948</td>\n",
       "      <td>68.402466</td>\n",
       "      <td>57.137537</td>\n",
       "      <td>71.443196</td>\n",
       "      <td>58.455762</td>\n",
       "      <td>64.713221</td>\n",
       "      <td>58.438186</td>\n",
       "      <td>150.856393</td>\n",
       "      <td>155.318705</td>\n",
       "      <td>151.184830</td>\n",
       "      <td>147.995390</td>\n",
       "      <td>162.780544</td>\n",
       "      <td>157.492308</td>\n",
       "      <td>156.537048</td>\n",
       "      <td>158.681454</td>\n",
       "      <td>14.230438</td>\n",
       "      <td>14.264986</td>\n",
       "      <td>13.270996</td>\n",
       "      <td>13.457549</td>\n",
       "      <td>5.448946</td>\n",
       "      <td>7.533445</td>\n",
       "      <td>6.783335</td>\n",
       "      <td>...</td>\n",
       "      <td>541.494013</td>\n",
       "      <td>558.775335</td>\n",
       "      <td>577.394194</td>\n",
       "      <td>193.124653</td>\n",
       "      <td>195.893924</td>\n",
       "      <td>188.180936</td>\n",
       "      <td>216.291992</td>\n",
       "      <td>172.767523</td>\n",
       "      <td>176.379871</td>\n",
       "      <td>168.247852</td>\n",
       "      <td>171.384224</td>\n",
       "      <td>0.156391</td>\n",
       "      <td>0.150014</td>\n",
       "      <td>0.142863</td>\n",
       "      <td>0.125366</td>\n",
       "      <td>0.295058</td>\n",
       "      <td>0.304395</td>\n",
       "      <td>0.299568</td>\n",
       "      <td>0.278120</td>\n",
       "      <td>1.497320</td>\n",
       "      <td>1.636230</td>\n",
       "      <td>1.630263</td>\n",
       "      <td>1.347140</td>\n",
       "      <td>0.363371</td>\n",
       "      <td>0.387231</td>\n",
       "      <td>0.384947</td>\n",
       "      <td>0.384978</td>\n",
       "      <td>0.568344</td>\n",
       "      <td>0.628334</td>\n",
       "      <td>0.660234</td>\n",
       "      <td>0.650457</td>\n",
       "      <td>0.279772</td>\n",
       "      <td>0.287950</td>\n",
       "      <td>0.311885</td>\n",
       "      <td>0.345987</td>\n",
       "      <td>954.733842</td>\n",
       "      <td>267.580450</td>\n",
       "      <td>271.201856</td>\n",
       "      <td>253.938223</td>\n",
       "      <td>32.408353</td>\n",
       "    </tr>\n",
       "    <tr>\n",
       "      <th>min</th>\n",
       "      <td>7.000000e+09</td>\n",
       "      <td>109.0</td>\n",
       "      <td>0.0</td>\n",
       "      <td>0.0</td>\n",
       "      <td>0.0</td>\n",
       "      <td>-2258.709000</td>\n",
       "      <td>-2014.045000</td>\n",
       "      <td>-945.808000</td>\n",
       "      <td>-1899.505000</td>\n",
       "      <td>0.000000</td>\n",
       "      <td>0.000000</td>\n",
       "      <td>0.000000</td>\n",
       "      <td>0.000000</td>\n",
       "      <td>0.000000</td>\n",
       "      <td>0.000000</td>\n",
       "      <td>0.000000</td>\n",
       "      <td>0.000000</td>\n",
       "      <td>0.000000</td>\n",
       "      <td>0.000000</td>\n",
       "      <td>0.000000</td>\n",
       "      <td>0.000000</td>\n",
       "      <td>0.000000</td>\n",
       "      <td>0.000000</td>\n",
       "      <td>0.000000</td>\n",
       "      <td>0.000000</td>\n",
       "      <td>0.000000</td>\n",
       "      <td>0.000000</td>\n",
       "      <td>0.000000</td>\n",
       "      <td>0.000000</td>\n",
       "      <td>0.000000</td>\n",
       "      <td>0.000000</td>\n",
       "      <td>0.000000</td>\n",
       "      <td>0.000000</td>\n",
       "      <td>0.000000</td>\n",
       "      <td>0.000000</td>\n",
       "      <td>0.000000</td>\n",
       "      <td>0.000000</td>\n",
       "      <td>0.000000</td>\n",
       "      <td>0.000000</td>\n",
       "      <td>0.000000</td>\n",
       "      <td>...</td>\n",
       "      <td>0.000000</td>\n",
       "      <td>0.000000</td>\n",
       "      <td>0.000000</td>\n",
       "      <td>-30.820000</td>\n",
       "      <td>-26.040000</td>\n",
       "      <td>-24.490000</td>\n",
       "      <td>-71.090000</td>\n",
       "      <td>-35.830000</td>\n",
       "      <td>-15.480000</td>\n",
       "      <td>-55.830000</td>\n",
       "      <td>-45.740000</td>\n",
       "      <td>0.000000</td>\n",
       "      <td>0.000000</td>\n",
       "      <td>0.000000</td>\n",
       "      <td>0.000000</td>\n",
       "      <td>0.000000</td>\n",
       "      <td>0.000000</td>\n",
       "      <td>0.000000</td>\n",
       "      <td>0.000000</td>\n",
       "      <td>0.000000</td>\n",
       "      <td>0.000000</td>\n",
       "      <td>0.000000</td>\n",
       "      <td>0.000000</td>\n",
       "      <td>0.000000</td>\n",
       "      <td>0.000000</td>\n",
       "      <td>0.000000</td>\n",
       "      <td>0.000000</td>\n",
       "      <td>0.000000</td>\n",
       "      <td>0.000000</td>\n",
       "      <td>0.000000</td>\n",
       "      <td>0.000000</td>\n",
       "      <td>0.000000</td>\n",
       "      <td>0.000000</td>\n",
       "      <td>0.000000</td>\n",
       "      <td>0.000000</td>\n",
       "      <td>180.000000</td>\n",
       "      <td>0.000000</td>\n",
       "      <td>0.000000</td>\n",
       "      <td>0.000000</td>\n",
       "      <td>0.000000</td>\n",
       "    </tr>\n",
       "    <tr>\n",
       "      <th>25%</th>\n",
       "      <td>7.000606e+09</td>\n",
       "      <td>109.0</td>\n",
       "      <td>0.0</td>\n",
       "      <td>0.0</td>\n",
       "      <td>0.0</td>\n",
       "      <td>93.411500</td>\n",
       "      <td>86.980500</td>\n",
       "      <td>84.126000</td>\n",
       "      <td>62.685000</td>\n",
       "      <td>7.380000</td>\n",
       "      <td>6.660000</td>\n",
       "      <td>6.460000</td>\n",
       "      <td>5.330000</td>\n",
       "      <td>34.730000</td>\n",
       "      <td>32.190000</td>\n",
       "      <td>31.630000</td>\n",
       "      <td>27.130000</td>\n",
       "      <td>0.000000</td>\n",
       "      <td>0.000000</td>\n",
       "      <td>0.000000</td>\n",
       "      <td>0.000000</td>\n",
       "      <td>0.000000</td>\n",
       "      <td>0.000000</td>\n",
       "      <td>0.000000</td>\n",
       "      <td>0.000000</td>\n",
       "      <td>1.660000</td>\n",
       "      <td>1.630000</td>\n",
       "      <td>1.600000</td>\n",
       "      <td>1.360000</td>\n",
       "      <td>9.880000</td>\n",
       "      <td>10.025000</td>\n",
       "      <td>9.810000</td>\n",
       "      <td>8.810000</td>\n",
       "      <td>0.000000</td>\n",
       "      <td>0.000000</td>\n",
       "      <td>0.000000</td>\n",
       "      <td>0.000000</td>\n",
       "      <td>0.000000</td>\n",
       "      <td>0.000000</td>\n",
       "      <td>0.000000</td>\n",
       "      <td>...</td>\n",
       "      <td>0.000000</td>\n",
       "      <td>0.000000</td>\n",
       "      <td>0.000000</td>\n",
       "      <td>0.000000</td>\n",
       "      <td>0.000000</td>\n",
       "      <td>0.000000</td>\n",
       "      <td>0.000000</td>\n",
       "      <td>0.000000</td>\n",
       "      <td>0.000000</td>\n",
       "      <td>0.000000</td>\n",
       "      <td>0.000000</td>\n",
       "      <td>0.000000</td>\n",
       "      <td>0.000000</td>\n",
       "      <td>0.000000</td>\n",
       "      <td>0.000000</td>\n",
       "      <td>0.000000</td>\n",
       "      <td>0.000000</td>\n",
       "      <td>0.000000</td>\n",
       "      <td>0.000000</td>\n",
       "      <td>0.000000</td>\n",
       "      <td>0.000000</td>\n",
       "      <td>0.000000</td>\n",
       "      <td>0.000000</td>\n",
       "      <td>0.000000</td>\n",
       "      <td>0.000000</td>\n",
       "      <td>0.000000</td>\n",
       "      <td>0.000000</td>\n",
       "      <td>0.000000</td>\n",
       "      <td>0.000000</td>\n",
       "      <td>0.000000</td>\n",
       "      <td>0.000000</td>\n",
       "      <td>1.000000</td>\n",
       "      <td>1.000000</td>\n",
       "      <td>1.000000</td>\n",
       "      <td>1.000000</td>\n",
       "      <td>467.000000</td>\n",
       "      <td>0.000000</td>\n",
       "      <td>0.000000</td>\n",
       "      <td>0.000000</td>\n",
       "      <td>0.000000</td>\n",
       "    </tr>\n",
       "    <tr>\n",
       "      <th>50%</th>\n",
       "      <td>7.001205e+09</td>\n",
       "      <td>109.0</td>\n",
       "      <td>0.0</td>\n",
       "      <td>0.0</td>\n",
       "      <td>0.0</td>\n",
       "      <td>197.704000</td>\n",
       "      <td>191.640000</td>\n",
       "      <td>192.080000</td>\n",
       "      <td>176.849000</td>\n",
       "      <td>34.310000</td>\n",
       "      <td>32.330000</td>\n",
       "      <td>32.360000</td>\n",
       "      <td>29.840000</td>\n",
       "      <td>96.310000</td>\n",
       "      <td>91.735000</td>\n",
       "      <td>92.140000</td>\n",
       "      <td>87.290000</td>\n",
       "      <td>0.000000</td>\n",
       "      <td>0.000000</td>\n",
       "      <td>0.000000</td>\n",
       "      <td>0.000000</td>\n",
       "      <td>0.000000</td>\n",
       "      <td>0.000000</td>\n",
       "      <td>0.000000</td>\n",
       "      <td>0.000000</td>\n",
       "      <td>11.910000</td>\n",
       "      <td>11.610000</td>\n",
       "      <td>11.730000</td>\n",
       "      <td>11.260000</td>\n",
       "      <td>41.030000</td>\n",
       "      <td>40.430000</td>\n",
       "      <td>40.360000</td>\n",
       "      <td>39.120000</td>\n",
       "      <td>0.000000</td>\n",
       "      <td>0.000000</td>\n",
       "      <td>0.000000</td>\n",
       "      <td>0.000000</td>\n",
       "      <td>0.000000</td>\n",
       "      <td>0.000000</td>\n",
       "      <td>0.000000</td>\n",
       "      <td>...</td>\n",
       "      <td>0.000000</td>\n",
       "      <td>0.000000</td>\n",
       "      <td>0.000000</td>\n",
       "      <td>0.480000</td>\n",
       "      <td>0.420000</td>\n",
       "      <td>0.880000</td>\n",
       "      <td>2.605000</td>\n",
       "      <td>10.830000</td>\n",
       "      <td>8.810000</td>\n",
       "      <td>9.270000</td>\n",
       "      <td>14.800000</td>\n",
       "      <td>0.000000</td>\n",
       "      <td>0.000000</td>\n",
       "      <td>0.000000</td>\n",
       "      <td>0.000000</td>\n",
       "      <td>0.000000</td>\n",
       "      <td>0.000000</td>\n",
       "      <td>0.000000</td>\n",
       "      <td>0.000000</td>\n",
       "      <td>0.000000</td>\n",
       "      <td>0.000000</td>\n",
       "      <td>0.000000</td>\n",
       "      <td>0.000000</td>\n",
       "      <td>0.000000</td>\n",
       "      <td>0.000000</td>\n",
       "      <td>0.000000</td>\n",
       "      <td>0.000000</td>\n",
       "      <td>0.000000</td>\n",
       "      <td>0.000000</td>\n",
       "      <td>0.000000</td>\n",
       "      <td>0.000000</td>\n",
       "      <td>1.000000</td>\n",
       "      <td>1.000000</td>\n",
       "      <td>1.000000</td>\n",
       "      <td>1.000000</td>\n",
       "      <td>863.000000</td>\n",
       "      <td>0.000000</td>\n",
       "      <td>0.000000</td>\n",
       "      <td>0.000000</td>\n",
       "      <td>0.000000</td>\n",
       "    </tr>\n",
       "    <tr>\n",
       "      <th>75%</th>\n",
       "      <td>7.001812e+09</td>\n",
       "      <td>109.0</td>\n",
       "      <td>0.0</td>\n",
       "      <td>0.0</td>\n",
       "      <td>0.0</td>\n",
       "      <td>371.060000</td>\n",
       "      <td>365.344500</td>\n",
       "      <td>369.370500</td>\n",
       "      <td>353.466500</td>\n",
       "      <td>118.740000</td>\n",
       "      <td>115.595000</td>\n",
       "      <td>115.860000</td>\n",
       "      <td>112.130000</td>\n",
       "      <td>231.860000</td>\n",
       "      <td>226.815000</td>\n",
       "      <td>228.260000</td>\n",
       "      <td>220.505000</td>\n",
       "      <td>0.000000</td>\n",
       "      <td>0.000000</td>\n",
       "      <td>0.000000</td>\n",
       "      <td>0.000000</td>\n",
       "      <td>0.000000</td>\n",
       "      <td>0.000000</td>\n",
       "      <td>0.000000</td>\n",
       "      <td>0.000000</td>\n",
       "      <td>40.960000</td>\n",
       "      <td>39.910000</td>\n",
       "      <td>40.110000</td>\n",
       "      <td>39.280000</td>\n",
       "      <td>110.390000</td>\n",
       "      <td>107.560000</td>\n",
       "      <td>109.090000</td>\n",
       "      <td>106.810000</td>\n",
       "      <td>2.080000</td>\n",
       "      <td>2.090000</td>\n",
       "      <td>2.040000</td>\n",
       "      <td>1.940000</td>\n",
       "      <td>0.000000</td>\n",
       "      <td>0.000000</td>\n",
       "      <td>0.000000</td>\n",
       "      <td>...</td>\n",
       "      <td>0.000000</td>\n",
       "      <td>0.000000</td>\n",
       "      <td>0.000000</td>\n",
       "      <td>122.070000</td>\n",
       "      <td>119.560000</td>\n",
       "      <td>122.070000</td>\n",
       "      <td>140.010000</td>\n",
       "      <td>122.070000</td>\n",
       "      <td>122.070000</td>\n",
       "      <td>122.070000</td>\n",
       "      <td>140.010000</td>\n",
       "      <td>0.000000</td>\n",
       "      <td>0.000000</td>\n",
       "      <td>0.000000</td>\n",
       "      <td>0.000000</td>\n",
       "      <td>0.000000</td>\n",
       "      <td>0.000000</td>\n",
       "      <td>0.000000</td>\n",
       "      <td>0.000000</td>\n",
       "      <td>0.000000</td>\n",
       "      <td>0.000000</td>\n",
       "      <td>0.000000</td>\n",
       "      <td>0.000000</td>\n",
       "      <td>0.000000</td>\n",
       "      <td>0.000000</td>\n",
       "      <td>0.000000</td>\n",
       "      <td>0.000000</td>\n",
       "      <td>0.000000</td>\n",
       "      <td>0.000000</td>\n",
       "      <td>0.000000</td>\n",
       "      <td>0.000000</td>\n",
       "      <td>1.000000</td>\n",
       "      <td>1.000000</td>\n",
       "      <td>1.000000</td>\n",
       "      <td>1.000000</td>\n",
       "      <td>1807.500000</td>\n",
       "      <td>0.000000</td>\n",
       "      <td>0.000000</td>\n",
       "      <td>0.000000</td>\n",
       "      <td>0.000000</td>\n",
       "    </tr>\n",
       "    <tr>\n",
       "      <th>max</th>\n",
       "      <td>7.002411e+09</td>\n",
       "      <td>109.0</td>\n",
       "      <td>0.0</td>\n",
       "      <td>0.0</td>\n",
       "      <td>0.0</td>\n",
       "      <td>27731.088000</td>\n",
       "      <td>35145.834000</td>\n",
       "      <td>33543.624000</td>\n",
       "      <td>38805.617000</td>\n",
       "      <td>7376.710000</td>\n",
       "      <td>8157.780000</td>\n",
       "      <td>10752.560000</td>\n",
       "      <td>10427.460000</td>\n",
       "      <td>8362.360000</td>\n",
       "      <td>9667.130000</td>\n",
       "      <td>14007.340000</td>\n",
       "      <td>10310.760000</td>\n",
       "      <td>13724.380000</td>\n",
       "      <td>15371.040000</td>\n",
       "      <td>13095.360000</td>\n",
       "      <td>8464.030000</td>\n",
       "      <td>3775.110000</td>\n",
       "      <td>2812.040000</td>\n",
       "      <td>5337.040000</td>\n",
       "      <td>4428.460000</td>\n",
       "      <td>6431.330000</td>\n",
       "      <td>7400.660000</td>\n",
       "      <td>10752.560000</td>\n",
       "      <td>10389.240000</td>\n",
       "      <td>4729.740000</td>\n",
       "      <td>4557.140000</td>\n",
       "      <td>4961.330000</td>\n",
       "      <td>4429.880000</td>\n",
       "      <td>1466.030000</td>\n",
       "      <td>1196.430000</td>\n",
       "      <td>928.490000</td>\n",
       "      <td>927.410000</td>\n",
       "      <td>342.860000</td>\n",
       "      <td>916.240000</td>\n",
       "      <td>502.090000</td>\n",
       "      <td>...</td>\n",
       "      <td>28144.120000</td>\n",
       "      <td>30036.060000</td>\n",
       "      <td>39221.270000</td>\n",
       "      <td>6362.280000</td>\n",
       "      <td>4980.900000</td>\n",
       "      <td>3716.900000</td>\n",
       "      <td>13884.310000</td>\n",
       "      <td>6433.760000</td>\n",
       "      <td>4809.360000</td>\n",
       "      <td>3483.170000</td>\n",
       "      <td>3467.170000</td>\n",
       "      <td>1.000000</td>\n",
       "      <td>1.000000</td>\n",
       "      <td>1.000000</td>\n",
       "      <td>1.000000</td>\n",
       "      <td>4.000000</td>\n",
       "      <td>5.000000</td>\n",
       "      <td>5.000000</td>\n",
       "      <td>4.000000</td>\n",
       "      <td>42.000000</td>\n",
       "      <td>48.000000</td>\n",
       "      <td>44.000000</td>\n",
       "      <td>40.000000</td>\n",
       "      <td>14.000000</td>\n",
       "      <td>16.000000</td>\n",
       "      <td>16.000000</td>\n",
       "      <td>11.000000</td>\n",
       "      <td>29.000000</td>\n",
       "      <td>35.000000</td>\n",
       "      <td>41.000000</td>\n",
       "      <td>49.000000</td>\n",
       "      <td>1.000000</td>\n",
       "      <td>1.000000</td>\n",
       "      <td>1.000000</td>\n",
       "      <td>1.000000</td>\n",
       "      <td>4337.000000</td>\n",
       "      <td>12916.220000</td>\n",
       "      <td>9165.600000</td>\n",
       "      <td>11166.210000</td>\n",
       "      <td>2618.570000</td>\n",
       "    </tr>\n",
       "  </tbody>\n",
       "</table>\n",
       "<p>8 rows × 214 columns</p>\n",
       "</div>"
      ],
      "text/plain": [
       "       mobile_number  circle_id  ...    jun_vbc_3g    sep_vbc_3g\n",
       "count   9.999900e+04    99999.0  ...  99999.000000  99999.000000\n",
       "mean    7.001207e+09      109.0  ...     60.021204      3.299373\n",
       "std     6.956694e+05        0.0  ...    253.938223     32.408353\n",
       "min     7.000000e+09      109.0  ...      0.000000      0.000000\n",
       "25%     7.000606e+09      109.0  ...      0.000000      0.000000\n",
       "50%     7.001205e+09      109.0  ...      0.000000      0.000000\n",
       "75%     7.001812e+09      109.0  ...      0.000000      0.000000\n",
       "max     7.002411e+09      109.0  ...  11166.210000   2618.570000\n",
       "\n",
       "[8 rows x 214 columns]"
      ]
     },
     "execution_count": 24,
     "metadata": {
      "tags": []
     },
     "output_type": "execute_result"
    }
   ],
   "source": [
    "# Understanding basic statistics\n",
    "tel_df.describe()"
   ]
  },
  {
   "cell_type": "markdown",
   "metadata": {
    "colab_type": "text",
    "id": "NzzchYFpD6AW"
   },
   "source": [
    " The  variables circle-id, loc_og_t2o_mou,std_og_t2o_mou and loc_ic_t2o_mou have same minimum and maximum value with 0 standard deviation. This implies that they have a single unique value and hence these columns can be dropped. Other columns with a single unique value should also be dropped"
   ]
  },
  {
   "cell_type": "code",
   "execution_count": 25,
   "metadata": {
    "colab": {
     "base_uri": "https://localhost:8080/",
     "height": 34
    },
    "colab_type": "code",
    "id": "IjLAnmyuEmcK",
    "outputId": "511cd983-6474-4fa5-ba16-0c8b09454610"
   },
   "outputs": [
    {
     "data": {
      "text/plain": [
       "(99999, 222)"
      ]
     },
     "execution_count": 25,
     "metadata": {
      "tags": []
     },
     "output_type": "execute_result"
    }
   ],
   "source": [
    "# Drop columns which has only 1 unique values\n",
    "tel_df.drop(['circle_id', 'loc_og_t2o_mou','std_og_t2o_mou','loc_ic_t2o_mou'],axis=1,inplace=True)\n",
    "tel_df.shape"
   ]
  },
  {
   "cell_type": "code",
   "execution_count": 26,
   "metadata": {
    "colab": {
     "base_uri": "https://localhost:8080/",
     "height": 34
    },
    "colab_type": "code",
    "id": "zETIVEXGFO_z",
    "outputId": "b72ccf67-d33a-4bc6-9a15-13d715204b12"
   },
   "outputs": [
    {
     "data": {
      "text/plain": [
       "(99999, 210)"
      ]
     },
     "execution_count": 26,
     "metadata": {
      "tags": []
     },
     "output_type": "execute_result"
    }
   ],
   "source": [
    "# Finding other columns that have a single unique value\n",
    "uniq_col= tel_df.columns[tel_df.nunique()==1]\n",
    "tel_df.drop(uniq_col,axis=1,inplace=True)\n",
    "tel_df.shape"
   ]
  },
  {
   "cell_type": "code",
   "execution_count": 27,
   "metadata": {
    "colab": {
     "base_uri": "https://localhost:8080/",
     "height": 102
    },
    "colab_type": "code",
    "id": "Kcpp7qceEzQz",
    "outputId": "a1c2e952-da8e-432a-e7d4-e6e72ccec7ce"
   },
   "outputs": [
    {
     "name": "stdout",
     "output_type": "stream",
     "text": [
      "<class 'pandas.core.frame.DataFrame'>\n",
      "RangeIndex: 99999 entries, 0 to 99998\n",
      "Columns: 210 entries, mobile_number to sep_vbc_3g\n",
      "dtypes: float64(168), int64(34), object(8)\n",
      "memory usage: 160.2+ MB\n"
     ]
    }
   ],
   "source": [
    "tel_df.info()"
   ]
  },
  {
   "cell_type": "markdown",
   "metadata": {
    "colab_type": "text",
    "id": "reLkT5p3IKz4"
   },
   "source": [
    "From the above information, it is clear that there are 8 object columns, 34 integer columns and 168 float columns. They are explored in order\n"
   ]
  },
  {
   "cell_type": "markdown",
   "metadata": {
    "colab_type": "text",
    "id": "a-Y05qhKJqsy"
   },
   "source": [
    "### Understanding object variables"
   ]
  },
  {
   "cell_type": "code",
   "execution_count": 28,
   "metadata": {
    "colab": {
     "base_uri": "https://localhost:8080/",
     "height": 153
    },
    "colab_type": "code",
    "id": "5Hj0PJw6G52R",
    "outputId": "5c66ef6c-db8a-4b04-ce7d-30343fbee7d1"
   },
   "outputs": [
    {
     "data": {
      "text/plain": [
       "['date_of_last_rech_6',\n",
       " 'date_of_last_rech_7',\n",
       " 'date_of_last_rech_8',\n",
       " 'date_of_last_rech_9',\n",
       " 'date_of_last_rech_data_6',\n",
       " 'date_of_last_rech_data_7',\n",
       " 'date_of_last_rech_data_8',\n",
       " 'date_of_last_rech_data_9']"
      ]
     },
     "execution_count": 28,
     "metadata": {
      "tags": []
     },
     "output_type": "execute_result"
    }
   ],
   "source": [
    "# Selecting only columns which Object Datatype\n",
    " obj_col=tel_df.select_dtypes(['object']).columns.tolist()\n",
    " obj_col"
   ]
  },
  {
   "cell_type": "code",
   "execution_count": 29,
   "metadata": {
    "colab": {
     "base_uri": "https://localhost:8080/",
     "height": 193
    },
    "colab_type": "code",
    "id": "2NI_8qC5Ibr9",
    "outputId": "0ffa7d8c-21f9-4ff6-d9a9-52f2f9d1c7d2"
   },
   "outputs": [
    {
     "data": {
      "text/html": [
       "<div>\n",
       "<style scoped>\n",
       "    .dataframe tbody tr th:only-of-type {\n",
       "        vertical-align: middle;\n",
       "    }\n",
       "\n",
       "    .dataframe tbody tr th {\n",
       "        vertical-align: top;\n",
       "    }\n",
       "\n",
       "    .dataframe thead th {\n",
       "        text-align: right;\n",
       "    }\n",
       "</style>\n",
       "<table border=\"1\" class=\"dataframe\">\n",
       "  <thead>\n",
       "    <tr style=\"text-align: right;\">\n",
       "      <th></th>\n",
       "      <th>date_of_last_rech_6</th>\n",
       "      <th>date_of_last_rech_7</th>\n",
       "      <th>date_of_last_rech_8</th>\n",
       "      <th>date_of_last_rech_9</th>\n",
       "      <th>date_of_last_rech_data_6</th>\n",
       "      <th>date_of_last_rech_data_7</th>\n",
       "      <th>date_of_last_rech_data_8</th>\n",
       "      <th>date_of_last_rech_data_9</th>\n",
       "    </tr>\n",
       "  </thead>\n",
       "  <tbody>\n",
       "    <tr>\n",
       "      <th>count</th>\n",
       "      <td>98392</td>\n",
       "      <td>98232</td>\n",
       "      <td>96377</td>\n",
       "      <td>95239</td>\n",
       "      <td>25153</td>\n",
       "      <td>25571</td>\n",
       "      <td>26339</td>\n",
       "      <td>25922</td>\n",
       "    </tr>\n",
       "    <tr>\n",
       "      <th>unique</th>\n",
       "      <td>30</td>\n",
       "      <td>31</td>\n",
       "      <td>31</td>\n",
       "      <td>30</td>\n",
       "      <td>30</td>\n",
       "      <td>31</td>\n",
       "      <td>31</td>\n",
       "      <td>30</td>\n",
       "    </tr>\n",
       "    <tr>\n",
       "      <th>top</th>\n",
       "      <td>6/30/2014</td>\n",
       "      <td>7/31/2014</td>\n",
       "      <td>8/31/2014</td>\n",
       "      <td>9/29/2014</td>\n",
       "      <td>6/30/2014</td>\n",
       "      <td>7/31/2014</td>\n",
       "      <td>8/31/2014</td>\n",
       "      <td>9/29/2014</td>\n",
       "    </tr>\n",
       "    <tr>\n",
       "      <th>freq</th>\n",
       "      <td>16960</td>\n",
       "      <td>17288</td>\n",
       "      <td>14706</td>\n",
       "      <td>22623</td>\n",
       "      <td>1888</td>\n",
       "      <td>1813</td>\n",
       "      <td>1998</td>\n",
       "      <td>2329</td>\n",
       "    </tr>\n",
       "  </tbody>\n",
       "</table>\n",
       "</div>"
      ],
      "text/plain": [
       "       date_of_last_rech_6  ... date_of_last_rech_data_9\n",
       "count                98392  ...                    25922\n",
       "unique                  30  ...                       30\n",
       "top              6/30/2014  ...                9/29/2014\n",
       "freq                 16960  ...                     2329\n",
       "\n",
       "[4 rows x 8 columns]"
      ]
     },
     "execution_count": 29,
     "metadata": {
      "tags": []
     },
     "output_type": "execute_result"
    }
   ],
   "source": [
    "tel_df[obj_col].describe()"
   ]
  },
  {
   "cell_type": "code",
   "execution_count": 31,
   "metadata": {
    "colab": {
     "base_uri": "https://localhost:8080/",
     "height": 170
    },
    "colab_type": "code",
    "id": "aTkyM8TsIwNK",
    "outputId": "ad457337-c43a-4918-e75c-128b3d808808"
   },
   "outputs": [
    {
     "data": {
      "text/plain": [
       "date_of_last_rech_6          1.6\n",
       "date_of_last_rech_7          1.8\n",
       "date_of_last_rech_8          3.6\n",
       "date_of_last_rech_9          4.8\n",
       "date_of_last_rech_data_6    74.8\n",
       "date_of_last_rech_data_7    74.4\n",
       "date_of_last_rech_data_8    73.7\n",
       "date_of_last_rech_data_9    74.1\n",
       "dtype: float64"
      ]
     },
     "execution_count": 31,
     "metadata": {
      "tags": []
     },
     "output_type": "execute_result"
    }
   ],
   "source": [
    " # Checking the missing value percentage for Date columns\n",
    " round(100*tel_df[obj_col].isnull().sum()/len(tel_df),1)"
   ]
  },
  {
   "cell_type": "code",
   "execution_count": 32,
   "metadata": {
    "colab": {
     "base_uri": "https://localhost:8080/",
     "height": 34
    },
    "colab_type": "code",
    "id": "XV1U3Zc5I_65",
    "outputId": "8f99fbbb-c2d5-4e13-942d-16115aa6d637"
   },
   "outputs": [
    {
     "data": {
      "text/plain": [
       "(99999, 206)"
      ]
     },
     "execution_count": 32,
     "metadata": {
      "tags": []
     },
     "output_type": "execute_result"
    }
   ],
   "source": [
    "# Missing values may imply that the user haven't recharged in that  month. Columns with more tan 70 % recharge values are dropped \n",
    "tel_df.drop(['date_of_last_rech_data_6','date_of_last_rech_data_7','date_of_last_rech_data_8','date_of_last_rech_data_9'],axis=1,inplace=True)\n",
    "tel_df.shape "
   ]
  },
  {
   "cell_type": "code",
   "execution_count": 33,
   "metadata": {
    "colab": {
     "base_uri": "https://localhost:8080/",
     "height": 204
    },
    "colab_type": "code",
    "id": "TD1GTaxNJvHj",
    "outputId": "b4eddc5f-788e-405a-b704-42a7dadb58ca"
   },
   "outputs": [
    {
     "data": {
      "text/html": [
       "<div>\n",
       "<style scoped>\n",
       "    .dataframe tbody tr th:only-of-type {\n",
       "        vertical-align: middle;\n",
       "    }\n",
       "\n",
       "    .dataframe tbody tr th {\n",
       "        vertical-align: top;\n",
       "    }\n",
       "\n",
       "    .dataframe thead th {\n",
       "        text-align: right;\n",
       "    }\n",
       "</style>\n",
       "<table border=\"1\" class=\"dataframe\">\n",
       "  <thead>\n",
       "    <tr style=\"text-align: right;\">\n",
       "      <th></th>\n",
       "      <th>date_of_last_rech_6</th>\n",
       "      <th>date_of_last_rech_7</th>\n",
       "      <th>date_of_last_rech_8</th>\n",
       "      <th>date_of_last_rech_9</th>\n",
       "    </tr>\n",
       "  </thead>\n",
       "  <tbody>\n",
       "    <tr>\n",
       "      <th>0</th>\n",
       "      <td>2014-06-21</td>\n",
       "      <td>2014-07-16</td>\n",
       "      <td>2014-08-08</td>\n",
       "      <td>2014-09-28</td>\n",
       "    </tr>\n",
       "    <tr>\n",
       "      <th>1</th>\n",
       "      <td>2014-06-29</td>\n",
       "      <td>2014-07-31</td>\n",
       "      <td>2014-08-28</td>\n",
       "      <td>2014-09-30</td>\n",
       "    </tr>\n",
       "    <tr>\n",
       "      <th>2</th>\n",
       "      <td>2014-06-17</td>\n",
       "      <td>2014-07-24</td>\n",
       "      <td>2014-08-14</td>\n",
       "      <td>2014-09-29</td>\n",
       "    </tr>\n",
       "    <tr>\n",
       "      <th>3</th>\n",
       "      <td>2014-06-28</td>\n",
       "      <td>2014-07-31</td>\n",
       "      <td>2014-08-31</td>\n",
       "      <td>2014-09-30</td>\n",
       "    </tr>\n",
       "    <tr>\n",
       "      <th>4</th>\n",
       "      <td>2014-06-26</td>\n",
       "      <td>2014-07-28</td>\n",
       "      <td>2014-08-09</td>\n",
       "      <td>2014-09-28</td>\n",
       "    </tr>\n",
       "  </tbody>\n",
       "</table>\n",
       "</div>"
      ],
      "text/plain": [
       "  date_of_last_rech_6  ... date_of_last_rech_9\n",
       "0          2014-06-21  ...          2014-09-28\n",
       "1          2014-06-29  ...          2014-09-30\n",
       "2          2014-06-17  ...          2014-09-29\n",
       "3          2014-06-28  ...          2014-09-30\n",
       "4          2014-06-26  ...          2014-09-28\n",
       "\n",
       "[5 rows x 4 columns]"
      ]
     },
     "execution_count": 33,
     "metadata": {
      "tags": []
     },
     "output_type": "execute_result"
    }
   ],
   "source": [
    "#Now the other date columns have to be convereted to datetime type\n",
    "tel_df['date_of_last_rech_6']=pd.to_datetime(tel_df['date_of_last_rech_6'])\n",
    "tel_df['date_of_last_rech_7']=pd.to_datetime(tel_df['date_of_last_rech_7'])\n",
    "tel_df['date_of_last_rech_8']=pd.to_datetime(tel_df['date_of_last_rech_8'])\n",
    "tel_df['date_of_last_rech_9']=pd.to_datetime(tel_df['date_of_last_rech_9'])\n",
    "tel_df[['date_of_last_rech_6','date_of_last_rech_7','date_of_last_rech_8','date_of_last_rech_9']].head()"
   ]
  },
  {
   "cell_type": "code",
   "execution_count": 34,
   "metadata": {
    "colab": {
     "base_uri": "https://localhost:8080/",
     "height": 68
    },
    "colab_type": "code",
    "id": "KGWdp-DlOpYV",
    "outputId": "b8746b1e-873a-4c2c-f94a-e3ac55cdeac3"
   },
   "outputs": [
    {
     "data": {
      "text/plain": [
       "Index(['date_of_last_rech_6', 'date_of_last_rech_7', 'date_of_last_rech_8',\n",
       "       'date_of_last_rech_9'],\n",
       "      dtype='object')"
      ]
     },
     "execution_count": 34,
     "metadata": {
      "tags": []
     },
     "output_type": "execute_result"
    }
   ],
   "source": [
    "# Selecting only DateTime Columns\n",
    "tel_df.select_dtypes(include='datetime').columns"
   ]
  },
  {
   "cell_type": "markdown",
   "metadata": {
    "colab_type": "text",
    "id": "qULnXfixKDqF"
   },
   "source": [
    "## Understanding numeric variables"
   ]
  },
  {
   "cell_type": "code",
   "execution_count": 35,
   "metadata": {
    "colab": {
     "base_uri": "https://localhost:8080/",
     "height": 1000
    },
    "colab_type": "code",
    "id": "hA-zNyIGKC6H",
    "outputId": "bc525bd7-8a96-4735-b2fe-e0e5cc1acb08"
   },
   "outputs": [
    {
     "data": {
      "text/plain": [
       "['mobile_number',\n",
       " 'arpu_6',\n",
       " 'arpu_7',\n",
       " 'arpu_8',\n",
       " 'arpu_9',\n",
       " 'onnet_mou_6',\n",
       " 'onnet_mou_7',\n",
       " 'onnet_mou_8',\n",
       " 'onnet_mou_9',\n",
       " 'offnet_mou_6',\n",
       " 'offnet_mou_7',\n",
       " 'offnet_mou_8',\n",
       " 'offnet_mou_9',\n",
       " 'roam_ic_mou_6',\n",
       " 'roam_ic_mou_7',\n",
       " 'roam_ic_mou_8',\n",
       " 'roam_ic_mou_9',\n",
       " 'roam_og_mou_6',\n",
       " 'roam_og_mou_7',\n",
       " 'roam_og_mou_8',\n",
       " 'roam_og_mou_9',\n",
       " 'loc_og_t2t_mou_6',\n",
       " 'loc_og_t2t_mou_7',\n",
       " 'loc_og_t2t_mou_8',\n",
       " 'loc_og_t2t_mou_9',\n",
       " 'loc_og_t2m_mou_6',\n",
       " 'loc_og_t2m_mou_7',\n",
       " 'loc_og_t2m_mou_8',\n",
       " 'loc_og_t2m_mou_9',\n",
       " 'loc_og_t2f_mou_6',\n",
       " 'loc_og_t2f_mou_7',\n",
       " 'loc_og_t2f_mou_8',\n",
       " 'loc_og_t2f_mou_9',\n",
       " 'loc_og_t2c_mou_6',\n",
       " 'loc_og_t2c_mou_7',\n",
       " 'loc_og_t2c_mou_8',\n",
       " 'loc_og_t2c_mou_9',\n",
       " 'loc_og_mou_6',\n",
       " 'loc_og_mou_7',\n",
       " 'loc_og_mou_8',\n",
       " 'loc_og_mou_9',\n",
       " 'std_og_t2t_mou_6',\n",
       " 'std_og_t2t_mou_7',\n",
       " 'std_og_t2t_mou_8',\n",
       " 'std_og_t2t_mou_9',\n",
       " 'std_og_t2m_mou_6',\n",
       " 'std_og_t2m_mou_7',\n",
       " 'std_og_t2m_mou_8',\n",
       " 'std_og_t2m_mou_9',\n",
       " 'std_og_t2f_mou_6',\n",
       " 'std_og_t2f_mou_7',\n",
       " 'std_og_t2f_mou_8',\n",
       " 'std_og_t2f_mou_9',\n",
       " 'std_og_mou_6',\n",
       " 'std_og_mou_7',\n",
       " 'std_og_mou_8',\n",
       " 'std_og_mou_9',\n",
       " 'isd_og_mou_6',\n",
       " 'isd_og_mou_7',\n",
       " 'isd_og_mou_8',\n",
       " 'isd_og_mou_9',\n",
       " 'spl_og_mou_6',\n",
       " 'spl_og_mou_7',\n",
       " 'spl_og_mou_8',\n",
       " 'spl_og_mou_9',\n",
       " 'og_others_6',\n",
       " 'og_others_7',\n",
       " 'og_others_8',\n",
       " 'og_others_9',\n",
       " 'total_og_mou_6',\n",
       " 'total_og_mou_7',\n",
       " 'total_og_mou_8',\n",
       " 'total_og_mou_9',\n",
       " 'loc_ic_t2t_mou_6',\n",
       " 'loc_ic_t2t_mou_7',\n",
       " 'loc_ic_t2t_mou_8',\n",
       " 'loc_ic_t2t_mou_9',\n",
       " 'loc_ic_t2m_mou_6',\n",
       " 'loc_ic_t2m_mou_7',\n",
       " 'loc_ic_t2m_mou_8',\n",
       " 'loc_ic_t2m_mou_9',\n",
       " 'loc_ic_t2f_mou_6',\n",
       " 'loc_ic_t2f_mou_7',\n",
       " 'loc_ic_t2f_mou_8',\n",
       " 'loc_ic_t2f_mou_9',\n",
       " 'loc_ic_mou_6',\n",
       " 'loc_ic_mou_7',\n",
       " 'loc_ic_mou_8',\n",
       " 'loc_ic_mou_9',\n",
       " 'std_ic_t2t_mou_6',\n",
       " 'std_ic_t2t_mou_7',\n",
       " 'std_ic_t2t_mou_8',\n",
       " 'std_ic_t2t_mou_9',\n",
       " 'std_ic_t2m_mou_6',\n",
       " 'std_ic_t2m_mou_7',\n",
       " 'std_ic_t2m_mou_8',\n",
       " 'std_ic_t2m_mou_9',\n",
       " 'std_ic_t2f_mou_6',\n",
       " 'std_ic_t2f_mou_7',\n",
       " 'std_ic_t2f_mou_8',\n",
       " 'std_ic_t2f_mou_9',\n",
       " 'std_ic_mou_6',\n",
       " 'std_ic_mou_7',\n",
       " 'std_ic_mou_8',\n",
       " 'std_ic_mou_9',\n",
       " 'total_ic_mou_6',\n",
       " 'total_ic_mou_7',\n",
       " 'total_ic_mou_8',\n",
       " 'total_ic_mou_9',\n",
       " 'spl_ic_mou_6',\n",
       " 'spl_ic_mou_7',\n",
       " 'spl_ic_mou_8',\n",
       " 'spl_ic_mou_9',\n",
       " 'isd_ic_mou_6',\n",
       " 'isd_ic_mou_7',\n",
       " 'isd_ic_mou_8',\n",
       " 'isd_ic_mou_9',\n",
       " 'ic_others_6',\n",
       " 'ic_others_7',\n",
       " 'ic_others_8',\n",
       " 'ic_others_9',\n",
       " 'total_rech_num_6',\n",
       " 'total_rech_num_7',\n",
       " 'total_rech_num_8',\n",
       " 'total_rech_num_9',\n",
       " 'total_rech_amt_6',\n",
       " 'total_rech_amt_7',\n",
       " 'total_rech_amt_8',\n",
       " 'total_rech_amt_9',\n",
       " 'max_rech_amt_6',\n",
       " 'max_rech_amt_7',\n",
       " 'max_rech_amt_8',\n",
       " 'max_rech_amt_9',\n",
       " 'last_day_rch_amt_6',\n",
       " 'last_day_rch_amt_7',\n",
       " 'last_day_rch_amt_8',\n",
       " 'last_day_rch_amt_9',\n",
       " 'total_rech_data_6',\n",
       " 'total_rech_data_7',\n",
       " 'total_rech_data_8',\n",
       " 'total_rech_data_9',\n",
       " 'max_rech_data_6',\n",
       " 'max_rech_data_7',\n",
       " 'max_rech_data_8',\n",
       " 'max_rech_data_9',\n",
       " 'count_rech_2g_6',\n",
       " 'count_rech_2g_7',\n",
       " 'count_rech_2g_8',\n",
       " 'count_rech_2g_9',\n",
       " 'count_rech_3g_6',\n",
       " 'count_rech_3g_7',\n",
       " 'count_rech_3g_8',\n",
       " 'count_rech_3g_9',\n",
       " 'av_rech_amt_data_6',\n",
       " 'av_rech_amt_data_7',\n",
       " 'av_rech_amt_data_8',\n",
       " 'av_rech_amt_data_9',\n",
       " 'vol_2g_mb_6',\n",
       " 'vol_2g_mb_7',\n",
       " 'vol_2g_mb_8',\n",
       " 'vol_2g_mb_9',\n",
       " 'vol_3g_mb_6',\n",
       " 'vol_3g_mb_7',\n",
       " 'vol_3g_mb_8',\n",
       " 'vol_3g_mb_9',\n",
       " 'arpu_3g_6',\n",
       " 'arpu_3g_7',\n",
       " 'arpu_3g_8',\n",
       " 'arpu_3g_9',\n",
       " 'arpu_2g_6',\n",
       " 'arpu_2g_7',\n",
       " 'arpu_2g_8',\n",
       " 'arpu_2g_9',\n",
       " 'night_pck_user_6',\n",
       " 'night_pck_user_7',\n",
       " 'night_pck_user_8',\n",
       " 'night_pck_user_9',\n",
       " 'monthly_2g_6',\n",
       " 'monthly_2g_7',\n",
       " 'monthly_2g_8',\n",
       " 'monthly_2g_9',\n",
       " 'sachet_2g_6',\n",
       " 'sachet_2g_7',\n",
       " 'sachet_2g_8',\n",
       " 'sachet_2g_9',\n",
       " 'monthly_3g_6',\n",
       " 'monthly_3g_7',\n",
       " 'monthly_3g_8',\n",
       " 'monthly_3g_9',\n",
       " 'sachet_3g_6',\n",
       " 'sachet_3g_7',\n",
       " 'sachet_3g_8',\n",
       " 'sachet_3g_9',\n",
       " 'fb_user_6',\n",
       " 'fb_user_7',\n",
       " 'fb_user_8',\n",
       " 'fb_user_9',\n",
       " 'aon',\n",
       " 'aug_vbc_3g',\n",
       " 'jul_vbc_3g',\n",
       " 'jun_vbc_3g',\n",
       " 'sep_vbc_3g']"
      ]
     },
     "execution_count": 35,
     "metadata": {
      "tags": []
     },
     "output_type": "execute_result"
    }
   ],
   "source": [
    "# Selecting all numeric value columns\n",
    "num_col=tel_df.select_dtypes(include= np.number).columns.tolist()\n",
    "num_col"
   ]
  },
  {
   "cell_type": "code",
   "execution_count": 36,
   "metadata": {
    "colab": {
     "base_uri": "https://localhost:8080/",
     "height": 119
    },
    "colab_type": "code",
    "id": "Wq3I4SAGL8Tl",
    "outputId": "c4e479e7-ab41-423d-fb3a-b0e3f8bfd761"
   },
   "outputs": [
    {
     "data": {
      "text/plain": [
       "0    7000842753\n",
       "1    7001865778\n",
       "2    7001625959\n",
       "3    7001204172\n",
       "4    7000142493\n",
       "Name: mobile_number, dtype: object"
      ]
     },
     "execution_count": 36,
     "metadata": {
      "tags": []
     },
     "output_type": "execute_result"
    }
   ],
   "source": [
    "# Convert mobile number to object\n",
    "tel_df['mobile_number']=tel_df['mobile_number'].astype('object')\n",
    "tel_df['mobile_number'].head()"
   ]
  },
  {
   "cell_type": "code",
   "execution_count": 37,
   "metadata": {
    "colab": {
     "base_uri": "https://localhost:8080/",
     "height": 1000
    },
    "colab_type": "code",
    "id": "c6SWU5v4MjCh",
    "outputId": "96be2b8d-373d-4423-ef84-871acfde64b6"
   },
   "outputs": [
    {
     "data": {
      "text/plain": [
       "mobile_number          0.0\n",
       "arpu_6                 0.0\n",
       "arpu_7                 0.0\n",
       "arpu_8                 0.0\n",
       "arpu_9                 0.0\n",
       "onnet_mou_6            3.9\n",
       "onnet_mou_7            3.9\n",
       "onnet_mou_8            5.4\n",
       "onnet_mou_9            7.7\n",
       "offnet_mou_6           3.9\n",
       "offnet_mou_7           3.9\n",
       "offnet_mou_8           5.4\n",
       "offnet_mou_9           7.7\n",
       "roam_ic_mou_6          3.9\n",
       "roam_ic_mou_7          3.9\n",
       "roam_ic_mou_8          5.4\n",
       "roam_ic_mou_9          7.7\n",
       "roam_og_mou_6          3.9\n",
       "roam_og_mou_7          3.9\n",
       "roam_og_mou_8          5.4\n",
       "roam_og_mou_9          7.7\n",
       "loc_og_t2t_mou_6       3.9\n",
       "loc_og_t2t_mou_7       3.9\n",
       "loc_og_t2t_mou_8       5.4\n",
       "loc_og_t2t_mou_9       7.7\n",
       "loc_og_t2m_mou_6       3.9\n",
       "loc_og_t2m_mou_7       3.9\n",
       "loc_og_t2m_mou_8       5.4\n",
       "loc_og_t2m_mou_9       7.7\n",
       "loc_og_t2f_mou_6       3.9\n",
       "loc_og_t2f_mou_7       3.9\n",
       "loc_og_t2f_mou_8       5.4\n",
       "loc_og_t2f_mou_9       7.7\n",
       "loc_og_t2c_mou_6       3.9\n",
       "loc_og_t2c_mou_7       3.9\n",
       "loc_og_t2c_mou_8       5.4\n",
       "loc_og_t2c_mou_9       7.7\n",
       "loc_og_mou_6           3.9\n",
       "loc_og_mou_7           3.9\n",
       "loc_og_mou_8           5.4\n",
       "loc_og_mou_9           7.7\n",
       "std_og_t2t_mou_6       3.9\n",
       "std_og_t2t_mou_7       3.9\n",
       "std_og_t2t_mou_8       5.4\n",
       "std_og_t2t_mou_9       7.7\n",
       "std_og_t2m_mou_6       3.9\n",
       "std_og_t2m_mou_7       3.9\n",
       "std_og_t2m_mou_8       5.4\n",
       "std_og_t2m_mou_9       7.7\n",
       "std_og_t2f_mou_6       3.9\n",
       "std_og_t2f_mou_7       3.9\n",
       "std_og_t2f_mou_8       5.4\n",
       "std_og_t2f_mou_9       7.7\n",
       "std_og_mou_6           3.9\n",
       "std_og_mou_7           3.9\n",
       "std_og_mou_8           5.4\n",
       "std_og_mou_9           7.7\n",
       "isd_og_mou_6           3.9\n",
       "isd_og_mou_7           3.9\n",
       "isd_og_mou_8           5.4\n",
       "isd_og_mou_9           7.7\n",
       "spl_og_mou_6           3.9\n",
       "spl_og_mou_7           3.9\n",
       "spl_og_mou_8           5.4\n",
       "spl_og_mou_9           7.7\n",
       "og_others_6            3.9\n",
       "og_others_7            3.9\n",
       "og_others_8            5.4\n",
       "og_others_9            7.7\n",
       "total_og_mou_6         0.0\n",
       "total_og_mou_7         0.0\n",
       "total_og_mou_8         0.0\n",
       "total_og_mou_9         0.0\n",
       "loc_ic_t2t_mou_6       3.9\n",
       "loc_ic_t2t_mou_7       3.9\n",
       "loc_ic_t2t_mou_8       5.4\n",
       "loc_ic_t2t_mou_9       7.7\n",
       "loc_ic_t2m_mou_6       3.9\n",
       "loc_ic_t2m_mou_7       3.9\n",
       "loc_ic_t2m_mou_8       5.4\n",
       "loc_ic_t2m_mou_9       7.7\n",
       "loc_ic_t2f_mou_6       3.9\n",
       "loc_ic_t2f_mou_7       3.9\n",
       "loc_ic_t2f_mou_8       5.4\n",
       "loc_ic_t2f_mou_9       7.7\n",
       "loc_ic_mou_6           3.9\n",
       "loc_ic_mou_7           3.9\n",
       "loc_ic_mou_8           5.4\n",
       "loc_ic_mou_9           7.7\n",
       "std_ic_t2t_mou_6       3.9\n",
       "std_ic_t2t_mou_7       3.9\n",
       "std_ic_t2t_mou_8       5.4\n",
       "std_ic_t2t_mou_9       7.7\n",
       "std_ic_t2m_mou_6       3.9\n",
       "std_ic_t2m_mou_7       3.9\n",
       "std_ic_t2m_mou_8       5.4\n",
       "std_ic_t2m_mou_9       7.7\n",
       "std_ic_t2f_mou_6       3.9\n",
       "std_ic_t2f_mou_7       3.9\n",
       "std_ic_t2f_mou_8       5.4\n",
       "std_ic_t2f_mou_9       7.7\n",
       "std_ic_mou_6           3.9\n",
       "std_ic_mou_7           3.9\n",
       "std_ic_mou_8           5.4\n",
       "std_ic_mou_9           7.7\n",
       "total_ic_mou_6         0.0\n",
       "total_ic_mou_7         0.0\n",
       "total_ic_mou_8         0.0\n",
       "total_ic_mou_9         0.0\n",
       "spl_ic_mou_6           3.9\n",
       "spl_ic_mou_7           3.9\n",
       "spl_ic_mou_8           5.4\n",
       "spl_ic_mou_9           7.7\n",
       "isd_ic_mou_6           3.9\n",
       "isd_ic_mou_7           3.9\n",
       "isd_ic_mou_8           5.4\n",
       "isd_ic_mou_9           7.7\n",
       "ic_others_6            3.9\n",
       "ic_others_7            3.9\n",
       "ic_others_8            5.4\n",
       "ic_others_9            7.7\n",
       "total_rech_num_6       0.0\n",
       "total_rech_num_7       0.0\n",
       "total_rech_num_8       0.0\n",
       "total_rech_num_9       0.0\n",
       "total_rech_amt_6       0.0\n",
       "total_rech_amt_7       0.0\n",
       "total_rech_amt_8       0.0\n",
       "total_rech_amt_9       0.0\n",
       "max_rech_amt_6         0.0\n",
       "max_rech_amt_7         0.0\n",
       "max_rech_amt_8         0.0\n",
       "max_rech_amt_9         0.0\n",
       "last_day_rch_amt_6     0.0\n",
       "last_day_rch_amt_7     0.0\n",
       "last_day_rch_amt_8     0.0\n",
       "last_day_rch_amt_9     0.0\n",
       "total_rech_data_6     74.8\n",
       "total_rech_data_7     74.4\n",
       "total_rech_data_8     73.7\n",
       "total_rech_data_9     74.1\n",
       "max_rech_data_6       74.8\n",
       "max_rech_data_7       74.4\n",
       "max_rech_data_8       73.7\n",
       "max_rech_data_9       74.1\n",
       "count_rech_2g_6       74.8\n",
       "count_rech_2g_7       74.4\n",
       "count_rech_2g_8       73.7\n",
       "count_rech_2g_9       74.1\n",
       "count_rech_3g_6       74.8\n",
       "count_rech_3g_7       74.4\n",
       "count_rech_3g_8       73.7\n",
       "count_rech_3g_9       74.1\n",
       "av_rech_amt_data_6    74.8\n",
       "av_rech_amt_data_7    74.4\n",
       "av_rech_amt_data_8    73.7\n",
       "av_rech_amt_data_9    74.1\n",
       "vol_2g_mb_6            0.0\n",
       "vol_2g_mb_7            0.0\n",
       "vol_2g_mb_8            0.0\n",
       "vol_2g_mb_9            0.0\n",
       "vol_3g_mb_6            0.0\n",
       "vol_3g_mb_7            0.0\n",
       "vol_3g_mb_8            0.0\n",
       "vol_3g_mb_9            0.0\n",
       "arpu_3g_6             74.8\n",
       "arpu_3g_7             74.4\n",
       "arpu_3g_8             73.7\n",
       "arpu_3g_9             74.1\n",
       "arpu_2g_6             74.8\n",
       "arpu_2g_7             74.4\n",
       "arpu_2g_8             73.7\n",
       "arpu_2g_9             74.1\n",
       "night_pck_user_6      74.8\n",
       "night_pck_user_7      74.4\n",
       "night_pck_user_8      73.7\n",
       "night_pck_user_9      74.1\n",
       "monthly_2g_6           0.0\n",
       "monthly_2g_7           0.0\n",
       "monthly_2g_8           0.0\n",
       "monthly_2g_9           0.0\n",
       "sachet_2g_6            0.0\n",
       "sachet_2g_7            0.0\n",
       "sachet_2g_8            0.0\n",
       "sachet_2g_9            0.0\n",
       "monthly_3g_6           0.0\n",
       "monthly_3g_7           0.0\n",
       "monthly_3g_8           0.0\n",
       "monthly_3g_9           0.0\n",
       "sachet_3g_6            0.0\n",
       "sachet_3g_7            0.0\n",
       "sachet_3g_8            0.0\n",
       "sachet_3g_9            0.0\n",
       "fb_user_6             74.8\n",
       "fb_user_7             74.4\n",
       "fb_user_8             73.7\n",
       "fb_user_9             74.1\n",
       "aon                    0.0\n",
       "aug_vbc_3g             0.0\n",
       "jul_vbc_3g             0.0\n",
       "jun_vbc_3g             0.0\n",
       "sep_vbc_3g             0.0\n",
       "dtype: float64"
      ]
     },
     "execution_count": 37,
     "metadata": {
      "tags": []
     },
     "output_type": "execute_result"
    }
   ],
   "source": [
    "# Understanding the missing value % for all numeric columns\n",
    " pd.set_option('display.max_rows', None) \n",
    " round(100*tel_df[num_col].isnull().sum()/len(tel_df),1)"
   ]
  },
  {
   "cell_type": "code",
   "execution_count": 38,
   "metadata": {
    "colab": {
     "base_uri": "https://localhost:8080/",
     "height": 34
    },
    "colab_type": "code",
    "id": "Sx7k68MHM0_8",
    "outputId": "6074da27-fa54-4569-d1e0-10393a59d706"
   },
   "outputs": [
    {
     "data": {
      "text/plain": [
       "(99999, 177)"
      ]
     },
     "execution_count": 38,
     "metadata": {
      "tags": []
     },
     "output_type": "execute_result"
    }
   ],
   "source": [
    "# Columns with more than 70 % misisng values are dropped excluding columns corresponding to total_rech_data_* and av_rech_amt_data_*\n",
    "col_to_drop=tel_df.columns[round(100*tel_df.isnull().sum()/len(tel_df),2)> 70]\n",
    "data_col=['total_rech_data_6','total_rech_data_7','total_rech_data_8','total_rech_data_9','av_rech_amt_data_6','av_rech_amt_data_7','av_rech_amt_data_6','av_rech_amt_data_9']\n",
    "col_to_drop=[col for col in col_to_drop if col not in data_col]\n",
    "tel_df.drop(col_to_drop,axis=1,inplace=True)\n",
    "tel_df.shape"
   ]
  },
  {
   "cell_type": "code",
   "execution_count": 0,
   "metadata": {
    "colab": {},
    "colab_type": "code",
    "id": "YF7vqh-IFI54"
   },
   "outputs": [],
   "source": [
    "# Intuitively missing values are because, the user has not recharged in the months under consideration.\n",
    "# Based on this assumption, all the mentioned variables excpet date are imputed with '0' function ot impute values\n",
    "def impute(*args):\n",
    "  for col in args:\n",
    "    tel_df[col].fillna(0,inplace=True)\n",
    "\n",
    "    \n",
    "num_col=tel_df.select_dtypes(include= np.number).columns.tolist()\n",
    "impute(*num_col)"
   ]
  },
  {
   "cell_type": "code",
   "execution_count": 40,
   "metadata": {
    "colab": {
     "base_uri": "https://localhost:8080/",
     "height": 102
    },
    "colab_type": "code",
    "id": "iI_utl7WPsmV",
    "outputId": "fb6e4a9c-18d0-4be9-d57b-bc8f70b7c23f"
   },
   "outputs": [
    {
     "data": {
      "text/plain": [
       "date_of_last_rech_6    1.61\n",
       "date_of_last_rech_7    1.77\n",
       "date_of_last_rech_8    3.62\n",
       "date_of_last_rech_9    4.76\n",
       "dtype: float64"
      ]
     },
     "execution_count": 40,
     "metadata": {
      "tags": []
     },
     "output_type": "execute_result"
    }
   ],
   "source": [
    "# Checking the missing value % again\n",
    "col=tel_df.columns[tel_df.isnull().any()].tolist()\n",
    "round(100*tel_df[col].isnull().sum()/len(tel_df),2)"
   ]
  },
  {
   "cell_type": "markdown",
   "metadata": {
    "colab_type": "text",
    "id": "f5pPaBJgQc4G"
   },
   "source": [
    "Date columns are not imputed as the chances are that the person has not recharged in that month"
   ]
  },
  {
   "cell_type": "code",
   "execution_count": 41,
   "metadata": {
    "colab": {
     "base_uri": "https://localhost:8080/",
     "height": 102
    },
    "colab_type": "code",
    "id": "iWxbhwoOQBwZ",
    "outputId": "a30da7c3-827c-4e0d-8531-89b81a2b670f"
   },
   "outputs": [
    {
     "name": "stdout",
     "output_type": "stream",
     "text": [
      "<class 'pandas.core.frame.DataFrame'>\n",
      "RangeIndex: 99999 entries, 0 to 99998\n",
      "Columns: 177 entries, mobile_number to sep_vbc_3g\n",
      "dtypes: datetime64[ns](4), float64(139), int64(33), object(1)\n",
      "memory usage: 135.0+ MB\n"
     ]
    }
   ],
   "source": [
    "tel_df.info()"
   ]
  },
  {
   "cell_type": "markdown",
   "metadata": {
    "colab_type": "text",
    "id": "duk8tmcSHZW2"
   },
   "source": [
    "## Data Preparation"
   ]
  },
  {
   "cell_type": "markdown",
   "metadata": {
    "colab_type": "text",
    "id": "3GKsvsajHdTk"
   },
   "source": [
    "### Derive new features"
   ]
  },
  {
   "cell_type": "code",
   "execution_count": 0,
   "metadata": {
    "colab": {},
    "colab_type": "code",
    "id": "0E0BCtEDylk4"
   },
   "outputs": [],
   "source": [
    "# Calcuating the Average recharge amount as the sum of total recharge amount and the total data recharge amount\n",
    "# Total data recharge is calculated as the product of total number of data recharge & Average data recharge amount\n",
    "tel_df['avg_total_rech_amt_67']=(tel_df['total_rech_amt_6']+tel_df[\"total_rech_data_6\"]*tel_df['av_rech_amt_data_6']+\n",
    "                                 tel_df['total_rech_amt_7']+tel_df[\"total_rech_data_7\"]*tel_df['av_rech_amt_data_7'])/2"
   ]
  },
  {
   "cell_type": "code",
   "execution_count": 43,
   "metadata": {
    "colab": {
     "base_uri": "https://localhost:8080/",
     "height": 54
    },
    "colab_type": "code",
    "id": "GBoj98r_bzPV",
    "outputId": "69aa02ba-da7f-4bb6-8dde-3ebb7231e1bb"
   },
   "outputs": [
    {
     "name": "stdout",
     "output_type": "stream",
     "text": [
      "['arpu', 'onnet_mou', 'offnet_mou', 'roam_ic_mou', 'roam_og_mou', 'loc_og_t2t_mou', 'loc_og_t2m_mou', 'loc_og_t2f_mou', 'loc_og_t2c_mou', 'loc_og_mou', 'std_og_t2t_mou', 'std_og_t2m_mou', 'std_og_t2f_mou', 'std_og_mou', 'isd_og_mou', 'spl_og_mou', 'og_others', 'total_og_mou', 'loc_ic_t2t_mou', 'loc_ic_t2m_mou', 'loc_ic_t2f_mou', 'loc_ic_mou', 'std_ic_t2t_mou', 'std_ic_t2m_mou', 'std_ic_t2f_mou', 'std_ic_mou', 'total_ic_mou', 'spl_ic_mou', 'isd_ic_mou', 'ic_others', 'total_rech_num', 'max_rech_amt', 'last_day_rch_amt', 'total_rech_data', 'av_rech_amt_data', 'vol_2g_mb', 'vol_3g_mb', 'monthly_2g', 'sachet_2g', 'monthly_3g', 'sachet_3g']\n"
     ]
    }
   ],
   "source": [
    "# Since our High value customers are determined based on average recharge value for month 6 & 7, \n",
    "# We are Creating average column for all attributes of Month 6 and 7\n",
    "\n",
    "mth67_col_list = tel_df.select_dtypes(include=['int64','float64']).filter(regex='_6$|_7$').columns.str[:-2]\n",
    "mth67_col_list_unq = list(mth67_col_list.unique())\n",
    "mth67_col_list_unq.remove('total_rech_amt')\n",
    "print(mth67_col_list_unq)\n",
    "\n",
    "for col in mth67_col_list_unq:\n",
    "  avg_col_nm = 'avg_'+col+'_67'\n",
    "  tel_df[avg_col_nm] = (tel_df[col+'_6'] + tel_df[col+'_7'])/2\n",
    "\n"
   ]
  },
  {
   "cell_type": "code",
   "execution_count": 44,
   "metadata": {
    "colab": {
     "base_uri": "https://localhost:8080/",
     "height": 34
    },
    "colab_type": "code",
    "id": "G9Lptbiwb_7f",
    "outputId": "304b2c24-e818-4491-f022-398e01e9dd97"
   },
   "outputs": [
    {
     "data": {
      "text/plain": [
       "(99999, 135)"
      ]
     },
     "execution_count": 44,
     "metadata": {
      "tags": []
     },
     "output_type": "execute_result"
    }
   ],
   "source": [
    "# since average column is created, dropping actual month 6 & 7 columns\n",
    "\n",
    "tel_df.drop(tel_df.select_dtypes(include=['int64','float64']).filter(regex='_6$|_7$').columns,axis=1,inplace=True)\n",
    "tel_df.shape"
   ]
  },
  {
   "cell_type": "markdown",
   "metadata": {
    "colab_type": "text",
    "id": "Q1yxunx3HkJ_"
   },
   "source": [
    "### Filter high value customers"
   ]
  },
  {
   "cell_type": "code",
   "execution_count": 45,
   "metadata": {
    "colab": {
     "base_uri": "https://localhost:8080/",
     "height": 34
    },
    "colab_type": "code",
    "id": "SEJFtKA4Hppg",
    "outputId": "6bfc91d2-f5b4-42ea-ed44-30176fc26d22"
   },
   "outputs": [
    {
     "data": {
      "text/plain": [
       "(30001, 135)"
      ]
     },
     "execution_count": 45,
     "metadata": {
      "tags": []
     },
     "output_type": "execute_result"
    }
   ],
   "source": [
    "q=tel_df['avg_total_rech_amt_67'].quantile(.7)\n",
    "df=tel_df[tel_df['avg_total_rech_amt_67']>=q]\n",
    "df.shape"
   ]
  },
  {
   "cell_type": "markdown",
   "metadata": {
    "colab_type": "text",
    "id": "zCj2AmgEHqiT"
   },
   "source": [
    "\n",
    "### Tag churners and remove attributes of the churn phase"
   ]
  },
  {
   "cell_type": "markdown",
   "metadata": {
    "colab_type": "text",
    "id": "G8mZfaymwNNM"
   },
   "source": []
  },
  {
   "cell_type": "code",
   "execution_count": 0,
   "metadata": {
    "colab": {},
    "colab_type": "code",
    "id": "04DaxffhH2H_"
   },
   "outputs": [],
   "source": [
    "#Those who have not made any calls (either incoming or outgoing) AND have not used mobile internet even once in the churn phase.\n",
    "# The attributes you need to use to tag churners are: total_ic_mou_9, total_og_mou_9, vol_2g_mb_9, vol_3g_mb_9\n",
    "\n",
    "def churn_def(row):\n",
    "    if (row['total_ic_mou_9']==0) & (row['total_og_mou_9']==0) &(row['vol_2g_mb_9']==0) & (row['vol_3g_mb_9']==0):\n",
    "        return 1\n",
    "    else: return 0"
   ]
  },
  {
   "cell_type": "code",
   "execution_count": 47,
   "metadata": {
    "colab": {
     "base_uri": "https://localhost:8080/",
     "height": 253
    },
    "colab_type": "code",
    "id": "7_xPkPZa1ooL",
    "outputId": "a973681c-3136-44bf-afbe-7eb2ec1b7fc4"
   },
   "outputs": [
    {
     "data": {
      "text/html": [
       "<div>\n",
       "<style scoped>\n",
       "    .dataframe tbody tr th:only-of-type {\n",
       "        vertical-align: middle;\n",
       "    }\n",
       "\n",
       "    .dataframe tbody tr th {\n",
       "        vertical-align: top;\n",
       "    }\n",
       "\n",
       "    .dataframe thead th {\n",
       "        text-align: right;\n",
       "    }\n",
       "</style>\n",
       "<table border=\"1\" class=\"dataframe\">\n",
       "  <thead>\n",
       "    <tr style=\"text-align: right;\">\n",
       "      <th></th>\n",
       "      <th>mobile_number</th>\n",
       "      <th>arpu_8</th>\n",
       "      <th>arpu_9</th>\n",
       "      <th>onnet_mou_8</th>\n",
       "      <th>onnet_mou_9</th>\n",
       "      <th>offnet_mou_8</th>\n",
       "      <th>offnet_mou_9</th>\n",
       "      <th>roam_ic_mou_8</th>\n",
       "      <th>roam_ic_mou_9</th>\n",
       "      <th>roam_og_mou_8</th>\n",
       "      <th>roam_og_mou_9</th>\n",
       "      <th>loc_og_t2t_mou_8</th>\n",
       "      <th>loc_og_t2t_mou_9</th>\n",
       "      <th>loc_og_t2m_mou_8</th>\n",
       "      <th>loc_og_t2m_mou_9</th>\n",
       "      <th>loc_og_t2f_mou_8</th>\n",
       "      <th>loc_og_t2f_mou_9</th>\n",
       "      <th>loc_og_t2c_mou_8</th>\n",
       "      <th>loc_og_t2c_mou_9</th>\n",
       "      <th>loc_og_mou_8</th>\n",
       "      <th>loc_og_mou_9</th>\n",
       "      <th>std_og_t2t_mou_8</th>\n",
       "      <th>std_og_t2t_mou_9</th>\n",
       "      <th>std_og_t2m_mou_8</th>\n",
       "      <th>std_og_t2m_mou_9</th>\n",
       "      <th>std_og_t2f_mou_8</th>\n",
       "      <th>std_og_t2f_mou_9</th>\n",
       "      <th>std_og_mou_8</th>\n",
       "      <th>std_og_mou_9</th>\n",
       "      <th>isd_og_mou_8</th>\n",
       "      <th>isd_og_mou_9</th>\n",
       "      <th>spl_og_mou_8</th>\n",
       "      <th>spl_og_mou_9</th>\n",
       "      <th>og_others_8</th>\n",
       "      <th>og_others_9</th>\n",
       "      <th>total_og_mou_8</th>\n",
       "      <th>total_og_mou_9</th>\n",
       "      <th>loc_ic_t2t_mou_8</th>\n",
       "      <th>loc_ic_t2t_mou_9</th>\n",
       "      <th>loc_ic_t2m_mou_8</th>\n",
       "      <th>...</th>\n",
       "      <th>avg_offnet_mou_67</th>\n",
       "      <th>avg_roam_ic_mou_67</th>\n",
       "      <th>avg_roam_og_mou_67</th>\n",
       "      <th>avg_loc_og_t2t_mou_67</th>\n",
       "      <th>avg_loc_og_t2m_mou_67</th>\n",
       "      <th>avg_loc_og_t2f_mou_67</th>\n",
       "      <th>avg_loc_og_t2c_mou_67</th>\n",
       "      <th>avg_loc_og_mou_67</th>\n",
       "      <th>avg_std_og_t2t_mou_67</th>\n",
       "      <th>avg_std_og_t2m_mou_67</th>\n",
       "      <th>avg_std_og_t2f_mou_67</th>\n",
       "      <th>avg_std_og_mou_67</th>\n",
       "      <th>avg_isd_og_mou_67</th>\n",
       "      <th>avg_spl_og_mou_67</th>\n",
       "      <th>avg_og_others_67</th>\n",
       "      <th>avg_total_og_mou_67</th>\n",
       "      <th>avg_loc_ic_t2t_mou_67</th>\n",
       "      <th>avg_loc_ic_t2m_mou_67</th>\n",
       "      <th>avg_loc_ic_t2f_mou_67</th>\n",
       "      <th>avg_loc_ic_mou_67</th>\n",
       "      <th>avg_std_ic_t2t_mou_67</th>\n",
       "      <th>avg_std_ic_t2m_mou_67</th>\n",
       "      <th>avg_std_ic_t2f_mou_67</th>\n",
       "      <th>avg_std_ic_mou_67</th>\n",
       "      <th>avg_total_ic_mou_67</th>\n",
       "      <th>avg_spl_ic_mou_67</th>\n",
       "      <th>avg_isd_ic_mou_67</th>\n",
       "      <th>avg_ic_others_67</th>\n",
       "      <th>avg_total_rech_num_67</th>\n",
       "      <th>avg_max_rech_amt_67</th>\n",
       "      <th>avg_last_day_rch_amt_67</th>\n",
       "      <th>avg_total_rech_data_67</th>\n",
       "      <th>avg_av_rech_amt_data_67</th>\n",
       "      <th>avg_vol_2g_mb_67</th>\n",
       "      <th>avg_vol_3g_mb_67</th>\n",
       "      <th>avg_monthly_2g_67</th>\n",
       "      <th>avg_sachet_2g_67</th>\n",
       "      <th>avg_monthly_3g_67</th>\n",
       "      <th>avg_sachet_3g_67</th>\n",
       "      <th>Churn</th>\n",
       "    </tr>\n",
       "  </thead>\n",
       "  <tbody>\n",
       "    <tr>\n",
       "      <th>0</th>\n",
       "      <td>7000842753</td>\n",
       "      <td>213.803</td>\n",
       "      <td>21.100</td>\n",
       "      <td>0.00</td>\n",
       "      <td>0.00</td>\n",
       "      <td>0.00</td>\n",
       "      <td>0.00</td>\n",
       "      <td>0.00</td>\n",
       "      <td>0.0</td>\n",
       "      <td>0.00</td>\n",
       "      <td>0.0</td>\n",
       "      <td>0.00</td>\n",
       "      <td>0.00</td>\n",
       "      <td>0.00</td>\n",
       "      <td>0.00</td>\n",
       "      <td>0.00</td>\n",
       "      <td>0.00</td>\n",
       "      <td>0.00</td>\n",
       "      <td>0.00</td>\n",
       "      <td>0.00</td>\n",
       "      <td>0.00</td>\n",
       "      <td>0.00</td>\n",
       "      <td>0.00</td>\n",
       "      <td>0.00</td>\n",
       "      <td>0.00</td>\n",
       "      <td>0.00</td>\n",
       "      <td>0.00</td>\n",
       "      <td>0.00</td>\n",
       "      <td>0.00</td>\n",
       "      <td>0.00</td>\n",
       "      <td>0.0</td>\n",
       "      <td>0.00</td>\n",
       "      <td>0.00</td>\n",
       "      <td>0.0</td>\n",
       "      <td>0.0</td>\n",
       "      <td>0.00</td>\n",
       "      <td>0.00</td>\n",
       "      <td>0.16</td>\n",
       "      <td>0.00</td>\n",
       "      <td>4.13</td>\n",
       "      <td>...</td>\n",
       "      <td>0.000</td>\n",
       "      <td>0.00</td>\n",
       "      <td>0.000</td>\n",
       "      <td>0.000</td>\n",
       "      <td>0.000</td>\n",
       "      <td>0.000</td>\n",
       "      <td>0.0</td>\n",
       "      <td>0.000</td>\n",
       "      <td>0.000</td>\n",
       "      <td>0.000</td>\n",
       "      <td>0.00</td>\n",
       "      <td>0.000</td>\n",
       "      <td>0.000</td>\n",
       "      <td>0.00</td>\n",
       "      <td>0.0</td>\n",
       "      <td>0.000</td>\n",
       "      <td>0.000</td>\n",
       "      <td>0.000</td>\n",
       "      <td>0.000</td>\n",
       "      <td>0.000</td>\n",
       "      <td>0.000</td>\n",
       "      <td>0.000</td>\n",
       "      <td>0.000</td>\n",
       "      <td>0.000</td>\n",
       "      <td>0.000</td>\n",
       "      <td>0.000</td>\n",
       "      <td>0.000</td>\n",
       "      <td>0.000</td>\n",
       "      <td>3.5</td>\n",
       "      <td>252.0</td>\n",
       "      <td>252.0</td>\n",
       "      <td>1.0</td>\n",
       "      <td>252.0</td>\n",
       "      <td>15.725</td>\n",
       "      <td>117.165</td>\n",
       "      <td>0.0</td>\n",
       "      <td>0.0</td>\n",
       "      <td>1.0</td>\n",
       "      <td>0.0</td>\n",
       "      <td>1</td>\n",
       "    </tr>\n",
       "    <tr>\n",
       "      <th>7</th>\n",
       "      <td>7000701601</td>\n",
       "      <td>3171.480</td>\n",
       "      <td>500.000</td>\n",
       "      <td>52.29</td>\n",
       "      <td>0.00</td>\n",
       "      <td>325.91</td>\n",
       "      <td>0.00</td>\n",
       "      <td>31.64</td>\n",
       "      <td>0.0</td>\n",
       "      <td>38.06</td>\n",
       "      <td>0.0</td>\n",
       "      <td>40.28</td>\n",
       "      <td>0.00</td>\n",
       "      <td>162.28</td>\n",
       "      <td>0.00</td>\n",
       "      <td>53.23</td>\n",
       "      <td>0.00</td>\n",
       "      <td>0.00</td>\n",
       "      <td>0.00</td>\n",
       "      <td>255.79</td>\n",
       "      <td>0.00</td>\n",
       "      <td>12.01</td>\n",
       "      <td>0.00</td>\n",
       "      <td>49.14</td>\n",
       "      <td>0.00</td>\n",
       "      <td>16.68</td>\n",
       "      <td>0.00</td>\n",
       "      <td>77.84</td>\n",
       "      <td>0.00</td>\n",
       "      <td>10.01</td>\n",
       "      <td>0.0</td>\n",
       "      <td>6.50</td>\n",
       "      <td>0.00</td>\n",
       "      <td>0.0</td>\n",
       "      <td>0.0</td>\n",
       "      <td>350.16</td>\n",
       "      <td>0.00</td>\n",
       "      <td>27.31</td>\n",
       "      <td>0.00</td>\n",
       "      <td>121.19</td>\n",
       "      <td>...</td>\n",
       "      <td>510.295</td>\n",
       "      <td>24.86</td>\n",
       "      <td>18.165</td>\n",
       "      <td>41.385</td>\n",
       "      <td>378.005</td>\n",
       "      <td>58.635</td>\n",
       "      <td>0.0</td>\n",
       "      <td>478.035</td>\n",
       "      <td>13.795</td>\n",
       "      <td>40.825</td>\n",
       "      <td>13.37</td>\n",
       "      <td>68.000</td>\n",
       "      <td>0.090</td>\n",
       "      <td>2.25</td>\n",
       "      <td>0.0</td>\n",
       "      <td>548.385</td>\n",
       "      <td>45.200</td>\n",
       "      <td>219.525</td>\n",
       "      <td>126.810</td>\n",
       "      <td>391.555</td>\n",
       "      <td>24.360</td>\n",
       "      <td>109.215</td>\n",
       "      <td>43.215</td>\n",
       "      <td>176.810</td>\n",
       "      <td>592.250</td>\n",
       "      <td>0.105</td>\n",
       "      <td>8.295</td>\n",
       "      <td>15.465</td>\n",
       "      <td>5.0</td>\n",
       "      <td>1185.0</td>\n",
       "      <td>0.0</td>\n",
       "      <td>0.0</td>\n",
       "      <td>0.0</td>\n",
       "      <td>0.000</td>\n",
       "      <td>0.000</td>\n",
       "      <td>0.0</td>\n",
       "      <td>0.0</td>\n",
       "      <td>0.0</td>\n",
       "      <td>0.0</td>\n",
       "      <td>1</td>\n",
       "    </tr>\n",
       "    <tr>\n",
       "      <th>8</th>\n",
       "      <td>7001524846</td>\n",
       "      <td>137.362</td>\n",
       "      <td>166.787</td>\n",
       "      <td>35.08</td>\n",
       "      <td>33.46</td>\n",
       "      <td>136.48</td>\n",
       "      <td>108.71</td>\n",
       "      <td>0.00</td>\n",
       "      <td>0.0</td>\n",
       "      <td>0.00</td>\n",
       "      <td>0.0</td>\n",
       "      <td>12.49</td>\n",
       "      <td>26.13</td>\n",
       "      <td>50.54</td>\n",
       "      <td>34.58</td>\n",
       "      <td>0.00</td>\n",
       "      <td>0.00</td>\n",
       "      <td>7.15</td>\n",
       "      <td>0.00</td>\n",
       "      <td>63.04</td>\n",
       "      <td>60.71</td>\n",
       "      <td>22.58</td>\n",
       "      <td>7.33</td>\n",
       "      <td>75.69</td>\n",
       "      <td>74.13</td>\n",
       "      <td>0.00</td>\n",
       "      <td>0.00</td>\n",
       "      <td>98.28</td>\n",
       "      <td>81.46</td>\n",
       "      <td>0.00</td>\n",
       "      <td>0.0</td>\n",
       "      <td>10.23</td>\n",
       "      <td>0.00</td>\n",
       "      <td>0.0</td>\n",
       "      <td>0.0</td>\n",
       "      <td>171.56</td>\n",
       "      <td>142.18</td>\n",
       "      <td>0.31</td>\n",
       "      <td>4.03</td>\n",
       "      <td>15.48</td>\n",
       "      <td>...</td>\n",
       "      <td>87.645</td>\n",
       "      <td>0.00</td>\n",
       "      <td>0.000</td>\n",
       "      <td>257.360</td>\n",
       "      <td>75.770</td>\n",
       "      <td>0.000</td>\n",
       "      <td>0.0</td>\n",
       "      <td>333.135</td>\n",
       "      <td>124.995</td>\n",
       "      <td>11.865</td>\n",
       "      <td>0.00</td>\n",
       "      <td>136.870</td>\n",
       "      <td>0.000</td>\n",
       "      <td>0.00</td>\n",
       "      <td>0.0</td>\n",
       "      <td>470.010</td>\n",
       "      <td>16.840</td>\n",
       "      <td>35.780</td>\n",
       "      <td>0.000</td>\n",
       "      <td>52.630</td>\n",
       "      <td>0.290</td>\n",
       "      <td>13.255</td>\n",
       "      <td>0.000</td>\n",
       "      <td>13.545</td>\n",
       "      <td>66.175</td>\n",
       "      <td>0.000</td>\n",
       "      <td>0.000</td>\n",
       "      <td>0.000</td>\n",
       "      <td>20.0</td>\n",
       "      <td>122.0</td>\n",
       "      <td>25.0</td>\n",
       "      <td>1.0</td>\n",
       "      <td>88.5</td>\n",
       "      <td>178.000</td>\n",
       "      <td>375.475</td>\n",
       "      <td>0.5</td>\n",
       "      <td>0.5</td>\n",
       "      <td>0.0</td>\n",
       "      <td>0.0</td>\n",
       "      <td>0</td>\n",
       "    </tr>\n",
       "    <tr>\n",
       "      <th>21</th>\n",
       "      <td>7002124215</td>\n",
       "      <td>637.760</td>\n",
       "      <td>578.596</td>\n",
       "      <td>85.14</td>\n",
       "      <td>161.63</td>\n",
       "      <td>983.39</td>\n",
       "      <td>869.89</td>\n",
       "      <td>0.00</td>\n",
       "      <td>0.0</td>\n",
       "      <td>0.00</td>\n",
       "      <td>0.0</td>\n",
       "      <td>23.34</td>\n",
       "      <td>29.98</td>\n",
       "      <td>104.81</td>\n",
       "      <td>107.54</td>\n",
       "      <td>1.58</td>\n",
       "      <td>0.00</td>\n",
       "      <td>0.00</td>\n",
       "      <td>0.00</td>\n",
       "      <td>129.74</td>\n",
       "      <td>137.53</td>\n",
       "      <td>61.79</td>\n",
       "      <td>131.64</td>\n",
       "      <td>876.99</td>\n",
       "      <td>762.34</td>\n",
       "      <td>0.00</td>\n",
       "      <td>0.00</td>\n",
       "      <td>938.79</td>\n",
       "      <td>893.99</td>\n",
       "      <td>0.00</td>\n",
       "      <td>0.0</td>\n",
       "      <td>0.00</td>\n",
       "      <td>0.00</td>\n",
       "      <td>0.0</td>\n",
       "      <td>0.0</td>\n",
       "      <td>1068.54</td>\n",
       "      <td>1031.53</td>\n",
       "      <td>19.54</td>\n",
       "      <td>17.99</td>\n",
       "      <td>129.16</td>\n",
       "      <td>...</td>\n",
       "      <td>827.305</td>\n",
       "      <td>0.00</td>\n",
       "      <td>0.000</td>\n",
       "      <td>5.320</td>\n",
       "      <td>89.870</td>\n",
       "      <td>0.375</td>\n",
       "      <td>0.0</td>\n",
       "      <td>95.565</td>\n",
       "      <td>111.935</td>\n",
       "      <td>737.050</td>\n",
       "      <td>0.00</td>\n",
       "      <td>848.990</td>\n",
       "      <td>0.000</td>\n",
       "      <td>0.00</td>\n",
       "      <td>0.0</td>\n",
       "      <td>944.565</td>\n",
       "      <td>6.335</td>\n",
       "      <td>96.430</td>\n",
       "      <td>3.725</td>\n",
       "      <td>106.505</td>\n",
       "      <td>10.020</td>\n",
       "      <td>52.960</td>\n",
       "      <td>0.000</td>\n",
       "      <td>62.985</td>\n",
       "      <td>169.490</td>\n",
       "      <td>0.000</td>\n",
       "      <td>0.000</td>\n",
       "      <td>0.000</td>\n",
       "      <td>24.0</td>\n",
       "      <td>50.0</td>\n",
       "      <td>25.0</td>\n",
       "      <td>0.0</td>\n",
       "      <td>0.0</td>\n",
       "      <td>0.000</td>\n",
       "      <td>0.000</td>\n",
       "      <td>0.0</td>\n",
       "      <td>0.0</td>\n",
       "      <td>0.0</td>\n",
       "      <td>0.0</td>\n",
       "      <td>0</td>\n",
       "    </tr>\n",
       "    <tr>\n",
       "      <th>23</th>\n",
       "      <td>7000887461</td>\n",
       "      <td>366.966</td>\n",
       "      <td>811.480</td>\n",
       "      <td>33.58</td>\n",
       "      <td>15.74</td>\n",
       "      <td>205.89</td>\n",
       "      <td>111.88</td>\n",
       "      <td>0.00</td>\n",
       "      <td>0.0</td>\n",
       "      <td>0.00</td>\n",
       "      <td>0.0</td>\n",
       "      <td>33.58</td>\n",
       "      <td>15.74</td>\n",
       "      <td>148.56</td>\n",
       "      <td>83.73</td>\n",
       "      <td>0.00</td>\n",
       "      <td>2.45</td>\n",
       "      <td>17.71</td>\n",
       "      <td>4.08</td>\n",
       "      <td>182.14</td>\n",
       "      <td>101.93</td>\n",
       "      <td>0.00</td>\n",
       "      <td>0.00</td>\n",
       "      <td>39.61</td>\n",
       "      <td>11.44</td>\n",
       "      <td>0.00</td>\n",
       "      <td>3.89</td>\n",
       "      <td>39.61</td>\n",
       "      <td>15.34</td>\n",
       "      <td>0.00</td>\n",
       "      <td>0.0</td>\n",
       "      <td>17.71</td>\n",
       "      <td>10.35</td>\n",
       "      <td>0.0</td>\n",
       "      <td>0.0</td>\n",
       "      <td>239.48</td>\n",
       "      <td>127.63</td>\n",
       "      <td>76.64</td>\n",
       "      <td>45.36</td>\n",
       "      <td>146.84</td>\n",
       "      <td>...</td>\n",
       "      <td>87.385</td>\n",
       "      <td>0.00</td>\n",
       "      <td>0.000</td>\n",
       "      <td>49.810</td>\n",
       "      <td>82.975</td>\n",
       "      <td>0.000</td>\n",
       "      <td>0.0</td>\n",
       "      <td>132.795</td>\n",
       "      <td>0.000</td>\n",
       "      <td>4.355</td>\n",
       "      <td>0.00</td>\n",
       "      <td>4.355</td>\n",
       "      <td>0.005</td>\n",
       "      <td>0.05</td>\n",
       "      <td>0.0</td>\n",
       "      <td>137.210</td>\n",
       "      <td>40.875</td>\n",
       "      <td>104.635</td>\n",
       "      <td>0.000</td>\n",
       "      <td>145.520</td>\n",
       "      <td>0.255</td>\n",
       "      <td>8.660</td>\n",
       "      <td>0.000</td>\n",
       "      <td>8.915</td>\n",
       "      <td>171.235</td>\n",
       "      <td>0.000</td>\n",
       "      <td>14.115</td>\n",
       "      <td>2.675</td>\n",
       "      <td>4.0</td>\n",
       "      <td>89.5</td>\n",
       "      <td>89.5</td>\n",
       "      <td>1.0</td>\n",
       "      <td>178.0</td>\n",
       "      <td>0.240</td>\n",
       "      <td>299.545</td>\n",
       "      <td>0.0</td>\n",
       "      <td>0.0</td>\n",
       "      <td>1.0</td>\n",
       "      <td>0.0</td>\n",
       "      <td>0</td>\n",
       "    </tr>\n",
       "  </tbody>\n",
       "</table>\n",
       "<p>5 rows × 136 columns</p>\n",
       "</div>"
      ],
      "text/plain": [
       "   mobile_number    arpu_8   arpu_9  ...  avg_monthly_3g_67  avg_sachet_3g_67  Churn\n",
       "0     7000842753   213.803   21.100  ...                1.0               0.0      1\n",
       "7     7000701601  3171.480  500.000  ...                0.0               0.0      1\n",
       "8     7001524846   137.362  166.787  ...                0.0               0.0      0\n",
       "21    7002124215   637.760  578.596  ...                0.0               0.0      0\n",
       "23    7000887461   366.966  811.480  ...                1.0               0.0      0\n",
       "\n",
       "[5 rows x 136 columns]"
      ]
     },
     "execution_count": 47,
     "metadata": {
      "tags": []
     },
     "output_type": "execute_result"
    }
   ],
   "source": [
    "df['Churn']=df.apply(churn_def,axis=1)\n",
    "df.head()"
   ]
  },
  {
   "cell_type": "code",
   "execution_count": 48,
   "metadata": {
    "colab": {
     "base_uri": "https://localhost:8080/",
     "height": 34
    },
    "colab_type": "code",
    "id": "r9ZBvNfE4KRv",
    "outputId": "fe77ccfd-2279-4fca-a6ff-072edf87cd71"
   },
   "outputs": [
    {
     "data": {
      "text/plain": [
       "8.14"
      ]
     },
     "execution_count": 48,
     "metadata": {
      "tags": []
     },
     "output_type": "execute_result"
    }
   ],
   "source": [
    "# checking the percentage of churned customers\n",
    "round(100*df['Churn'].sum()/len(df),2)"
   ]
  },
  {
   "cell_type": "code",
   "execution_count": 49,
   "metadata": {
    "colab": {
     "base_uri": "https://localhost:8080/",
     "height": 34
    },
    "colab_type": "code",
    "id": "S0L63v0-V2Yd",
    "outputId": "38bcb98a-953f-4aaa-b5d9-3da3bc504695"
   },
   "outputs": [
    {
     "data": {
      "text/plain": [
       "(30001, 93)"
      ]
     },
     "execution_count": 49,
     "metadata": {
      "tags": []
     },
     "output_type": "execute_result"
    }
   ],
   "source": [
    "# Dropping all features corresponding to the churn phase\n",
    "col_9=[col for col in df.columns if '_9' in col]\n",
    "df.drop(col_9,axis=1, inplace=True)\n",
    "df.shape"
   ]
  },
  {
   "cell_type": "code",
   "execution_count": 50,
   "metadata": {
    "colab": {
     "base_uri": "https://localhost:8080/",
     "height": 34
    },
    "colab_type": "code",
    "id": "j8aYcJI_CIIN",
    "outputId": "3845e70c-f999-4b16-8a9f-de7c5dc471db"
   },
   "outputs": [
    {
     "data": {
      "text/plain": [
       "(30001, 90)"
      ]
     },
     "execution_count": 50,
     "metadata": {
      "tags": []
     },
     "output_type": "execute_result"
    }
   ],
   "source": [
    "# Droppiing date columns as they are not useful in model building\n",
    "date_col=[col for col in df.columns if 'date' in col]\n",
    "df.drop(date_col,axis=1,inplace=True)\n",
    "df.shape"
   ]
  },
  {
   "cell_type": "markdown",
   "metadata": {
    "colab_type": "text",
    "id": "ZPn7QbutSQCP"
   },
   "source": [
    "## EDA"
   ]
  },
  {
   "cell_type": "markdown",
   "metadata": {
    "colab_type": "text",
    "id": "aAKVxMxnMXY8"
   },
   "source": [
    "### Bar chart"
   ]
  },
  {
   "cell_type": "code",
   "execution_count": 0,
   "metadata": {
    "colab": {},
    "colab_type": "code",
    "id": "Xn0poPY-STEd"
   },
   "outputs": [],
   "source": [
    "import math\n",
    "def func_bar(*args,data_df):                        \n",
    "    m=math.ceil(len(args)/2)  # getting the length of arguments to determine the shape of subplots                   \n",
    "    fig,axes = plt.subplots(m,2,squeeze=False, figsize = (16, 6*m))\n",
    "    ax_li = axes.flatten()       # flattening the numpy array returned by subplots\n",
    "    i=0\n",
    "    for col in args:\n",
    "        sns.countplot(x=col, data=data_df,ax=ax_li[i], order = data_df[col].value_counts().index)\n",
    "        ax_li[i].set_title(col)\n",
    "        ax_li[i].set_yscale('log')\n",
    "        plt.tight_layout()\n",
    "        i=i+1"
   ]
  },
  {
   "cell_type": "code",
   "execution_count": 52,
   "metadata": {
    "colab": {
     "base_uri": "https://localhost:8080/",
     "height": 873
    },
    "colab_type": "code",
    "id": "yKSNdJjtMAjT",
    "outputId": "9983f07d-cf41-408c-b01c-5b59f4b6087f"
   },
   "outputs": [
    {
     "data": {
      "image/png": "[encoded data removed]",
      "text/plain": [
       "<Figure size 1152x864 with 4 Axes>"
      ]
     },
     "metadata": {
      "tags": []
     },
     "output_type": "display_data"
    }
   ],
   "source": [
    "# Plotting Bar chart for data attributes\n",
    "col_10=df.columns[df.nunique()<=10].tolist()  # Selecting columns that have less than 11 unique values for plotting using barchart\n",
    "func_bar(*col_10,data_df=df)"
   ]
  },
  {
   "cell_type": "markdown",
   "metadata": {
    "colab_type": "text",
    "id": "zilXVZIUMcWX"
   },
   "source": [
    "### Box plot"
   ]
  },
  {
   "cell_type": "code",
   "execution_count": 0,
   "metadata": {
    "colab": {},
    "colab_type": "code",
    "id": "WOqIowLiSv6l"
   },
   "outputs": [],
   "source": [
    "#function for box plot\n",
    "def bx_plot(*args,data): \n",
    "    \n",
    "    m=math.ceil(len(args)/2)  # getting the length f arguments to determine the shape of subplots                   \n",
    "    fig,axes = plt.subplots(m,2,squeeze=False, figsize = (16, 8*m))\n",
    "    ax_li = axes.flatten()       # flattening the numpy array returned by subplots\n",
    "    i=0\n",
    "    for col in args:\n",
    "        \n",
    "        sns.boxplot(col, data, ax=ax_li[i])  # plotting the box plot\n",
    "        ax_li[i].set_title(col)\n",
    "        #ax_li[i].set_xscale('log')\n",
    "        plt.tight_layout()\n",
    "        i=i+1"
   ]
  },
  {
   "cell_type": "code",
   "execution_count": 54,
   "metadata": {
    "colab": {
     "base_uri": "https://localhost:8080/",
     "height": 170
    },
    "colab_type": "code",
    "id": "B4kcl8r-u7PF",
    "outputId": "c5f84dc7-5e5e-407a-b7fd-fb3a7c3848b9"
   },
   "outputs": [
    {
     "data": {
      "text/plain": [
       "['total_rech_num_8',\n",
       " 'total_rech_amt_8',\n",
       " 'max_rech_amt_8',\n",
       " 'total_rech_data_8',\n",
       " 'avg_total_rech_amt_67',\n",
       " 'avg_total_rech_num_67',\n",
       " 'avg_max_rech_amt_67',\n",
       " 'avg_total_rech_data_67',\n",
       " 'avg_av_rech_amt_data_67']"
      ]
     },
     "execution_count": 54,
     "metadata": {
      "tags": []
     },
     "output_type": "execute_result"
    }
   ],
   "source": [
    "# plotting the distribution for recharge amount \n",
    "col_rech = [col for col in df.columns if 'rech' in col]\n",
    "col_rech\n"
   ]
  },
  {
   "cell_type": "code",
   "execution_count": 55,
   "metadata": {
    "colab": {
     "base_uri": "https://localhost:8080/",
     "height": 736
    },
    "colab_type": "code",
    "id": "hwYp2oIH0clb",
    "outputId": "91e48b70-cc00-4f3a-cfac-ad711320f47f"
   },
   "outputs": [
    {
     "data": {
      "image/png": "[encoded data removed]",
      "text/plain": [
       "<Figure size 1440x720 with 1 Axes>"
      ]
     },
     "metadata": {
      "tags": []
     },
     "output_type": "display_data"
    }
   ],
   "source": [
    "fig,axes = plt.subplots(1,1,squeeze=False, figsize = (20, 10))\n",
    "ax=axes[0][0]\n",
    "\n",
    "df.pivot(columns='Churn')[col_rech].plot(kind = 'box',ax=ax)\n",
    "\n",
    "ax.xaxis.set_tick_params(rotation=90)\n",
    "plt.yscale('log')\n",
    " "
   ]
  },
  {
   "cell_type": "code",
   "execution_count": 56,
   "metadata": {
    "colab": {
     "base_uri": "https://localhost:8080/",
     "height": 441
    },
    "colab_type": "code",
    "id": "ZxEr9Myo2Ykl",
    "outputId": "594f8f6d-08a7-4ff1-b513-7ab991518f81"
   },
   "outputs": [
    {
     "data": {
      "text/html": [
       "<div>\n",
       "<style scoped>\n",
       "    .dataframe tbody tr th:only-of-type {\n",
       "        vertical-align: middle;\n",
       "    }\n",
       "\n",
       "    .dataframe tbody tr th {\n",
       "        vertical-align: top;\n",
       "    }\n",
       "\n",
       "    .dataframe thead th {\n",
       "        text-align: right;\n",
       "    }\n",
       "</style>\n",
       "<table border=\"1\" class=\"dataframe\">\n",
       "  <thead>\n",
       "    <tr style=\"text-align: right;\">\n",
       "      <th></th>\n",
       "      <th>total_rech_num_8</th>\n",
       "      <th>total_rech_amt_8</th>\n",
       "      <th>max_rech_amt_8</th>\n",
       "      <th>total_rech_data_8</th>\n",
       "      <th>avg_total_rech_amt_67</th>\n",
       "      <th>avg_total_rech_num_67</th>\n",
       "      <th>avg_max_rech_amt_67</th>\n",
       "      <th>avg_total_rech_data_67</th>\n",
       "      <th>avg_av_rech_amt_data_67</th>\n",
       "    </tr>\n",
       "  </thead>\n",
       "  <tbody>\n",
       "    <tr>\n",
       "      <th>count</th>\n",
       "      <td>30001.000000</td>\n",
       "      <td>30001.000000</td>\n",
       "      <td>30001.000000</td>\n",
       "      <td>30001.000000</td>\n",
       "      <td>30001.000000</td>\n",
       "      <td>30001.000000</td>\n",
       "      <td>30001.000000</td>\n",
       "      <td>30001.000000</td>\n",
       "      <td>30001.000000</td>\n",
       "    </tr>\n",
       "    <tr>\n",
       "      <th>mean</th>\n",
       "      <td>9.972868</td>\n",
       "      <td>584.365454</td>\n",
       "      <td>160.144462</td>\n",
       "      <td>1.621913</td>\n",
       "      <td>1152.620628</td>\n",
       "      <td>11.784924</td>\n",
       "      <td>170.743275</td>\n",
       "      <td>1.760758</td>\n",
       "      <td>135.218053</td>\n",
       "    </tr>\n",
       "    <tr>\n",
       "      <th>std</th>\n",
       "      <td>9.274370</td>\n",
       "      <td>611.245907</td>\n",
       "      <td>173.207799</td>\n",
       "      <td>2.996010</td>\n",
       "      <td>1358.713982</td>\n",
       "      <td>8.634676</td>\n",
       "      <td>154.193137</td>\n",
       "      <td>2.706465</td>\n",
       "      <td>182.000971</td>\n",
       "    </tr>\n",
       "    <tr>\n",
       "      <th>min</th>\n",
       "      <td>0.000000</td>\n",
       "      <td>0.000000</td>\n",
       "      <td>0.000000</td>\n",
       "      <td>0.000000</td>\n",
       "      <td>478.000000</td>\n",
       "      <td>0.500000</td>\n",
       "      <td>0.000000</td>\n",
       "      <td>0.000000</td>\n",
       "      <td>0.000000</td>\n",
       "    </tr>\n",
       "    <tr>\n",
       "      <th>50%</th>\n",
       "      <td>8.000000</td>\n",
       "      <td>490.000000</td>\n",
       "      <td>130.000000</td>\n",
       "      <td>1.000000</td>\n",
       "      <td>800.000000</td>\n",
       "      <td>9.500000</td>\n",
       "      <td>128.000000</td>\n",
       "      <td>1.000000</td>\n",
       "      <td>92.000000</td>\n",
       "    </tr>\n",
       "    <tr>\n",
       "      <th>75%</th>\n",
       "      <td>13.000000</td>\n",
       "      <td>776.000000</td>\n",
       "      <td>198.000000</td>\n",
       "      <td>2.000000</td>\n",
       "      <td>1208.000000</td>\n",
       "      <td>14.500000</td>\n",
       "      <td>200.000000</td>\n",
       "      <td>2.000000</td>\n",
       "      <td>210.500000</td>\n",
       "    </tr>\n",
       "    <tr>\n",
       "      <th>90%</th>\n",
       "      <td>21.000000</td>\n",
       "      <td>1148.000000</td>\n",
       "      <td>252.000000</td>\n",
       "      <td>5.000000</td>\n",
       "      <td>1991.500000</td>\n",
       "      <td>22.000000</td>\n",
       "      <td>300.000000</td>\n",
       "      <td>5.000000</td>\n",
       "      <td>314.000000</td>\n",
       "    </tr>\n",
       "    <tr>\n",
       "      <th>99%</th>\n",
       "      <td>45.000000</td>\n",
       "      <td>2341.000000</td>\n",
       "      <td>951.000000</td>\n",
       "      <td>13.000000</td>\n",
       "      <td>6090.500000</td>\n",
       "      <td>44.500000</td>\n",
       "      <td>799.500000</td>\n",
       "      <td>12.000000</td>\n",
       "      <td>782.000000</td>\n",
       "    </tr>\n",
       "    <tr>\n",
       "      <th>99.9%</th>\n",
       "      <td>75.000000</td>\n",
       "      <td>5021.000000</td>\n",
       "      <td>2000.000000</td>\n",
       "      <td>28.000000</td>\n",
       "      <td>17408.500000</td>\n",
       "      <td>74.000000</td>\n",
       "      <td>1555.000000</td>\n",
       "      <td>23.500000</td>\n",
       "      <td>1638.000000</td>\n",
       "    </tr>\n",
       "    <tr>\n",
       "      <th>99.99%</th>\n",
       "      <td>122.000000</td>\n",
       "      <td>14000.000000</td>\n",
       "      <td>3299.000000</td>\n",
       "      <td>50.000000</td>\n",
       "      <td>32593.500000</td>\n",
       "      <td>118.000000</td>\n",
       "      <td>3010.000000</td>\n",
       "      <td>40.500000</td>\n",
       "      <td>2982.000000</td>\n",
       "    </tr>\n",
       "    <tr>\n",
       "      <th>99.999%</th>\n",
       "      <td>178.600000</td>\n",
       "      <td>37845.500000</td>\n",
       "      <td>4449.000000</td>\n",
       "      <td>59.100000</td>\n",
       "      <td>54193.950000</td>\n",
       "      <td>145.600000</td>\n",
       "      <td>3239.300000</td>\n",
       "      <td>51.650000</td>\n",
       "      <td>4951.100000</td>\n",
       "    </tr>\n",
       "    <tr>\n",
       "      <th>max</th>\n",
       "      <td>196.000000</td>\n",
       "      <td>45320.000000</td>\n",
       "      <td>4449.000000</td>\n",
       "      <td>60.000000</td>\n",
       "      <td>61236.000000</td>\n",
       "      <td>155.500000</td>\n",
       "      <td>3299.000000</td>\n",
       "      <td>54.500000</td>\n",
       "      <td>5142.500000</td>\n",
       "    </tr>\n",
       "  </tbody>\n",
       "</table>\n",
       "</div>"
      ],
      "text/plain": [
       "         total_rech_num_8  ...  avg_av_rech_amt_data_67\n",
       "count        30001.000000  ...             30001.000000\n",
       "mean             9.972868  ...               135.218053\n",
       "std              9.274370  ...               182.000971\n",
       "min              0.000000  ...                 0.000000\n",
       "50%              8.000000  ...                92.000000\n",
       "75%             13.000000  ...               210.500000\n",
       "90%             21.000000  ...               314.000000\n",
       "99%             45.000000  ...               782.000000\n",
       "99.9%           75.000000  ...              1638.000000\n",
       "99.99%         122.000000  ...              2982.000000\n",
       "99.999%        178.600000  ...              4951.100000\n",
       "max            196.000000  ...              5142.500000\n",
       "\n",
       "[12 rows x 9 columns]"
      ]
     },
     "execution_count": 56,
     "metadata": {
      "tags": []
     },
     "output_type": "execute_result"
    }
   ],
   "source": [
    "# Checking the data distribution of each attibute across multiple percentiles\n",
    "df[col_rech].describe(percentiles=[.75,0.9,0.99,0.999,0.9999,.99999])"
   ]
  },
  {
   "cell_type": "markdown",
   "metadata": {
    "colab_type": "text",
    "id": "FwYOUkkSNMDW"
   },
   "source": [
    "Clearly there are outliers in the data that has to be removed. Outliers beyound 99.99 percentile are removed. "
   ]
  },
  {
   "cell_type": "code",
   "execution_count": 57,
   "metadata": {
    "colab": {
     "base_uri": "https://localhost:8080/",
     "height": 34
    },
    "colab_type": "code",
    "id": "ui0kDoWUM-rH",
    "outputId": "21f877fe-d7a7-493b-eebd-29ef7a54a656"
   },
   "outputs": [
    {
     "data": {
      "text/plain": [
       "(29997, 90)"
      ]
     },
     "execution_count": 57,
     "metadata": {
      "tags": []
     },
     "output_type": "execute_result"
    }
   ],
   "source": [
    "q=df['total_rech_amt_8'].quantile(0.9999) \n",
    "df=df[df['total_rech_amt_8']<=q]\n",
    "df.shape"
   ]
  },
  {
   "cell_type": "code",
   "execution_count": 0,
   "metadata": {
    "colab": {},
    "colab_type": "code",
    "id": "mtbBKBS2QknO"
   },
   "outputs": [],
   "source": [
    "# Checking for highly correlated columns\n",
    "# function to eliminate redundant pairs\n",
    "def redundant_pairs(df):\n",
    "    '''Get diagonal and lower triangular pairs of correlation matrix'''\n",
    "    pairs_to_drop = set()   # to ensure that duplicate pairs are not present\n",
    "    cols = df.columns       # getting list of all solumns in dataframe  \n",
    "    for i in range(0, df.shape[1]):\n",
    "        for j in range(0, i+1):\n",
    "            pairs_to_drop.add((cols[i], cols[j]))\n",
    "    return pairs_to_drop\n",
    "\n",
    "# function to get highly correlated pairs\n",
    "def get_top_abs_correlations(df, n):     \n",
    "    cor = df.corr().abs().unstack()  # getting the absolute value of all correlation coefficienrs\n",
    "    labels_to_drop = redundant_pairs(df)\n",
    "    cor = cor.drop(labels=labels_to_drop).sort_values(ascending=False)\n",
    "    return cor[0:n]"
   ]
  },
  {
   "cell_type": "code",
   "execution_count": 59,
   "metadata": {
    "colab": {
     "base_uri": "https://localhost:8080/",
     "height": 221
    },
    "colab_type": "code",
    "id": "RzhRB1y8Qqpl",
    "outputId": "709cdfdb-7c92-479b-bba2-35160640d477"
   },
   "outputs": [
    {
     "name": "stdout",
     "output_type": "stream",
     "text": [
      "Top Absolute Correlations\n",
      "total_rech_num_8        avg_total_rech_num_67      0.717505\n",
      "total_rech_data_8       avg_total_rech_data_67     0.702747\n",
      "max_rech_amt_8          avg_max_rech_amt_67        0.648081\n",
      "avg_total_rech_amt_67   avg_av_rech_amt_data_67    0.632790\n",
      "                        avg_total_rech_data_67     0.615741\n",
      "total_rech_amt_8        max_rech_amt_8             0.532138\n",
      "total_rech_data_8       avg_total_rech_amt_67      0.430680\n",
      "total_rech_num_8        total_rech_amt_8           0.408284\n",
      "avg_total_rech_data_67  avg_av_rech_amt_data_67    0.401791\n",
      "total_rech_num_8        total_rech_data_8          0.327460\n",
      "dtype: float64\n"
     ]
    }
   ],
   "source": [
    "print(\"Top Absolute Correlations\")\n",
    "print(get_top_abs_correlations(df[col_rech],10))\n"
   ]
  },
  {
   "cell_type": "code",
   "execution_count": 0,
   "metadata": {
    "colab": {},
    "colab_type": "code",
    "id": "zkBAlVksEXBL"
   },
   "outputs": [],
   "source": [
    "#Columns with correlation more than 75% will be dropped"
   ]
  },
  {
   "cell_type": "code",
   "execution_count": 61,
   "metadata": {
    "colab": {
     "base_uri": "https://localhost:8080/",
     "height": 666
    },
    "colab_type": "code",
    "id": "7r5SEmYMvK7i",
    "outputId": "42a9bec6-f350-4771-d0fb-11530ec4a7ab"
   },
   "outputs": [
    {
     "data": {
      "image/png": "[encoded data removed]",
      "text/plain": [
       "<Figure size 1440x720 with 1 Axes>"
      ]
     },
     "metadata": {
      "tags": []
     },
     "output_type": "display_data"
    }
   ],
   "source": [
    "# plotting the distribution for arpu\n",
    "col_arpu= [col for col in df.columns if 'arpu' in col]\n",
    "\n",
    "fig,axes = plt.subplots(1,1,squeeze=False, figsize = (20, 10))\n",
    "ax=axes[0][0]\n",
    "\n",
    "df.pivot(columns='Churn')[col_arpu].plot(kind = 'box',ax=ax)\n",
    "\n",
    "ax.xaxis.set_tick_params(rotation=90)\n",
    "plt.yscale('log')\n",
    " "
   ]
  },
  {
   "cell_type": "markdown",
   "metadata": {
    "colab_type": "text",
    "id": "UHYTCyAuOZkX"
   },
   "source": [
    "Clearly, the ARPU decreases for churned customers for the 8th month"
   ]
  },
  {
   "cell_type": "code",
   "execution_count": 62,
   "metadata": {
    "colab": {
     "base_uri": "https://localhost:8080/",
     "height": 68
    },
    "colab_type": "code",
    "id": "EZWDtCxpVjp2",
    "outputId": "594a738b-1d13-4476-a200-32ad8a27b0a9"
   },
   "outputs": [
    {
     "name": "stdout",
     "output_type": "stream",
     "text": [
      "Top Absolute Correlations\n",
      "arpu_8  avg_arpu_67    0.688261\n",
      "dtype: float64\n"
     ]
    }
   ],
   "source": [
    "print(\"Top Absolute Correlations\")\n",
    "print(get_top_abs_correlations(df[col_arpu],4))"
   ]
  },
  {
   "cell_type": "code",
   "execution_count": 63,
   "metadata": {
    "colab": {
     "base_uri": "https://localhost:8080/",
     "height": 710
    },
    "colab_type": "code",
    "id": "QyLmO7GBR2-x",
    "outputId": "503193e1-7096-4951-f21b-26bddb3405c7"
   },
   "outputs": [
    {
     "data": {
      "image/png": "[encoded data removed]",
      "text/plain": [
       "<Figure size 1440x720 with 1 Axes>"
      ]
     },
     "metadata": {
      "tags": []
     },
     "output_type": "display_data"
    }
   ],
   "source": [
    "# plotting the distribution for outgoing calls\n",
    "col_og = [col for col in df.columns if 'total_og' in col]\n",
    "fig,axes = plt.subplots(1,1,squeeze=False, figsize = (20, 10))\n",
    "ax=axes[0][0]\n",
    "\n",
    "df.pivot(columns='Churn')[col_og].plot(kind = 'box',ax=ax)\n",
    "ax.xaxis.set_tick_params(rotation=90)\n",
    "plt.yscale('log')\n",
    " "
   ]
  },
  {
   "cell_type": "markdown",
   "metadata": {
    "colab_type": "text",
    "id": "4Z7l_yMpO6be"
   },
   "source": [
    "The total outgoing calls decreases for the churned customers"
   ]
  },
  {
   "cell_type": "code",
   "execution_count": 64,
   "metadata": {
    "colab": {
     "base_uri": "https://localhost:8080/",
     "height": 561
    },
    "colab_type": "code",
    "id": "yFzLQQeuPtbW",
    "outputId": "6052d1c0-c427-42f3-c6d3-f84244ea6023"
   },
   "outputs": [
    {
     "name": "stdout",
     "output_type": "stream",
     "text": [
      "Top Absolute Correlations\n",
      "std_og_mou_8           total_og_mou_8           0.852557\n",
      "avg_std_og_mou_67      avg_total_og_mou_67      0.835188\n",
      "loc_og_mou_8           avg_loc_og_mou_67        0.824565\n",
      "loc_og_t2t_mou_8       avg_loc_og_t2t_mou_67    0.811194\n",
      "isd_og_mou_8           avg_isd_og_mou_67        0.801329\n",
      "loc_og_t2m_mou_8       avg_loc_og_t2m_mou_67    0.797326\n",
      "avg_loc_og_t2m_mou_67  avg_loc_og_mou_67        0.792615\n",
      "loc_og_t2m_mou_8       loc_og_mou_8             0.788760\n",
      "std_og_t2f_mou_8       avg_std_og_t2f_mou_67    0.776264\n",
      "loc_og_t2t_mou_8       loc_og_mou_8             0.767340\n",
      "std_og_t2m_mou_8       std_og_mou_8             0.763136\n",
      "avg_loc_og_t2t_mou_67  avg_loc_og_mou_67        0.762653\n",
      "loc_og_t2f_mou_8       avg_loc_og_t2f_mou_67    0.761180\n",
      "std_og_t2t_mou_8       avg_std_og_t2t_mou_67    0.757286\n",
      "avg_std_og_t2m_mou_67  avg_std_og_mou_67        0.754513\n",
      "std_og_t2t_mou_8       std_og_mou_8             0.746404\n",
      "std_og_mou_8           avg_std_og_mou_67        0.743040\n",
      "avg_std_og_t2t_mou_67  avg_std_og_mou_67        0.741383\n",
      "total_og_mou_8         avg_total_og_mou_67      0.725193\n",
      "std_og_t2m_mou_8       avg_std_og_t2m_mou_67    0.714410\n",
      "                       total_og_mou_8           0.659624\n",
      "loc_og_mou_8           avg_loc_og_t2m_mou_67    0.650925\n",
      "loc_og_t2m_mou_8       avg_loc_og_mou_67        0.643401\n",
      "avg_std_og_t2m_mou_67  avg_total_og_mou_67      0.639876\n",
      "loc_og_t2t_mou_8       avg_loc_og_mou_67        0.639360\n",
      "loc_og_mou_8           avg_loc_og_t2t_mou_67    0.630573\n",
      "std_og_t2t_mou_8       total_og_mou_8           0.626235\n",
      "std_og_mou_8           avg_total_og_mou_67      0.616146\n",
      "avg_std_og_t2t_mou_67  avg_total_og_mou_67      0.608437\n",
      "total_og_mou_8         avg_std_og_mou_67        0.591860\n",
      "dtype: float64\n"
     ]
    }
   ],
   "source": [
    "og = [col for col in df.columns if 'og' in col]\n",
    "print(\"Top Absolute Correlations\")\n",
    "print(get_top_abs_correlations(df[og],30))"
   ]
  },
  {
   "cell_type": "code",
   "execution_count": 65,
   "metadata": {
    "colab": {
     "base_uri": "https://localhost:8080/",
     "height": 34
    },
    "colab_type": "code",
    "id": "V3sw68fVRS5w",
    "outputId": "96705b60-c758-4a1f-cc43-b68d9851c0b7"
   },
   "outputs": [
    {
     "data": {
      "text/plain": [
       "(29997, 80)"
      ]
     },
     "execution_count": 65,
     "metadata": {
      "tags": []
     },
     "output_type": "execute_result"
    }
   ],
   "source": [
    "# Dropping columns with more than 75% correlation\n",
    "df.drop(['std_og_mou_8','avg_std_og_mou_67','avg_loc_og_mou_67', 'avg_loc_og_t2t_mou_67','avg_isd_og_mou_67','avg_loc_og_t2m_mou_67','loc_og_t2m_mou_8',\n",
    "         'avg_std_og_t2f_mou_67','avg_loc_og_t2f_mou_67','avg_std_og_t2t_mou_67','avg_std_og_mou_67'],axis=1,inplace=True)\n",
    "df.shape"
   ]
  },
  {
   "cell_type": "code",
   "execution_count": 66,
   "metadata": {
    "colab": {
     "base_uri": "https://localhost:8080/",
     "height": 706
    },
    "colab_type": "code",
    "id": "z7RWmfzQuzJk",
    "outputId": "65b1145a-77e1-4245-ea68-e40588679ac8"
   },
   "outputs": [
    {
     "data": {
      "image/png": "[encoded data removed]",
      "text/plain": [
       "<Figure size 1440x720 with 1 Axes>"
      ]
     },
     "metadata": {
      "tags": []
     },
     "output_type": "display_data"
    }
   ],
   "source": [
    "# plotting the distribution for incoming calls\n",
    "col_ic = [col for col in df.columns if 'total_ic' in col]\n",
    "fig,axes = plt.subplots(1,1,squeeze=False, figsize = (20, 10))\n",
    "ax=axes[0][0]\n",
    "\n",
    "df.pivot(columns='Churn')[col_ic].plot(kind = 'box',ax=ax)\n",
    "ax.xaxis.set_tick_params(rotation=90)\n",
    "plt.yscale('log')"
   ]
  },
  {
   "cell_type": "markdown",
   "metadata": {
    "colab_type": "text",
    "id": "FsSK-YgJTWvP"
   },
   "source": [
    "Incoming calls gradually decrease over the  months for the churned customers"
   ]
  },
  {
   "cell_type": "code",
   "execution_count": 67,
   "metadata": {
    "colab": {
     "base_uri": "https://localhost:8080/",
     "height": 476
    },
    "colab_type": "code",
    "id": "cZrqiB3oXRhx",
    "outputId": "2fd8c22d-c33c-41a5-aa27-a996cea52f49"
   },
   "outputs": [
    {
     "name": "stdout",
     "output_type": "stream",
     "text": [
      "Top Absolute Correlations\n",
      "loc_ic_mou_8           total_ic_mou_8           0.896248\n",
      "avg_loc_ic_mou_67      avg_total_ic_mou_67      0.894035\n",
      "loc_ic_t2m_mou_8       loc_ic_mou_8             0.848857\n",
      "std_ic_t2m_mou_8       std_ic_mou_8             0.845857\n",
      "avg_loc_ic_t2m_mou_67  avg_loc_ic_mou_67        0.843443\n",
      "loc_ic_mou_8           avg_loc_ic_mou_67        0.824140\n",
      "avg_std_ic_t2m_mou_67  avg_std_ic_mou_67        0.817633\n",
      "total_ic_mou_8         avg_total_ic_mou_67      0.806181\n",
      "loc_ic_t2m_mou_8       avg_loc_ic_t2m_mou_67    0.796036\n",
      "loc_ic_t2t_mou_8       avg_loc_ic_t2t_mou_67    0.791551\n",
      "loc_ic_t2f_mou_8       avg_loc_ic_t2f_mou_67    0.773733\n",
      "loc_ic_t2m_mou_8       total_ic_mou_8           0.768828\n",
      "avg_loc_ic_t2m_mou_67  avg_total_ic_mou_67      0.757034\n",
      "std_ic_t2f_mou_8       avg_std_ic_t2f_mou_67    0.741901\n",
      "ic_others_8            avg_ic_others_67         0.740908\n",
      "std_ic_mou_8           avg_std_ic_mou_67        0.739996\n",
      "loc_ic_mou_8           avg_total_ic_mou_67      0.739800\n",
      "total_ic_mou_8         avg_loc_ic_mou_67        0.734879\n",
      "std_ic_t2m_mou_8       avg_std_ic_t2m_mou_67    0.719360\n",
      "avg_std_ic_t2t_mou_67  avg_std_ic_mou_67        0.700155\n",
      "loc_ic_mou_8           avg_loc_ic_t2m_mou_67    0.698811\n",
      "avg_loc_ic_t2t_mou_67  avg_loc_ic_mou_67        0.695567\n",
      "loc_ic_t2t_mou_8       loc_ic_mou_8             0.690689\n",
      "isd_ic_mou_8           avg_isd_ic_mou_67        0.688821\n",
      "loc_ic_t2m_mou_8       avg_loc_ic_mou_67        0.687899\n",
      "dtype: float64\n"
     ]
    }
   ],
   "source": [
    "ic = [col for col in df.columns if 'ic' in col]\n",
    "print(\"Top Absolute Correlations\")\n",
    "print(get_top_abs_correlations(df[ic],25))"
   ]
  },
  {
   "cell_type": "code",
   "execution_count": 68,
   "metadata": {
    "colab": {
     "base_uri": "https://localhost:8080/",
     "height": 34
    },
    "colab_type": "code",
    "id": "7CoV4soATyMN",
    "outputId": "435d2e52-aa48-4184-c201-847f4f94f6b9"
   },
   "outputs": [
    {
     "data": {
      "text/plain": [
       "(29997, 73)"
      ]
     },
     "execution_count": 68,
     "metadata": {
      "tags": []
     },
     "output_type": "execute_result"
    }
   ],
   "source": [
    "# Dropping columns with more than 75% correlation\n",
    "df.drop(['loc_ic_mou_8','avg_loc_ic_mou_67','std_ic_t2m_mou_8','avg_std_ic_mou_67','avg_loc_ic_t2m_mou_67','avg_loc_ic_t2t_mou_67',\n",
    "         'avg_loc_ic_t2f_mou_67'],axis=1,inplace=True)\n",
    "df.shape"
   ]
  },
  {
   "cell_type": "code",
   "execution_count": 69,
   "metadata": {
    "colab": {
     "base_uri": "https://localhost:8080/",
     "height": 702
    },
    "colab_type": "code",
    "id": "Rau1pgftWS9X",
    "outputId": "205b9955-d438-44e8-da0d-574db0372769"
   },
   "outputs": [
    {
     "data": {
      "image/png": "[encoded data removed]",
      "text/plain": [
       "<Figure size 1440x720 with 1 Axes>"
      ]
     },
     "metadata": {
      "tags": []
     },
     "output_type": "display_data"
    }
   ],
   "source": [
    "# plotting the distribution for  2g data\n",
    "col_2g= [col for col in df.columns if '2g' in col]\n",
    "\n",
    "fig,axes = plt.subplots(1,1,squeeze=False, figsize = (20, 10))\n",
    "ax=axes[0][0]\n",
    "\n",
    "df.pivot(columns='Churn')[col_2g].plot(kind = 'box',ax=ax)\n",
    "\n",
    "ax.xaxis.set_tick_params(rotation=90)\n",
    "plt.yscale('log')"
   ]
  },
  {
   "cell_type": "markdown",
   "metadata": {
    "colab_type": "text",
    "id": "j-hUymrpWl8j"
   },
   "source": [
    "Data usage decreases over the months for churned customers"
   ]
  },
  {
   "cell_type": "code",
   "execution_count": 70,
   "metadata": {
    "colab": {
     "base_uri": "https://localhost:8080/",
     "height": 136
    },
    "colab_type": "code",
    "id": "vQ8unHggVZvj",
    "outputId": "64a6d7cb-8996-4cf3-d8b5-1af20f2dc8b7"
   },
   "outputs": [
    {
     "name": "stdout",
     "output_type": "stream",
     "text": [
      "Top Absolute Correlations\n",
      "sachet_2g_8       avg_sachet_2g_67     0.716381\n",
      "vol_2g_mb_8       avg_vol_2g_mb_67     0.652127\n",
      "monthly_2g_8      avg_monthly_2g_67    0.604092\n",
      "avg_vol_2g_mb_67  avg_monthly_2g_67    0.363790\n",
      "vol_2g_mb_8       monthly_2g_8         0.313924\n",
      "dtype: float64\n"
     ]
    }
   ],
   "source": [
    "print(\"Top Absolute Correlations\")\n",
    "print(get_top_abs_correlations(df[col_2g],5))"
   ]
  },
  {
   "cell_type": "code",
   "execution_count": 71,
   "metadata": {
    "colab": {
     "base_uri": "https://localhost:8080/",
     "height": 702
    },
    "colab_type": "code",
    "id": "hb8AsDRBW5MX",
    "outputId": "30541de8-c099-4e2c-9cfe-ab88cca0e433"
   },
   "outputs": [
    {
     "data": {
      "image/png": "[encoded data removed]",
      "text/plain": [
       "<Figure size 1440x720 with 1 Axes>"
      ]
     },
     "metadata": {
      "tags": []
     },
     "output_type": "display_data"
    }
   ],
   "source": [
    "# plotting the distribution for  3g data\n",
    "col_3g= [col for col in df.columns if '3g' in col]\n",
    "\n",
    "fig,axes = plt.subplots(1,1,squeeze=False, figsize = (20, 10))\n",
    "ax=axes[0][0]\n",
    "\n",
    "df.pivot(columns='Churn')[col_3g].plot(kind = 'box',ax=ax)\n",
    "\n",
    "ax.xaxis.set_tick_params(rotation=90)\n",
    "plt.yscale('log')"
   ]
  },
  {
   "cell_type": "markdown",
   "metadata": {
    "colab_type": "text",
    "id": "liITcC7yW_CK"
   },
   "source": [
    "Data usage decreases over the months for churned customers"
   ]
  },
  {
   "cell_type": "code",
   "execution_count": 72,
   "metadata": {
    "colab": {
     "base_uri": "https://localhost:8080/",
     "height": 136
    },
    "colab_type": "code",
    "id": "TSkJMulMW_j8",
    "outputId": "07d97b16-486e-410e-c8a6-9ba1f49a25b1"
   },
   "outputs": [
    {
     "name": "stdout",
     "output_type": "stream",
     "text": [
      "Top Absolute Correlations\n",
      "vol_3g_mb_8   avg_vol_3g_mb_67     0.751147\n",
      "aug_vbc_3g    jul_vbc_3g           0.697300\n",
      "monthly_3g_8  avg_monthly_3g_67    0.684379\n",
      "jul_vbc_3g    jun_vbc_3g           0.667317\n",
      "sachet_3g_8   avg_sachet_3g_67     0.647242\n",
      "dtype: float64\n"
     ]
    }
   ],
   "source": [
    "print(\"Top Absolute Correlations\")\n",
    "print(get_top_abs_correlations(df[col_3g],5))"
   ]
  },
  {
   "cell_type": "code",
   "execution_count": 73,
   "metadata": {
    "colab": {
     "base_uri": "https://localhost:8080/",
     "height": 34
    },
    "colab_type": "code",
    "id": "39eGDe71GdUd",
    "outputId": "b33f5cf7-052d-434f-8845-2ab7679a12a8"
   },
   "outputs": [
    {
     "data": {
      "text/plain": [
       "(29997, 72)"
      ]
     },
     "execution_count": 73,
     "metadata": {
      "tags": []
     },
     "output_type": "execute_result"
    }
   ],
   "source": [
    "df.drop('avg_vol_3g_mb_67',axis=1,inplace=True)\n",
    "df.shape"
   ]
  },
  {
   "cell_type": "code",
   "execution_count": 74,
   "metadata": {
    "colab": {
     "base_uri": "https://localhost:8080/",
     "height": 700
    },
    "colab_type": "code",
    "id": "VtPK-897XY7R",
    "outputId": "b6426b15-cf9c-4356-843d-56c26164b126"
   },
   "outputs": [
    {
     "data": {
      "image/png": "[encoded data removed]",
      "text/plain": [
       "<Figure size 1440x720 with 1 Axes>"
      ]
     },
     "metadata": {
      "tags": []
     },
     "output_type": "display_data"
    }
   ],
   "source": [
    "# plotting the distribution for onnet and offnet\n",
    "col_on= [col for col in df.columns if 'net' in col]\n",
    "\n",
    "fig,axes = plt.subplots(1,1,squeeze=False, figsize = (20, 10))\n",
    "ax=axes[0][0]\n",
    "\n",
    "df.pivot(columns='Churn')[col_on].plot(kind = 'box',ax=ax)\n",
    "\n",
    "ax.xaxis.set_tick_params(rotation=90)\n",
    "plt.yscale('log')"
   ]
  },
  {
   "cell_type": "code",
   "execution_count": 75,
   "metadata": {
    "colab": {
     "base_uri": "https://localhost:8080/",
     "height": 136
    },
    "colab_type": "code",
    "id": "bnLPJ2aoYsnX",
    "outputId": "49469bf5-fc7a-402b-e502-83ec8626019d"
   },
   "outputs": [
    {
     "name": "stdout",
     "output_type": "stream",
     "text": [
      "Top Absolute Correlations\n",
      "onnet_mou_8       avg_onnet_mou_67     0.764388\n",
      "offnet_mou_8      avg_offnet_mou_67    0.722994\n",
      "onnet_mou_8       offnet_mou_8         0.131502\n",
      "                  avg_offnet_mou_67    0.083901\n",
      "avg_onnet_mou_67  avg_offnet_mou_67    0.078037\n",
      "dtype: float64\n"
     ]
    }
   ],
   "source": [
    "print(\"Top Absolute Correlations\")\n",
    "print(get_top_abs_correlations(df[col_on],5))"
   ]
  },
  {
   "cell_type": "code",
   "execution_count": 76,
   "metadata": {
    "colab": {
     "base_uri": "https://localhost:8080/",
     "height": 34
    },
    "colab_type": "code",
    "id": "IrqW52cwXywo",
    "outputId": "aa5b30c0-b5c3-4fa4-9a78-84087b616225"
   },
   "outputs": [
    {
     "data": {
      "text/plain": [
       "(29997, 71)"
      ]
     },
     "execution_count": 76,
     "metadata": {
      "tags": []
     },
     "output_type": "execute_result"
    }
   ],
   "source": [
    "# Dropping columns with more than 75 % correlation\n",
    "df.drop('avg_onnet_mou_67',axis=1,inplace=True)\n",
    "df.shape"
   ]
  },
  {
   "cell_type": "code",
   "execution_count": 77,
   "metadata": {
    "colab": {
     "base_uri": "https://localhost:8080/",
     "height": 391
    },
    "colab_type": "code",
    "id": "LmJTjLkfmw7U",
    "outputId": "5c9368d1-ab9c-4977-b531-87ae225fa66c"
   },
   "outputs": [
    {
     "name": "stdout",
     "output_type": "stream",
     "text": [
      "Top Absolute Correlations\n",
      "arpu_8                   total_rech_amt_8         0.942449\n",
      "avg_total_rech_data_67   avg_sachet_2g_67         0.905255\n",
      "total_rech_data_8        sachet_2g_8              0.900628\n",
      "onnet_mou_8              std_og_t2t_mou_8         0.860666\n",
      "offnet_mou_8             std_og_t2m_mou_8         0.853837\n",
      "avg_offnet_mou_67        avg_std_og_t2m_mou_67    0.841641\n",
      "total_ic_mou_8           avg_total_ic_mou_67      0.806181\n",
      "loc_ic_t2m_mou_8         total_ic_mou_8           0.768828\n",
      "loc_og_t2t_mou_8         loc_og_mou_8             0.767340\n",
      "offnet_mou_8             total_og_mou_8           0.754659\n",
      "std_ic_t2f_mou_8         avg_std_ic_t2f_mou_67    0.741901\n",
      "ic_others_8              avg_ic_others_67         0.740908\n",
      "avg_offnet_mou_67        avg_total_og_mou_67      0.735232\n",
      "onnet_mou_8              total_og_mou_8           0.732647\n",
      "avg_av_rech_amt_data_67  avg_monthly_3g_67        0.728308\n",
      "total_og_mou_8           avg_total_og_mou_67      0.725193\n",
      "offnet_mou_8             avg_offnet_mou_67        0.722994\n",
      "total_rech_num_8         avg_total_rech_num_67    0.717505\n",
      "sachet_2g_8              avg_sachet_2g_67         0.716381\n",
      "std_og_t2m_mou_8         avg_std_og_t2m_mou_67    0.714410\n",
      "dtype: float64\n"
     ]
    }
   ],
   "source": [
    "# Getting top correlation for entire dataframe\n",
    "print(\"Top Absolute Correlations\")\n",
    "print(get_top_abs_correlations(df[df.columns.tolist()[1:]], 20))\n"
   ]
  },
  {
   "cell_type": "code",
   "execution_count": 78,
   "metadata": {
    "colab": {
     "base_uri": "https://localhost:8080/",
     "height": 34
    },
    "colab_type": "code",
    "id": "sF2DUOhbYlB6",
    "outputId": "8bfc9a36-8462-42e2-824d-f0ddd0fcb77f"
   },
   "outputs": [
    {
     "data": {
      "text/plain": [
       "(29997, 64)"
      ]
     },
     "execution_count": 78,
     "metadata": {
      "tags": []
     },
     "output_type": "execute_result"
    }
   ],
   "source": [
    "# Dropping columns with more than 75 % correlation\n",
    "col_to_drop=['arpu_8','avg_sachet_2g_67','sachet_2g_8','std_og_t2t_mou_8','offnet_mou_8','avg_std_og_t2m_mou_67',\n",
    "             'loc_og_t2t_mou_8']\n",
    "df.drop(col_to_drop,axis=1,inplace=True)\n",
    "df.shape"
   ]
  },
  {
   "cell_type": "code",
   "execution_count": 0,
   "metadata": {
    "colab": {},
    "colab_type": "code",
    "id": "HeY_gk1YHb3N"
   },
   "outputs": [],
   "source": [
    "# Splitting the data into train and test"
   ]
  },
  {
   "cell_type": "code",
   "execution_count": 0,
   "metadata": {
    "colab": {},
    "colab_type": "code",
    "id": "f3e-kEoW929J"
   },
   "outputs": [],
   "source": [
    "# Putting feature variable to X\n",
    "X = df.drop('Churn',axis=1)\n",
    "\n",
    "# Putting response variable to y\n",
    "y = df['Churn']\n",
    "\n",
    "# Splitting the data into train and test\n",
    "X_train, X_test, y_train, y_test = train_test_split(X, y, test_size=0.30, random_state=100)"
   ]
  },
  {
   "cell_type": "code",
   "execution_count": 0,
   "metadata": {
    "colab": {},
    "colab_type": "code",
    "id": "CFsJQSoV-tNi"
   },
   "outputs": [],
   "source": [
    "X_train.shape\n",
    "cols=X_train.columns"
   ]
  },
  {
   "cell_type": "code",
   "execution_count": 0,
   "metadata": {
    "colab": {},
    "colab_type": "code",
    "id": "LF7oOH3q-eK3"
   },
   "outputs": [],
   "source": [
    "# SMOTE\n",
    "from imblearn.over_sampling import SMOTE\n",
    "sm = SMOTE(random_state=100, ratio=1.0)\n",
    "X_smt, y_smt = sm.fit_sample(X_train, y_train)"
   ]
  },
  {
   "cell_type": "code",
   "execution_count": 83,
   "metadata": {
    "colab": {
     "base_uri": "https://localhost:8080/",
     "height": 224
    },
    "colab_type": "code",
    "id": "0aa8G2VyC0QW",
    "outputId": "26863388-35bd-4559-eda4-77064aa6f506"
   },
   "outputs": [
    {
     "data": {
      "text/html": [
       "<div>\n",
       "<style scoped>\n",
       "    .dataframe tbody tr th:only-of-type {\n",
       "        vertical-align: middle;\n",
       "    }\n",
       "\n",
       "    .dataframe tbody tr th {\n",
       "        vertical-align: top;\n",
       "    }\n",
       "\n",
       "    .dataframe thead th {\n",
       "        text-align: right;\n",
       "    }\n",
       "</style>\n",
       "<table border=\"1\" class=\"dataframe\">\n",
       "  <thead>\n",
       "    <tr style=\"text-align: right;\">\n",
       "      <th></th>\n",
       "      <th>mobile_number</th>\n",
       "      <th>onnet_mou_8</th>\n",
       "      <th>roam_ic_mou_8</th>\n",
       "      <th>roam_og_mou_8</th>\n",
       "      <th>loc_og_t2f_mou_8</th>\n",
       "      <th>loc_og_t2c_mou_8</th>\n",
       "      <th>loc_og_mou_8</th>\n",
       "      <th>std_og_t2m_mou_8</th>\n",
       "      <th>std_og_t2f_mou_8</th>\n",
       "      <th>isd_og_mou_8</th>\n",
       "      <th>spl_og_mou_8</th>\n",
       "      <th>og_others_8</th>\n",
       "      <th>total_og_mou_8</th>\n",
       "      <th>loc_ic_t2t_mou_8</th>\n",
       "      <th>loc_ic_t2m_mou_8</th>\n",
       "      <th>loc_ic_t2f_mou_8</th>\n",
       "      <th>std_ic_t2t_mou_8</th>\n",
       "      <th>std_ic_t2f_mou_8</th>\n",
       "      <th>std_ic_mou_8</th>\n",
       "      <th>total_ic_mou_8</th>\n",
       "      <th>spl_ic_mou_8</th>\n",
       "      <th>isd_ic_mou_8</th>\n",
       "      <th>ic_others_8</th>\n",
       "      <th>total_rech_num_8</th>\n",
       "      <th>total_rech_amt_8</th>\n",
       "      <th>max_rech_amt_8</th>\n",
       "      <th>last_day_rch_amt_8</th>\n",
       "      <th>total_rech_data_8</th>\n",
       "      <th>vol_2g_mb_8</th>\n",
       "      <th>vol_3g_mb_8</th>\n",
       "      <th>monthly_2g_8</th>\n",
       "      <th>monthly_3g_8</th>\n",
       "      <th>sachet_3g_8</th>\n",
       "      <th>aon</th>\n",
       "      <th>aug_vbc_3g</th>\n",
       "      <th>jul_vbc_3g</th>\n",
       "      <th>jun_vbc_3g</th>\n",
       "      <th>sep_vbc_3g</th>\n",
       "      <th>avg_total_rech_amt_67</th>\n",
       "      <th>avg_arpu_67</th>\n",
       "      <th>avg_offnet_mou_67</th>\n",
       "      <th>avg_roam_ic_mou_67</th>\n",
       "      <th>avg_roam_og_mou_67</th>\n",
       "      <th>avg_loc_og_t2c_mou_67</th>\n",
       "      <th>avg_spl_og_mou_67</th>\n",
       "      <th>avg_og_others_67</th>\n",
       "      <th>avg_total_og_mou_67</th>\n",
       "      <th>avg_std_ic_t2t_mou_67</th>\n",
       "      <th>avg_std_ic_t2m_mou_67</th>\n",
       "      <th>avg_std_ic_t2f_mou_67</th>\n",
       "      <th>avg_total_ic_mou_67</th>\n",
       "      <th>avg_spl_ic_mou_67</th>\n",
       "      <th>avg_isd_ic_mou_67</th>\n",
       "      <th>avg_ic_others_67</th>\n",
       "      <th>avg_total_rech_num_67</th>\n",
       "      <th>avg_max_rech_amt_67</th>\n",
       "      <th>avg_last_day_rch_amt_67</th>\n",
       "      <th>avg_total_rech_data_67</th>\n",
       "      <th>avg_av_rech_amt_data_67</th>\n",
       "      <th>avg_vol_2g_mb_67</th>\n",
       "      <th>avg_monthly_2g_67</th>\n",
       "      <th>avg_monthly_3g_67</th>\n",
       "      <th>avg_sachet_3g_67</th>\n",
       "    </tr>\n",
       "  </thead>\n",
       "  <tbody>\n",
       "    <tr>\n",
       "      <th>0</th>\n",
       "      <td>7.001454e+09</td>\n",
       "      <td>4.84</td>\n",
       "      <td>31.11</td>\n",
       "      <td>9.86</td>\n",
       "      <td>0.00</td>\n",
       "      <td>1.10</td>\n",
       "      <td>24.66</td>\n",
       "      <td>13.26</td>\n",
       "      <td>0.00</td>\n",
       "      <td>54.01</td>\n",
       "      <td>1.10</td>\n",
       "      <td>0.0</td>\n",
       "      <td>93.04</td>\n",
       "      <td>46.11</td>\n",
       "      <td>105.54</td>\n",
       "      <td>2.18</td>\n",
       "      <td>0.0</td>\n",
       "      <td>0.00</td>\n",
       "      <td>57.56</td>\n",
       "      <td>266.61</td>\n",
       "      <td>0.0</td>\n",
       "      <td>55.19</td>\n",
       "      <td>0.00</td>\n",
       "      <td>3.0</td>\n",
       "      <td>658.0</td>\n",
       "      <td>229.0</td>\n",
       "      <td>200.0</td>\n",
       "      <td>0.0</td>\n",
       "      <td>0.00</td>\n",
       "      <td>0.00</td>\n",
       "      <td>0.0</td>\n",
       "      <td>0.0</td>\n",
       "      <td>0.0</td>\n",
       "      <td>3651.0</td>\n",
       "      <td>0.00</td>\n",
       "      <td>0.00</td>\n",
       "      <td>0.00</td>\n",
       "      <td>0.0</td>\n",
       "      <td>1186.5</td>\n",
       "      <td>998.3205</td>\n",
       "      <td>155.450</td>\n",
       "      <td>27.81</td>\n",
       "      <td>10.255</td>\n",
       "      <td>3.200</td>\n",
       "      <td>4.275</td>\n",
       "      <td>0.000</td>\n",
       "      <td>152.185</td>\n",
       "      <td>0.000</td>\n",
       "      <td>25.185</td>\n",
       "      <td>0.00</td>\n",
       "      <td>394.750</td>\n",
       "      <td>0.000</td>\n",
       "      <td>197.245</td>\n",
       "      <td>1.005</td>\n",
       "      <td>6.5</td>\n",
       "      <td>428.5</td>\n",
       "      <td>216.5</td>\n",
       "      <td>0.0</td>\n",
       "      <td>0.0</td>\n",
       "      <td>0.00</td>\n",
       "      <td>0.0</td>\n",
       "      <td>0.0</td>\n",
       "      <td>0.0</td>\n",
       "    </tr>\n",
       "    <tr>\n",
       "      <th>1</th>\n",
       "      <td>7.001832e+09</td>\n",
       "      <td>148.59</td>\n",
       "      <td>0.00</td>\n",
       "      <td>0.00</td>\n",
       "      <td>20.99</td>\n",
       "      <td>0.00</td>\n",
       "      <td>324.64</td>\n",
       "      <td>0.00</td>\n",
       "      <td>0.00</td>\n",
       "      <td>0.00</td>\n",
       "      <td>0.00</td>\n",
       "      <td>0.0</td>\n",
       "      <td>324.64</td>\n",
       "      <td>494.24</td>\n",
       "      <td>608.13</td>\n",
       "      <td>23.54</td>\n",
       "      <td>0.0</td>\n",
       "      <td>0.33</td>\n",
       "      <td>6.04</td>\n",
       "      <td>1131.98</td>\n",
       "      <td>0.0</td>\n",
       "      <td>0.00</td>\n",
       "      <td>0.00</td>\n",
       "      <td>5.0</td>\n",
       "      <td>250.0</td>\n",
       "      <td>250.0</td>\n",
       "      <td>0.0</td>\n",
       "      <td>0.0</td>\n",
       "      <td>0.00</td>\n",
       "      <td>0.00</td>\n",
       "      <td>0.0</td>\n",
       "      <td>0.0</td>\n",
       "      <td>0.0</td>\n",
       "      <td>2792.0</td>\n",
       "      <td>564.03</td>\n",
       "      <td>399.40</td>\n",
       "      <td>507.20</td>\n",
       "      <td>0.0</td>\n",
       "      <td>706.0</td>\n",
       "      <td>464.1135</td>\n",
       "      <td>157.430</td>\n",
       "      <td>0.00</td>\n",
       "      <td>0.000</td>\n",
       "      <td>10.565</td>\n",
       "      <td>10.565</td>\n",
       "      <td>0.000</td>\n",
       "      <td>289.795</td>\n",
       "      <td>0.395</td>\n",
       "      <td>1.095</td>\n",
       "      <td>0.00</td>\n",
       "      <td>836.110</td>\n",
       "      <td>0.000</td>\n",
       "      <td>0.000</td>\n",
       "      <td>0.000</td>\n",
       "      <td>4.0</td>\n",
       "      <td>301.0</td>\n",
       "      <td>251.0</td>\n",
       "      <td>1.0</td>\n",
       "      <td>203.0</td>\n",
       "      <td>425.80</td>\n",
       "      <td>0.5</td>\n",
       "      <td>0.5</td>\n",
       "      <td>0.0</td>\n",
       "    </tr>\n",
       "    <tr>\n",
       "      <th>2</th>\n",
       "      <td>7.002244e+09</td>\n",
       "      <td>83.24</td>\n",
       "      <td>0.00</td>\n",
       "      <td>0.00</td>\n",
       "      <td>0.00</td>\n",
       "      <td>1.11</td>\n",
       "      <td>196.48</td>\n",
       "      <td>920.71</td>\n",
       "      <td>0.00</td>\n",
       "      <td>0.00</td>\n",
       "      <td>15.69</td>\n",
       "      <td>0.0</td>\n",
       "      <td>1190.46</td>\n",
       "      <td>48.48</td>\n",
       "      <td>198.79</td>\n",
       "      <td>0.91</td>\n",
       "      <td>0.0</td>\n",
       "      <td>0.00</td>\n",
       "      <td>28.43</td>\n",
       "      <td>276.63</td>\n",
       "      <td>0.0</td>\n",
       "      <td>0.00</td>\n",
       "      <td>0.00</td>\n",
       "      <td>5.0</td>\n",
       "      <td>676.0</td>\n",
       "      <td>169.0</td>\n",
       "      <td>169.0</td>\n",
       "      <td>0.0</td>\n",
       "      <td>0.00</td>\n",
       "      <td>0.00</td>\n",
       "      <td>0.0</td>\n",
       "      <td>0.0</td>\n",
       "      <td>0.0</td>\n",
       "      <td>1689.0</td>\n",
       "      <td>0.00</td>\n",
       "      <td>0.00</td>\n",
       "      <td>0.00</td>\n",
       "      <td>0.0</td>\n",
       "      <td>620.0</td>\n",
       "      <td>449.7650</td>\n",
       "      <td>836.420</td>\n",
       "      <td>0.00</td>\n",
       "      <td>0.000</td>\n",
       "      <td>2.305</td>\n",
       "      <td>2.305</td>\n",
       "      <td>0.225</td>\n",
       "      <td>953.625</td>\n",
       "      <td>10.630</td>\n",
       "      <td>48.610</td>\n",
       "      <td>4.79</td>\n",
       "      <td>298.445</td>\n",
       "      <td>0.000</td>\n",
       "      <td>0.000</td>\n",
       "      <td>0.000</td>\n",
       "      <td>7.5</td>\n",
       "      <td>169.0</td>\n",
       "      <td>139.5</td>\n",
       "      <td>0.0</td>\n",
       "      <td>0.0</td>\n",
       "      <td>0.00</td>\n",
       "      <td>0.0</td>\n",
       "      <td>0.0</td>\n",
       "      <td>0.0</td>\n",
       "    </tr>\n",
       "    <tr>\n",
       "      <th>3</th>\n",
       "      <td>7.000752e+09</td>\n",
       "      <td>697.44</td>\n",
       "      <td>22.81</td>\n",
       "      <td>23.56</td>\n",
       "      <td>18.96</td>\n",
       "      <td>2.38</td>\n",
       "      <td>1011.06</td>\n",
       "      <td>139.61</td>\n",
       "      <td>28.69</td>\n",
       "      <td>0.00</td>\n",
       "      <td>14.71</td>\n",
       "      <td>0.0</td>\n",
       "      <td>1228.93</td>\n",
       "      <td>1217.66</td>\n",
       "      <td>216.96</td>\n",
       "      <td>49.49</td>\n",
       "      <td>0.0</td>\n",
       "      <td>5.08</td>\n",
       "      <td>19.49</td>\n",
       "      <td>1503.63</td>\n",
       "      <td>0.0</td>\n",
       "      <td>0.00</td>\n",
       "      <td>0.00</td>\n",
       "      <td>10.0</td>\n",
       "      <td>650.0</td>\n",
       "      <td>130.0</td>\n",
       "      <td>130.0</td>\n",
       "      <td>0.0</td>\n",
       "      <td>0.00</td>\n",
       "      <td>0.00</td>\n",
       "      <td>0.0</td>\n",
       "      <td>0.0</td>\n",
       "      <td>0.0</td>\n",
       "      <td>1464.0</td>\n",
       "      <td>0.00</td>\n",
       "      <td>0.00</td>\n",
       "      <td>0.00</td>\n",
       "      <td>0.0</td>\n",
       "      <td>805.0</td>\n",
       "      <td>779.4150</td>\n",
       "      <td>335.445</td>\n",
       "      <td>19.88</td>\n",
       "      <td>16.755</td>\n",
       "      <td>0.000</td>\n",
       "      <td>15.970</td>\n",
       "      <td>0.000</td>\n",
       "      <td>1593.210</td>\n",
       "      <td>0.130</td>\n",
       "      <td>767.625</td>\n",
       "      <td>1.05</td>\n",
       "      <td>1044.720</td>\n",
       "      <td>0.075</td>\n",
       "      <td>0.000</td>\n",
       "      <td>0.000</td>\n",
       "      <td>11.5</td>\n",
       "      <td>120.0</td>\n",
       "      <td>55.0</td>\n",
       "      <td>0.0</td>\n",
       "      <td>0.0</td>\n",
       "      <td>0.00</td>\n",
       "      <td>0.0</td>\n",
       "      <td>0.0</td>\n",
       "      <td>0.0</td>\n",
       "    </tr>\n",
       "    <tr>\n",
       "      <th>4</th>\n",
       "      <td>7.000346e+09</td>\n",
       "      <td>23.89</td>\n",
       "      <td>0.00</td>\n",
       "      <td>0.00</td>\n",
       "      <td>3.58</td>\n",
       "      <td>0.00</td>\n",
       "      <td>93.68</td>\n",
       "      <td>0.00</td>\n",
       "      <td>0.00</td>\n",
       "      <td>0.00</td>\n",
       "      <td>1.50</td>\n",
       "      <td>0.0</td>\n",
       "      <td>107.06</td>\n",
       "      <td>236.61</td>\n",
       "      <td>189.46</td>\n",
       "      <td>56.99</td>\n",
       "      <td>0.0</td>\n",
       "      <td>0.00</td>\n",
       "      <td>0.00</td>\n",
       "      <td>496.44</td>\n",
       "      <td>0.0</td>\n",
       "      <td>0.00</td>\n",
       "      <td>13.36</td>\n",
       "      <td>6.0</td>\n",
       "      <td>304.0</td>\n",
       "      <td>154.0</td>\n",
       "      <td>30.0</td>\n",
       "      <td>1.0</td>\n",
       "      <td>57.56</td>\n",
       "      <td>392.11</td>\n",
       "      <td>1.0</td>\n",
       "      <td>0.0</td>\n",
       "      <td>0.0</td>\n",
       "      <td>279.0</td>\n",
       "      <td>262.76</td>\n",
       "      <td>406.66</td>\n",
       "      <td>121.27</td>\n",
       "      <td>0.0</td>\n",
       "      <td>670.5</td>\n",
       "      <td>447.7025</td>\n",
       "      <td>244.445</td>\n",
       "      <td>0.00</td>\n",
       "      <td>0.000</td>\n",
       "      <td>0.000</td>\n",
       "      <td>3.345</td>\n",
       "      <td>1.305</td>\n",
       "      <td>279.865</td>\n",
       "      <td>0.000</td>\n",
       "      <td>0.000</td>\n",
       "      <td>1.40</td>\n",
       "      <td>478.030</td>\n",
       "      <td>0.000</td>\n",
       "      <td>0.000</td>\n",
       "      <td>0.565</td>\n",
       "      <td>17.0</td>\n",
       "      <td>154.0</td>\n",
       "      <td>15.0</td>\n",
       "      <td>1.0</td>\n",
       "      <td>154.0</td>\n",
       "      <td>36.46</td>\n",
       "      <td>1.0</td>\n",
       "      <td>0.0</td>\n",
       "      <td>0.0</td>\n",
       "    </tr>\n",
       "  </tbody>\n",
       "</table>\n",
       "</div>"
      ],
      "text/plain": [
       "   mobile_number  onnet_mou_8  ...  avg_monthly_3g_67  avg_sachet_3g_67\n",
       "0   7.001454e+09         4.84  ...                0.0               0.0\n",
       "1   7.001832e+09       148.59  ...                0.5               0.0\n",
       "2   7.002244e+09        83.24  ...                0.0               0.0\n",
       "3   7.000752e+09       697.44  ...                0.0               0.0\n",
       "4   7.000346e+09        23.89  ...                0.0               0.0\n",
       "\n",
       "[5 rows x 63 columns]"
      ]
     },
     "execution_count": 83,
     "metadata": {
      "tags": []
     },
     "output_type": "execute_result"
    }
   ],
   "source": [
    "X_train = pd.DataFrame(X_smt)\n",
    "y_train = pd.DataFrame(y_smt)\n",
    "# rename the columns\n",
    "X_train.columns =cols\n",
    "y_train= y_train.rename(columns={ 0 : 'Churn'})\n",
    "X_train.head()"
   ]
  },
  {
   "cell_type": "code",
   "execution_count": 84,
   "metadata": {
    "colab": {
     "base_uri": "https://localhost:8080/",
     "height": 224
    },
    "colab_type": "code",
    "id": "a5UUP8dFV0HO",
    "outputId": "841c8b02-69d4-4d32-bf69-5b39f5dc1b34"
   },
   "outputs": [
    {
     "data": {
      "text/html": [
       "<div>\n",
       "<style scoped>\n",
       "    .dataframe tbody tr th:only-of-type {\n",
       "        vertical-align: middle;\n",
       "    }\n",
       "\n",
       "    .dataframe tbody tr th {\n",
       "        vertical-align: top;\n",
       "    }\n",
       "\n",
       "    .dataframe thead th {\n",
       "        text-align: right;\n",
       "    }\n",
       "</style>\n",
       "<table border=\"1\" class=\"dataframe\">\n",
       "  <thead>\n",
       "    <tr style=\"text-align: right;\">\n",
       "      <th></th>\n",
       "      <th>onnet_mou_8</th>\n",
       "      <th>roam_ic_mou_8</th>\n",
       "      <th>roam_og_mou_8</th>\n",
       "      <th>loc_og_t2f_mou_8</th>\n",
       "      <th>loc_og_t2c_mou_8</th>\n",
       "      <th>loc_og_mou_8</th>\n",
       "      <th>std_og_t2m_mou_8</th>\n",
       "      <th>std_og_t2f_mou_8</th>\n",
       "      <th>isd_og_mou_8</th>\n",
       "      <th>spl_og_mou_8</th>\n",
       "      <th>og_others_8</th>\n",
       "      <th>total_og_mou_8</th>\n",
       "      <th>loc_ic_t2t_mou_8</th>\n",
       "      <th>loc_ic_t2m_mou_8</th>\n",
       "      <th>loc_ic_t2f_mou_8</th>\n",
       "      <th>std_ic_t2t_mou_8</th>\n",
       "      <th>std_ic_t2f_mou_8</th>\n",
       "      <th>std_ic_mou_8</th>\n",
       "      <th>total_ic_mou_8</th>\n",
       "      <th>spl_ic_mou_8</th>\n",
       "      <th>isd_ic_mou_8</th>\n",
       "      <th>ic_others_8</th>\n",
       "      <th>total_rech_num_8</th>\n",
       "      <th>total_rech_amt_8</th>\n",
       "      <th>max_rech_amt_8</th>\n",
       "      <th>last_day_rch_amt_8</th>\n",
       "      <th>total_rech_data_8</th>\n",
       "      <th>vol_2g_mb_8</th>\n",
       "      <th>vol_3g_mb_8</th>\n",
       "      <th>monthly_2g_8</th>\n",
       "      <th>monthly_3g_8</th>\n",
       "      <th>sachet_3g_8</th>\n",
       "      <th>aon</th>\n",
       "      <th>aug_vbc_3g</th>\n",
       "      <th>jul_vbc_3g</th>\n",
       "      <th>jun_vbc_3g</th>\n",
       "      <th>sep_vbc_3g</th>\n",
       "      <th>avg_total_rech_amt_67</th>\n",
       "      <th>avg_arpu_67</th>\n",
       "      <th>avg_offnet_mou_67</th>\n",
       "      <th>avg_roam_ic_mou_67</th>\n",
       "      <th>avg_roam_og_mou_67</th>\n",
       "      <th>avg_loc_og_t2c_mou_67</th>\n",
       "      <th>avg_spl_og_mou_67</th>\n",
       "      <th>avg_og_others_67</th>\n",
       "      <th>avg_total_og_mou_67</th>\n",
       "      <th>avg_std_ic_t2t_mou_67</th>\n",
       "      <th>avg_std_ic_t2m_mou_67</th>\n",
       "      <th>avg_std_ic_t2f_mou_67</th>\n",
       "      <th>avg_total_ic_mou_67</th>\n",
       "      <th>avg_spl_ic_mou_67</th>\n",
       "      <th>avg_isd_ic_mou_67</th>\n",
       "      <th>avg_ic_others_67</th>\n",
       "      <th>avg_total_rech_num_67</th>\n",
       "      <th>avg_max_rech_amt_67</th>\n",
       "      <th>avg_last_day_rch_amt_67</th>\n",
       "      <th>avg_total_rech_data_67</th>\n",
       "      <th>avg_av_rech_amt_data_67</th>\n",
       "      <th>avg_vol_2g_mb_67</th>\n",
       "      <th>avg_monthly_2g_67</th>\n",
       "      <th>avg_monthly_3g_67</th>\n",
       "      <th>avg_sachet_3g_67</th>\n",
       "    </tr>\n",
       "  </thead>\n",
       "  <tbody>\n",
       "    <tr>\n",
       "      <th>53991</th>\n",
       "      <td>-0.090911</td>\n",
       "      <td>-0.213512</td>\n",
       "      <td>-0.248120</td>\n",
       "      <td>0.453162</td>\n",
       "      <td>0.420563</td>\n",
       "      <td>0.937164</td>\n",
       "      <td>-0.233159</td>\n",
       "      <td>-0.122261</td>\n",
       "      <td>-0.081436</td>\n",
       "      <td>-0.057024</td>\n",
       "      <td>-0.02122</td>\n",
       "      <td>0.291661</td>\n",
       "      <td>0.606181</td>\n",
       "      <td>2.861789</td>\n",
       "      <td>0.132297</td>\n",
       "      <td>5.385486</td>\n",
       "      <td>-0.066093</td>\n",
       "      <td>5.651760</td>\n",
       "      <td>4.003617</td>\n",
       "      <td>-0.164207</td>\n",
       "      <td>-0.143479</td>\n",
       "      <td>-0.089457</td>\n",
       "      <td>-0.084664</td>\n",
       "      <td>0.585760</td>\n",
       "      <td>0.481362</td>\n",
       "      <td>1.072963</td>\n",
       "      <td>-0.023732</td>\n",
       "      <td>3.645238</td>\n",
       "      <td>-0.301372</td>\n",
       "      <td>2.849137</td>\n",
       "      <td>-0.288207</td>\n",
       "      <td>-0.156263</td>\n",
       "      <td>-0.991280</td>\n",
       "      <td>-0.327176</td>\n",
       "      <td>-0.374179</td>\n",
       "      <td>-0.376462</td>\n",
       "      <td>-0.118787</td>\n",
       "      <td>-0.011458</td>\n",
       "      <td>-0.180580</td>\n",
       "      <td>-0.196764</td>\n",
       "      <td>-0.255893</td>\n",
       "      <td>-0.314279</td>\n",
       "      <td>-0.334666</td>\n",
       "      <td>-0.438928</td>\n",
       "      <td>-0.198146</td>\n",
       "      <td>-0.431934</td>\n",
       "      <td>6.269319</td>\n",
       "      <td>0.979625</td>\n",
       "      <td>-0.032938</td>\n",
       "      <td>2.702127</td>\n",
       "      <td>-0.447852</td>\n",
       "      <td>-0.182122</td>\n",
       "      <td>-0.096648</td>\n",
       "      <td>-0.926890</td>\n",
       "      <td>1.275251</td>\n",
       "      <td>-0.171650</td>\n",
       "      <td>-0.036749</td>\n",
       "      <td>0.743436</td>\n",
       "      <td>2.173206</td>\n",
       "      <td>4.239547</td>\n",
       "      <td>-0.396170</td>\n",
       "      <td>-0.228419</td>\n",
       "    </tr>\n",
       "    <tr>\n",
       "      <th>8279</th>\n",
       "      <td>-0.427851</td>\n",
       "      <td>-0.173230</td>\n",
       "      <td>-0.203622</td>\n",
       "      <td>-0.249991</td>\n",
       "      <td>0.226990</td>\n",
       "      <td>-0.498986</td>\n",
       "      <td>-0.352468</td>\n",
       "      <td>-0.122261</td>\n",
       "      <td>-0.081436</td>\n",
       "      <td>-0.127912</td>\n",
       "      <td>-0.02122</td>\n",
       "      <td>-0.633987</td>\n",
       "      <td>-0.275230</td>\n",
       "      <td>-0.514341</td>\n",
       "      <td>-0.266541</td>\n",
       "      <td>0.125831</td>\n",
       "      <td>-0.113759</td>\n",
       "      <td>-0.125399</td>\n",
       "      <td>-0.519792</td>\n",
       "      <td>-0.164207</td>\n",
       "      <td>-0.143479</td>\n",
       "      <td>-0.089457</td>\n",
       "      <td>-0.084664</td>\n",
       "      <td>-0.709991</td>\n",
       "      <td>-0.596179</td>\n",
       "      <td>-0.528555</td>\n",
       "      <td>0.812389</td>\n",
       "      <td>0.440586</td>\n",
       "      <td>-0.301372</td>\n",
       "      <td>-0.289543</td>\n",
       "      <td>-0.288207</td>\n",
       "      <td>0.993812</td>\n",
       "      <td>-0.382754</td>\n",
       "      <td>-0.327176</td>\n",
       "      <td>-0.374179</td>\n",
       "      <td>-0.376462</td>\n",
       "      <td>-0.118787</td>\n",
       "      <td>-0.195826</td>\n",
       "      <td>-1.235063</td>\n",
       "      <td>-0.833272</td>\n",
       "      <td>-0.219290</td>\n",
       "      <td>-0.246026</td>\n",
       "      <td>2.644298</td>\n",
       "      <td>0.647794</td>\n",
       "      <td>-0.198146</td>\n",
       "      <td>-0.994879</td>\n",
       "      <td>-0.219743</td>\n",
       "      <td>-0.338391</td>\n",
       "      <td>-0.169920</td>\n",
       "      <td>-0.680872</td>\n",
       "      <td>-0.447852</td>\n",
       "      <td>-0.182122</td>\n",
       "      <td>-0.096648</td>\n",
       "      <td>-0.119699</td>\n",
       "      <td>-0.951932</td>\n",
       "      <td>-0.740683</td>\n",
       "      <td>1.599788</td>\n",
       "      <td>-0.148819</td>\n",
       "      <td>0.460452</td>\n",
       "      <td>-0.414505</td>\n",
       "      <td>-0.396170</td>\n",
       "      <td>-0.228419</td>\n",
       "    </tr>\n",
       "    <tr>\n",
       "      <th>61559</th>\n",
       "      <td>-0.450484</td>\n",
       "      <td>-0.213512</td>\n",
       "      <td>-0.248120</td>\n",
       "      <td>-0.249991</td>\n",
       "      <td>1.046448</td>\n",
       "      <td>-0.465575</td>\n",
       "      <td>-0.352468</td>\n",
       "      <td>-0.122261</td>\n",
       "      <td>-0.081436</td>\n",
       "      <td>0.697929</td>\n",
       "      <td>-0.02122</td>\n",
       "      <td>-0.597774</td>\n",
       "      <td>-0.317557</td>\n",
       "      <td>-0.375594</td>\n",
       "      <td>-0.266541</td>\n",
       "      <td>-0.174056</td>\n",
       "      <td>0.108435</td>\n",
       "      <td>-0.203107</td>\n",
       "      <td>-0.483926</td>\n",
       "      <td>-0.164207</td>\n",
       "      <td>-0.143479</td>\n",
       "      <td>-0.089457</td>\n",
       "      <td>2.314480</td>\n",
       "      <td>-0.056932</td>\n",
       "      <td>-0.627871</td>\n",
       "      <td>-0.328365</td>\n",
       "      <td>5.829120</td>\n",
       "      <td>-0.193218</td>\n",
       "      <td>1.404815</td>\n",
       "      <td>-0.289543</td>\n",
       "      <td>-0.288207</td>\n",
       "      <td>-0.156263</td>\n",
       "      <td>0.408567</td>\n",
       "      <td>1.288166</td>\n",
       "      <td>0.395943</td>\n",
       "      <td>0.114393</td>\n",
       "      <td>-0.118787</td>\n",
       "      <td>-0.049810</td>\n",
       "      <td>-1.297886</td>\n",
       "      <td>-0.853056</td>\n",
       "      <td>-0.255893</td>\n",
       "      <td>-0.314279</td>\n",
       "      <td>-0.334666</td>\n",
       "      <td>0.057793</td>\n",
       "      <td>-0.198146</td>\n",
       "      <td>-1.016657</td>\n",
       "      <td>-0.241576</td>\n",
       "      <td>-0.276079</td>\n",
       "      <td>-0.090516</td>\n",
       "      <td>-0.633900</td>\n",
       "      <td>-0.447852</td>\n",
       "      <td>-0.182122</td>\n",
       "      <td>-0.096648</td>\n",
       "      <td>-0.057607</td>\n",
       "      <td>-0.969197</td>\n",
       "      <td>-0.652784</td>\n",
       "      <td>1.804355</td>\n",
       "      <td>0.199768</td>\n",
       "      <td>-0.096608</td>\n",
       "      <td>-0.414505</td>\n",
       "      <td>-0.396170</td>\n",
       "      <td>-0.228419</td>\n",
       "    </tr>\n",
       "    <tr>\n",
       "      <th>49668</th>\n",
       "      <td>0.007746</td>\n",
       "      <td>0.816887</td>\n",
       "      <td>1.692192</td>\n",
       "      <td>-0.249991</td>\n",
       "      <td>-0.213388</td>\n",
       "      <td>-0.471200</td>\n",
       "      <td>-0.350498</td>\n",
       "      <td>-0.122261</td>\n",
       "      <td>-0.081436</td>\n",
       "      <td>-0.289181</td>\n",
       "      <td>-0.02122</td>\n",
       "      <td>-0.609110</td>\n",
       "      <td>-0.322008</td>\n",
       "      <td>-0.521768</td>\n",
       "      <td>-0.266541</td>\n",
       "      <td>-0.174056</td>\n",
       "      <td>-0.113759</td>\n",
       "      <td>-0.270628</td>\n",
       "      <td>-0.596833</td>\n",
       "      <td>-0.164207</td>\n",
       "      <td>-0.143479</td>\n",
       "      <td>-0.089457</td>\n",
       "      <td>-0.463477</td>\n",
       "      <td>-0.668527</td>\n",
       "      <td>-0.469409</td>\n",
       "      <td>-0.528555</td>\n",
       "      <td>-0.441793</td>\n",
       "      <td>-0.276354</td>\n",
       "      <td>-0.301372</td>\n",
       "      <td>-0.289543</td>\n",
       "      <td>-0.288207</td>\n",
       "      <td>-0.156263</td>\n",
       "      <td>-0.690555</td>\n",
       "      <td>-0.327176</td>\n",
       "      <td>-0.374179</td>\n",
       "      <td>-0.376462</td>\n",
       "      <td>-0.118787</td>\n",
       "      <td>0.098978</td>\n",
       "      <td>0.879259</td>\n",
       "      <td>0.073296</td>\n",
       "      <td>-0.255893</td>\n",
       "      <td>-0.314279</td>\n",
       "      <td>0.270356</td>\n",
       "      <td>-0.090457</td>\n",
       "      <td>-0.198146</td>\n",
       "      <td>2.041421</td>\n",
       "      <td>0.230236</td>\n",
       "      <td>-0.048609</td>\n",
       "      <td>-0.169920</td>\n",
       "      <td>-0.187485</td>\n",
       "      <td>6.092018</td>\n",
       "      <td>0.255940</td>\n",
       "      <td>-0.080314</td>\n",
       "      <td>0.687493</td>\n",
       "      <td>-0.527213</td>\n",
       "      <td>-0.060620</td>\n",
       "      <td>-0.445883</td>\n",
       "      <td>-0.168007</td>\n",
       "      <td>-0.438183</td>\n",
       "      <td>-0.414505</td>\n",
       "      <td>0.638324</td>\n",
       "      <td>-0.228419</td>\n",
       "    </tr>\n",
       "    <tr>\n",
       "      <th>93509</th>\n",
       "      <td>-0.421784</td>\n",
       "      <td>-0.046308</td>\n",
       "      <td>-0.185155</td>\n",
       "      <td>-0.146547</td>\n",
       "      <td>-0.213388</td>\n",
       "      <td>-0.457222</td>\n",
       "      <td>0.075783</td>\n",
       "      <td>-0.122261</td>\n",
       "      <td>-0.081436</td>\n",
       "      <td>-0.289181</td>\n",
       "      <td>-0.02122</td>\n",
       "      <td>-0.380730</td>\n",
       "      <td>-0.229262</td>\n",
       "      <td>-0.483058</td>\n",
       "      <td>-0.203458</td>\n",
       "      <td>-0.100341</td>\n",
       "      <td>-0.113759</td>\n",
       "      <td>-0.090422</td>\n",
       "      <td>-0.462459</td>\n",
       "      <td>-0.164207</td>\n",
       "      <td>-0.143479</td>\n",
       "      <td>-0.089457</td>\n",
       "      <td>-0.716018</td>\n",
       "      <td>-0.875847</td>\n",
       "      <td>-0.786333</td>\n",
       "      <td>-0.528555</td>\n",
       "      <td>-0.441793</td>\n",
       "      <td>-0.276354</td>\n",
       "      <td>-0.301372</td>\n",
       "      <td>-0.289543</td>\n",
       "      <td>-0.288207</td>\n",
       "      <td>-0.156263</td>\n",
       "      <td>-0.250670</td>\n",
       "      <td>-0.327176</td>\n",
       "      <td>-0.374179</td>\n",
       "      <td>-0.376462</td>\n",
       "      <td>-0.118787</td>\n",
       "      <td>-0.501256</td>\n",
       "      <td>-0.783767</td>\n",
       "      <td>0.868432</td>\n",
       "      <td>-0.255893</td>\n",
       "      <td>-0.314279</td>\n",
       "      <td>-0.334666</td>\n",
       "      <td>-0.444925</td>\n",
       "      <td>-0.198146</td>\n",
       "      <td>0.258549</td>\n",
       "      <td>0.010785</td>\n",
       "      <td>-0.085323</td>\n",
       "      <td>0.145438</td>\n",
       "      <td>-0.599972</td>\n",
       "      <td>-0.447852</td>\n",
       "      <td>-0.182122</td>\n",
       "      <td>-0.096648</td>\n",
       "      <td>-0.740615</td>\n",
       "      <td>0.584652</td>\n",
       "      <td>-0.717551</td>\n",
       "      <td>-0.650450</td>\n",
       "      <td>-0.734061</td>\n",
       "      <td>-0.438183</td>\n",
       "      <td>-0.414505</td>\n",
       "      <td>-0.396170</td>\n",
       "      <td>-0.228419</td>\n",
       "    </tr>\n",
       "  </tbody>\n",
       "</table>\n",
       "</div>"
      ],
      "text/plain": [
       "       onnet_mou_8  roam_ic_mou_8  ...  avg_monthly_3g_67  avg_sachet_3g_67\n",
       "53991    -0.090911      -0.213512  ...          -0.396170         -0.228419\n",
       "8279     -0.427851      -0.173230  ...          -0.396170         -0.228419\n",
       "61559    -0.450484      -0.213512  ...          -0.396170         -0.228419\n",
       "49668     0.007746       0.816887  ...           0.638324         -0.228419\n",
       "93509    -0.421784      -0.046308  ...          -0.396170         -0.228419\n",
       "\n",
       "[5 rows x 62 columns]"
      ]
     },
     "execution_count": 84,
     "metadata": {
      "tags": []
     },
     "output_type": "execute_result"
    }
   ],
   "source": [
    " # Scaling\n",
    "scaler = StandardScaler()  \n",
    "X1=X_train.drop('mobile_number',axis=1)\n",
    "XT1=X_test.drop('mobile_number',axis=1)\n",
    "#X.head()\n",
    "col=X1.columns.tolist()\n",
    "X1[col] = scaler.fit_transform(X1[col]) # scaling\n",
    "XT1[col]= scaler.transform(XT1[col])\n",
    "XT1.head()"
   ]
  },
  {
   "cell_type": "markdown",
   "metadata": {
    "colab_type": "text",
    "id": "wSwlOhwh8-hm"
   },
   "source": [
    "## PCA"
   ]
  },
  {
   "cell_type": "code",
   "execution_count": 85,
   "metadata": {
    "colab": {
     "base_uri": "https://localhost:8080/",
     "height": 51
    },
    "colab_type": "code",
    "id": "WpnnPtQzV09H",
    "outputId": "205a907d-ba35-4177-df24-247ef3db3bd3"
   },
   "outputs": [
    {
     "data": {
      "text/plain": [
       "PCA(copy=True, iterated_power='auto', n_components=None, random_state=100,\n",
       "    svd_solver='auto', tol=0.0, whiten=False)"
      ]
     },
     "execution_count": 85,
     "metadata": {
      "tags": []
     },
     "output_type": "execute_result"
    }
   ],
   "source": [
    "from sklearn.decomposition import PCA\n",
    "pca = PCA(random_state=100)\n",
    "pca.fit(X1[col])"
   ]
  },
  {
   "cell_type": "code",
   "execution_count": 86,
   "metadata": {
    "colab": {
     "base_uri": "https://localhost:8080/",
     "height": 282
    },
    "colab_type": "code",
    "id": "hw1ZH_M1V1AP",
    "outputId": "940c7a68-3461-4ba2-be1d-786f393de5e8"
   },
   "outputs": [
    {
     "data": {
      "text/plain": [
       "<matplotlib.lines.Line2D at 0x7f50a1b34198>"
      ]
     },
     "execution_count": 86,
     "metadata": {
      "tags": []
     },
     "output_type": "execute_result"
    },
    {
     "data": {
      "image/png": "[encoded data removed]",
      "text/plain": [
       "<Figure size 432x288 with 1 Axes>"
      ]
     },
     "metadata": {
      "tags": []
     },
     "output_type": "display_data"
    }
   ],
   "source": [
    "# Plotting the cumulative varoiance\n",
    "var_cumu = np.cumsum(pca.explained_variance_ratio_)\n",
    "plt.plot(range(1,len(var_cumu)+1), var_cumu)\n",
    "plt.axhline(y=.90, color='r', linestyle='-.')\n",
    "plt.axvline(x=36, color='r', linestyle='-.')\n"
   ]
  },
  {
   "cell_type": "code",
   "execution_count": 0,
   "metadata": {
    "colab": {},
    "colab_type": "code",
    "id": "j5to7AHCZbI9"
   },
   "outputs": [],
   "source": [
    "#PCA with 36 components can explain about 90 % of variance"
   ]
  },
  {
   "cell_type": "code",
   "execution_count": 88,
   "metadata": {
    "colab": {
     "base_uri": "https://localhost:8080/",
     "height": 34
    },
    "colab_type": "code",
    "id": "D22Ib_q7V1C2",
    "outputId": "809981fc-2c12-4068-bd4b-35eca2d4d06b"
   },
   "outputs": [
    {
     "data": {
      "text/plain": [
       "(38554, 36)"
      ]
     },
     "execution_count": 88,
     "metadata": {
      "tags": []
     },
     "output_type": "execute_result"
    }
   ],
   "source": [
    "pc = PCA(n_components=36, random_state=100) # Selecting 4 PCs for further analysis\n",
    "newdata = pc.fit_transform(X1[col])\n",
    "newdata.shape"
   ]
  },
  {
   "cell_type": "code",
   "execution_count": 89,
   "metadata": {
    "colab": {
     "base_uri": "https://localhost:8080/",
     "height": 224
    },
    "colab_type": "code",
    "id": "3uN1ou8IV1FV",
    "outputId": "dc4fe58b-cfdc-48ee-b2d7-f01c3b2eef93"
   },
   "outputs": [
    {
     "data": {
      "text/html": [
       "<div>\n",
       "<style scoped>\n",
       "    .dataframe tbody tr th:only-of-type {\n",
       "        vertical-align: middle;\n",
       "    }\n",
       "\n",
       "    .dataframe tbody tr th {\n",
       "        vertical-align: top;\n",
       "    }\n",
       "\n",
       "    .dataframe thead th {\n",
       "        text-align: right;\n",
       "    }\n",
       "</style>\n",
       "<table border=\"1\" class=\"dataframe\">\n",
       "  <thead>\n",
       "    <tr style=\"text-align: right;\">\n",
       "      <th></th>\n",
       "      <th>0</th>\n",
       "      <th>1</th>\n",
       "      <th>2</th>\n",
       "      <th>3</th>\n",
       "      <th>4</th>\n",
       "      <th>5</th>\n",
       "      <th>6</th>\n",
       "      <th>7</th>\n",
       "      <th>8</th>\n",
       "      <th>9</th>\n",
       "      <th>10</th>\n",
       "      <th>11</th>\n",
       "      <th>12</th>\n",
       "      <th>13</th>\n",
       "      <th>14</th>\n",
       "      <th>15</th>\n",
       "      <th>16</th>\n",
       "      <th>17</th>\n",
       "      <th>18</th>\n",
       "      <th>19</th>\n",
       "      <th>20</th>\n",
       "      <th>21</th>\n",
       "      <th>22</th>\n",
       "      <th>23</th>\n",
       "      <th>24</th>\n",
       "      <th>25</th>\n",
       "      <th>26</th>\n",
       "      <th>27</th>\n",
       "      <th>28</th>\n",
       "      <th>29</th>\n",
       "      <th>30</th>\n",
       "      <th>31</th>\n",
       "      <th>32</th>\n",
       "      <th>33</th>\n",
       "      <th>34</th>\n",
       "      <th>35</th>\n",
       "    </tr>\n",
       "  </thead>\n",
       "  <tbody>\n",
       "    <tr>\n",
       "      <th>0</th>\n",
       "      <td>1.218752</td>\n",
       "      <td>-0.468780</td>\n",
       "      <td>-2.708288</td>\n",
       "      <td>0.261823</td>\n",
       "      <td>0.050792</td>\n",
       "      <td>-0.607484</td>\n",
       "      <td>-0.820073</td>\n",
       "      <td>2.629800</td>\n",
       "      <td>0.427726</td>\n",
       "      <td>1.276761</td>\n",
       "      <td>-1.378432</td>\n",
       "      <td>-2.137742</td>\n",
       "      <td>-1.793063</td>\n",
       "      <td>-0.825004</td>\n",
       "      <td>-0.122412</td>\n",
       "      <td>-0.057054</td>\n",
       "      <td>0.434575</td>\n",
       "      <td>-0.209790</td>\n",
       "      <td>-0.931477</td>\n",
       "      <td>0.166259</td>\n",
       "      <td>1.142591</td>\n",
       "      <td>1.073807</td>\n",
       "      <td>0.900745</td>\n",
       "      <td>-1.645974</td>\n",
       "      <td>0.703275</td>\n",
       "      <td>0.543829</td>\n",
       "      <td>-0.069764</td>\n",
       "      <td>-0.437518</td>\n",
       "      <td>-0.316613</td>\n",
       "      <td>0.788946</td>\n",
       "      <td>-0.442361</td>\n",
       "      <td>0.408731</td>\n",
       "      <td>0.030214</td>\n",
       "      <td>0.699690</td>\n",
       "      <td>0.303356</td>\n",
       "      <td>0.077366</td>\n",
       "    </tr>\n",
       "    <tr>\n",
       "      <th>1</th>\n",
       "      <td>3.280789</td>\n",
       "      <td>0.753499</td>\n",
       "      <td>-1.531206</td>\n",
       "      <td>3.605228</td>\n",
       "      <td>-1.520421</td>\n",
       "      <td>-1.212936</td>\n",
       "      <td>0.405254</td>\n",
       "      <td>0.873577</td>\n",
       "      <td>-0.464559</td>\n",
       "      <td>-2.738320</td>\n",
       "      <td>0.801926</td>\n",
       "      <td>-0.849818</td>\n",
       "      <td>0.924755</td>\n",
       "      <td>-0.285193</td>\n",
       "      <td>0.452316</td>\n",
       "      <td>-0.323722</td>\n",
       "      <td>-1.158568</td>\n",
       "      <td>0.404871</td>\n",
       "      <td>-0.317068</td>\n",
       "      <td>0.908468</td>\n",
       "      <td>0.615862</td>\n",
       "      <td>0.626384</td>\n",
       "      <td>1.234971</td>\n",
       "      <td>0.110302</td>\n",
       "      <td>-0.141278</td>\n",
       "      <td>-0.320307</td>\n",
       "      <td>0.554596</td>\n",
       "      <td>-0.395669</td>\n",
       "      <td>-0.164050</td>\n",
       "      <td>1.624217</td>\n",
       "      <td>0.146113</td>\n",
       "      <td>-0.242552</td>\n",
       "      <td>-0.883969</td>\n",
       "      <td>0.929663</td>\n",
       "      <td>-1.046390</td>\n",
       "      <td>1.414796</td>\n",
       "    </tr>\n",
       "    <tr>\n",
       "      <th>2</th>\n",
       "      <td>0.579643</td>\n",
       "      <td>-2.233598</td>\n",
       "      <td>-0.493087</td>\n",
       "      <td>-0.146905</td>\n",
       "      <td>-1.120994</td>\n",
       "      <td>0.172510</td>\n",
       "      <td>-0.150709</td>\n",
       "      <td>-0.538916</td>\n",
       "      <td>-0.453342</td>\n",
       "      <td>0.362006</td>\n",
       "      <td>-0.428911</td>\n",
       "      <td>0.038846</td>\n",
       "      <td>0.336676</td>\n",
       "      <td>-0.291997</td>\n",
       "      <td>-1.413245</td>\n",
       "      <td>-1.299180</td>\n",
       "      <td>0.339337</td>\n",
       "      <td>0.593762</td>\n",
       "      <td>-0.125952</td>\n",
       "      <td>0.294932</td>\n",
       "      <td>-0.062699</td>\n",
       "      <td>0.470591</td>\n",
       "      <td>1.111006</td>\n",
       "      <td>0.467589</td>\n",
       "      <td>0.293782</td>\n",
       "      <td>-0.164821</td>\n",
       "      <td>-0.743981</td>\n",
       "      <td>-0.046957</td>\n",
       "      <td>0.052363</td>\n",
       "      <td>0.335129</td>\n",
       "      <td>-0.445768</td>\n",
       "      <td>-0.053454</td>\n",
       "      <td>0.022750</td>\n",
       "      <td>-0.110459</td>\n",
       "      <td>-0.013895</td>\n",
       "      <td>0.060099</td>\n",
       "    </tr>\n",
       "    <tr>\n",
       "      <th>3</th>\n",
       "      <td>5.180547</td>\n",
       "      <td>-4.622818</td>\n",
       "      <td>-0.066351</td>\n",
       "      <td>5.414068</td>\n",
       "      <td>0.655986</td>\n",
       "      <td>-0.228077</td>\n",
       "      <td>-1.027647</td>\n",
       "      <td>0.232856</td>\n",
       "      <td>-1.019732</td>\n",
       "      <td>-3.450871</td>\n",
       "      <td>2.103534</td>\n",
       "      <td>-0.613940</td>\n",
       "      <td>1.206421</td>\n",
       "      <td>0.958544</td>\n",
       "      <td>-0.368038</td>\n",
       "      <td>-2.482134</td>\n",
       "      <td>-1.843260</td>\n",
       "      <td>2.681129</td>\n",
       "      <td>-2.170027</td>\n",
       "      <td>0.071568</td>\n",
       "      <td>0.608723</td>\n",
       "      <td>-4.428775</td>\n",
       "      <td>-0.980977</td>\n",
       "      <td>-0.536696</td>\n",
       "      <td>-2.725916</td>\n",
       "      <td>1.887468</td>\n",
       "      <td>3.711841</td>\n",
       "      <td>-2.933196</td>\n",
       "      <td>-1.984543</td>\n",
       "      <td>3.291418</td>\n",
       "      <td>-0.679891</td>\n",
       "      <td>0.457871</td>\n",
       "      <td>-0.401674</td>\n",
       "      <td>-0.868080</td>\n",
       "      <td>1.111072</td>\n",
       "      <td>-0.891512</td>\n",
       "    </tr>\n",
       "    <tr>\n",
       "      <th>4</th>\n",
       "      <td>0.422100</td>\n",
       "      <td>0.992646</td>\n",
       "      <td>-0.117788</td>\n",
       "      <td>2.474933</td>\n",
       "      <td>-0.748767</td>\n",
       "      <td>-1.431798</td>\n",
       "      <td>0.565169</td>\n",
       "      <td>-0.606227</td>\n",
       "      <td>1.543331</td>\n",
       "      <td>-0.489044</td>\n",
       "      <td>1.233545</td>\n",
       "      <td>0.101330</td>\n",
       "      <td>0.800623</td>\n",
       "      <td>-0.777739</td>\n",
       "      <td>-0.447551</td>\n",
       "      <td>1.264957</td>\n",
       "      <td>-0.240059</td>\n",
       "      <td>0.317128</td>\n",
       "      <td>-0.673932</td>\n",
       "      <td>-1.803912</td>\n",
       "      <td>-0.255875</td>\n",
       "      <td>-0.149451</td>\n",
       "      <td>-0.170642</td>\n",
       "      <td>1.556255</td>\n",
       "      <td>-0.121215</td>\n",
       "      <td>-0.094972</td>\n",
       "      <td>0.477730</td>\n",
       "      <td>0.309956</td>\n",
       "      <td>-1.240924</td>\n",
       "      <td>-0.290211</td>\n",
       "      <td>0.635941</td>\n",
       "      <td>0.468684</td>\n",
       "      <td>0.128995</td>\n",
       "      <td>0.350866</td>\n",
       "      <td>0.224339</td>\n",
       "      <td>-0.375931</td>\n",
       "    </tr>\n",
       "  </tbody>\n",
       "</table>\n",
       "</div>"
      ],
      "text/plain": [
       "         0         1         2   ...        33        34        35\n",
       "0  1.218752 -0.468780 -2.708288  ...  0.699690  0.303356  0.077366\n",
       "1  3.280789  0.753499 -1.531206  ...  0.929663 -1.046390  1.414796\n",
       "2  0.579643 -2.233598 -0.493087  ... -0.110459 -0.013895  0.060099\n",
       "3  5.180547 -4.622818 -0.066351  ... -0.868080  1.111072 -0.891512\n",
       "4  0.422100  0.992646 -0.117788  ...  0.350866  0.224339 -0.375931\n",
       "\n",
       "[5 rows x 36 columns]"
      ]
     },
     "execution_count": 89,
     "metadata": {
      "tags": []
     },
     "output_type": "execute_result"
    }
   ],
   "source": [
    "df_train_pca = pd.DataFrame(newdata)  # Creating a dataframe of PCs\n",
    "df_train_pca.head()"
   ]
  },
  {
   "cell_type": "code",
   "execution_count": 90,
   "metadata": {
    "colab": {
     "base_uri": "https://localhost:8080/",
     "height": 34
    },
    "colab_type": "code",
    "id": "7R53PCkh4tp2",
    "outputId": "33586585-8b3c-41ab-afac-26087ce10246"
   },
   "outputs": [
    {
     "data": {
      "text/plain": [
       "(38554, 36)"
      ]
     },
     "execution_count": 90,
     "metadata": {
      "tags": []
     },
     "output_type": "execute_result"
    }
   ],
   "source": [
    "df_train_pca.shape"
   ]
  },
  {
   "cell_type": "code",
   "execution_count": 91,
   "metadata": {
    "colab": {
     "base_uri": "https://localhost:8080/",
     "height": 34
    },
    "colab_type": "code",
    "id": "4HYVICV2_WtH",
    "outputId": "96f76992-2aea-4323-8bda-335e043ecc25"
   },
   "outputs": [
    {
     "data": {
      "text/plain": [
       "(9000, 36)"
      ]
     },
     "execution_count": 91,
     "metadata": {
      "tags": []
     },
     "output_type": "execute_result"
    }
   ],
   "source": [
    "test_data = pc.transform(XT1[col])\n",
    "df_test_pca = pd.DataFrame(test_data)\n",
    "df_test_pca.shape"
   ]
  },
  {
   "cell_type": "code",
   "execution_count": 92,
   "metadata": {
    "colab": {
     "base_uri": "https://localhost:8080/",
     "height": 224
    },
    "colab_type": "code",
    "id": "DmHBiVxnrYQN",
    "outputId": "e4b7adf9-e563-4657-a424-0a0a3a442de6"
   },
   "outputs": [
    {
     "data": {
      "text/html": [
       "<div>\n",
       "<style scoped>\n",
       "    .dataframe tbody tr th:only-of-type {\n",
       "        vertical-align: middle;\n",
       "    }\n",
       "\n",
       "    .dataframe tbody tr th {\n",
       "        vertical-align: top;\n",
       "    }\n",
       "\n",
       "    .dataframe thead th {\n",
       "        text-align: right;\n",
       "    }\n",
       "</style>\n",
       "<table border=\"1\" class=\"dataframe\">\n",
       "  <thead>\n",
       "    <tr style=\"text-align: right;\">\n",
       "      <th></th>\n",
       "      <th>0</th>\n",
       "      <th>1</th>\n",
       "      <th>2</th>\n",
       "      <th>3</th>\n",
       "      <th>4</th>\n",
       "      <th>5</th>\n",
       "      <th>6</th>\n",
       "      <th>7</th>\n",
       "      <th>8</th>\n",
       "      <th>9</th>\n",
       "      <th>10</th>\n",
       "      <th>11</th>\n",
       "      <th>12</th>\n",
       "      <th>13</th>\n",
       "      <th>14</th>\n",
       "      <th>15</th>\n",
       "      <th>16</th>\n",
       "      <th>17</th>\n",
       "      <th>18</th>\n",
       "      <th>19</th>\n",
       "      <th>20</th>\n",
       "      <th>21</th>\n",
       "      <th>22</th>\n",
       "      <th>23</th>\n",
       "      <th>24</th>\n",
       "      <th>25</th>\n",
       "      <th>26</th>\n",
       "      <th>27</th>\n",
       "      <th>28</th>\n",
       "      <th>29</th>\n",
       "      <th>30</th>\n",
       "      <th>31</th>\n",
       "      <th>32</th>\n",
       "      <th>33</th>\n",
       "      <th>34</th>\n",
       "      <th>35</th>\n",
       "    </tr>\n",
       "  </thead>\n",
       "  <tbody>\n",
       "    <tr>\n",
       "      <th>0</th>\n",
       "      <td>5.073562</td>\n",
       "      <td>-0.642587</td>\n",
       "      <td>-0.265667</td>\n",
       "      <td>7.236524</td>\n",
       "      <td>5.231360</td>\n",
       "      <td>-0.507535</td>\n",
       "      <td>3.303627</td>\n",
       "      <td>-4.904695</td>\n",
       "      <td>1.991679</td>\n",
       "      <td>-0.227986</td>\n",
       "      <td>-3.942905</td>\n",
       "      <td>-1.850438</td>\n",
       "      <td>1.354462</td>\n",
       "      <td>-0.184206</td>\n",
       "      <td>1.260048</td>\n",
       "      <td>0.675296</td>\n",
       "      <td>-0.521604</td>\n",
       "      <td>-0.067652</td>\n",
       "      <td>0.229773</td>\n",
       "      <td>-0.493540</td>\n",
       "      <td>-0.433156</td>\n",
       "      <td>1.916431</td>\n",
       "      <td>-0.036624</td>\n",
       "      <td>1.719811</td>\n",
       "      <td>-0.397287</td>\n",
       "      <td>-0.206874</td>\n",
       "      <td>-0.674519</td>\n",
       "      <td>0.727927</td>\n",
       "      <td>0.641835</td>\n",
       "      <td>-1.207205</td>\n",
       "      <td>0.620779</td>\n",
       "      <td>-0.188939</td>\n",
       "      <td>0.340360</td>\n",
       "      <td>-0.873829</td>\n",
       "      <td>-0.583856</td>\n",
       "      <td>0.889556</td>\n",
       "    </tr>\n",
       "    <tr>\n",
       "      <th>1</th>\n",
       "      <td>-2.443063</td>\n",
       "      <td>1.197958</td>\n",
       "      <td>1.811317</td>\n",
       "      <td>0.470830</td>\n",
       "      <td>0.463653</td>\n",
       "      <td>-0.525946</td>\n",
       "      <td>1.123283</td>\n",
       "      <td>0.886813</td>\n",
       "      <td>-0.876622</td>\n",
       "      <td>-0.226023</td>\n",
       "      <td>-0.791903</td>\n",
       "      <td>0.143980</td>\n",
       "      <td>-0.299140</td>\n",
       "      <td>-0.275747</td>\n",
       "      <td>0.089329</td>\n",
       "      <td>-0.639940</td>\n",
       "      <td>0.364518</td>\n",
       "      <td>-0.174048</td>\n",
       "      <td>0.034715</td>\n",
       "      <td>0.234990</td>\n",
       "      <td>0.265372</td>\n",
       "      <td>-0.072042</td>\n",
       "      <td>0.103784</td>\n",
       "      <td>0.001880</td>\n",
       "      <td>-0.244077</td>\n",
       "      <td>-0.544546</td>\n",
       "      <td>-0.276733</td>\n",
       "      <td>-0.506185</td>\n",
       "      <td>0.091947</td>\n",
       "      <td>0.487710</td>\n",
       "      <td>1.002479</td>\n",
       "      <td>-1.109147</td>\n",
       "      <td>-0.677356</td>\n",
       "      <td>0.855094</td>\n",
       "      <td>-0.655869</td>\n",
       "      <td>-0.247854</td>\n",
       "    </tr>\n",
       "    <tr>\n",
       "      <th>2</th>\n",
       "      <td>-0.618929</td>\n",
       "      <td>2.708793</td>\n",
       "      <td>3.429358</td>\n",
       "      <td>0.177375</td>\n",
       "      <td>0.468941</td>\n",
       "      <td>-0.928147</td>\n",
       "      <td>-0.327772</td>\n",
       "      <td>0.166481</td>\n",
       "      <td>-0.862535</td>\n",
       "      <td>-0.427830</td>\n",
       "      <td>-0.687891</td>\n",
       "      <td>1.852019</td>\n",
       "      <td>-1.488125</td>\n",
       "      <td>-0.497337</td>\n",
       "      <td>-0.816957</td>\n",
       "      <td>-0.746599</td>\n",
       "      <td>1.673456</td>\n",
       "      <td>-0.310290</td>\n",
       "      <td>-0.550684</td>\n",
       "      <td>-0.289099</td>\n",
       "      <td>0.101720</td>\n",
       "      <td>0.242925</td>\n",
       "      <td>0.026202</td>\n",
       "      <td>-0.791007</td>\n",
       "      <td>-0.206667</td>\n",
       "      <td>-1.093710</td>\n",
       "      <td>0.969947</td>\n",
       "      <td>0.981000</td>\n",
       "      <td>0.865147</td>\n",
       "      <td>0.266319</td>\n",
       "      <td>-0.167069</td>\n",
       "      <td>1.268618</td>\n",
       "      <td>-0.695522</td>\n",
       "      <td>0.677407</td>\n",
       "      <td>-1.064842</td>\n",
       "      <td>-2.656920</td>\n",
       "    </tr>\n",
       "    <tr>\n",
       "      <th>3</th>\n",
       "      <td>-1.327306</td>\n",
       "      <td>-1.147678</td>\n",
       "      <td>0.186756</td>\n",
       "      <td>-1.318411</td>\n",
       "      <td>0.293429</td>\n",
       "      <td>0.960249</td>\n",
       "      <td>0.111998</td>\n",
       "      <td>0.590824</td>\n",
       "      <td>0.937588</td>\n",
       "      <td>0.091019</td>\n",
       "      <td>0.789497</td>\n",
       "      <td>-0.457969</td>\n",
       "      <td>0.097734</td>\n",
       "      <td>3.513590</td>\n",
       "      <td>0.393678</td>\n",
       "      <td>1.762645</td>\n",
       "      <td>-1.947791</td>\n",
       "      <td>-0.564463</td>\n",
       "      <td>0.298016</td>\n",
       "      <td>-0.583492</td>\n",
       "      <td>-0.544379</td>\n",
       "      <td>0.104890</td>\n",
       "      <td>-2.679646</td>\n",
       "      <td>-0.758664</td>\n",
       "      <td>-0.889927</td>\n",
       "      <td>-0.225735</td>\n",
       "      <td>-2.068471</td>\n",
       "      <td>-0.175636</td>\n",
       "      <td>0.333689</td>\n",
       "      <td>1.882934</td>\n",
       "      <td>-1.602139</td>\n",
       "      <td>0.606320</td>\n",
       "      <td>0.669283</td>\n",
       "      <td>-0.169851</td>\n",
       "      <td>-0.789968</td>\n",
       "      <td>-0.525212</td>\n",
       "    </tr>\n",
       "    <tr>\n",
       "      <th>4</th>\n",
       "      <td>-2.200334</td>\n",
       "      <td>-0.568121</td>\n",
       "      <td>-0.944944</td>\n",
       "      <td>0.038949</td>\n",
       "      <td>-0.232500</td>\n",
       "      <td>0.779268</td>\n",
       "      <td>-0.312930</td>\n",
       "      <td>-0.268900</td>\n",
       "      <td>-0.234162</td>\n",
       "      <td>0.244123</td>\n",
       "      <td>0.050174</td>\n",
       "      <td>-0.114198</td>\n",
       "      <td>0.323119</td>\n",
       "      <td>-0.380191</td>\n",
       "      <td>-0.610785</td>\n",
       "      <td>-0.331531</td>\n",
       "      <td>0.073094</td>\n",
       "      <td>0.043163</td>\n",
       "      <td>0.114580</td>\n",
       "      <td>0.081612</td>\n",
       "      <td>-0.008329</td>\n",
       "      <td>0.383422</td>\n",
       "      <td>-0.041064</td>\n",
       "      <td>0.351403</td>\n",
       "      <td>0.103795</td>\n",
       "      <td>-0.045132</td>\n",
       "      <td>0.214192</td>\n",
       "      <td>-0.320547</td>\n",
       "      <td>0.433383</td>\n",
       "      <td>0.068693</td>\n",
       "      <td>0.172973</td>\n",
       "      <td>0.083047</td>\n",
       "      <td>0.197100</td>\n",
       "      <td>-0.350722</td>\n",
       "      <td>-0.175477</td>\n",
       "      <td>-0.284484</td>\n",
       "    </tr>\n",
       "  </tbody>\n",
       "</table>\n",
       "</div>"
      ],
      "text/plain": [
       "         0         1         2   ...        33        34        35\n",
       "0  5.073562 -0.642587 -0.265667  ... -0.873829 -0.583856  0.889556\n",
       "1 -2.443063  1.197958  1.811317  ...  0.855094 -0.655869 -0.247854\n",
       "2 -0.618929  2.708793  3.429358  ...  0.677407 -1.064842 -2.656920\n",
       "3 -1.327306 -1.147678  0.186756  ... -0.169851 -0.789968 -0.525212\n",
       "4 -2.200334 -0.568121 -0.944944  ... -0.350722 -0.175477 -0.284484\n",
       "\n",
       "[5 rows x 36 columns]"
      ]
     },
     "execution_count": 92,
     "metadata": {
      "tags": []
     },
     "output_type": "execute_result"
    }
   ],
   "source": [
    "df_test_pca.head()"
   ]
  },
  {
   "cell_type": "markdown",
   "metadata": {
    "colab_type": "text",
    "id": "tQzcxZ8V1f3U"
   },
   "source": [
    "## Model Building"
   ]
  },
  {
   "cell_type": "markdown",
   "metadata": {
    "colab_type": "text",
    "id": "HI7AN1_bc9yC"
   },
   "source": [
    "### Random Forest with PCA"
   ]
  },
  {
   "cell_type": "markdown",
   "metadata": {
    "colab_type": "text",
    "id": "Ws1WZH-pGdMN"
   },
   "source": [
    "Grid Search to Find Optimal Hyperparameters"
   ]
  },
  {
   "cell_type": "code",
   "execution_count": 0,
   "metadata": {
    "colab": {},
    "colab_type": "code",
    "id": "KP_PJYz7GiRd"
   },
   "outputs": [],
   "source": [
    "# GridSearchCV to find optimal n_estimators\n",
    "#from sklearn.model_selection import KFold\n",
    "\n",
    "# Create the parameter grid based on the results of random search \n",
    "param_grid = {\n",
    "    'max_depth': [10,12,15],\n",
    "    'min_samples_leaf': range(50, 200, 50),\n",
    "    'min_samples_split': range(50, 200, 50),\n",
    "    'n_estimators': [100,150,200], \n",
    "    'max_features': [3,5, 8]\n",
    "}\n",
    "# Create a based model\n",
    "rf = RandomForestClassifier()\n",
    "# Instantiate the grid search model\n",
    "grid_search = GridSearchCV(estimator = rf, param_grid = param_grid, \n",
    "                          cv = 3, n_jobs = -1,verbose = 1)"
   ]
  },
  {
   "cell_type": "code",
   "execution_count": 0,
   "metadata": {
    "colab": {
     "base_uri": "https://localhost:8080/",
     "height": 68
    },
    "colab_type": "code",
    "id": "_bVxbJ-LGqYE",
    "outputId": "c852cbc8-6954-41ec-c14b-afb33e3cdc59"
   },
   "outputs": [
    {
     "name": "stdout",
     "output_type": "stream",
     "text": [
      "Fitting 3 folds for each of 243 candidates, totalling 729 fits\n"
     ]
    },
    {
     "name": "stderr",
     "output_type": "stream",
     "text": [
      "[Parallel(n_jobs=-1)]: Using backend LokyBackend with 2 concurrent workers.\n",
      "[Parallel(n_jobs=-1)]: Done  46 tasks      | elapsed:  5.1min\n"
     ]
    }
   ],
   "source": [
    "# Fit the grid search to the data\n",
    "# commented as it takes long time\n",
    "grid_search.fit(df_train_pca, y_train)  "
   ]
  },
  {
   "cell_type": "code",
   "execution_count": 0,
   "metadata": {
    "colab": {
     "base_uri": "https://localhost:8080/",
     "height": 54
    },
    "colab_type": "code",
    "id": "RJETT7raGue4",
    "outputId": "eb50f182-9273-4945-98c6-23130d7de3ea"
   },
   "outputs": [
    {
     "name": "stdout",
     "output_type": "stream",
     "text": [
      "We can get accuracy of 0.854749389301137 using {'max_depth': 15, 'max_features': 8, 'min_samples_leaf': 50, 'min_samples_split': 100, 'n_estimators': 100}\n"
     ]
    }
   ],
   "source": [
    "# printing the optimal accuracy score and hyperparameters\n",
    "print('We can get accuracy of',grid_search.best_score_,'using',grid_search.best_params_)"
   ]
  },
  {
   "cell_type": "markdown",
   "metadata": {
    "colab_type": "text",
    "id": "SUAQF9BBG0GY"
   },
   "source": [
    "**Fitting the final model with the best parameters obtained from grid search.**"
   ]
  },
  {
   "cell_type": "code",
   "execution_count": 0,
   "metadata": {
    "colab": {},
    "colab_type": "code",
    "id": "YqCIiEy2G7Ct"
   },
   "outputs": [],
   "source": [
    "# model with the best hyperparameters\n",
    "rfc = RandomForestClassifier(bootstrap=True,\n",
    "                             max_depth=15,\n",
    "                             min_samples_leaf=50, \n",
    "                             min_samples_split=100,\n",
    "                             max_features=8,\n",
    "                             n_estimators=100)"
   ]
  },
  {
   "cell_type": "code",
   "execution_count": 0,
   "metadata": {
    "colab": {},
    "colab_type": "code",
    "id": "nDFa5mb-GqmC"
   },
   "outputs": [],
   "source": [
    "# fit\n",
    "# fit\n",
    "rfc.fit(df_train_pca, y_train)\n",
    "# predict\n",
    "predictions = rfc.predict(df_test_pca)\n",
    "y_pred = rfc.predict_proba(df_test_pca)"
   ]
  },
  {
   "cell_type": "code",
   "execution_count": 95,
   "metadata": {
    "colab": {
     "base_uri": "https://localhost:8080/",
     "height": 51
    },
    "colab_type": "code",
    "id": "BB1f5oOJHDaW",
    "outputId": "61e07c7c-f832-4254-929f-a307ee75ad0c"
   },
   "outputs": [
    {
     "data": {
      "text/plain": [
       "array([[7308,  971],\n",
       "       [ 172,  549]])"
      ]
     },
     "execution_count": 95,
     "metadata": {
      "tags": []
     },
     "output_type": "execute_result"
    }
   ],
   "source": [
    "# Importing classification report and confusion matrix from sklearn metrics\n",
    "from sklearn.metrics import classification_report,confusion_matrix, accuracy_score\n",
    "#print(classification_report(y_test,predictions))\n",
    "#print(confusion_matrix(y_test,predictions))\n",
    "conf = metrics.confusion_matrix(y_test, predictions )\n",
    "conf"
   ]
  },
  {
   "cell_type": "code",
   "execution_count": 96,
   "metadata": {
    "colab": {
     "base_uri": "https://localhost:8080/",
     "height": 102
    },
    "colab_type": "code",
    "id": "8GVm-Gh5bf-v",
    "outputId": "2ba464c4-c441-4679-9ed8-2fdc69628a67"
   },
   "outputs": [
    {
     "name": "stdout",
     "output_type": "stream",
     "text": [
      "Sensitivity/ Recall                  =  0.7614424410540915\n",
      "Specificity                          =  0.8827153037806499\n",
      "false positive rate                  =  0.11728469621935016\n",
      "Positive predictive value/Precision  =  0.3611842105263158\n",
      "Negative predictive value            =  0.9770053475935829\n"
     ]
    }
   ],
   "source": [
    "TP = conf[1,1] # true positive \n",
    "TN = conf[0,0] # true negatives\n",
    "FP = conf[0,1] # false positives\n",
    "FN = conf[1,0] # false negatives\n",
    "# Printing other performance meterics\n",
    "print('Sensitivity/ Recall                  = ', TP / float(TP+FN))\n",
    "print('Specificity                          = ',TN / float(TN+FP))\n",
    "print('false positive rate                  = ',FP/ float(TN+FP))\n",
    "print ('Positive predictive value/Precision  = ',TP / float(TP+FP))\n",
    "print ('Negative predictive value            = ', TN / float(TN+FN))"
   ]
  },
  {
   "cell_type": "code",
   "execution_count": 97,
   "metadata": {
    "colab": {
     "base_uri": "https://localhost:8080/",
     "height": 34
    },
    "colab_type": "code",
    "id": "xS5PUWn0sAuQ",
    "outputId": "6dbdc4af-877a-4398-b2ee-759bcc7eee29"
   },
   "outputs": [
    {
     "name": "stdout",
     "output_type": "stream",
     "text": [
      "AUC: 88.98%\n"
     ]
    }
   ],
   "source": [
    "# evaluate predictions\n",
    "roc = metrics.roc_auc_score(y_test, y_pred[:, 1])\n",
    "print(\"AUC: %.2f%%\" % (roc * 100.0))"
   ]
  },
  {
   "cell_type": "markdown",
   "metadata": {
    "colab_type": "text",
    "id": "xLBjzhIw1kyG"
   },
   "source": [
    "## Logistic Regression with PCA\n"
   ]
  },
  {
   "cell_type": "code",
   "execution_count": 0,
   "metadata": {
    "colab": {},
    "colab_type": "code",
    "id": "2-RltKa73x7H"
   },
   "outputs": [],
   "source": [
    "from sklearn.linear_model import LogisticRegression\n",
    "logreg = LogisticRegression()\n"
   ]
  },
  {
   "cell_type": "code",
   "execution_count": 99,
   "metadata": {
    "colab": {
     "base_uri": "https://localhost:8080/",
     "height": 1000
    },
    "colab_type": "code",
    "id": "Nd1lJLxg_iTp",
    "outputId": "06acf977-392c-4b89-ad48-80118a9408ac"
   },
   "outputs": [
    {
     "data": {
      "text/html": [
       "<table class=\"simpletable\">\n",
       "<caption>Generalized Linear Model Regression Results</caption>\n",
       "<tr>\n",
       "  <th>Dep. Variable:</th>         <td>Churn</td>      <th>  No. Observations:  </th>  <td> 38554</td> \n",
       "</tr>\n",
       "<tr>\n",
       "  <th>Model:</th>                  <td>GLM</td>       <th>  Df Residuals:      </th>  <td> 38517</td> \n",
       "</tr>\n",
       "<tr>\n",
       "  <th>Model Family:</th>        <td>Binomial</td>     <th>  Df Model:          </th>  <td>    36</td> \n",
       "</tr>\n",
       "<tr>\n",
       "  <th>Link Function:</th>         <td>logit</td>      <th>  Scale:             </th> <td>  1.0000</td>\n",
       "</tr>\n",
       "<tr>\n",
       "  <th>Method:</th>                <td>IRLS</td>       <th>  Log-Likelihood:    </th> <td> -15165.</td>\n",
       "</tr>\n",
       "<tr>\n",
       "  <th>Date:</th>            <td>Mon, 27 Jan 2020</td> <th>  Deviance:          </th> <td>  30330.</td>\n",
       "</tr>\n",
       "<tr>\n",
       "  <th>Time:</th>                <td>16:24:42</td>     <th>  Pearson chi2:      </th> <td>3.87e+11</td>\n",
       "</tr>\n",
       "<tr>\n",
       "  <th>No. Iterations:</th>          <td>9</td>        <th>                     </th>     <td> </td>   \n",
       "</tr>\n",
       "<tr>\n",
       "  <th>Covariance Type:</th>     <td>nonrobust</td>    <th>                     </th>     <td> </td>   \n",
       "</tr>\n",
       "</table>\n",
       "<table class=\"simpletable\">\n",
       "<tr>\n",
       "    <td></td>       <th>coef</th>     <th>std err</th>      <th>z</th>      <th>P>|z|</th>  <th>[0.025</th>    <th>0.975]</th>  \n",
       "</tr>\n",
       "<tr>\n",
       "  <th>const</th> <td>   -0.4369</td> <td>    0.021</td> <td>  -20.846</td> <td> 0.000</td> <td>   -0.478</td> <td>   -0.396</td>\n",
       "</tr>\n",
       "<tr>\n",
       "  <th>0</th>     <td>   -0.8366</td> <td>    0.012</td> <td>  -69.030</td> <td> 0.000</td> <td>   -0.860</td> <td>   -0.813</td>\n",
       "</tr>\n",
       "<tr>\n",
       "  <th>1</th>     <td>   -0.0712</td> <td>    0.009</td> <td>   -7.601</td> <td> 0.000</td> <td>   -0.090</td> <td>   -0.053</td>\n",
       "</tr>\n",
       "<tr>\n",
       "  <th>2</th>     <td>   -0.4231</td> <td>    0.013</td> <td>  -31.655</td> <td> 0.000</td> <td>   -0.449</td> <td>   -0.397</td>\n",
       "</tr>\n",
       "<tr>\n",
       "  <th>3</th>     <td>   -0.5377</td> <td>    0.013</td> <td>  -42.822</td> <td> 0.000</td> <td>   -0.562</td> <td>   -0.513</td>\n",
       "</tr>\n",
       "<tr>\n",
       "  <th>4</th>     <td>    0.3496</td> <td>    0.013</td> <td>   27.195</td> <td> 0.000</td> <td>    0.324</td> <td>    0.375</td>\n",
       "</tr>\n",
       "<tr>\n",
       "  <th>5</th>     <td>    0.4992</td> <td>    0.013</td> <td>   37.101</td> <td> 0.000</td> <td>    0.473</td> <td>    0.526</td>\n",
       "</tr>\n",
       "<tr>\n",
       "  <th>6</th>     <td>    0.1060</td> <td>    0.013</td> <td>    8.418</td> <td> 0.000</td> <td>    0.081</td> <td>    0.131</td>\n",
       "</tr>\n",
       "<tr>\n",
       "  <th>7</th>     <td>    0.2945</td> <td>    0.019</td> <td>   15.725</td> <td> 0.000</td> <td>    0.258</td> <td>    0.331</td>\n",
       "</tr>\n",
       "<tr>\n",
       "  <th>8</th>     <td>    0.0828</td> <td>    0.015</td> <td>    5.660</td> <td> 0.000</td> <td>    0.054</td> <td>    0.111</td>\n",
       "</tr>\n",
       "<tr>\n",
       "  <th>9</th>     <td>    0.1992</td> <td>    0.018</td> <td>   10.842</td> <td> 0.000</td> <td>    0.163</td> <td>    0.235</td>\n",
       "</tr>\n",
       "<tr>\n",
       "  <th>10</th>    <td>    0.1415</td> <td>    0.016</td> <td>    8.697</td> <td> 0.000</td> <td>    0.110</td> <td>    0.173</td>\n",
       "</tr>\n",
       "<tr>\n",
       "  <th>11</th>    <td>   -0.7528</td> <td>    0.024</td> <td>  -31.623</td> <td> 0.000</td> <td>   -0.799</td> <td>   -0.706</td>\n",
       "</tr>\n",
       "<tr>\n",
       "  <th>12</th>    <td>    0.2310</td> <td>    0.022</td> <td>   10.509</td> <td> 0.000</td> <td>    0.188</td> <td>    0.274</td>\n",
       "</tr>\n",
       "<tr>\n",
       "  <th>13</th>    <td>   -0.1011</td> <td>    0.020</td> <td>   -5.176</td> <td> 0.000</td> <td>   -0.139</td> <td>   -0.063</td>\n",
       "</tr>\n",
       "<tr>\n",
       "  <th>14</th>    <td>    0.5364</td> <td>    0.025</td> <td>   21.476</td> <td> 0.000</td> <td>    0.487</td> <td>    0.585</td>\n",
       "</tr>\n",
       "<tr>\n",
       "  <th>15</th>    <td>   -0.5879</td> <td>    0.089</td> <td>   -6.584</td> <td> 0.000</td> <td>   -0.763</td> <td>   -0.413</td>\n",
       "</tr>\n",
       "<tr>\n",
       "  <th>16</th>    <td>   -1.0581</td> <td>    0.103</td> <td>  -10.245</td> <td> 0.000</td> <td>   -1.261</td> <td>   -0.856</td>\n",
       "</tr>\n",
       "<tr>\n",
       "  <th>17</th>    <td>   -1.2301</td> <td>    0.199</td> <td>   -6.170</td> <td> 0.000</td> <td>   -1.621</td> <td>   -0.839</td>\n",
       "</tr>\n",
       "<tr>\n",
       "  <th>18</th>    <td>   -0.2009</td> <td>    0.081</td> <td>   -2.466</td> <td> 0.014</td> <td>   -0.361</td> <td>   -0.041</td>\n",
       "</tr>\n",
       "<tr>\n",
       "  <th>19</th>    <td>   -1.2443</td> <td>    0.109</td> <td>  -11.406</td> <td> 0.000</td> <td>   -1.458</td> <td>   -1.030</td>\n",
       "</tr>\n",
       "<tr>\n",
       "  <th>20</th>    <td>   -0.7631</td> <td>    0.170</td> <td>   -4.476</td> <td> 0.000</td> <td>   -1.097</td> <td>   -0.429</td>\n",
       "</tr>\n",
       "<tr>\n",
       "  <th>21</th>    <td>   -0.5131</td> <td>    0.054</td> <td>   -9.441</td> <td> 0.000</td> <td>   -0.620</td> <td>   -0.407</td>\n",
       "</tr>\n",
       "<tr>\n",
       "  <th>22</th>    <td>    0.6692</td> <td>    0.102</td> <td>    6.555</td> <td> 0.000</td> <td>    0.469</td> <td>    0.869</td>\n",
       "</tr>\n",
       "<tr>\n",
       "  <th>23</th>    <td>   -0.2669</td> <td>    0.039</td> <td>   -6.877</td> <td> 0.000</td> <td>   -0.343</td> <td>   -0.191</td>\n",
       "</tr>\n",
       "<tr>\n",
       "  <th>24</th>    <td>    0.1922</td> <td>    0.047</td> <td>    4.115</td> <td> 0.000</td> <td>    0.101</td> <td>    0.284</td>\n",
       "</tr>\n",
       "<tr>\n",
       "  <th>25</th>    <td>   -0.1668</td> <td>    0.039</td> <td>   -4.284</td> <td> 0.000</td> <td>   -0.243</td> <td>   -0.090</td>\n",
       "</tr>\n",
       "<tr>\n",
       "  <th>26</th>    <td>    0.1794</td> <td>    0.030</td> <td>    5.893</td> <td> 0.000</td> <td>    0.120</td> <td>    0.239</td>\n",
       "</tr>\n",
       "<tr>\n",
       "  <th>27</th>    <td>    0.0632</td> <td>    0.029</td> <td>    2.195</td> <td> 0.028</td> <td>    0.007</td> <td>    0.120</td>\n",
       "</tr>\n",
       "<tr>\n",
       "  <th>28</th>    <td>    0.3528</td> <td>    0.046</td> <td>    7.594</td> <td> 0.000</td> <td>    0.262</td> <td>    0.444</td>\n",
       "</tr>\n",
       "<tr>\n",
       "  <th>29</th>    <td>    0.3967</td> <td>    0.042</td> <td>    9.406</td> <td> 0.000</td> <td>    0.314</td> <td>    0.479</td>\n",
       "</tr>\n",
       "<tr>\n",
       "  <th>30</th>    <td>    0.0337</td> <td>    0.037</td> <td>    0.901</td> <td> 0.368</td> <td>   -0.040</td> <td>    0.107</td>\n",
       "</tr>\n",
       "<tr>\n",
       "  <th>31</th>    <td>    0.2351</td> <td>    0.025</td> <td>    9.268</td> <td> 0.000</td> <td>    0.185</td> <td>    0.285</td>\n",
       "</tr>\n",
       "<tr>\n",
       "  <th>32</th>    <td>    0.1270</td> <td>    0.029</td> <td>    4.435</td> <td> 0.000</td> <td>    0.071</td> <td>    0.183</td>\n",
       "</tr>\n",
       "<tr>\n",
       "  <th>33</th>    <td>   -0.2138</td> <td>    0.025</td> <td>   -8.725</td> <td> 0.000</td> <td>   -0.262</td> <td>   -0.166</td>\n",
       "</tr>\n",
       "<tr>\n",
       "  <th>34</th>    <td>    0.3166</td> <td>    0.024</td> <td>   13.196</td> <td> 0.000</td> <td>    0.270</td> <td>    0.364</td>\n",
       "</tr>\n",
       "<tr>\n",
       "  <th>35</th>    <td>    0.1070</td> <td>    0.024</td> <td>    4.384</td> <td> 0.000</td> <td>    0.059</td> <td>    0.155</td>\n",
       "</tr>\n",
       "</table>"
      ],
      "text/plain": [
       "<class 'statsmodels.iolib.summary.Summary'>\n",
       "\"\"\"\n",
       "                 Generalized Linear Model Regression Results                  \n",
       "==============================================================================\n",
       "Dep. Variable:                  Churn   No. Observations:                38554\n",
       "Model:                            GLM   Df Residuals:                    38517\n",
       "Model Family:                Binomial   Df Model:                           36\n",
       "Link Function:                  logit   Scale:                          1.0000\n",
       "Method:                          IRLS   Log-Likelihood:                -15165.\n",
       "Date:                Mon, 27 Jan 2020   Deviance:                       30330.\n",
       "Time:                        16:24:42   Pearson chi2:                 3.87e+11\n",
       "No. Iterations:                     9                                         \n",
       "Covariance Type:            nonrobust                                         \n",
       "==============================================================================\n",
       "                 coef    std err          z      P>|z|      [0.025      0.975]\n",
       "------------------------------------------------------------------------------\n",
       "const         -0.4369      0.021    -20.846      0.000      -0.478      -0.396\n",
       "0             -0.8366      0.012    -69.030      0.000      -0.860      -0.813\n",
       "1             -0.0712      0.009     -7.601      0.000      -0.090      -0.053\n",
       "2             -0.4231      0.013    -31.655      0.000      -0.449      -0.397\n",
       "3             -0.5377      0.013    -42.822      0.000      -0.562      -0.513\n",
       "4              0.3496      0.013     27.195      0.000       0.324       0.375\n",
       "5              0.4992      0.013     37.101      0.000       0.473       0.526\n",
       "6              0.1060      0.013      8.418      0.000       0.081       0.131\n",
       "7              0.2945      0.019     15.725      0.000       0.258       0.331\n",
       "8              0.0828      0.015      5.660      0.000       0.054       0.111\n",
       "9              0.1992      0.018     10.842      0.000       0.163       0.235\n",
       "10             0.1415      0.016      8.697      0.000       0.110       0.173\n",
       "11            -0.7528      0.024    -31.623      0.000      -0.799      -0.706\n",
       "12             0.2310      0.022     10.509      0.000       0.188       0.274\n",
       "13            -0.1011      0.020     -5.176      0.000      -0.139      -0.063\n",
       "14             0.5364      0.025     21.476      0.000       0.487       0.585\n",
       "15            -0.5879      0.089     -6.584      0.000      -0.763      -0.413\n",
       "16            -1.0581      0.103    -10.245      0.000      -1.261      -0.856\n",
       "17            -1.2301      0.199     -6.170      0.000      -1.621      -0.839\n",
       "18            -0.2009      0.081     -2.466      0.014      -0.361      -0.041\n",
       "19            -1.2443      0.109    -11.406      0.000      -1.458      -1.030\n",
       "20            -0.7631      0.170     -4.476      0.000      -1.097      -0.429\n",
       "21            -0.5131      0.054     -9.441      0.000      -0.620      -0.407\n",
       "22             0.6692      0.102      6.555      0.000       0.469       0.869\n",
       "23            -0.2669      0.039     -6.877      0.000      -0.343      -0.191\n",
       "24             0.1922      0.047      4.115      0.000       0.101       0.284\n",
       "25            -0.1668      0.039     -4.284      0.000      -0.243      -0.090\n",
       "26             0.1794      0.030      5.893      0.000       0.120       0.239\n",
       "27             0.0632      0.029      2.195      0.028       0.007       0.120\n",
       "28             0.3528      0.046      7.594      0.000       0.262       0.444\n",
       "29             0.3967      0.042      9.406      0.000       0.314       0.479\n",
       "30             0.0337      0.037      0.901      0.368      -0.040       0.107\n",
       "31             0.2351      0.025      9.268      0.000       0.185       0.285\n",
       "32             0.1270      0.029      4.435      0.000       0.071       0.183\n",
       "33            -0.2138      0.025     -8.725      0.000      -0.262      -0.166\n",
       "34             0.3166      0.024     13.196      0.000       0.270       0.364\n",
       "35             0.1070      0.024      4.384      0.000       0.059       0.155\n",
       "==============================================================================\n",
       "\"\"\""
      ]
     },
     "execution_count": 99,
     "metadata": {
      "tags": []
     },
     "output_type": "execute_result"
    }
   ],
   "source": [
    "# Building Logistic Model\n",
    "X1_train_sm = stm.add_constant(df_train_pca)\n",
    "log_m1 = stm.GLM(y_train,X1_train_sm, family = stm.families.Binomial())\n",
    "res1 = log_m1.fit()\n",
    "res1.summary()"
   ]
  },
  {
   "cell_type": "code",
   "execution_count": 0,
   "metadata": {
    "colab": {},
    "colab_type": "code",
    "id": "ufm8o3itAJYa"
   },
   "outputs": [],
   "source": [
    "y_train_pred = res1.predict(X1_train_sm).values.reshape(-1)"
   ]
  },
  {
   "cell_type": "code",
   "execution_count": 101,
   "metadata": {
    "colab": {
     "base_uri": "https://localhost:8080/",
     "height": 204
    },
    "colab_type": "code",
    "id": "2ojASUWtTNiU",
    "outputId": "a08feb9f-9e08-45d3-bbac-fd32c3a74648"
   },
   "outputs": [
    {
     "data": {
      "text/html": [
       "<div>\n",
       "<style scoped>\n",
       "    .dataframe tbody tr th:only-of-type {\n",
       "        vertical-align: middle;\n",
       "    }\n",
       "\n",
       "    .dataframe tbody tr th {\n",
       "        vertical-align: top;\n",
       "    }\n",
       "\n",
       "    .dataframe thead th {\n",
       "        text-align: right;\n",
       "    }\n",
       "</style>\n",
       "<table border=\"1\" class=\"dataframe\">\n",
       "  <thead>\n",
       "    <tr style=\"text-align: right;\">\n",
       "      <th></th>\n",
       "      <th>Churned</th>\n",
       "      <th>Churn_Prob</th>\n",
       "      <th>ind</th>\n",
       "    </tr>\n",
       "  </thead>\n",
       "  <tbody>\n",
       "    <tr>\n",
       "      <th>0</th>\n",
       "      <td>0</td>\n",
       "      <td>0.724782</td>\n",
       "      <td>0</td>\n",
       "    </tr>\n",
       "    <tr>\n",
       "      <th>1</th>\n",
       "      <td>0</td>\n",
       "      <td>0.008951</td>\n",
       "      <td>1</td>\n",
       "    </tr>\n",
       "    <tr>\n",
       "      <th>2</th>\n",
       "      <td>0</td>\n",
       "      <td>0.141342</td>\n",
       "      <td>2</td>\n",
       "    </tr>\n",
       "    <tr>\n",
       "      <th>3</th>\n",
       "      <td>0</td>\n",
       "      <td>0.008153</td>\n",
       "      <td>3</td>\n",
       "    </tr>\n",
       "    <tr>\n",
       "      <th>4</th>\n",
       "      <td>0</td>\n",
       "      <td>0.100315</td>\n",
       "      <td>4</td>\n",
       "    </tr>\n",
       "  </tbody>\n",
       "</table>\n",
       "</div>"
      ],
      "text/plain": [
       "   Churned  Churn_Prob  ind\n",
       "0        0    0.724782    0\n",
       "1        0    0.008951    1\n",
       "2        0    0.141342    2\n",
       "3        0    0.008153    3\n",
       "4        0    0.100315    4"
      ]
     },
     "execution_count": 101,
     "metadata": {
      "tags": []
     },
     "output_type": "execute_result"
    }
   ],
   "source": [
    "#Creating a dataframe with the actual churn flag and the predicted probabilities\n",
    "y_train_pred_final = pd.DataFrame({'Churned':y_smt, 'Churn_Prob':y_train_pred})\n",
    "y_train_pred_final['ind']=y_train_pred_final.index\n",
    "y_train_pred_final.head()"
   ]
  },
  {
   "cell_type": "code",
   "execution_count": 102,
   "metadata": {
    "colab": {
     "base_uri": "https://localhost:8080/",
     "height": 204
    },
    "colab_type": "code",
    "id": "KCCcybkWUjHD",
    "outputId": "f7f9d4be-5fe6-4f3a-a78e-233032ee3dd1"
   },
   "outputs": [
    {
     "data": {
      "text/html": [
       "<div>\n",
       "<style scoped>\n",
       "    .dataframe tbody tr th:only-of-type {\n",
       "        vertical-align: middle;\n",
       "    }\n",
       "\n",
       "    .dataframe tbody tr th {\n",
       "        vertical-align: top;\n",
       "    }\n",
       "\n",
       "    .dataframe thead th {\n",
       "        text-align: right;\n",
       "    }\n",
       "</style>\n",
       "<table border=\"1\" class=\"dataframe\">\n",
       "  <thead>\n",
       "    <tr style=\"text-align: right;\">\n",
       "      <th></th>\n",
       "      <th>Churned</th>\n",
       "      <th>Churn_Prob</th>\n",
       "      <th>ind</th>\n",
       "      <th>0.0</th>\n",
       "      <th>0.1</th>\n",
       "      <th>0.2</th>\n",
       "      <th>0.3</th>\n",
       "      <th>0.4</th>\n",
       "      <th>0.5</th>\n",
       "      <th>0.6</th>\n",
       "      <th>0.7</th>\n",
       "      <th>0.8</th>\n",
       "      <th>0.9</th>\n",
       "    </tr>\n",
       "  </thead>\n",
       "  <tbody>\n",
       "    <tr>\n",
       "      <th>0</th>\n",
       "      <td>0</td>\n",
       "      <td>0.724782</td>\n",
       "      <td>0</td>\n",
       "      <td>1</td>\n",
       "      <td>1</td>\n",
       "      <td>1</td>\n",
       "      <td>1</td>\n",
       "      <td>1</td>\n",
       "      <td>1</td>\n",
       "      <td>1</td>\n",
       "      <td>1</td>\n",
       "      <td>0</td>\n",
       "      <td>0</td>\n",
       "    </tr>\n",
       "    <tr>\n",
       "      <th>1</th>\n",
       "      <td>0</td>\n",
       "      <td>0.008951</td>\n",
       "      <td>1</td>\n",
       "      <td>1</td>\n",
       "      <td>0</td>\n",
       "      <td>0</td>\n",
       "      <td>0</td>\n",
       "      <td>0</td>\n",
       "      <td>0</td>\n",
       "      <td>0</td>\n",
       "      <td>0</td>\n",
       "      <td>0</td>\n",
       "      <td>0</td>\n",
       "    </tr>\n",
       "    <tr>\n",
       "      <th>2</th>\n",
       "      <td>0</td>\n",
       "      <td>0.141342</td>\n",
       "      <td>2</td>\n",
       "      <td>1</td>\n",
       "      <td>1</td>\n",
       "      <td>0</td>\n",
       "      <td>0</td>\n",
       "      <td>0</td>\n",
       "      <td>0</td>\n",
       "      <td>0</td>\n",
       "      <td>0</td>\n",
       "      <td>0</td>\n",
       "      <td>0</td>\n",
       "    </tr>\n",
       "    <tr>\n",
       "      <th>3</th>\n",
       "      <td>0</td>\n",
       "      <td>0.008153</td>\n",
       "      <td>3</td>\n",
       "      <td>1</td>\n",
       "      <td>0</td>\n",
       "      <td>0</td>\n",
       "      <td>0</td>\n",
       "      <td>0</td>\n",
       "      <td>0</td>\n",
       "      <td>0</td>\n",
       "      <td>0</td>\n",
       "      <td>0</td>\n",
       "      <td>0</td>\n",
       "    </tr>\n",
       "    <tr>\n",
       "      <th>4</th>\n",
       "      <td>0</td>\n",
       "      <td>0.100315</td>\n",
       "      <td>4</td>\n",
       "      <td>1</td>\n",
       "      <td>1</td>\n",
       "      <td>0</td>\n",
       "      <td>0</td>\n",
       "      <td>0</td>\n",
       "      <td>0</td>\n",
       "      <td>0</td>\n",
       "      <td>0</td>\n",
       "      <td>0</td>\n",
       "      <td>0</td>\n",
       "    </tr>\n",
       "  </tbody>\n",
       "</table>\n",
       "</div>"
      ],
      "text/plain": [
       "   Churned  Churn_Prob  ind  0.0  0.1  0.2  0.3  0.4  0.5  0.6  0.7  0.8  0.9\n",
       "0        0    0.724782    0    1    1    1    1    1    1    1    1    0    0\n",
       "1        0    0.008951    1    1    0    0    0    0    0    0    0    0    0\n",
       "2        0    0.141342    2    1    1    0    0    0    0    0    0    0    0\n",
       "3        0    0.008153    3    1    0    0    0    0    0    0    0    0    0\n",
       "4        0    0.100315    4    1    1    0    0    0    0    0    0    0    0"
      ]
     },
     "execution_count": 102,
     "metadata": {
      "tags": []
     },
     "output_type": "execute_result"
    }
   ],
   "source": [
    "# Let's create columns with different probability cutoffs \n",
    "numbers = [float(x)/10 for x in range(10)]\n",
    "for i in numbers:\n",
    "    y_train_pred_final[i]= y_train_pred_final.Churn_Prob.map(lambda x: 1 if x > i else 0)\n",
    "y_train_pred_final.head()"
   ]
  },
  {
   "cell_type": "code",
   "execution_count": 103,
   "metadata": {
    "colab": {
     "base_uri": "https://localhost:8080/",
     "height": 204
    },
    "colab_type": "code",
    "id": "QgWyi6gHTe-N",
    "outputId": "7c037e69-a627-412d-b240-629969a2092e"
   },
   "outputs": [
    {
     "name": "stdout",
     "output_type": "stream",
     "text": [
      "     prob  accuracy     sensi     speci\n",
      "0.0   0.0  0.500000  1.000000  0.000000\n",
      "0.1   0.1  0.702573  0.979872  0.425274\n",
      "0.2   0.2  0.766354  0.957307  0.575401\n",
      "0.3   0.3  0.805130  0.931265  0.678996\n",
      "0.4   0.4  0.828293  0.899466  0.757120\n",
      "0.5   0.5  0.838798  0.857758  0.819837\n",
      "0.6   0.6  0.838123  0.803030  0.873217\n",
      "0.7   0.7  0.819604  0.726565  0.912642\n",
      "0.8   0.8  0.768662  0.591067  0.946257\n",
      "0.9   0.9  0.642735  0.309229  0.976241\n"
     ]
    }
   ],
   "source": [
    "# Now let's calculate accuracy sensitivity and specificity for various probability cutoffs.\n",
    "cutoff_df = pd.DataFrame( columns = ['prob','accuracy','sensi','speci'])\n",
    "from sklearn.metrics import confusion_matrix\n",
    "\n",
    "num = [0.0,0.1,0.2,0.3,0.4,0.5,0.6,0.7,0.8,0.9]\n",
    "for i in num:\n",
    "    cm1 = metrics.confusion_matrix(y_train_pred_final.Churned, y_train_pred_final[i] )\n",
    "    total1=sum(sum(cm1))\n",
    "    accuracy = (cm1[0,0]+cm1[1,1])/total1\n",
    "    \n",
    "    speci = cm1[0,0]/(cm1[0,0]+cm1[0,1])\n",
    "    sensi = cm1[1,1]/(cm1[1,0]+cm1[1,1])\n",
    "    cutoff_df.loc[i] =[ i ,accuracy,sensi,speci]\n",
    "print(cutoff_df)"
   ]
  },
  {
   "cell_type": "code",
   "execution_count": 104,
   "metadata": {
    "colab": {
     "base_uri": "https://localhost:8080/",
     "height": 279
    },
    "colab_type": "code",
    "id": "SBPnsR8STxki",
    "outputId": "22e0d52d-fb57-4747-e810-23dcd2684590"
   },
   "outputs": [
    {
     "data": {
      "image/png": "[encoded data removed]",
      "text/plain": [
       "<Figure size 432x288 with 1 Axes>"
      ]
     },
     "metadata": {
      "tags": []
     },
     "output_type": "display_data"
    }
   ],
   "source": [
    "# Let's plot accuracy sensitivity and specificity for various probabilities.\n",
    "cutoff_df.plot.line(x='prob', y=['accuracy','sensi','speci'])\n",
    "plt.show()"
   ]
  },
  {
   "cell_type": "code",
   "execution_count": 105,
   "metadata": {
    "colab": {
     "base_uri": "https://localhost:8080/",
     "height": 204
    },
    "colab_type": "code",
    "id": "NEbSGtH3U5Hx",
    "outputId": "b263b8d7-5306-4aaa-c9f6-43f8d1a7e6fb"
   },
   "outputs": [
    {
     "data": {
      "text/html": [
       "<div>\n",
       "<style scoped>\n",
       "    .dataframe tbody tr th:only-of-type {\n",
       "        vertical-align: middle;\n",
       "    }\n",
       "\n",
       "    .dataframe tbody tr th {\n",
       "        vertical-align: top;\n",
       "    }\n",
       "\n",
       "    .dataframe thead th {\n",
       "        text-align: right;\n",
       "    }\n",
       "</style>\n",
       "<table border=\"1\" class=\"dataframe\">\n",
       "  <thead>\n",
       "    <tr style=\"text-align: right;\">\n",
       "      <th></th>\n",
       "      <th>Churned</th>\n",
       "      <th>Churn_Prob</th>\n",
       "      <th>ind</th>\n",
       "      <th>0.0</th>\n",
       "      <th>0.1</th>\n",
       "      <th>0.2</th>\n",
       "      <th>0.3</th>\n",
       "      <th>0.4</th>\n",
       "      <th>0.5</th>\n",
       "      <th>0.6</th>\n",
       "      <th>0.7</th>\n",
       "      <th>0.8</th>\n",
       "      <th>0.9</th>\n",
       "      <th>predicted</th>\n",
       "    </tr>\n",
       "  </thead>\n",
       "  <tbody>\n",
       "    <tr>\n",
       "      <th>0</th>\n",
       "      <td>0</td>\n",
       "      <td>0.724782</td>\n",
       "      <td>0</td>\n",
       "      <td>1</td>\n",
       "      <td>1</td>\n",
       "      <td>1</td>\n",
       "      <td>1</td>\n",
       "      <td>1</td>\n",
       "      <td>1</td>\n",
       "      <td>1</td>\n",
       "      <td>1</td>\n",
       "      <td>0</td>\n",
       "      <td>0</td>\n",
       "      <td>1</td>\n",
       "    </tr>\n",
       "    <tr>\n",
       "      <th>1</th>\n",
       "      <td>0</td>\n",
       "      <td>0.008951</td>\n",
       "      <td>1</td>\n",
       "      <td>1</td>\n",
       "      <td>0</td>\n",
       "      <td>0</td>\n",
       "      <td>0</td>\n",
       "      <td>0</td>\n",
       "      <td>0</td>\n",
       "      <td>0</td>\n",
       "      <td>0</td>\n",
       "      <td>0</td>\n",
       "      <td>0</td>\n",
       "      <td>0</td>\n",
       "    </tr>\n",
       "    <tr>\n",
       "      <th>2</th>\n",
       "      <td>0</td>\n",
       "      <td>0.141342</td>\n",
       "      <td>2</td>\n",
       "      <td>1</td>\n",
       "      <td>1</td>\n",
       "      <td>0</td>\n",
       "      <td>0</td>\n",
       "      <td>0</td>\n",
       "      <td>0</td>\n",
       "      <td>0</td>\n",
       "      <td>0</td>\n",
       "      <td>0</td>\n",
       "      <td>0</td>\n",
       "      <td>0</td>\n",
       "    </tr>\n",
       "    <tr>\n",
       "      <th>3</th>\n",
       "      <td>0</td>\n",
       "      <td>0.008153</td>\n",
       "      <td>3</td>\n",
       "      <td>1</td>\n",
       "      <td>0</td>\n",
       "      <td>0</td>\n",
       "      <td>0</td>\n",
       "      <td>0</td>\n",
       "      <td>0</td>\n",
       "      <td>0</td>\n",
       "      <td>0</td>\n",
       "      <td>0</td>\n",
       "      <td>0</td>\n",
       "      <td>0</td>\n",
       "    </tr>\n",
       "    <tr>\n",
       "      <th>4</th>\n",
       "      <td>0</td>\n",
       "      <td>0.100315</td>\n",
       "      <td>4</td>\n",
       "      <td>1</td>\n",
       "      <td>1</td>\n",
       "      <td>0</td>\n",
       "      <td>0</td>\n",
       "      <td>0</td>\n",
       "      <td>0</td>\n",
       "      <td>0</td>\n",
       "      <td>0</td>\n",
       "      <td>0</td>\n",
       "      <td>0</td>\n",
       "      <td>0</td>\n",
       "    </tr>\n",
       "  </tbody>\n",
       "</table>\n",
       "</div>"
      ],
      "text/plain": [
       "   Churned  Churn_Prob  ind  0.0  0.1  0.2  ...  0.5  0.6  0.7  0.8  0.9  predicted\n",
       "0        0    0.724782    0    1    1    1  ...    1    1    1    0    0          1\n",
       "1        0    0.008951    1    1    0    0  ...    0    0    0    0    0          0\n",
       "2        0    0.141342    2    1    1    0  ...    0    0    0    0    0          0\n",
       "3        0    0.008153    3    1    0    0  ...    0    0    0    0    0          0\n",
       "4        0    0.100315    4    1    1    0  ...    0    0    0    0    0          0\n",
       "\n",
       "[5 rows x 14 columns]"
      ]
     },
     "execution_count": 105,
     "metadata": {
      "tags": []
     },
     "output_type": "execute_result"
    }
   ],
   "source": [
    "# Creating new column 'predicted' with 1 if conversion_Prob > 0.5 else 0\n",
    "y_train_pred_final['predicted'] = y_train_pred_final.Churn_Prob.map(lambda x: 1 if x >= 0.5 else 0)\n",
    "y_train_pred_final.head()"
   ]
  },
  {
   "cell_type": "code",
   "execution_count": 106,
   "metadata": {
    "colab": {
     "base_uri": "https://localhost:8080/",
     "height": 265
    },
    "colab_type": "code",
    "id": "0cySe8ciVU0r",
    "outputId": "471e234b-90e0-4355-e988-0579dca8ce81"
   },
   "outputs": [
    {
     "data": {
      "image/png": "[encoded data removed]",
      "text/plain": [
       "<Figure size 432x288 with 1 Axes>"
      ]
     },
     "metadata": {
      "tags": []
     },
     "output_type": "display_data"
    }
   ],
   "source": [
    "from sklearn.metrics import precision_recall_curve\n",
    "y_train_pred_final.Churned, y_train_pred_final.predicted\n",
    "p, r, thresholds = precision_recall_curve(y_train_pred_final.Churned, y_train_pred_final.Churn_Prob)\n",
    "plt.plot(thresholds, p[:-1], \"g-\")\n",
    "plt.plot(thresholds, r[:-1], \"r-\")\n",
    "plt.show()"
   ]
  },
  {
   "cell_type": "markdown",
   "metadata": {
    "colab_type": "text",
    "id": "iY1l7H8XVr7q"
   },
   "source": [
    "### Evaluating model performance"
   ]
  },
  {
   "cell_type": "code",
   "execution_count": 107,
   "metadata": {
    "colab": {
     "base_uri": "https://localhost:8080/",
     "height": 68
    },
    "colab_type": "code",
    "id": "x3IpLVtIVqQv",
    "outputId": "21ace3bc-285e-4be3-e571-ddb56f9ce83c"
   },
   "outputs": [
    {
     "name": "stdout",
     "output_type": "stream",
     "text": [
      "Accuracy is:  0.8387975307361104\n",
      "[[15804  3473]\n",
      " [ 2742 16535]]\n"
     ]
    }
   ],
   "source": [
    "# Overall accuracy.\n",
    "print(\"Accuracy is: \",metrics.accuracy_score(y_train_pred_final.Churned, y_train_pred_final.predicted))\n",
    "# Confusion matrix \n",
    "confusion = metrics.confusion_matrix(y_train_pred_final.Churned, y_train_pred_final.predicted )\n",
    "print(confusion)"
   ]
  },
  {
   "cell_type": "code",
   "execution_count": 108,
   "metadata": {
    "colab": {
     "base_uri": "https://localhost:8080/",
     "height": 102
    },
    "colab_type": "code",
    "id": "Buf8c1oBVZ7A",
    "outputId": "cc83b4aa-7b55-4da8-fbf7-e7175956052e"
   },
   "outputs": [
    {
     "name": "stdout",
     "output_type": "stream",
     "text": [
      "Sensitivity/ Recall                  =  0.8577579498884681\n",
      "Specificity                          =  0.8198371115837526\n",
      "False positive rate                  =  0.18016288841624734\n",
      "Positive predictive value/Precision  =  0.8264194322271091\n",
      "Negative predictive value            =  0.8521514073115497\n"
     ]
    }
   ],
   "source": [
    "TP = confusion[1,1] # true positive \n",
    "TN = confusion[0,0] # true negatives\n",
    "FP = confusion[0,1] # false positives\n",
    "FN = confusion[1,0] # false negatives\n",
    "# Printing other performance meterics\n",
    "print('Sensitivity/ Recall                  = ', TP / float(TP+FN))\n",
    "print('Specificity                          = ',TN / float(TN+FP))\n",
    "print('False positive rate                  = ',FP/ float(TN+FP))\n",
    "print ('Positive predictive value/Precision  = ',TP / float(TP+FP))\n",
    "print ('Negative predictive value            = ', TN / float(TN+FN))\n"
   ]
  },
  {
   "cell_type": "code",
   "execution_count": 0,
   "metadata": {
    "colab": {},
    "colab_type": "code",
    "id": "koG0j3oBWAkx"
   },
   "outputs": [],
   "source": [
    "def draw_roc( actual, probs ):\n",
    "    fpr, tpr, thresholds = metrics.roc_curve( actual, probs,\n",
    "                                              drop_intermediate = False )\n",
    "    auc_score = metrics.roc_auc_score( actual, probs )\n",
    "    plt.figure(figsize=(5, 5))\n",
    "    plt.plot( fpr, tpr, label='ROC curve (area = %0.2f)' % auc_score )\n",
    "    plt.plot([0, 1], [0, 1], 'k--')\n",
    "    plt.xlim([0.0, 1.0])\n",
    "    plt.ylim([0.0, 1.05])\n",
    "    plt.xlabel('False Positive Rate or [1 - True Negative Rate]')\n",
    "    plt.ylabel('True Positive Rate')\n",
    "    plt.title('Receiver operating characteristic example')\n",
    "    plt.legend(loc=\"lower right\")\n",
    "    plt.show()\n",
    "\n",
    "    return None"
   ]
  },
  {
   "cell_type": "code",
   "execution_count": 110,
   "metadata": {
    "colab": {
     "base_uri": "https://localhost:8080/",
     "height": 350
    },
    "colab_type": "code",
    "id": "KuyUIcluWN1b",
    "outputId": "878defa1-7748-4a44-e212-74e9187cd14b"
   },
   "outputs": [
    {
     "data": {
      "image/png": "[encoded data removed]",
      "text/plain": [
       "<Figure size 360x360 with 1 Axes>"
      ]
     },
     "metadata": {
      "tags": []
     },
     "output_type": "display_data"
    }
   ],
   "source": [
    "# Finding the ROC curve\n",
    "fpr, tpr, thresholds = metrics.roc_curve( y_train_pred_final.Churned, y_train_pred_final.Churn_Prob, drop_intermediate = False )\n",
    "draw_roc(y_train_pred_final.Churned, y_train_pred_final.Churn_Prob)"
   ]
  },
  {
   "cell_type": "code",
   "execution_count": 111,
   "metadata": {
    "colab": {
     "base_uri": "https://localhost:8080/",
     "height": 204
    },
    "colab_type": "code",
    "id": "6nGUVCVuWYxS",
    "outputId": "b3f7c292-08b2-48cf-a573-e765b1735ebb"
   },
   "outputs": [
    {
     "data": {
      "text/html": [
       "<div>\n",
       "<style scoped>\n",
       "    .dataframe tbody tr th:only-of-type {\n",
       "        vertical-align: middle;\n",
       "    }\n",
       "\n",
       "    .dataframe tbody tr th {\n",
       "        vertical-align: top;\n",
       "    }\n",
       "\n",
       "    .dataframe thead th {\n",
       "        text-align: right;\n",
       "    }\n",
       "</style>\n",
       "<table border=\"1\" class=\"dataframe\">\n",
       "  <thead>\n",
       "    <tr style=\"text-align: right;\">\n",
       "      <th></th>\n",
       "      <th>0</th>\n",
       "    </tr>\n",
       "  </thead>\n",
       "  <tbody>\n",
       "    <tr>\n",
       "      <th>0</th>\n",
       "      <td>0.001422</td>\n",
       "    </tr>\n",
       "    <tr>\n",
       "      <th>1</th>\n",
       "      <td>0.429782</td>\n",
       "    </tr>\n",
       "    <tr>\n",
       "      <th>2</th>\n",
       "      <td>0.010469</td>\n",
       "    </tr>\n",
       "    <tr>\n",
       "      <th>3</th>\n",
       "      <td>0.981876</td>\n",
       "    </tr>\n",
       "    <tr>\n",
       "      <th>4</th>\n",
       "      <td>0.860532</td>\n",
       "    </tr>\n",
       "  </tbody>\n",
       "</table>\n",
       "</div>"
      ],
      "text/plain": [
       "          0\n",
       "0  0.001422\n",
       "1  0.429782\n",
       "2  0.010469\n",
       "3  0.981876\n",
       "4  0.860532"
      ]
     },
     "execution_count": 111,
     "metadata": {
      "tags": []
     },
     "output_type": "execute_result"
    }
   ],
   "source": [
    "X_test_sm = stm.add_constant(df_test_pca)\n",
    "#Making predictions on the test set\n",
    "y_test_pred = res1.predict(X_test_sm)\n",
    "\n",
    "# Converting y_pred to a dataframe which is an array\n",
    "y_pred_1 = pd.DataFrame(y_test_pred)\n",
    "y_pred_1.head()"
   ]
  },
  {
   "cell_type": "code",
   "execution_count": 112,
   "metadata": {
    "colab": {
     "base_uri": "https://localhost:8080/",
     "height": 204
    },
    "colab_type": "code",
    "id": "HXDXgxmxWsqS",
    "outputId": "27c428d6-4fc0-4582-9917-b394ccad8372"
   },
   "outputs": [
    {
     "data": {
      "text/html": [
       "<div>\n",
       "<style scoped>\n",
       "    .dataframe tbody tr th:only-of-type {\n",
       "        vertical-align: middle;\n",
       "    }\n",
       "\n",
       "    .dataframe tbody tr th {\n",
       "        vertical-align: top;\n",
       "    }\n",
       "\n",
       "    .dataframe thead th {\n",
       "        text-align: right;\n",
       "    }\n",
       "</style>\n",
       "<table border=\"1\" class=\"dataframe\">\n",
       "  <thead>\n",
       "    <tr style=\"text-align: right;\">\n",
       "      <th></th>\n",
       "      <th>Churn</th>\n",
       "      <th>CustID</th>\n",
       "      <th>Churn_Prob</th>\n",
       "    </tr>\n",
       "  </thead>\n",
       "  <tbody>\n",
       "    <tr>\n",
       "      <th>0</th>\n",
       "      <td>0</td>\n",
       "      <td>53991</td>\n",
       "      <td>0.001422</td>\n",
       "    </tr>\n",
       "    <tr>\n",
       "      <th>1</th>\n",
       "      <td>1</td>\n",
       "      <td>8279</td>\n",
       "      <td>0.429782</td>\n",
       "    </tr>\n",
       "    <tr>\n",
       "      <th>2</th>\n",
       "      <td>0</td>\n",
       "      <td>61559</td>\n",
       "      <td>0.010469</td>\n",
       "    </tr>\n",
       "    <tr>\n",
       "      <th>3</th>\n",
       "      <td>1</td>\n",
       "      <td>49668</td>\n",
       "      <td>0.981876</td>\n",
       "    </tr>\n",
       "    <tr>\n",
       "      <th>4</th>\n",
       "      <td>1</td>\n",
       "      <td>93509</td>\n",
       "      <td>0.860532</td>\n",
       "    </tr>\n",
       "  </tbody>\n",
       "</table>\n",
       "</div>"
      ],
      "text/plain": [
       "   Churn  CustID  Churn_Prob\n",
       "0      0   53991    0.001422\n",
       "1      1    8279    0.429782\n",
       "2      0   61559    0.010469\n",
       "3      1   49668    0.981876\n",
       "4      1   93509    0.860532"
      ]
     },
     "execution_count": 112,
     "metadata": {
      "tags": []
     },
     "output_type": "execute_result"
    }
   ],
   "source": [
    "# Converting y_test to dataframe\n",
    "y_test_df = pd.DataFrame(y_test)\n",
    "\n",
    "# Putting CustID to index\n",
    "y_test_df['CustID'] = y_test_df.index\n",
    "\n",
    "# Removing index for both dataframes to append them side by side \n",
    "y_pred_1.reset_index(drop=True, inplace=True)\n",
    "y_test_df.reset_index(drop=True, inplace=True)\n",
    "\n",
    "# Appending y_test_df and y_pred_1\n",
    "y_pred_final = pd.concat([y_test_df, y_pred_1],axis=1)\n",
    "y_pred_final= y_pred_final.rename(columns={ 0 : 'Churn_Prob'})\n",
    "y_pred_final.head()"
   ]
  },
  {
   "cell_type": "code",
   "execution_count": 113,
   "metadata": {
    "colab": {
     "base_uri": "https://localhost:8080/",
     "height": 204
    },
    "colab_type": "code",
    "id": "AhFzV13OZxkq",
    "outputId": "e35c97d1-b582-40b5-fa19-db12e0728ab5"
   },
   "outputs": [
    {
     "data": {
      "text/html": [
       "<div>\n",
       "<style scoped>\n",
       "    .dataframe tbody tr th:only-of-type {\n",
       "        vertical-align: middle;\n",
       "    }\n",
       "\n",
       "    .dataframe tbody tr th {\n",
       "        vertical-align: top;\n",
       "    }\n",
       "\n",
       "    .dataframe thead th {\n",
       "        text-align: right;\n",
       "    }\n",
       "</style>\n",
       "<table border=\"1\" class=\"dataframe\">\n",
       "  <thead>\n",
       "    <tr style=\"text-align: right;\">\n",
       "      <th></th>\n",
       "      <th>Churn</th>\n",
       "      <th>CustID</th>\n",
       "      <th>Churn_Prob</th>\n",
       "      <th>final_predicted</th>\n",
       "    </tr>\n",
       "  </thead>\n",
       "  <tbody>\n",
       "    <tr>\n",
       "      <th>0</th>\n",
       "      <td>0</td>\n",
       "      <td>53991</td>\n",
       "      <td>0.001422</td>\n",
       "      <td>0</td>\n",
       "    </tr>\n",
       "    <tr>\n",
       "      <th>1</th>\n",
       "      <td>1</td>\n",
       "      <td>8279</td>\n",
       "      <td>0.429782</td>\n",
       "      <td>0</td>\n",
       "    </tr>\n",
       "    <tr>\n",
       "      <th>2</th>\n",
       "      <td>0</td>\n",
       "      <td>61559</td>\n",
       "      <td>0.010469</td>\n",
       "      <td>0</td>\n",
       "    </tr>\n",
       "    <tr>\n",
       "      <th>3</th>\n",
       "      <td>1</td>\n",
       "      <td>49668</td>\n",
       "      <td>0.981876</td>\n",
       "      <td>1</td>\n",
       "    </tr>\n",
       "    <tr>\n",
       "      <th>4</th>\n",
       "      <td>1</td>\n",
       "      <td>93509</td>\n",
       "      <td>0.860532</td>\n",
       "      <td>1</td>\n",
       "    </tr>\n",
       "  </tbody>\n",
       "</table>\n",
       "</div>"
      ],
      "text/plain": [
       "   Churn  CustID  Churn_Prob  final_predicted\n",
       "0      0   53991    0.001422                0\n",
       "1      1    8279    0.429782                0\n",
       "2      0   61559    0.010469                0\n",
       "3      1   49668    0.981876                1\n",
       "4      1   93509    0.860532                1"
      ]
     },
     "execution_count": 113,
     "metadata": {
      "tags": []
     },
     "output_type": "execute_result"
    }
   ],
   "source": [
    "# Final prediction\n",
    "y_pred_final['final_predicted'] = y_pred_final.Churn_Prob.map(lambda x: 1 if x > 0.5 else 0)\n",
    "\n",
    "y_pred_final.head()"
   ]
  },
  {
   "cell_type": "code",
   "execution_count": 114,
   "metadata": {
    "colab": {
     "base_uri": "https://localhost:8080/",
     "height": 34
    },
    "colab_type": "code",
    "id": "tgOoXQY9aIeC",
    "outputId": "18039b13-76b6-4409-e7d3-f1d66dbf07ef"
   },
   "outputs": [
    {
     "data": {
      "text/plain": [
       "0.8267777777777777"
      ]
     },
     "execution_count": 114,
     "metadata": {
      "tags": []
     },
     "output_type": "execute_result"
    }
   ],
   "source": [
    "# Let's check the overall accuracy.\n",
    "metrics.accuracy_score(y_pred_final.Churn, y_pred_final.final_predicted)"
   ]
  },
  {
   "cell_type": "code",
   "execution_count": 115,
   "metadata": {
    "colab": {
     "base_uri": "https://localhost:8080/",
     "height": 51
    },
    "colab_type": "code",
    "id": "TEcL79EOab0U",
    "outputId": "ed3cde7d-4141-4e21-eb3e-0b0cdb90d991"
   },
   "outputs": [
    {
     "data": {
      "text/plain": [
       "array([[6839, 1440],\n",
       "       [ 119,  602]])"
      ]
     },
     "execution_count": 115,
     "metadata": {
      "tags": []
     },
     "output_type": "execute_result"
    }
   ],
   "source": [
    "confusion2 = metrics.confusion_matrix(y_pred_final.Churn, y_pred_final.final_predicted )\n",
    "confusion2"
   ]
  },
  {
   "cell_type": "code",
   "execution_count": 116,
   "metadata": {
    "colab": {
     "base_uri": "https://localhost:8080/",
     "height": 102
    },
    "colab_type": "code",
    "id": "Wsg6M_PNag2l",
    "outputId": "c8da9107-1ab9-499b-d957-7fd283efe481"
   },
   "outputs": [
    {
     "name": "stdout",
     "output_type": "stream",
     "text": [
      "Sensitivity/ Recall                  =  0.8349514563106796\n",
      "Specificity                          =  0.8260659499939607\n",
      "false positive rate                  =  0.17393405000603937\n",
      "Positive predictive value/Precision  =  0.2948090107737512\n",
      "Negative predictive value            =  0.9828973843058351\n"
     ]
    }
   ],
   "source": [
    "TP = confusion2[1,1] # true positive \n",
    "TN = confusion2[0,0] # true negatives\n",
    "FP = confusion2[0,1] # false positives\n",
    "FN = confusion2[1,0] # false negatives\n",
    "# Printing other performance meterics\n",
    "print('Sensitivity/ Recall                  = ', TP / float(TP+FN))\n",
    "print('Specificity                          = ',TN / float(TN+FP))\n",
    "print('false positive rate                  = ',FP/ float(TN+FP))\n",
    "print ('Positive predictive value/Precision  = ',TP / float(TP+FP))\n",
    "print ('Negative predictive value            = ', TN / float(TN+FN))"
   ]
  },
  {
   "cell_type": "code",
   "execution_count": 0,
   "metadata": {
    "colab": {},
    "colab_type": "code",
    "id": "vtNWWXx7amK7"
   },
   "outputs": [],
   "source": [
    "# A very low precision is observed for test set"
   ]
  },
  {
   "cell_type": "code",
   "execution_count": 0,
   "metadata": {
    "colab": {},
    "colab_type": "code",
    "id": "ZOXD4rNjax5z"
   },
   "outputs": [],
   "source": [
    "fpr, tpr, thresholds = metrics.roc_curve( y_pred_final.Churn, y_pred_final.Churn_Prob, drop_intermediate = False )"
   ]
  },
  {
   "cell_type": "code",
   "execution_count": 119,
   "metadata": {
    "colab": {
     "base_uri": "https://localhost:8080/",
     "height": 350
    },
    "colab_type": "code",
    "id": "FOJibuHXa32L",
    "outputId": "1fa2152a-562b-4d84-e9f1-c3658744cd65"
   },
   "outputs": [
    {
     "data": {
      "image/png": "[encoded data removed]",
      "text/plain": [
       "<Figure size 360x360 with 1 Axes>"
      ]
     },
     "metadata": {
      "tags": []
     },
     "output_type": "display_data"
    }
   ],
   "source": [
    "draw_roc(y_pred_final.Churn, y_pred_final.Churn_Prob)"
   ]
  },
  {
   "cell_type": "markdown",
   "metadata": {
    "colab_type": "text",
    "id": "0KuFHO6DA7l9"
   },
   "source": [
    "### Logistic Regression using RFE"
   ]
  },
  {
   "cell_type": "code",
   "execution_count": 120,
   "metadata": {
    "colab": {
     "base_uri": "https://localhost:8080/",
     "height": 1000
    },
    "colab_type": "code",
    "id": "Ode9HxX7A7ME",
    "outputId": "614981fb-6c4d-4f28-a82c-8df1fa20d13e"
   },
   "outputs": [
    {
     "data": {
      "text/html": [
       "<table class=\"simpletable\">\n",
       "<caption>Generalized Linear Model Regression Results</caption>\n",
       "<tr>\n",
       "  <th>Dep. Variable:</th>         <td>Churn</td>      <th>  No. Observations:  </th>  <td> 38554</td> \n",
       "</tr>\n",
       "<tr>\n",
       "  <th>Model:</th>                  <td>GLM</td>       <th>  Df Residuals:      </th>  <td> 38491</td> \n",
       "</tr>\n",
       "<tr>\n",
       "  <th>Model Family:</th>        <td>Binomial</td>     <th>  Df Model:          </th>  <td>    62</td> \n",
       "</tr>\n",
       "<tr>\n",
       "  <th>Link Function:</th>         <td>logit</td>      <th>  Scale:             </th> <td>  1.0000</td>\n",
       "</tr>\n",
       "<tr>\n",
       "  <th>Method:</th>                <td>IRLS</td>       <th>  Log-Likelihood:    </th> <td> -14101.</td>\n",
       "</tr>\n",
       "<tr>\n",
       "  <th>Date:</th>            <td>Mon, 27 Jan 2020</td> <th>  Deviance:          </th> <td>  28203.</td>\n",
       "</tr>\n",
       "<tr>\n",
       "  <th>Time:</th>                <td>16:30:10</td>     <th>  Pearson chi2:      </th> <td>2.90e+07</td>\n",
       "</tr>\n",
       "<tr>\n",
       "  <th>No. Iterations:</th>          <td>9</td>        <th>                     </th>     <td> </td>   \n",
       "</tr>\n",
       "<tr>\n",
       "  <th>Covariance Type:</th>     <td>nonrobust</td>    <th>                     </th>     <td> </td>   \n",
       "</tr>\n",
       "</table>\n",
       "<table class=\"simpletable\">\n",
       "<tr>\n",
       "             <td></td>                <th>coef</th>     <th>std err</th>      <th>z</th>      <th>P>|z|</th>  <th>[0.025</th>    <th>0.975]</th>  \n",
       "</tr>\n",
       "<tr>\n",
       "  <th>const</th>                   <td>   -0.3949</td> <td>    0.022</td> <td>  -17.913</td> <td> 0.000</td> <td>   -0.438</td> <td>   -0.352</td>\n",
       "</tr>\n",
       "<tr>\n",
       "  <th>onnet_mou_8</th>             <td>    0.5419</td> <td>    0.097</td> <td>    5.569</td> <td> 0.000</td> <td>    0.351</td> <td>    0.733</td>\n",
       "</tr>\n",
       "<tr>\n",
       "  <th>roam_ic_mou_8</th>           <td>   -0.0060</td> <td>    0.022</td> <td>   -0.274</td> <td> 0.784</td> <td>   -0.049</td> <td>    0.037</td>\n",
       "</tr>\n",
       "<tr>\n",
       "  <th>roam_og_mou_8</th>           <td>    0.0121</td> <td>    0.029</td> <td>    0.418</td> <td> 0.676</td> <td>   -0.045</td> <td>    0.069</td>\n",
       "</tr>\n",
       "<tr>\n",
       "  <th>loc_og_t2f_mou_8</th>        <td> 6.628e-05</td> <td>    0.022</td> <td>    0.003</td> <td> 0.998</td> <td>   -0.043</td> <td>    0.043</td>\n",
       "</tr>\n",
       "<tr>\n",
       "  <th>loc_og_t2c_mou_8</th>        <td>    0.1213</td> <td>    0.021</td> <td>    5.901</td> <td> 0.000</td> <td>    0.081</td> <td>    0.162</td>\n",
       "</tr>\n",
       "<tr>\n",
       "  <th>loc_og_mou_8</th>            <td>   -0.1802</td> <td>    0.050</td> <td>   -3.600</td> <td> 0.000</td> <td>   -0.278</td> <td>   -0.082</td>\n",
       "</tr>\n",
       "<tr>\n",
       "  <th>std_og_t2m_mou_8</th>        <td>    0.4612</td> <td>    0.085</td> <td>    5.416</td> <td> 0.000</td> <td>    0.294</td> <td>    0.628</td>\n",
       "</tr>\n",
       "<tr>\n",
       "  <th>std_og_t2f_mou_8</th>        <td>    0.0043</td> <td>    0.019</td> <td>    0.227</td> <td> 0.821</td> <td>   -0.033</td> <td>    0.042</td>\n",
       "</tr>\n",
       "<tr>\n",
       "  <th>isd_og_mou_8</th>            <td>    0.0572</td> <td>    0.017</td> <td>    3.436</td> <td> 0.001</td> <td>    0.025</td> <td>    0.090</td>\n",
       "</tr>\n",
       "<tr>\n",
       "  <th>spl_og_mou_8</th>            <td>   -0.0286</td> <td>    0.027</td> <td>   -1.052</td> <td> 0.293</td> <td>   -0.082</td> <td>    0.025</td>\n",
       "</tr>\n",
       "<tr>\n",
       "  <th>og_others_8</th>             <td>   -0.7845</td> <td>    0.256</td> <td>   -3.060</td> <td> 0.002</td> <td>   -1.287</td> <td>   -0.282</td>\n",
       "</tr>\n",
       "<tr>\n",
       "  <th>total_og_mou_8</th>          <td>   -1.4283</td> <td>    0.154</td> <td>   -9.288</td> <td> 0.000</td> <td>   -1.730</td> <td>   -1.127</td>\n",
       "</tr>\n",
       "<tr>\n",
       "  <th>loc_ic_t2t_mou_8</th>        <td> 7334.1079</td> <td>  245.956</td> <td>   29.819</td> <td> 0.000</td> <td> 6852.043</td> <td> 7816.173</td>\n",
       "</tr>\n",
       "<tr>\n",
       "  <th>loc_ic_t2m_mou_8</th>        <td> 1.055e+04</td> <td>  353.782</td> <td>   29.819</td> <td> 0.000</td> <td> 9856.128</td> <td> 1.12e+04</td>\n",
       "</tr>\n",
       "<tr>\n",
       "  <th>loc_ic_t2f_mou_8</th>        <td> 2013.6162</td> <td>   67.527</td> <td>   29.819</td> <td> 0.000</td> <td> 1881.266</td> <td> 2145.967</td>\n",
       "</tr>\n",
       "<tr>\n",
       "  <th>std_ic_t2t_mou_8</th>        <td>   -0.2645</td> <td>    0.049</td> <td>   -5.368</td> <td> 0.000</td> <td>   -0.361</td> <td>   -0.168</td>\n",
       "</tr>\n",
       "<tr>\n",
       "  <th>std_ic_t2f_mou_8</th>        <td>   -0.0698</td> <td>    0.039</td> <td>   -1.796</td> <td> 0.073</td> <td>   -0.146</td> <td>    0.006</td>\n",
       "</tr>\n",
       "<tr>\n",
       "  <th>std_ic_mou_8</th>            <td> 6584.5754</td> <td>  220.804</td> <td>   29.821</td> <td> 0.000</td> <td> 6151.807</td> <td> 7017.344</td>\n",
       "</tr>\n",
       "<tr>\n",
       "  <th>total_ic_mou_8</th>          <td>-1.789e+04</td> <td>  599.931</td> <td>  -29.822</td> <td> 0.000</td> <td>-1.91e+04</td> <td>-1.67e+04</td>\n",
       "</tr>\n",
       "<tr>\n",
       "  <th>spl_ic_mou_8</th>            <td>    5.6877</td> <td>    0.204</td> <td>   27.944</td> <td> 0.000</td> <td>    5.289</td> <td>    6.087</td>\n",
       "</tr>\n",
       "<tr>\n",
       "  <th>isd_ic_mou_8</th>            <td> 3066.4336</td> <td>  102.825</td> <td>   29.822</td> <td> 0.000</td> <td> 2864.900</td> <td> 3267.967</td>\n",
       "</tr>\n",
       "<tr>\n",
       "  <th>ic_others_8</th>             <td>  569.6321</td> <td>   19.098</td> <td>   29.827</td> <td> 0.000</td> <td>  532.201</td> <td>  607.063</td>\n",
       "</tr>\n",
       "<tr>\n",
       "  <th>total_rech_num_8</th>        <td>   -0.4201</td> <td>    0.036</td> <td>  -11.744</td> <td> 0.000</td> <td>   -0.490</td> <td>   -0.350</td>\n",
       "</tr>\n",
       "<tr>\n",
       "  <th>total_rech_amt_8</th>        <td>    0.0023</td> <td>    0.052</td> <td>    0.045</td> <td> 0.964</td> <td>   -0.099</td> <td>    0.103</td>\n",
       "</tr>\n",
       "<tr>\n",
       "  <th>max_rech_amt_8</th>          <td>    0.1114</td> <td>    0.030</td> <td>    3.713</td> <td> 0.000</td> <td>    0.053</td> <td>    0.170</td>\n",
       "</tr>\n",
       "<tr>\n",
       "  <th>last_day_rch_amt_8</th>      <td>   -0.5068</td> <td>    0.025</td> <td>  -20.442</td> <td> 0.000</td> <td>   -0.555</td> <td>   -0.458</td>\n",
       "</tr>\n",
       "<tr>\n",
       "  <th>total_rech_data_8</th>       <td>   -0.5731</td> <td>    0.036</td> <td>  -16.064</td> <td> 0.000</td> <td>   -0.643</td> <td>   -0.503</td>\n",
       "</tr>\n",
       "<tr>\n",
       "  <th>vol_2g_mb_8</th>             <td>   -0.2499</td> <td>    0.029</td> <td>   -8.588</td> <td> 0.000</td> <td>   -0.307</td> <td>   -0.193</td>\n",
       "</tr>\n",
       "<tr>\n",
       "  <th>vol_3g_mb_8</th>             <td>   -0.0470</td> <td>    0.034</td> <td>   -1.372</td> <td> 0.170</td> <td>   -0.114</td> <td>    0.020</td>\n",
       "</tr>\n",
       "<tr>\n",
       "  <th>monthly_2g_8</th>            <td>   -0.2751</td> <td>    0.026</td> <td>  -10.401</td> <td> 0.000</td> <td>   -0.327</td> <td>   -0.223</td>\n",
       "</tr>\n",
       "<tr>\n",
       "  <th>monthly_3g_8</th>            <td>   -0.2501</td> <td>    0.032</td> <td>   -7.769</td> <td> 0.000</td> <td>   -0.313</td> <td>   -0.187</td>\n",
       "</tr>\n",
       "<tr>\n",
       "  <th>sachet_3g_8</th>             <td>   -0.0467</td> <td>    0.040</td> <td>   -1.181</td> <td> 0.238</td> <td>   -0.124</td> <td>    0.031</td>\n",
       "</tr>\n",
       "<tr>\n",
       "  <th>aon</th>                     <td>   -0.1971</td> <td>    0.017</td> <td>  -11.580</td> <td> 0.000</td> <td>   -0.230</td> <td>   -0.164</td>\n",
       "</tr>\n",
       "<tr>\n",
       "  <th>aug_vbc_3g</th>              <td>   -0.1949</td> <td>    0.033</td> <td>   -5.971</td> <td> 0.000</td> <td>   -0.259</td> <td>   -0.131</td>\n",
       "</tr>\n",
       "<tr>\n",
       "  <th>jul_vbc_3g</th>              <td>    0.0945</td> <td>    0.026</td> <td>    3.670</td> <td> 0.000</td> <td>    0.044</td> <td>    0.145</td>\n",
       "</tr>\n",
       "<tr>\n",
       "  <th>jun_vbc_3g</th>              <td>    0.0548</td> <td>    0.024</td> <td>    2.281</td> <td> 0.023</td> <td>    0.008</td> <td>    0.102</td>\n",
       "</tr>\n",
       "<tr>\n",
       "  <th>sep_vbc_3g</th>              <td>   -1.5152</td> <td>    0.119</td> <td>  -12.688</td> <td> 0.000</td> <td>   -1.749</td> <td>   -1.281</td>\n",
       "</tr>\n",
       "<tr>\n",
       "  <th>avg_total_rech_amt_67</th>   <td>   -0.0399</td> <td>    0.042</td> <td>   -0.946</td> <td> 0.344</td> <td>   -0.122</td> <td>    0.043</td>\n",
       "</tr>\n",
       "<tr>\n",
       "  <th>avg_arpu_67</th>             <td>    0.3876</td> <td>    0.043</td> <td>    8.964</td> <td> 0.000</td> <td>    0.303</td> <td>    0.472</td>\n",
       "</tr>\n",
       "<tr>\n",
       "  <th>avg_offnet_mou_67</th>       <td>    0.0096</td> <td>    0.037</td> <td>    0.258</td> <td> 0.797</td> <td>   -0.063</td> <td>    0.082</td>\n",
       "</tr>\n",
       "<tr>\n",
       "  <th>avg_roam_ic_mou_67</th>      <td>    0.2068</td> <td>    0.028</td> <td>    7.363</td> <td> 0.000</td> <td>    0.152</td> <td>    0.262</td>\n",
       "</tr>\n",
       "<tr>\n",
       "  <th>avg_roam_og_mou_67</th>      <td>    0.0200</td> <td>    0.028</td> <td>    0.705</td> <td> 0.481</td> <td>   -0.036</td> <td>    0.076</td>\n",
       "</tr>\n",
       "<tr>\n",
       "  <th>avg_loc_og_t2c_mou_67</th>   <td>   -0.1440</td> <td>    0.022</td> <td>   -6.666</td> <td> 0.000</td> <td>   -0.186</td> <td>   -0.102</td>\n",
       "</tr>\n",
       "<tr>\n",
       "  <th>avg_spl_og_mou_67</th>       <td>    0.0720</td> <td>    0.024</td> <td>    3.009</td> <td> 0.003</td> <td>    0.025</td> <td>    0.119</td>\n",
       "</tr>\n",
       "<tr>\n",
       "  <th>avg_og_others_67</th>        <td>   -0.0791</td> <td>    0.031</td> <td>   -2.586</td> <td> 0.010</td> <td>   -0.139</td> <td>   -0.019</td>\n",
       "</tr>\n",
       "<tr>\n",
       "  <th>avg_total_og_mou_67</th>     <td>    0.2623</td> <td>    0.045</td> <td>    5.767</td> <td> 0.000</td> <td>    0.173</td> <td>    0.351</td>\n",
       "</tr>\n",
       "<tr>\n",
       "  <th>avg_std_ic_t2t_mou_67</th>   <td>    0.0913</td> <td>    0.029</td> <td>    3.133</td> <td> 0.002</td> <td>    0.034</td> <td>    0.148</td>\n",
       "</tr>\n",
       "<tr>\n",
       "  <th>avg_std_ic_t2m_mou_67</th>   <td>   -0.0955</td> <td>    0.032</td> <td>   -3.013</td> <td> 0.003</td> <td>   -0.158</td> <td>   -0.033</td>\n",
       "</tr>\n",
       "<tr>\n",
       "  <th>avg_std_ic_t2f_mou_67</th>   <td>    0.0136</td> <td>    0.026</td> <td>    0.524</td> <td> 0.600</td> <td>   -0.037</td> <td>    0.064</td>\n",
       "</tr>\n",
       "<tr>\n",
       "  <th>avg_total_ic_mou_67</th>     <td>    0.6997</td> <td>    0.045</td> <td>   15.714</td> <td> 0.000</td> <td>    0.612</td> <td>    0.787</td>\n",
       "</tr>\n",
       "<tr>\n",
       "  <th>avg_spl_ic_mou_67</th>       <td>    0.0879</td> <td>    0.016</td> <td>    5.548</td> <td> 0.000</td> <td>    0.057</td> <td>    0.119</td>\n",
       "</tr>\n",
       "<tr>\n",
       "  <th>avg_isd_ic_mou_67</th>       <td>   -0.0487</td> <td>    0.019</td> <td>   -2.526</td> <td> 0.012</td> <td>   -0.086</td> <td>   -0.011</td>\n",
       "</tr>\n",
       "<tr>\n",
       "  <th>avg_ic_others_67</th>        <td>   -0.1618</td> <td>    0.028</td> <td>   -5.861</td> <td> 0.000</td> <td>   -0.216</td> <td>   -0.108</td>\n",
       "</tr>\n",
       "<tr>\n",
       "  <th>avg_total_rech_num_67</th>   <td>    0.1452</td> <td>    0.030</td> <td>    4.775</td> <td> 0.000</td> <td>    0.086</td> <td>    0.205</td>\n",
       "</tr>\n",
       "<tr>\n",
       "  <th>avg_max_rech_amt_67</th>     <td>    0.1735</td> <td>    0.028</td> <td>    6.231</td> <td> 0.000</td> <td>    0.119</td> <td>    0.228</td>\n",
       "</tr>\n",
       "<tr>\n",
       "  <th>avg_last_day_rch_amt_67</th> <td>    0.0311</td> <td>    0.023</td> <td>    1.352</td> <td> 0.176</td> <td>   -0.014</td> <td>    0.076</td>\n",
       "</tr>\n",
       "<tr>\n",
       "  <th>avg_total_rech_data_67</th>  <td>    0.1890</td> <td>    0.037</td> <td>    5.148</td> <td> 0.000</td> <td>    0.117</td> <td>    0.261</td>\n",
       "</tr>\n",
       "<tr>\n",
       "  <th>avg_av_rech_amt_data_67</th> <td>   -0.2383</td> <td>    0.039</td> <td>   -6.041</td> <td> 0.000</td> <td>   -0.316</td> <td>   -0.161</td>\n",
       "</tr>\n",
       "<tr>\n",
       "  <th>avg_vol_2g_mb_67</th>        <td>    0.1251</td> <td>    0.023</td> <td>    5.507</td> <td> 0.000</td> <td>    0.081</td> <td>    0.170</td>\n",
       "</tr>\n",
       "<tr>\n",
       "  <th>avg_monthly_2g_67</th>       <td>   -0.1522</td> <td>    0.024</td> <td>   -6.405</td> <td> 0.000</td> <td>   -0.199</td> <td>   -0.106</td>\n",
       "</tr>\n",
       "<tr>\n",
       "  <th>avg_monthly_3g_67</th>       <td>    0.0738</td> <td>    0.032</td> <td>    2.270</td> <td> 0.023</td> <td>    0.010</td> <td>    0.137</td>\n",
       "</tr>\n",
       "<tr>\n",
       "  <th>avg_sachet_3g_67</th>        <td>    0.1293</td> <td>    0.029</td> <td>    4.442</td> <td> 0.000</td> <td>    0.072</td> <td>    0.186</td>\n",
       "</tr>\n",
       "</table>"
      ],
      "text/plain": [
       "<class 'statsmodels.iolib.summary.Summary'>\n",
       "\"\"\"\n",
       "                 Generalized Linear Model Regression Results                  \n",
       "==============================================================================\n",
       "Dep. Variable:                  Churn   No. Observations:                38554\n",
       "Model:                            GLM   Df Residuals:                    38491\n",
       "Model Family:                Binomial   Df Model:                           62\n",
       "Link Function:                  logit   Scale:                          1.0000\n",
       "Method:                          IRLS   Log-Likelihood:                -14101.\n",
       "Date:                Mon, 27 Jan 2020   Deviance:                       28203.\n",
       "Time:                        16:30:10   Pearson chi2:                 2.90e+07\n",
       "No. Iterations:                     9                                         \n",
       "Covariance Type:            nonrobust                                         \n",
       "===========================================================================================\n",
       "                              coef    std err          z      P>|z|      [0.025      0.975]\n",
       "-------------------------------------------------------------------------------------------\n",
       "const                      -0.3949      0.022    -17.913      0.000      -0.438      -0.352\n",
       "onnet_mou_8                 0.5419      0.097      5.569      0.000       0.351       0.733\n",
       "roam_ic_mou_8              -0.0060      0.022     -0.274      0.784      -0.049       0.037\n",
       "roam_og_mou_8               0.0121      0.029      0.418      0.676      -0.045       0.069\n",
       "loc_og_t2f_mou_8         6.628e-05      0.022      0.003      0.998      -0.043       0.043\n",
       "loc_og_t2c_mou_8            0.1213      0.021      5.901      0.000       0.081       0.162\n",
       "loc_og_mou_8               -0.1802      0.050     -3.600      0.000      -0.278      -0.082\n",
       "std_og_t2m_mou_8            0.4612      0.085      5.416      0.000       0.294       0.628\n",
       "std_og_t2f_mou_8            0.0043      0.019      0.227      0.821      -0.033       0.042\n",
       "isd_og_mou_8                0.0572      0.017      3.436      0.001       0.025       0.090\n",
       "spl_og_mou_8               -0.0286      0.027     -1.052      0.293      -0.082       0.025\n",
       "og_others_8                -0.7845      0.256     -3.060      0.002      -1.287      -0.282\n",
       "total_og_mou_8             -1.4283      0.154     -9.288      0.000      -1.730      -1.127\n",
       "loc_ic_t2t_mou_8         7334.1079    245.956     29.819      0.000    6852.043    7816.173\n",
       "loc_ic_t2m_mou_8         1.055e+04    353.782     29.819      0.000    9856.128    1.12e+04\n",
       "loc_ic_t2f_mou_8         2013.6162     67.527     29.819      0.000    1881.266    2145.967\n",
       "std_ic_t2t_mou_8           -0.2645      0.049     -5.368      0.000      -0.361      -0.168\n",
       "std_ic_t2f_mou_8           -0.0698      0.039     -1.796      0.073      -0.146       0.006\n",
       "std_ic_mou_8             6584.5754    220.804     29.821      0.000    6151.807    7017.344\n",
       "total_ic_mou_8          -1.789e+04    599.931    -29.822      0.000   -1.91e+04   -1.67e+04\n",
       "spl_ic_mou_8                5.6877      0.204     27.944      0.000       5.289       6.087\n",
       "isd_ic_mou_8             3066.4336    102.825     29.822      0.000    2864.900    3267.967\n",
       "ic_others_8               569.6321     19.098     29.827      0.000     532.201     607.063\n",
       "total_rech_num_8           -0.4201      0.036    -11.744      0.000      -0.490      -0.350\n",
       "total_rech_amt_8            0.0023      0.052      0.045      0.964      -0.099       0.103\n",
       "max_rech_amt_8              0.1114      0.030      3.713      0.000       0.053       0.170\n",
       "last_day_rch_amt_8         -0.5068      0.025    -20.442      0.000      -0.555      -0.458\n",
       "total_rech_data_8          -0.5731      0.036    -16.064      0.000      -0.643      -0.503\n",
       "vol_2g_mb_8                -0.2499      0.029     -8.588      0.000      -0.307      -0.193\n",
       "vol_3g_mb_8                -0.0470      0.034     -1.372      0.170      -0.114       0.020\n",
       "monthly_2g_8               -0.2751      0.026    -10.401      0.000      -0.327      -0.223\n",
       "monthly_3g_8               -0.2501      0.032     -7.769      0.000      -0.313      -0.187\n",
       "sachet_3g_8                -0.0467      0.040     -1.181      0.238      -0.124       0.031\n",
       "aon                        -0.1971      0.017    -11.580      0.000      -0.230      -0.164\n",
       "aug_vbc_3g                 -0.1949      0.033     -5.971      0.000      -0.259      -0.131\n",
       "jul_vbc_3g                  0.0945      0.026      3.670      0.000       0.044       0.145\n",
       "jun_vbc_3g                  0.0548      0.024      2.281      0.023       0.008       0.102\n",
       "sep_vbc_3g                 -1.5152      0.119    -12.688      0.000      -1.749      -1.281\n",
       "avg_total_rech_amt_67      -0.0399      0.042     -0.946      0.344      -0.122       0.043\n",
       "avg_arpu_67                 0.3876      0.043      8.964      0.000       0.303       0.472\n",
       "avg_offnet_mou_67           0.0096      0.037      0.258      0.797      -0.063       0.082\n",
       "avg_roam_ic_mou_67          0.2068      0.028      7.363      0.000       0.152       0.262\n",
       "avg_roam_og_mou_67          0.0200      0.028      0.705      0.481      -0.036       0.076\n",
       "avg_loc_og_t2c_mou_67      -0.1440      0.022     -6.666      0.000      -0.186      -0.102\n",
       "avg_spl_og_mou_67           0.0720      0.024      3.009      0.003       0.025       0.119\n",
       "avg_og_others_67           -0.0791      0.031     -2.586      0.010      -0.139      -0.019\n",
       "avg_total_og_mou_67         0.2623      0.045      5.767      0.000       0.173       0.351\n",
       "avg_std_ic_t2t_mou_67       0.0913      0.029      3.133      0.002       0.034       0.148\n",
       "avg_std_ic_t2m_mou_67      -0.0955      0.032     -3.013      0.003      -0.158      -0.033\n",
       "avg_std_ic_t2f_mou_67       0.0136      0.026      0.524      0.600      -0.037       0.064\n",
       "avg_total_ic_mou_67         0.6997      0.045     15.714      0.000       0.612       0.787\n",
       "avg_spl_ic_mou_67           0.0879      0.016      5.548      0.000       0.057       0.119\n",
       "avg_isd_ic_mou_67          -0.0487      0.019     -2.526      0.012      -0.086      -0.011\n",
       "avg_ic_others_67           -0.1618      0.028     -5.861      0.000      -0.216      -0.108\n",
       "avg_total_rech_num_67       0.1452      0.030      4.775      0.000       0.086       0.205\n",
       "avg_max_rech_amt_67         0.1735      0.028      6.231      0.000       0.119       0.228\n",
       "avg_last_day_rch_amt_67     0.0311      0.023      1.352      0.176      -0.014       0.076\n",
       "avg_total_rech_data_67      0.1890      0.037      5.148      0.000       0.117       0.261\n",
       "avg_av_rech_amt_data_67    -0.2383      0.039     -6.041      0.000      -0.316      -0.161\n",
       "avg_vol_2g_mb_67            0.1251      0.023      5.507      0.000       0.081       0.170\n",
       "avg_monthly_2g_67          -0.1522      0.024     -6.405      0.000      -0.199      -0.106\n",
       "avg_monthly_3g_67           0.0738      0.032      2.270      0.023       0.010       0.137\n",
       "avg_sachet_3g_67            0.1293      0.029      4.442      0.000       0.072       0.186\n",
       "===========================================================================================\n",
       "\"\"\""
      ]
     },
     "execution_count": 120,
     "metadata": {
      "tags": []
     },
     "output_type": "execute_result"
    }
   ],
   "source": [
    "# initial model with all features\n",
    "\n",
    "X_train_sm = stm.add_constant(X1)\n",
    "log_m = stm.GLM(y_train,X_train_sm, family = stm.families.Binomial())\n",
    "res = log_m.fit()\n",
    "res.summary()"
   ]
  },
  {
   "cell_type": "code",
   "execution_count": 0,
   "metadata": {
    "colab": {},
    "colab_type": "code",
    "id": "MfGcyU3Ua8xi"
   },
   "outputs": [],
   "source": [
    "logreg = LogisticRegression()\n",
    "\n",
    "rfe = RFE(logreg,20)             # running RFE with 20 variables \n",
    "rfe = rfe.fit(X1, y_train)"
   ]
  },
  {
   "cell_type": "code",
   "execution_count": 123,
   "metadata": {
    "colab": {
     "base_uri": "https://localhost:8080/",
     "height": 136
    },
    "colab_type": "code",
    "id": "qjZIRBDUIkP9",
    "outputId": "d64f0678-3b87-44b3-d754-c4fdec2c087a"
   },
   "outputs": [
    {
     "data": {
      "text/plain": [
       "Index(['onnet_mou_8', 'std_og_t2m_mou_8', 'og_others_8', 'total_og_mou_8',\n",
       "       'loc_ic_t2t_mou_8', 'loc_ic_t2m_mou_8', 'std_ic_mou_8',\n",
       "       'total_ic_mou_8', 'spl_ic_mou_8', 'total_rech_num_8',\n",
       "       'last_day_rch_amt_8', 'total_rech_data_8', 'monthly_2g_8',\n",
       "       'monthly_3g_8', 'aon', 'sep_vbc_3g', 'avg_arpu_67',\n",
       "       'avg_roam_ic_mou_67', 'avg_total_og_mou_67', 'avg_total_ic_mou_67'],\n",
       "      dtype='object')"
      ]
     },
     "execution_count": 123,
     "metadata": {
      "tags": []
     },
     "output_type": "execute_result"
    }
   ],
   "source": [
    "# Checking the attribute names after RFE\n",
    "rfe_cols = X1.columns[rfe.support_]\n",
    "rfe_cols"
   ]
  },
  {
   "cell_type": "code",
   "execution_count": 124,
   "metadata": {
    "colab": {
     "base_uri": "https://localhost:8080/",
     "height": 689
    },
    "colab_type": "code",
    "id": "2KZRhg9CIsJA",
    "outputId": "4a012396-c1f6-4f29-e9b0-e7eade5aba76"
   },
   "outputs": [
    {
     "data": {
      "text/html": [
       "<table class=\"simpletable\">\n",
       "<caption>Generalized Linear Model Regression Results</caption>\n",
       "<tr>\n",
       "  <th>Dep. Variable:</th>         <td>Churn</td>      <th>  No. Observations:  </th>  <td> 38554</td> \n",
       "</tr>\n",
       "<tr>\n",
       "  <th>Model:</th>                  <td>GLM</td>       <th>  Df Residuals:      </th>  <td> 38533</td> \n",
       "</tr>\n",
       "<tr>\n",
       "  <th>Model Family:</th>        <td>Binomial</td>     <th>  Df Model:          </th>  <td>    20</td> \n",
       "</tr>\n",
       "<tr>\n",
       "  <th>Link Function:</th>         <td>logit</td>      <th>  Scale:             </th> <td>  1.0000</td>\n",
       "</tr>\n",
       "<tr>\n",
       "  <th>Method:</th>                <td>IRLS</td>       <th>  Log-Likelihood:    </th> <td> -14968.</td>\n",
       "</tr>\n",
       "<tr>\n",
       "  <th>Date:</th>            <td>Mon, 27 Jan 2020</td> <th>  Deviance:          </th> <td>  29936.</td>\n",
       "</tr>\n",
       "<tr>\n",
       "  <th>Time:</th>                <td>16:34:40</td>     <th>  Pearson chi2:      </th> <td>2.26e+10</td>\n",
       "</tr>\n",
       "<tr>\n",
       "  <th>No. Iterations:</th>          <td>9</td>        <th>                     </th>     <td> </td>   \n",
       "</tr>\n",
       "<tr>\n",
       "  <th>Covariance Type:</th>     <td>nonrobust</td>    <th>                     </th>     <td> </td>   \n",
       "</tr>\n",
       "</table>\n",
       "<table class=\"simpletable\">\n",
       "<tr>\n",
       "           <td></td>              <th>coef</th>     <th>std err</th>      <th>z</th>      <th>P>|z|</th>  <th>[0.025</th>    <th>0.975]</th>  \n",
       "</tr>\n",
       "<tr>\n",
       "  <th>const</th>               <td>   -0.4846</td> <td>    0.021</td> <td>  -22.610</td> <td> 0.000</td> <td>   -0.527</td> <td>   -0.443</td>\n",
       "</tr>\n",
       "<tr>\n",
       "  <th>onnet_mou_8</th>         <td>    0.8002</td> <td>    0.058</td> <td>   13.855</td> <td> 0.000</td> <td>    0.687</td> <td>    0.913</td>\n",
       "</tr>\n",
       "<tr>\n",
       "  <th>std_og_t2m_mou_8</th>    <td>    0.6952</td> <td>    0.053</td> <td>   13.023</td> <td> 0.000</td> <td>    0.591</td> <td>    0.800</td>\n",
       "</tr>\n",
       "<tr>\n",
       "  <th>og_others_8</th>         <td>   -0.6018</td> <td>    0.158</td> <td>   -3.815</td> <td> 0.000</td> <td>   -0.911</td> <td>   -0.293</td>\n",
       "</tr>\n",
       "<tr>\n",
       "  <th>total_og_mou_8</th>      <td>   -1.9870</td> <td>    0.090</td> <td>  -22.166</td> <td> 0.000</td> <td>   -2.163</td> <td>   -1.811</td>\n",
       "</tr>\n",
       "<tr>\n",
       "  <th>loc_ic_t2t_mou_8</th>    <td>   -0.6512</td> <td>    0.063</td> <td>  -10.398</td> <td> 0.000</td> <td>   -0.774</td> <td>   -0.528</td>\n",
       "</tr>\n",
       "<tr>\n",
       "  <th>loc_ic_t2m_mou_8</th>    <td>   -0.7099</td> <td>    0.071</td> <td>  -10.046</td> <td> 0.000</td> <td>   -0.848</td> <td>   -0.571</td>\n",
       "</tr>\n",
       "<tr>\n",
       "  <th>std_ic_mou_8</th>        <td>   -0.2410</td> <td>    0.046</td> <td>   -5.220</td> <td> 0.000</td> <td>   -0.331</td> <td>   -0.151</td>\n",
       "</tr>\n",
       "<tr>\n",
       "  <th>total_ic_mou_8</th>      <td>   -0.7858</td> <td>    0.096</td> <td>   -8.172</td> <td> 0.000</td> <td>   -0.974</td> <td>   -0.597</td>\n",
       "</tr>\n",
       "<tr>\n",
       "  <th>spl_ic_mou_8</th>        <td>   -0.3453</td> <td>    0.025</td> <td>  -14.066</td> <td> 0.000</td> <td>   -0.393</td> <td>   -0.297</td>\n",
       "</tr>\n",
       "<tr>\n",
       "  <th>total_rech_num_8</th>    <td>   -0.4274</td> <td>    0.023</td> <td>  -18.854</td> <td> 0.000</td> <td>   -0.472</td> <td>   -0.383</td>\n",
       "</tr>\n",
       "<tr>\n",
       "  <th>last_day_rch_amt_8</th>  <td>   -0.4519</td> <td>    0.020</td> <td>  -22.403</td> <td> 0.000</td> <td>   -0.491</td> <td>   -0.412</td>\n",
       "</tr>\n",
       "<tr>\n",
       "  <th>total_rech_data_8</th>   <td>   -0.5738</td> <td>    0.025</td> <td>  -23.282</td> <td> 0.000</td> <td>   -0.622</td> <td>   -0.525</td>\n",
       "</tr>\n",
       "<tr>\n",
       "  <th>monthly_2g_8</th>        <td>   -0.5128</td> <td>    0.022</td> <td>  -23.778</td> <td> 0.000</td> <td>   -0.555</td> <td>   -0.470</td>\n",
       "</tr>\n",
       "<tr>\n",
       "  <th>monthly_3g_8</th>        <td>   -0.3634</td> <td>    0.021</td> <td>  -17.329</td> <td> 0.000</td> <td>   -0.404</td> <td>   -0.322</td>\n",
       "</tr>\n",
       "<tr>\n",
       "  <th>aon</th>                 <td>   -0.2531</td> <td>    0.016</td> <td>  -15.919</td> <td> 0.000</td> <td>   -0.284</td> <td>   -0.222</td>\n",
       "</tr>\n",
       "<tr>\n",
       "  <th>sep_vbc_3g</th>          <td>   -1.5710</td> <td>    0.122</td> <td>  -12.874</td> <td> 0.000</td> <td>   -1.810</td> <td>   -1.332</td>\n",
       "</tr>\n",
       "<tr>\n",
       "  <th>avg_arpu_67</th>         <td>    0.4981</td> <td>    0.025</td> <td>   20.140</td> <td> 0.000</td> <td>    0.450</td> <td>    0.547</td>\n",
       "</tr>\n",
       "<tr>\n",
       "  <th>avg_roam_ic_mou_67</th>  <td>    0.2344</td> <td>    0.020</td> <td>   11.867</td> <td> 0.000</td> <td>    0.196</td> <td>    0.273</td>\n",
       "</tr>\n",
       "<tr>\n",
       "  <th>avg_total_og_mou_67</th> <td>    0.2605</td> <td>    0.029</td> <td>    8.955</td> <td> 0.000</td> <td>    0.203</td> <td>    0.317</td>\n",
       "</tr>\n",
       "<tr>\n",
       "  <th>avg_total_ic_mou_67</th> <td>    0.6833</td> <td>    0.036</td> <td>   19.075</td> <td> 0.000</td> <td>    0.613</td> <td>    0.753</td>\n",
       "</tr>\n",
       "</table>"
      ],
      "text/plain": [
       "<class 'statsmodels.iolib.summary.Summary'>\n",
       "\"\"\"\n",
       "                 Generalized Linear Model Regression Results                  \n",
       "==============================================================================\n",
       "Dep. Variable:                  Churn   No. Observations:                38554\n",
       "Model:                            GLM   Df Residuals:                    38533\n",
       "Model Family:                Binomial   Df Model:                           20\n",
       "Link Function:                  logit   Scale:                          1.0000\n",
       "Method:                          IRLS   Log-Likelihood:                -14968.\n",
       "Date:                Mon, 27 Jan 2020   Deviance:                       29936.\n",
       "Time:                        16:34:40   Pearson chi2:                 2.26e+10\n",
       "No. Iterations:                     9                                         \n",
       "Covariance Type:            nonrobust                                         \n",
       "=======================================================================================\n",
       "                          coef    std err          z      P>|z|      [0.025      0.975]\n",
       "---------------------------------------------------------------------------------------\n",
       "const                  -0.4846      0.021    -22.610      0.000      -0.527      -0.443\n",
       "onnet_mou_8             0.8002      0.058     13.855      0.000       0.687       0.913\n",
       "std_og_t2m_mou_8        0.6952      0.053     13.023      0.000       0.591       0.800\n",
       "og_others_8            -0.6018      0.158     -3.815      0.000      -0.911      -0.293\n",
       "total_og_mou_8         -1.9870      0.090    -22.166      0.000      -2.163      -1.811\n",
       "loc_ic_t2t_mou_8       -0.6512      0.063    -10.398      0.000      -0.774      -0.528\n",
       "loc_ic_t2m_mou_8       -0.7099      0.071    -10.046      0.000      -0.848      -0.571\n",
       "std_ic_mou_8           -0.2410      0.046     -5.220      0.000      -0.331      -0.151\n",
       "total_ic_mou_8         -0.7858      0.096     -8.172      0.000      -0.974      -0.597\n",
       "spl_ic_mou_8           -0.3453      0.025    -14.066      0.000      -0.393      -0.297\n",
       "total_rech_num_8       -0.4274      0.023    -18.854      0.000      -0.472      -0.383\n",
       "last_day_rch_amt_8     -0.4519      0.020    -22.403      0.000      -0.491      -0.412\n",
       "total_rech_data_8      -0.5738      0.025    -23.282      0.000      -0.622      -0.525\n",
       "monthly_2g_8           -0.5128      0.022    -23.778      0.000      -0.555      -0.470\n",
       "monthly_3g_8           -0.3634      0.021    -17.329      0.000      -0.404      -0.322\n",
       "aon                    -0.2531      0.016    -15.919      0.000      -0.284      -0.222\n",
       "sep_vbc_3g             -1.5710      0.122    -12.874      0.000      -1.810      -1.332\n",
       "avg_arpu_67             0.4981      0.025     20.140      0.000       0.450       0.547\n",
       "avg_roam_ic_mou_67      0.2344      0.020     11.867      0.000       0.196       0.273\n",
       "avg_total_og_mou_67     0.2605      0.029      8.955      0.000       0.203       0.317\n",
       "avg_total_ic_mou_67     0.6833      0.036     19.075      0.000       0.613       0.753\n",
       "=======================================================================================\n",
       "\"\"\""
      ]
     },
     "execution_count": 124,
     "metadata": {
      "tags": []
     },
     "output_type": "execute_result"
    }
   ],
   "source": [
    "X1_train_sm = stm.add_constant(X1[rfe_cols])\n",
    "log_m1 = stm.GLM(y_train,X1_train_sm, family = stm.families.Binomial())\n",
    "res1 = log_m1.fit()\n",
    "res1.summary()"
   ]
  },
  {
   "cell_type": "code",
   "execution_count": 0,
   "metadata": {
    "colab": {},
    "colab_type": "code",
    "id": "NLicIkX_JKeq"
   },
   "outputs": [],
   "source": [
    "y_train_pred = res1.predict(X1_train_sm).values.reshape(-1)"
   ]
  },
  {
   "cell_type": "code",
   "execution_count": 126,
   "metadata": {
    "colab": {
     "base_uri": "https://localhost:8080/",
     "height": 204
    },
    "colab_type": "code",
    "id": "9hmLhT_UJYyO",
    "outputId": "09b93cfc-e5df-480f-c2ee-0a35f4799a17"
   },
   "outputs": [
    {
     "data": {
      "text/html": [
       "<div>\n",
       "<style scoped>\n",
       "    .dataframe tbody tr th:only-of-type {\n",
       "        vertical-align: middle;\n",
       "    }\n",
       "\n",
       "    .dataframe tbody tr th {\n",
       "        vertical-align: top;\n",
       "    }\n",
       "\n",
       "    .dataframe thead th {\n",
       "        text-align: right;\n",
       "    }\n",
       "</style>\n",
       "<table border=\"1\" class=\"dataframe\">\n",
       "  <thead>\n",
       "    <tr style=\"text-align: right;\">\n",
       "      <th></th>\n",
       "      <th>Churned</th>\n",
       "      <th>Churn_Prob</th>\n",
       "      <th>CustID</th>\n",
       "    </tr>\n",
       "  </thead>\n",
       "  <tbody>\n",
       "    <tr>\n",
       "      <th>0</th>\n",
       "      <td>0</td>\n",
       "      <td>0.518874</td>\n",
       "      <td>0</td>\n",
       "    </tr>\n",
       "    <tr>\n",
       "      <th>1</th>\n",
       "      <td>0</td>\n",
       "      <td>0.002703</td>\n",
       "      <td>1</td>\n",
       "    </tr>\n",
       "    <tr>\n",
       "      <th>2</th>\n",
       "      <td>0</td>\n",
       "      <td>0.115563</td>\n",
       "      <td>2</td>\n",
       "    </tr>\n",
       "    <tr>\n",
       "      <th>3</th>\n",
       "      <td>0</td>\n",
       "      <td>0.000072</td>\n",
       "      <td>3</td>\n",
       "    </tr>\n",
       "    <tr>\n",
       "      <th>4</th>\n",
       "      <td>0</td>\n",
       "      <td>0.056275</td>\n",
       "      <td>4</td>\n",
       "    </tr>\n",
       "  </tbody>\n",
       "</table>\n",
       "</div>"
      ],
      "text/plain": [
       "   Churned  Churn_Prob  CustID\n",
       "0        0    0.518874       0\n",
       "1        0    0.002703       1\n",
       "2        0    0.115563       2\n",
       "3        0    0.000072       3\n",
       "4        0    0.056275       4"
      ]
     },
     "execution_count": 126,
     "metadata": {
      "tags": []
     },
     "output_type": "execute_result"
    }
   ],
   "source": [
    "#Creating a dataframe with the actual churn flag and the predicted probabilities\n",
    "y_train_pred_final = pd.DataFrame({'Churned':y_smt, 'Churn_Prob':y_train_pred})\n",
    "y_train_pred_final['CustID'] = y_train_pred_final.index\n",
    "y_train_pred_final.head()"
   ]
  },
  {
   "cell_type": "code",
   "execution_count": 127,
   "metadata": {
    "colab": {
     "base_uri": "https://localhost:8080/",
     "height": 204
    },
    "colab_type": "code",
    "id": "alEfBsvbJjTy",
    "outputId": "8501bbb0-1733-4a82-f80f-6bb521aa4713"
   },
   "outputs": [
    {
     "data": {
      "text/html": [
       "<div>\n",
       "<style scoped>\n",
       "    .dataframe tbody tr th:only-of-type {\n",
       "        vertical-align: middle;\n",
       "    }\n",
       "\n",
       "    .dataframe tbody tr th {\n",
       "        vertical-align: top;\n",
       "    }\n",
       "\n",
       "    .dataframe thead th {\n",
       "        text-align: right;\n",
       "    }\n",
       "</style>\n",
       "<table border=\"1\" class=\"dataframe\">\n",
       "  <thead>\n",
       "    <tr style=\"text-align: right;\">\n",
       "      <th></th>\n",
       "      <th>Churned</th>\n",
       "      <th>Churn_Prob</th>\n",
       "      <th>CustID</th>\n",
       "      <th>0.0</th>\n",
       "      <th>0.1</th>\n",
       "      <th>0.2</th>\n",
       "      <th>0.3</th>\n",
       "      <th>0.4</th>\n",
       "      <th>0.5</th>\n",
       "      <th>0.6</th>\n",
       "      <th>0.7</th>\n",
       "      <th>0.8</th>\n",
       "      <th>0.9</th>\n",
       "    </tr>\n",
       "  </thead>\n",
       "  <tbody>\n",
       "    <tr>\n",
       "      <th>0</th>\n",
       "      <td>0</td>\n",
       "      <td>0.518874</td>\n",
       "      <td>0</td>\n",
       "      <td>1</td>\n",
       "      <td>1</td>\n",
       "      <td>1</td>\n",
       "      <td>1</td>\n",
       "      <td>1</td>\n",
       "      <td>1</td>\n",
       "      <td>0</td>\n",
       "      <td>0</td>\n",
       "      <td>0</td>\n",
       "      <td>0</td>\n",
       "    </tr>\n",
       "    <tr>\n",
       "      <th>1</th>\n",
       "      <td>0</td>\n",
       "      <td>0.002703</td>\n",
       "      <td>1</td>\n",
       "      <td>1</td>\n",
       "      <td>0</td>\n",
       "      <td>0</td>\n",
       "      <td>0</td>\n",
       "      <td>0</td>\n",
       "      <td>0</td>\n",
       "      <td>0</td>\n",
       "      <td>0</td>\n",
       "      <td>0</td>\n",
       "      <td>0</td>\n",
       "    </tr>\n",
       "    <tr>\n",
       "      <th>2</th>\n",
       "      <td>0</td>\n",
       "      <td>0.115563</td>\n",
       "      <td>2</td>\n",
       "      <td>1</td>\n",
       "      <td>1</td>\n",
       "      <td>0</td>\n",
       "      <td>0</td>\n",
       "      <td>0</td>\n",
       "      <td>0</td>\n",
       "      <td>0</td>\n",
       "      <td>0</td>\n",
       "      <td>0</td>\n",
       "      <td>0</td>\n",
       "    </tr>\n",
       "    <tr>\n",
       "      <th>3</th>\n",
       "      <td>0</td>\n",
       "      <td>0.000072</td>\n",
       "      <td>3</td>\n",
       "      <td>1</td>\n",
       "      <td>0</td>\n",
       "      <td>0</td>\n",
       "      <td>0</td>\n",
       "      <td>0</td>\n",
       "      <td>0</td>\n",
       "      <td>0</td>\n",
       "      <td>0</td>\n",
       "      <td>0</td>\n",
       "      <td>0</td>\n",
       "    </tr>\n",
       "    <tr>\n",
       "      <th>4</th>\n",
       "      <td>0</td>\n",
       "      <td>0.056275</td>\n",
       "      <td>4</td>\n",
       "      <td>1</td>\n",
       "      <td>0</td>\n",
       "      <td>0</td>\n",
       "      <td>0</td>\n",
       "      <td>0</td>\n",
       "      <td>0</td>\n",
       "      <td>0</td>\n",
       "      <td>0</td>\n",
       "      <td>0</td>\n",
       "      <td>0</td>\n",
       "    </tr>\n",
       "  </tbody>\n",
       "</table>\n",
       "</div>"
      ],
      "text/plain": [
       "   Churned  Churn_Prob  CustID  0.0  0.1  0.2  ...  0.4  0.5  0.6  0.7  0.8  0.9\n",
       "0        0    0.518874       0    1    1    1  ...    1    1    0    0    0    0\n",
       "1        0    0.002703       1    1    0    0  ...    0    0    0    0    0    0\n",
       "2        0    0.115563       2    1    1    0  ...    0    0    0    0    0    0\n",
       "3        0    0.000072       3    1    0    0  ...    0    0    0    0    0    0\n",
       "4        0    0.056275       4    1    0    0  ...    0    0    0    0    0    0\n",
       "\n",
       "[5 rows x 13 columns]"
      ]
     },
     "execution_count": 127,
     "metadata": {
      "tags": []
     },
     "output_type": "execute_result"
    }
   ],
   "source": [
    "# Let's create columns with different probability cutoffs \n",
    "numbers = [float(x)/10 for x in range(10)]\n",
    "for i in numbers:\n",
    "    y_train_pred_final[i]= y_train_pred_final.Churn_Prob.map(lambda x: 1 if x > i else 0)\n",
    "y_train_pred_final.head()"
   ]
  },
  {
   "cell_type": "code",
   "execution_count": 128,
   "metadata": {
    "colab": {
     "base_uri": "https://localhost:8080/",
     "height": 204
    },
    "colab_type": "code",
    "id": "LJl54pxmkJcu",
    "outputId": "fb931d1a-f7e8-4071-8462-e52ac36b50f5"
   },
   "outputs": [
    {
     "name": "stdout",
     "output_type": "stream",
     "text": [
      "     prob  accuracy     sensi     speci\n",
      "0.0   0.0  0.500000  1.000000  0.000000\n",
      "0.1   0.1  0.708513  0.981117  0.435908\n",
      "0.2   0.2  0.768792  0.958707  0.578876\n",
      "0.3   0.3  0.806739  0.933755  0.679722\n",
      "0.4   0.4  0.829071  0.899725  0.758417\n",
      "0.5   0.5  0.841313  0.859470  0.823157\n",
      "0.6   0.6  0.839628  0.807283  0.871972\n",
      "0.7   0.7  0.824143  0.733102  0.915184\n",
      "0.8   0.8  0.773979  0.598952  0.949007\n",
      "0.9   0.9  0.646911  0.316284  0.977538\n"
     ]
    }
   ],
   "source": [
    "# Now let's calculate accuracy sensitivity and specificity for various probability cutoffs.\n",
    "cutoff_df = pd.DataFrame( columns = ['prob','accuracy','sensi','speci'])\n",
    "from sklearn.metrics import confusion_matrix\n",
    "\n",
    "# TP = confusion[1,1] # true positive \n",
    "# TN = confusion[0,0] # true negatives\n",
    "# FP = confusion[0,1] # false positives\n",
    "# FN = confusion[1,0] # false negatives\n",
    "\n",
    "num = [0.0,0.1,0.2,0.3,0.4,0.5,0.6,0.7,0.8,0.9]\n",
    "for i in num:\n",
    "    cm1 = metrics.confusion_matrix(y_train_pred_final.Churned, y_train_pred_final[i] )\n",
    "    total1=sum(sum(cm1))\n",
    "    accuracy = (cm1[0,0]+cm1[1,1])/total1\n",
    "    \n",
    "    speci = cm1[0,0]/(cm1[0,0]+cm1[0,1])\n",
    "    sensi = cm1[1,1]/(cm1[1,0]+cm1[1,1])\n",
    "    cutoff_df.loc[i] =[ i ,accuracy,sensi,speci]\n",
    "print(cutoff_df)"
   ]
  },
  {
   "cell_type": "code",
   "execution_count": 129,
   "metadata": {
    "colab": {
     "base_uri": "https://localhost:8080/",
     "height": 296
    },
    "colab_type": "code",
    "id": "xpmF4YgHkSLn",
    "outputId": "bcae690d-f435-4a45-d61b-11e827641767"
   },
   "outputs": [
    {
     "data": {
      "text/plain": [
       "<matplotlib.axes._subplots.AxesSubplot at 0x7f50a19905c0>"
      ]
     },
     "execution_count": 129,
     "metadata": {
      "tags": []
     },
     "output_type": "execute_result"
    },
    {
     "data": {
      "image/png": "[encoded data removed]",
      "text/plain": [
       "<Figure size 432x288 with 1 Axes>"
      ]
     },
     "metadata": {
      "tags": []
     },
     "output_type": "display_data"
    }
   ],
   "source": [
    "# Let's plot accuracy sensitivity and specificity for various probabilities.\n",
    "cutoff_df.plot.line(x='prob', y=['accuracy','sensi','speci'])"
   ]
  },
  {
   "cell_type": "code",
   "execution_count": 130,
   "metadata": {
    "colab": {
     "base_uri": "https://localhost:8080/",
     "height": 204
    },
    "colab_type": "code",
    "id": "8ZuLjBemkdQF",
    "outputId": "7648a564-f792-4a9f-d936-d09d45c90153"
   },
   "outputs": [
    {
     "data": {
      "text/html": [
       "<div>\n",
       "<style scoped>\n",
       "    .dataframe tbody tr th:only-of-type {\n",
       "        vertical-align: middle;\n",
       "    }\n",
       "\n",
       "    .dataframe tbody tr th {\n",
       "        vertical-align: top;\n",
       "    }\n",
       "\n",
       "    .dataframe thead th {\n",
       "        text-align: right;\n",
       "    }\n",
       "</style>\n",
       "<table border=\"1\" class=\"dataframe\">\n",
       "  <thead>\n",
       "    <tr style=\"text-align: right;\">\n",
       "      <th></th>\n",
       "      <th>Churned</th>\n",
       "      <th>Churn_Prob</th>\n",
       "      <th>CustID</th>\n",
       "      <th>0.0</th>\n",
       "      <th>0.1</th>\n",
       "      <th>0.2</th>\n",
       "      <th>0.3</th>\n",
       "      <th>0.4</th>\n",
       "      <th>0.5</th>\n",
       "      <th>0.6</th>\n",
       "      <th>0.7</th>\n",
       "      <th>0.8</th>\n",
       "      <th>0.9</th>\n",
       "      <th>predicted</th>\n",
       "    </tr>\n",
       "  </thead>\n",
       "  <tbody>\n",
       "    <tr>\n",
       "      <th>0</th>\n",
       "      <td>0</td>\n",
       "      <td>0.518874</td>\n",
       "      <td>0</td>\n",
       "      <td>1</td>\n",
       "      <td>1</td>\n",
       "      <td>1</td>\n",
       "      <td>1</td>\n",
       "      <td>1</td>\n",
       "      <td>1</td>\n",
       "      <td>0</td>\n",
       "      <td>0</td>\n",
       "      <td>0</td>\n",
       "      <td>0</td>\n",
       "      <td>1</td>\n",
       "    </tr>\n",
       "    <tr>\n",
       "      <th>1</th>\n",
       "      <td>0</td>\n",
       "      <td>0.002703</td>\n",
       "      <td>1</td>\n",
       "      <td>1</td>\n",
       "      <td>0</td>\n",
       "      <td>0</td>\n",
       "      <td>0</td>\n",
       "      <td>0</td>\n",
       "      <td>0</td>\n",
       "      <td>0</td>\n",
       "      <td>0</td>\n",
       "      <td>0</td>\n",
       "      <td>0</td>\n",
       "      <td>0</td>\n",
       "    </tr>\n",
       "    <tr>\n",
       "      <th>2</th>\n",
       "      <td>0</td>\n",
       "      <td>0.115563</td>\n",
       "      <td>2</td>\n",
       "      <td>1</td>\n",
       "      <td>1</td>\n",
       "      <td>0</td>\n",
       "      <td>0</td>\n",
       "      <td>0</td>\n",
       "      <td>0</td>\n",
       "      <td>0</td>\n",
       "      <td>0</td>\n",
       "      <td>0</td>\n",
       "      <td>0</td>\n",
       "      <td>0</td>\n",
       "    </tr>\n",
       "    <tr>\n",
       "      <th>3</th>\n",
       "      <td>0</td>\n",
       "      <td>0.000072</td>\n",
       "      <td>3</td>\n",
       "      <td>1</td>\n",
       "      <td>0</td>\n",
       "      <td>0</td>\n",
       "      <td>0</td>\n",
       "      <td>0</td>\n",
       "      <td>0</td>\n",
       "      <td>0</td>\n",
       "      <td>0</td>\n",
       "      <td>0</td>\n",
       "      <td>0</td>\n",
       "      <td>0</td>\n",
       "    </tr>\n",
       "    <tr>\n",
       "      <th>4</th>\n",
       "      <td>0</td>\n",
       "      <td>0.056275</td>\n",
       "      <td>4</td>\n",
       "      <td>1</td>\n",
       "      <td>0</td>\n",
       "      <td>0</td>\n",
       "      <td>0</td>\n",
       "      <td>0</td>\n",
       "      <td>0</td>\n",
       "      <td>0</td>\n",
       "      <td>0</td>\n",
       "      <td>0</td>\n",
       "      <td>0</td>\n",
       "      <td>0</td>\n",
       "    </tr>\n",
       "  </tbody>\n",
       "</table>\n",
       "</div>"
      ],
      "text/plain": [
       "   Churned  Churn_Prob  CustID  0.0  0.1  ...  0.6  0.7  0.8  0.9  predicted\n",
       "0        0    0.518874       0    1    1  ...    0    0    0    0          1\n",
       "1        0    0.002703       1    1    0  ...    0    0    0    0          0\n",
       "2        0    0.115563       2    1    1  ...    0    0    0    0          0\n",
       "3        0    0.000072       3    1    0  ...    0    0    0    0          0\n",
       "4        0    0.056275       4    1    0  ...    0    0    0    0          0\n",
       "\n",
       "[5 rows x 14 columns]"
      ]
     },
     "execution_count": 130,
     "metadata": {
      "tags": []
     },
     "output_type": "execute_result"
    }
   ],
   "source": [
    "# Creating new column 'predicted' with 1 if conversion_Prob > 0.6 else 0\n",
    "y_train_pred_final['predicted'] = y_train_pred_final.Churn_Prob.map(lambda x: 1 if x >= 0.5 else 0)\n",
    "y_train_pred_final.head()"
   ]
  },
  {
   "cell_type": "markdown",
   "metadata": {
    "colab_type": "text",
    "id": "DaK1Uw4zkoM1"
   },
   "source": [
    "### Evaluating the preformance of the model"
   ]
  },
  {
   "cell_type": "code",
   "execution_count": 131,
   "metadata": {
    "colab": {
     "base_uri": "https://localhost:8080/",
     "height": 68
    },
    "colab_type": "code",
    "id": "riaGycH5kib4",
    "outputId": "18eb13cd-6670-4e40-dab4-8cf335c594ca"
   },
   "outputs": [
    {
     "name": "stdout",
     "output_type": "stream",
     "text": [
      "0.8413134823883385\n",
      "[[15868  3409]\n",
      " [ 2709 16568]]\n"
     ]
    }
   ],
   "source": [
    "# Overall accuracy.\n",
    "print(metrics.accuracy_score(y_train_pred_final.Churned, y_train_pred_final.predicted))\n",
    "confusion = metrics.confusion_matrix(y_train_pred_final.Churned, y_train_pred_final.predicted )\n",
    "print(confusion)"
   ]
  },
  {
   "cell_type": "code",
   "execution_count": 132,
   "metadata": {
    "colab": {
     "base_uri": "https://localhost:8080/",
     "height": 102
    },
    "colab_type": "code",
    "id": "qyTenIFdkwmF",
    "outputId": "ce17049a-0fd2-4878-f5a6-ebd098dc3474"
   },
   "outputs": [
    {
     "name": "stdout",
     "output_type": "stream",
     "text": [
      "Sensitivity/ Recall                  =  0.8594698345178191\n",
      "Specificity                          =  0.8231571302588577\n",
      "false positive rate                  =  0.1768428697411423\n",
      "Positive predictive value/Precision  =  0.8293537568203434\n",
      "Negative predictive value            =  0.8541745168757066\n"
     ]
    }
   ],
   "source": [
    "TP = confusion[1,1] # true positive \n",
    "TN = confusion[0,0] # true negatives\n",
    "FP = confusion[0,1] # false positives\n",
    "FN = confusion[1,0] # false negatives\n",
    "# Printing other performance meterics\n",
    "print('Sensitivity/ Recall                  = ', TP / float(TP+FN))\n",
    "print('Specificity                          = ',TN / float(TN+FP))\n",
    "print('false positive rate                  = ',FP/ float(TN+FP))\n",
    "print ('Positive predictive value/Precision  = ',TP / float(TP+FP))\n",
    "print ('Negative predictive value            = ', TN / float(TN+FN))"
   ]
  },
  {
   "cell_type": "code",
   "execution_count": 133,
   "metadata": {
    "colab": {
     "base_uri": "https://localhost:8080/",
     "height": 350
    },
    "colab_type": "code",
    "id": "qpV7KugWk-Ic",
    "outputId": "8991c921-b089-4cdc-ab8b-831b9e306a03"
   },
   "outputs": [
    {
     "data": {
      "image/png": "[encoded data removed]",
      "text/plain": [
       "<Figure size 360x360 with 1 Axes>"
      ]
     },
     "metadata": {
      "tags": []
     },
     "output_type": "display_data"
    }
   ],
   "source": [
    "fpr, tpr, thresholds = metrics.roc_curve( y_train_pred_final.Churned, y_train_pred_final.Churn_Prob, drop_intermediate = False )\n",
    "draw_roc(y_train_pred_final.Churned, y_train_pred_final.Churn_Prob)"
   ]
  },
  {
   "cell_type": "markdown",
   "metadata": {
    "colab_type": "text",
    "id": "EmMx52k4lPHt"
   },
   "source": [
    "#### Prediction on Test Data"
   ]
  },
  {
   "cell_type": "code",
   "execution_count": 134,
   "metadata": {
    "colab": {
     "base_uri": "https://localhost:8080/",
     "height": 204
    },
    "colab_type": "code",
    "id": "yH_VAT07lI4K",
    "outputId": "02138f92-0a4f-419f-9f0f-a499073f041b"
   },
   "outputs": [
    {
     "data": {
      "text/html": [
       "<div>\n",
       "<style scoped>\n",
       "    .dataframe tbody tr th:only-of-type {\n",
       "        vertical-align: middle;\n",
       "    }\n",
       "\n",
       "    .dataframe tbody tr th {\n",
       "        vertical-align: top;\n",
       "    }\n",
       "\n",
       "    .dataframe thead th {\n",
       "        text-align: right;\n",
       "    }\n",
       "</style>\n",
       "<table border=\"1\" class=\"dataframe\">\n",
       "  <thead>\n",
       "    <tr style=\"text-align: right;\">\n",
       "      <th></th>\n",
       "      <th>0</th>\n",
       "    </tr>\n",
       "  </thead>\n",
       "  <tbody>\n",
       "    <tr>\n",
       "      <th>53991</th>\n",
       "      <td>0.000358</td>\n",
       "    </tr>\n",
       "    <tr>\n",
       "      <th>8279</th>\n",
       "      <td>0.548553</td>\n",
       "    </tr>\n",
       "    <tr>\n",
       "      <th>61559</th>\n",
       "      <td>0.015012</td>\n",
       "    </tr>\n",
       "    <tr>\n",
       "      <th>49668</th>\n",
       "      <td>0.977217</td>\n",
       "    </tr>\n",
       "    <tr>\n",
       "      <th>93509</th>\n",
       "      <td>0.808852</td>\n",
       "    </tr>\n",
       "  </tbody>\n",
       "</table>\n",
       "</div>"
      ],
      "text/plain": [
       "              0\n",
       "53991  0.000358\n",
       "8279   0.548553\n",
       "61559  0.015012\n",
       "49668  0.977217\n",
       "93509  0.808852"
      ]
     },
     "execution_count": 134,
     "metadata": {
      "tags": []
     },
     "output_type": "execute_result"
    }
   ],
   "source": [
    "X_test_sm = stm.add_constant(XT1[rfe_cols])\n",
    "#Making predictions on the test set\n",
    "y_test_pred = res1.predict(X_test_sm)\n",
    "\n",
    "# Converting y_pred to a dataframe which is an array\n",
    "y_pred_1 = pd.DataFrame(y_test_pred)\n",
    "y_pred_1.head()"
   ]
  },
  {
   "cell_type": "code",
   "execution_count": 135,
   "metadata": {
    "colab": {
     "base_uri": "https://localhost:8080/",
     "height": 204
    },
    "colab_type": "code",
    "id": "g7N1rr5Hld9v",
    "outputId": "31f7f8c3-cdd9-4b4e-86c2-9968bf8fffe7"
   },
   "outputs": [
    {
     "data": {
      "text/html": [
       "<div>\n",
       "<style scoped>\n",
       "    .dataframe tbody tr th:only-of-type {\n",
       "        vertical-align: middle;\n",
       "    }\n",
       "\n",
       "    .dataframe tbody tr th {\n",
       "        vertical-align: top;\n",
       "    }\n",
       "\n",
       "    .dataframe thead th {\n",
       "        text-align: right;\n",
       "    }\n",
       "</style>\n",
       "<table border=\"1\" class=\"dataframe\">\n",
       "  <thead>\n",
       "    <tr style=\"text-align: right;\">\n",
       "      <th></th>\n",
       "      <th>Churn</th>\n",
       "      <th>CustID</th>\n",
       "      <th>Churn_Prob</th>\n",
       "    </tr>\n",
       "  </thead>\n",
       "  <tbody>\n",
       "    <tr>\n",
       "      <th>0</th>\n",
       "      <td>0</td>\n",
       "      <td>53991</td>\n",
       "      <td>0.000358</td>\n",
       "    </tr>\n",
       "    <tr>\n",
       "      <th>1</th>\n",
       "      <td>1</td>\n",
       "      <td>8279</td>\n",
       "      <td>0.548553</td>\n",
       "    </tr>\n",
       "    <tr>\n",
       "      <th>2</th>\n",
       "      <td>0</td>\n",
       "      <td>61559</td>\n",
       "      <td>0.015012</td>\n",
       "    </tr>\n",
       "    <tr>\n",
       "      <th>3</th>\n",
       "      <td>1</td>\n",
       "      <td>49668</td>\n",
       "      <td>0.977217</td>\n",
       "    </tr>\n",
       "    <tr>\n",
       "      <th>4</th>\n",
       "      <td>1</td>\n",
       "      <td>93509</td>\n",
       "      <td>0.808852</td>\n",
       "    </tr>\n",
       "  </tbody>\n",
       "</table>\n",
       "</div>"
      ],
      "text/plain": [
       "   Churn  CustID  Churn_Prob\n",
       "0      0   53991    0.000358\n",
       "1      1    8279    0.548553\n",
       "2      0   61559    0.015012\n",
       "3      1   49668    0.977217\n",
       "4      1   93509    0.808852"
      ]
     },
     "execution_count": 135,
     "metadata": {
      "tags": []
     },
     "output_type": "execute_result"
    }
   ],
   "source": [
    "# Converting y_test to dataframe\n",
    "y_test_df = pd.DataFrame(y_test)\n",
    "\n",
    "# Putting CustID to index\n",
    "y_test_df['CustID'] = y_test_df.index\n",
    "\n",
    "# Removing index for both dataframes to append them side by side \n",
    "y_pred_1.reset_index(drop=True, inplace=True)\n",
    "y_test_df.reset_index(drop=True, inplace=True)\n",
    "\n",
    "# Appending y_test_df and y_pred_1\n",
    "y_pred_final = pd.concat([y_test_df, y_pred_1],axis=1)\n",
    "y_pred_final= y_pred_final.rename(columns={ 0 : 'Churn_Prob'})\n",
    "y_pred_final.head()"
   ]
  },
  {
   "cell_type": "code",
   "execution_count": 136,
   "metadata": {
    "colab": {
     "base_uri": "https://localhost:8080/",
     "height": 204
    },
    "colab_type": "code",
    "id": "UKXRXkUqmCZP",
    "outputId": "42123b14-1565-4fff-b982-6c149079077f"
   },
   "outputs": [
    {
     "data": {
      "text/html": [
       "<div>\n",
       "<style scoped>\n",
       "    .dataframe tbody tr th:only-of-type {\n",
       "        vertical-align: middle;\n",
       "    }\n",
       "\n",
       "    .dataframe tbody tr th {\n",
       "        vertical-align: top;\n",
       "    }\n",
       "\n",
       "    .dataframe thead th {\n",
       "        text-align: right;\n",
       "    }\n",
       "</style>\n",
       "<table border=\"1\" class=\"dataframe\">\n",
       "  <thead>\n",
       "    <tr style=\"text-align: right;\">\n",
       "      <th></th>\n",
       "      <th>Churn</th>\n",
       "      <th>CustID</th>\n",
       "      <th>Churn_Prob</th>\n",
       "      <th>final_predicted</th>\n",
       "    </tr>\n",
       "  </thead>\n",
       "  <tbody>\n",
       "    <tr>\n",
       "      <th>0</th>\n",
       "      <td>0</td>\n",
       "      <td>53991</td>\n",
       "      <td>0.000358</td>\n",
       "      <td>0</td>\n",
       "    </tr>\n",
       "    <tr>\n",
       "      <th>1</th>\n",
       "      <td>1</td>\n",
       "      <td>8279</td>\n",
       "      <td>0.548553</td>\n",
       "      <td>1</td>\n",
       "    </tr>\n",
       "    <tr>\n",
       "      <th>2</th>\n",
       "      <td>0</td>\n",
       "      <td>61559</td>\n",
       "      <td>0.015012</td>\n",
       "      <td>0</td>\n",
       "    </tr>\n",
       "    <tr>\n",
       "      <th>3</th>\n",
       "      <td>1</td>\n",
       "      <td>49668</td>\n",
       "      <td>0.977217</td>\n",
       "      <td>1</td>\n",
       "    </tr>\n",
       "    <tr>\n",
       "      <th>4</th>\n",
       "      <td>1</td>\n",
       "      <td>93509</td>\n",
       "      <td>0.808852</td>\n",
       "      <td>1</td>\n",
       "    </tr>\n",
       "  </tbody>\n",
       "</table>\n",
       "</div>"
      ],
      "text/plain": [
       "   Churn  CustID  Churn_Prob  final_predicted\n",
       "0      0   53991    0.000358                0\n",
       "1      1    8279    0.548553                1\n",
       "2      0   61559    0.015012                0\n",
       "3      1   49668    0.977217                1\n",
       "4      1   93509    0.808852                1"
      ]
     },
     "execution_count": 136,
     "metadata": {
      "tags": []
     },
     "output_type": "execute_result"
    }
   ],
   "source": [
    "y_pred_final['final_predicted'] = y_pred_final.Churn_Prob.map(lambda x: 1 if x > 0.5 else 0)\n",
    "\n",
    "y_pred_final.head()"
   ]
  },
  {
   "cell_type": "code",
   "execution_count": 137,
   "metadata": {
    "colab": {
     "base_uri": "https://localhost:8080/",
     "height": 68
    },
    "colab_type": "code",
    "id": "ZFpAjTjhmI1Y",
    "outputId": "e00d22d9-33bc-48be-cc3e-d6f6980f0136"
   },
   "outputs": [
    {
     "name": "stdout",
     "output_type": "stream",
     "text": [
      "0.8278888888888889\n",
      "[[6849 1430]\n",
      " [ 119  602]]\n"
     ]
    }
   ],
   "source": [
    "# Overall accuracy.\n",
    "print(metrics.accuracy_score(y_pred_final.Churn, y_pred_final.final_predicted))\n",
    "confusion = metrics.confusion_matrix(y_pred_final.Churn, y_pred_final.final_predicted )\n",
    "print(confusion)"
   ]
  },
  {
   "cell_type": "code",
   "execution_count": 138,
   "metadata": {
    "colab": {
     "base_uri": "https://localhost:8080/",
     "height": 102
    },
    "colab_type": "code",
    "id": "vhcM3wvsmS3v",
    "outputId": "64760183-e284-4d07-ddcf-096d45dbd410"
   },
   "outputs": [
    {
     "name": "stdout",
     "output_type": "stream",
     "text": [
      "Sensitivity/ Recall                  =  0.8349514563106796\n",
      "Specificity                          =  0.8272738253412247\n",
      "false positive rate                  =  0.1727261746587752\n",
      "Positive predictive value/Precision  =  0.296259842519685\n",
      "Negative predictive value            =  0.9829219288174512\n"
     ]
    }
   ],
   "source": [
    "TP = confusion[1,1] # true positive \n",
    "TN = confusion[0,0] # true negatives\n",
    "FP = confusion[0,1] # false positives\n",
    "FN = confusion[1,0] # false negatives\n",
    "# Printing other performance meterics\n",
    "print('Sensitivity/ Recall                  = ', TP / float(TP+FN))\n",
    "print('Specificity                          = ',TN / float(TN+FP))\n",
    "print('false positive rate                  = ',FP/ float(TN+FP))\n",
    "print ('Positive predictive value/Precision  = ',TP / float(TP+FP))\n",
    "print ('Negative predictive value            = ', TN / float(TN+FN))"
   ]
  },
  {
   "cell_type": "code",
   "execution_count": 139,
   "metadata": {
    "colab": {
     "base_uri": "https://localhost:8080/",
     "height": 350
    },
    "colab_type": "code",
    "id": "IUu6is_Gms6B",
    "outputId": "549bc43a-c8c0-4353-f640-d6d2d1ac91bc"
   },
   "outputs": [
    {
     "data": {
      "image/png": "[encoded data removed]",
      "text/plain": [
       "<Figure size 360x360 with 1 Axes>"
      ]
     },
     "metadata": {
      "tags": []
     },
     "output_type": "display_data"
    }
   ],
   "source": [
    "fpr, tpr, thresholds = metrics.roc_curve( y_pred_final.Churn, y_pred_final.Churn_Prob, drop_intermediate = False )\n",
    "draw_roc(y_pred_final.Churn, y_pred_final.Churn_Prob)"
   ]
  },
  {
   "cell_type": "code",
   "execution_count": 140,
   "metadata": {
    "colab": {
     "base_uri": "https://localhost:8080/",
     "height": 136
    },
    "colab_type": "code",
    "id": "zNiQv_xAm-JS",
    "outputId": "d9b5955e-b93b-41cc-f0f2-859baa091266"
   },
   "outputs": [
    {
     "data": {
      "text/plain": [
       "Index(['onnet_mou_8', 'std_og_t2m_mou_8', 'og_others_8', 'total_og_mou_8',\n",
       "       'loc_ic_t2t_mou_8', 'loc_ic_t2m_mou_8', 'std_ic_mou_8',\n",
       "       'total_ic_mou_8', 'spl_ic_mou_8', 'total_rech_num_8',\n",
       "       'last_day_rch_amt_8', 'total_rech_data_8', 'monthly_2g_8',\n",
       "       'monthly_3g_8', 'aon', 'sep_vbc_3g', 'avg_arpu_67',\n",
       "       'avg_roam_ic_mou_67', 'avg_total_og_mou_67', 'avg_total_ic_mou_67'],\n",
       "      dtype='object')"
      ]
     },
     "execution_count": 140,
     "metadata": {
      "tags": []
     },
     "output_type": "execute_result"
    }
   ],
   "source": [
    "# Important features\n",
    "rfe_cols"
   ]
  },
  {
   "cell_type": "markdown",
   "metadata": {
    "colab_type": "text",
    "id": "fJP6lAzAnwqh"
   },
   "source": [
    "## XGBoost with PCA"
   ]
  },
  {
   "cell_type": "code",
   "execution_count": 142,
   "metadata": {
    "colab": {
     "base_uri": "https://localhost:8080/",
     "height": 136
    },
    "colab_type": "code",
    "id": "dgBeEwbMnG9N",
    "outputId": "ec3c1a3d-048e-474c-ea01-87baa85d83f7"
   },
   "outputs": [
    {
     "data": {
      "text/plain": [
       "XGBClassifier(base_score=0.5, booster='gbtree', colsample_bylevel=1,\n",
       "              colsample_bynode=1, colsample_bytree=1, gamma=0,\n",
       "              learning_rate=0.1, max_delta_step=0, max_depth=3,\n",
       "              min_child_weight=1, missing=None, n_estimators=100, n_jobs=1,\n",
       "              nthread=None, objective='binary:logistic', random_state=0,\n",
       "              reg_alpha=0, reg_lambda=1, scale_pos_weight=1, seed=None,\n",
       "              silent=None, subsample=1, verbosity=1)"
      ]
     },
     "execution_count": 142,
     "metadata": {
      "tags": []
     },
     "output_type": "execute_result"
    }
   ],
   "source": [
    "import xgboost as xgb\n",
    "from xgboost import XGBClassifier\n",
    "from xgboost import plot_importance\n",
    "import gc # for deleting unused variables\n",
    "# fit model on training data with default hyperparameters\n",
    "model = XGBClassifier()\n",
    "model.fit(df_train_pca, y_smt)"
   ]
  },
  {
   "cell_type": "code",
   "execution_count": 143,
   "metadata": {
    "colab": {
     "base_uri": "https://localhost:8080/",
     "height": 187
    },
    "colab_type": "code",
    "id": "dSpoebeJoC-N",
    "outputId": "cf90cd94-7656-4c89-cf55-6b07ebd71fbb"
   },
   "outputs": [
    {
     "data": {
      "text/plain": [
       "array([[0.9183114 , 0.08168856],\n",
       "       [0.7518403 , 0.2481597 ],\n",
       "       [0.9606752 , 0.03932482],\n",
       "       [0.06397724, 0.93602276],\n",
       "       [0.0855245 , 0.9144755 ],\n",
       "       [0.7039833 , 0.29601666],\n",
       "       [0.8230406 , 0.17695943],\n",
       "       [0.44330293, 0.5566971 ],\n",
       "       [0.8027084 , 0.19729161],\n",
       "       [0.47073203, 0.52926797]], dtype=float32)"
      ]
     },
     "execution_count": 143,
     "metadata": {
      "tags": []
     },
     "output_type": "execute_result"
    }
   ],
   "source": [
    "# make predictions for test data\n",
    "# use predict_proba since we need probabilities to compute auc\n",
    "y_pred = model.predict_proba(df_test_pca)\n",
    "y_pred[:10]"
   ]
  },
  {
   "cell_type": "code",
   "execution_count": 144,
   "metadata": {
    "colab": {
     "base_uri": "https://localhost:8080/",
     "height": 34
    },
    "colab_type": "code",
    "id": "mZpEyGieoKzO",
    "outputId": "54143467-725a-406f-d5ce-eecc44284c92"
   },
   "outputs": [
    {
     "name": "stdout",
     "output_type": "stream",
     "text": [
      "AUC: 89.04%\n"
     ]
    }
   ],
   "source": [
    "# evaluate predictions\n",
    "roc = metrics.roc_auc_score(y_test, y_pred[:, 1])\n",
    "print(\"AUC: %.2f%%\" % (roc * 100.0))"
   ]
  },
  {
   "cell_type": "code",
   "execution_count": 0,
   "metadata": {
    "colab": {},
    "colab_type": "code",
    "id": "KVMuFuasr0ep"
   },
   "outputs": [],
   "source": [
    "# hyperparameter tuning with XGBoost\n",
    "\n",
    "# creating a KFold object \n",
    "folds = 3\n",
    "\n",
    "# specify range of hyperparameters\n",
    "param_grid = {'learning_rate': [0.2, 0.6], \n",
    "             'subsample': [0.3, 0.6, 0.9]}          \n",
    "\n",
    "\n",
    "# specify model\n",
    "xgb_model = XGBClassifier(max_depth=2, n_estimators=200)\n",
    "\n",
    "# set up GridSearchCV()\n",
    "model_cv = GridSearchCV(estimator = xgb_model, \n",
    "                        param_grid = param_grid, \n",
    "                        scoring= 'roc_auc', \n",
    "                        cv = folds, \n",
    "                        verbose = 1,\n",
    "                        return_train_score=True)      "
   ]
  },
  {
   "cell_type": "code",
   "execution_count": 0,
   "metadata": {
    "colab": {},
    "colab_type": "code",
    "id": "e-5BTvM_4an_"
   },
   "outputs": [],
   "source": [
    "# Fit the grid search to the data\n",
    "# commented as it takes long time\n",
    "#grid_search.fit(df_train_pca, y_train) "
   ]
  },
  {
   "cell_type": "code",
   "execution_count": 148,
   "metadata": {
    "colab": {
     "base_uri": "https://localhost:8080/",
     "height": 340
    },
    "colab_type": "code",
    "id": "E4NEAVIxtHjm",
    "outputId": "e8302b88-2371-455a-be71-1aff258e9729"
   },
   "outputs": [
    {
     "name": "stdout",
     "output_type": "stream",
     "text": [
      "Fitting 3 folds for each of 6 candidates, totalling 18 fits\n"
     ]
    },
    {
     "name": "stderr",
     "output_type": "stream",
     "text": [
      "[Parallel(n_jobs=1)]: Using backend SequentialBackend with 1 concurrent workers.\n",
      "[Parallel(n_jobs=1)]: Done  18 out of  18 | elapsed:  2.5min finished\n"
     ]
    },
    {
     "data": {
      "text/plain": [
       "GridSearchCV(cv=3, error_score=nan,\n",
       "             estimator=XGBClassifier(base_score=0.5, booster='gbtree',\n",
       "                                     colsample_bylevel=1, colsample_bynode=1,\n",
       "                                     colsample_bytree=1, gamma=0,\n",
       "                                     learning_rate=0.1, max_delta_step=0,\n",
       "                                     max_depth=2, min_child_weight=1,\n",
       "                                     missing=None, n_estimators=200, n_jobs=1,\n",
       "                                     nthread=None, objective='binary:logistic',\n",
       "                                     random_state=0, reg_alpha=0, reg_lambda=1,\n",
       "                                     scale_pos_weight=1, seed=None, silent=None,\n",
       "                                     subsample=1, verbosity=1),\n",
       "             iid='deprecated', n_jobs=None,\n",
       "             param_grid={'learning_rate': [0.2, 0.6],\n",
       "                         'subsample': [0.3, 0.6, 0.9]},\n",
       "             pre_dispatch='2*n_jobs', refit=True, return_train_score=True,\n",
       "             scoring='roc_auc', verbose=1)"
      ]
     },
     "execution_count": 148,
     "metadata": {
      "tags": []
     },
     "output_type": "execute_result"
    }
   ],
   "source": [
    "# fit the model\n",
    "model_cv.fit(df_train_pca, y_train)    "
   ]
  },
  {
   "cell_type": "code",
   "execution_count": 0,
   "metadata": {
    "colab": {},
    "colab_type": "code",
    "id": "lTsxRZ4I4PVO"
   },
   "outputs": [],
   "source": [
    "# printing the optimal accuracy score and hyperparameters\n",
    "#print('We can get accuracy of',grid_search.best_score_,'using',grid_search.best_params_)"
   ]
  },
  {
   "cell_type": "code",
   "execution_count": 151,
   "metadata": {
    "colab": {
     "base_uri": "https://localhost:8080/",
     "height": 561
    },
    "colab_type": "code",
    "id": "suChh-xFtZUI",
    "outputId": "7ef81832-c4ba-4da1-c6ee-1093898864cd"
   },
   "outputs": [
    {
     "data": {
      "text/html": [
       "<div>\n",
       "<style scoped>\n",
       "    .dataframe tbody tr th:only-of-type {\n",
       "        vertical-align: middle;\n",
       "    }\n",
       "\n",
       "    .dataframe tbody tr th {\n",
       "        vertical-align: top;\n",
       "    }\n",
       "\n",
       "    .dataframe thead th {\n",
       "        text-align: right;\n",
       "    }\n",
       "</style>\n",
       "<table border=\"1\" class=\"dataframe\">\n",
       "  <thead>\n",
       "    <tr style=\"text-align: right;\">\n",
       "      <th></th>\n",
       "      <th>mean_fit_time</th>\n",
       "      <th>std_fit_time</th>\n",
       "      <th>mean_score_time</th>\n",
       "      <th>std_score_time</th>\n",
       "      <th>param_learning_rate</th>\n",
       "      <th>param_subsample</th>\n",
       "      <th>params</th>\n",
       "      <th>split0_test_score</th>\n",
       "      <th>split1_test_score</th>\n",
       "      <th>split2_test_score</th>\n",
       "      <th>mean_test_score</th>\n",
       "      <th>std_test_score</th>\n",
       "      <th>rank_test_score</th>\n",
       "      <th>split0_train_score</th>\n",
       "      <th>split1_train_score</th>\n",
       "      <th>split2_train_score</th>\n",
       "      <th>mean_train_score</th>\n",
       "      <th>std_train_score</th>\n",
       "    </tr>\n",
       "  </thead>\n",
       "  <tbody>\n",
       "    <tr>\n",
       "      <th>0</th>\n",
       "      <td>6.367536</td>\n",
       "      <td>0.013794</td>\n",
       "      <td>0.079642</td>\n",
       "      <td>0.000404</td>\n",
       "      <td>0.2</td>\n",
       "      <td>0.3</td>\n",
       "      <td>{'learning_rate': 0.2, 'subsample': 0.3}</td>\n",
       "      <td>0.924612</td>\n",
       "      <td>0.934807</td>\n",
       "      <td>0.931706</td>\n",
       "      <td>0.930375</td>\n",
       "      <td>0.004267</td>\n",
       "      <td>5</td>\n",
       "      <td>0.943811</td>\n",
       "      <td>0.938290</td>\n",
       "      <td>0.941076</td>\n",
       "      <td>0.941059</td>\n",
       "      <td>0.002254</td>\n",
       "    </tr>\n",
       "    <tr>\n",
       "      <th>1</th>\n",
       "      <td>8.497560</td>\n",
       "      <td>0.004329</td>\n",
       "      <td>0.080605</td>\n",
       "      <td>0.000664</td>\n",
       "      <td>0.2</td>\n",
       "      <td>0.6</td>\n",
       "      <td>{'learning_rate': 0.2, 'subsample': 0.6}</td>\n",
       "      <td>0.924417</td>\n",
       "      <td>0.936448</td>\n",
       "      <td>0.931555</td>\n",
       "      <td>0.930807</td>\n",
       "      <td>0.004940</td>\n",
       "      <td>3</td>\n",
       "      <td>0.944704</td>\n",
       "      <td>0.940455</td>\n",
       "      <td>0.941815</td>\n",
       "      <td>0.942325</td>\n",
       "      <td>0.001772</td>\n",
       "    </tr>\n",
       "    <tr>\n",
       "      <th>2</th>\n",
       "      <td>9.005939</td>\n",
       "      <td>0.014614</td>\n",
       "      <td>0.080087</td>\n",
       "      <td>0.001800</td>\n",
       "      <td>0.2</td>\n",
       "      <td>0.9</td>\n",
       "      <td>{'learning_rate': 0.2, 'subsample': 0.9}</td>\n",
       "      <td>0.924934</td>\n",
       "      <td>0.935003</td>\n",
       "      <td>0.931532</td>\n",
       "      <td>0.930489</td>\n",
       "      <td>0.004176</td>\n",
       "      <td>4</td>\n",
       "      <td>0.945523</td>\n",
       "      <td>0.940343</td>\n",
       "      <td>0.941318</td>\n",
       "      <td>0.942394</td>\n",
       "      <td>0.002248</td>\n",
       "    </tr>\n",
       "    <tr>\n",
       "      <th>3</th>\n",
       "      <td>6.352710</td>\n",
       "      <td>0.008453</td>\n",
       "      <td>0.083503</td>\n",
       "      <td>0.004937</td>\n",
       "      <td>0.6</td>\n",
       "      <td>0.3</td>\n",
       "      <td>{'learning_rate': 0.6, 'subsample': 0.3}</td>\n",
       "      <td>0.923928</td>\n",
       "      <td>0.935506</td>\n",
       "      <td>0.929793</td>\n",
       "      <td>0.929743</td>\n",
       "      <td>0.004727</td>\n",
       "      <td>6</td>\n",
       "      <td>0.954682</td>\n",
       "      <td>0.950190</td>\n",
       "      <td>0.951322</td>\n",
       "      <td>0.952065</td>\n",
       "      <td>0.001908</td>\n",
       "    </tr>\n",
       "    <tr>\n",
       "      <th>4</th>\n",
       "      <td>8.512416</td>\n",
       "      <td>0.014854</td>\n",
       "      <td>0.079809</td>\n",
       "      <td>0.000391</td>\n",
       "      <td>0.6</td>\n",
       "      <td>0.6</td>\n",
       "      <td>{'learning_rate': 0.6, 'subsample': 0.6}</td>\n",
       "      <td>0.932347</td>\n",
       "      <td>0.941574</td>\n",
       "      <td>0.938338</td>\n",
       "      <td>0.937420</td>\n",
       "      <td>0.003823</td>\n",
       "      <td>2</td>\n",
       "      <td>0.961223</td>\n",
       "      <td>0.957889</td>\n",
       "      <td>0.959966</td>\n",
       "      <td>0.959693</td>\n",
       "      <td>0.001375</td>\n",
       "    </tr>\n",
       "    <tr>\n",
       "      <th>5</th>\n",
       "      <td>9.101382</td>\n",
       "      <td>0.039730</td>\n",
       "      <td>0.080044</td>\n",
       "      <td>0.001248</td>\n",
       "      <td>0.6</td>\n",
       "      <td>0.9</td>\n",
       "      <td>{'learning_rate': 0.6, 'subsample': 0.9}</td>\n",
       "      <td>0.933505</td>\n",
       "      <td>0.944133</td>\n",
       "      <td>0.939479</td>\n",
       "      <td>0.939039</td>\n",
       "      <td>0.004350</td>\n",
       "      <td>1</td>\n",
       "      <td>0.962306</td>\n",
       "      <td>0.959973</td>\n",
       "      <td>0.961071</td>\n",
       "      <td>0.961117</td>\n",
       "      <td>0.000953</td>\n",
       "    </tr>\n",
       "  </tbody>\n",
       "</table>\n",
       "</div>"
      ],
      "text/plain": [
       "   mean_fit_time  std_fit_time  ...  mean_train_score  std_train_score\n",
       "0       6.367536      0.013794  ...          0.941059         0.002254\n",
       "1       8.497560      0.004329  ...          0.942325         0.001772\n",
       "2       9.005939      0.014614  ...          0.942394         0.002248\n",
       "3       6.352710      0.008453  ...          0.952065         0.001908\n",
       "4       8.512416      0.014854  ...          0.959693         0.001375\n",
       "5       9.101382      0.039730  ...          0.961117         0.000953\n",
       "\n",
       "[6 rows x 18 columns]"
      ]
     },
     "execution_count": 151,
     "metadata": {
      "tags": []
     },
     "output_type": "execute_result"
    }
   ],
   "source": [
    "# cv results\n",
    "cv_results = pd.DataFrame(model_cv.cv_results_)\n",
    "cv_results"
   ]
  },
  {
   "cell_type": "code",
   "execution_count": 152,
   "metadata": {
    "colab": {
     "base_uri": "https://localhost:8080/",
     "height": 479
    },
    "colab_type": "code",
    "id": "t4l3567ntmL2",
    "outputId": "16819932-23de-4727-e458-05d23536a46f"
   },
   "outputs": [
    {
     "data": {
      "text/html": [
       "<div>\n",
       "<style scoped>\n",
       "    .dataframe tbody tr th:only-of-type {\n",
       "        vertical-align: middle;\n",
       "    }\n",
       "\n",
       "    .dataframe tbody tr th {\n",
       "        vertical-align: top;\n",
       "    }\n",
       "\n",
       "    .dataframe thead th {\n",
       "        text-align: right;\n",
       "    }\n",
       "</style>\n",
       "<table border=\"1\" class=\"dataframe\">\n",
       "  <thead>\n",
       "    <tr style=\"text-align: right;\">\n",
       "      <th></th>\n",
       "      <th>mean_fit_time</th>\n",
       "      <th>std_fit_time</th>\n",
       "      <th>mean_score_time</th>\n",
       "      <th>std_score_time</th>\n",
       "      <th>param_learning_rate</th>\n",
       "      <th>param_subsample</th>\n",
       "      <th>params</th>\n",
       "      <th>split0_test_score</th>\n",
       "      <th>split1_test_score</th>\n",
       "      <th>split2_test_score</th>\n",
       "      <th>mean_test_score</th>\n",
       "      <th>std_test_score</th>\n",
       "      <th>rank_test_score</th>\n",
       "      <th>split0_train_score</th>\n",
       "      <th>split1_train_score</th>\n",
       "      <th>split2_train_score</th>\n",
       "      <th>mean_train_score</th>\n",
       "      <th>std_train_score</th>\n",
       "    </tr>\n",
       "  </thead>\n",
       "  <tbody>\n",
       "    <tr>\n",
       "      <th>0</th>\n",
       "      <td>6.367536</td>\n",
       "      <td>0.013794</td>\n",
       "      <td>0.079642</td>\n",
       "      <td>0.000404</td>\n",
       "      <td>0.2</td>\n",
       "      <td>0.3</td>\n",
       "      <td>{'learning_rate': 0.2, 'subsample': 0.3}</td>\n",
       "      <td>0.924612</td>\n",
       "      <td>0.934807</td>\n",
       "      <td>0.931706</td>\n",
       "      <td>0.930375</td>\n",
       "      <td>0.004267</td>\n",
       "      <td>5</td>\n",
       "      <td>0.943811</td>\n",
       "      <td>0.938290</td>\n",
       "      <td>0.941076</td>\n",
       "      <td>0.941059</td>\n",
       "      <td>0.002254</td>\n",
       "    </tr>\n",
       "    <tr>\n",
       "      <th>1</th>\n",
       "      <td>8.497560</td>\n",
       "      <td>0.004329</td>\n",
       "      <td>0.080605</td>\n",
       "      <td>0.000664</td>\n",
       "      <td>0.2</td>\n",
       "      <td>0.6</td>\n",
       "      <td>{'learning_rate': 0.2, 'subsample': 0.6}</td>\n",
       "      <td>0.924417</td>\n",
       "      <td>0.936448</td>\n",
       "      <td>0.931555</td>\n",
       "      <td>0.930807</td>\n",
       "      <td>0.004940</td>\n",
       "      <td>3</td>\n",
       "      <td>0.944704</td>\n",
       "      <td>0.940455</td>\n",
       "      <td>0.941815</td>\n",
       "      <td>0.942325</td>\n",
       "      <td>0.001772</td>\n",
       "    </tr>\n",
       "    <tr>\n",
       "      <th>2</th>\n",
       "      <td>9.005939</td>\n",
       "      <td>0.014614</td>\n",
       "      <td>0.080087</td>\n",
       "      <td>0.001800</td>\n",
       "      <td>0.2</td>\n",
       "      <td>0.9</td>\n",
       "      <td>{'learning_rate': 0.2, 'subsample': 0.9}</td>\n",
       "      <td>0.924934</td>\n",
       "      <td>0.935003</td>\n",
       "      <td>0.931532</td>\n",
       "      <td>0.930489</td>\n",
       "      <td>0.004176</td>\n",
       "      <td>4</td>\n",
       "      <td>0.945523</td>\n",
       "      <td>0.940343</td>\n",
       "      <td>0.941318</td>\n",
       "      <td>0.942394</td>\n",
       "      <td>0.002248</td>\n",
       "    </tr>\n",
       "    <tr>\n",
       "      <th>3</th>\n",
       "      <td>6.352710</td>\n",
       "      <td>0.008453</td>\n",
       "      <td>0.083503</td>\n",
       "      <td>0.004937</td>\n",
       "      <td>0.6</td>\n",
       "      <td>0.3</td>\n",
       "      <td>{'learning_rate': 0.6, 'subsample': 0.3}</td>\n",
       "      <td>0.923928</td>\n",
       "      <td>0.935506</td>\n",
       "      <td>0.929793</td>\n",
       "      <td>0.929743</td>\n",
       "      <td>0.004727</td>\n",
       "      <td>6</td>\n",
       "      <td>0.954682</td>\n",
       "      <td>0.950190</td>\n",
       "      <td>0.951322</td>\n",
       "      <td>0.952065</td>\n",
       "      <td>0.001908</td>\n",
       "    </tr>\n",
       "    <tr>\n",
       "      <th>4</th>\n",
       "      <td>8.512416</td>\n",
       "      <td>0.014854</td>\n",
       "      <td>0.079809</td>\n",
       "      <td>0.000391</td>\n",
       "      <td>0.6</td>\n",
       "      <td>0.6</td>\n",
       "      <td>{'learning_rate': 0.6, 'subsample': 0.6}</td>\n",
       "      <td>0.932347</td>\n",
       "      <td>0.941574</td>\n",
       "      <td>0.938338</td>\n",
       "      <td>0.937420</td>\n",
       "      <td>0.003823</td>\n",
       "      <td>2</td>\n",
       "      <td>0.961223</td>\n",
       "      <td>0.957889</td>\n",
       "      <td>0.959966</td>\n",
       "      <td>0.959693</td>\n",
       "      <td>0.001375</td>\n",
       "    </tr>\n",
       "  </tbody>\n",
       "</table>\n",
       "</div>"
      ],
      "text/plain": [
       "   mean_fit_time  std_fit_time  ...  mean_train_score  std_train_score\n",
       "0       6.367536      0.013794  ...          0.941059         0.002254\n",
       "1       8.497560      0.004329  ...          0.942325         0.001772\n",
       "2       9.005939      0.014614  ...          0.942394         0.002248\n",
       "3       6.352710      0.008453  ...          0.952065         0.001908\n",
       "4       8.512416      0.014854  ...          0.959693         0.001375\n",
       "\n",
       "[5 rows x 18 columns]"
      ]
     },
     "execution_count": 152,
     "metadata": {
      "tags": []
     },
     "output_type": "execute_result"
    }
   ],
   "source": [
    "# convert parameters to int for plotting on x-axis\n",
    "cv_results['param_learning_rate'] = cv_results['param_learning_rate'].astype('float')\n",
    "#cv_results['param_max_depth'] = cv_results['param_max_depth'].astype('float')\n",
    "cv_results.head()"
   ]
  },
  {
   "cell_type": "code",
   "execution_count": 153,
   "metadata": {
    "colab": {
     "base_uri": "https://localhost:8080/",
     "height": 407
    },
    "colab_type": "code",
    "id": "uRsu-8cutp68",
    "outputId": "bec2f6a5-8c11-4af6-b826-34eba43c7347"
   },
   "outputs": [
    {
     "data": {
      "image/png": "[encoded data removed]",
      "text/plain": [
       "<Figure size 1152x432 with 3 Axes>"
      ]
     },
     "metadata": {
      "tags": []
     },
     "output_type": "display_data"
    }
   ],
   "source": [
    "# # plotting\n",
    "plt.figure(figsize=(16,6))\n",
    "\n",
    "param_grid = {'learning_rate': [0.2, 0.6], \n",
    "             'subsample': [0.3, 0.6, 0.9]} \n",
    "\n",
    "\n",
    "for n, subsample in enumerate(param_grid['subsample']):\n",
    "    \n",
    "\n",
    "    # subplot 1/n\n",
    "    plt.subplot(1,len(param_grid['subsample']), n+1)\n",
    "    df = cv_results[cv_results['param_subsample']==subsample]\n",
    "\n",
    "    plt.plot(df[\"param_learning_rate\"], df[\"mean_test_score\"])\n",
    "    plt.plot(df[\"param_learning_rate\"], df[\"mean_train_score\"])\n",
    "    plt.xlabel('learning_rate')\n",
    "    plt.ylabel('AUC')\n",
    "    plt.title(\"subsample={0}\".format(subsample))\n",
    "    plt.ylim([0.60, 1])\n",
    "    plt.legend(['test score', 'train score'], loc='upper left')\n",
    "    plt.xscale('log')"
   ]
  },
  {
   "cell_type": "code",
   "execution_count": 154,
   "metadata": {
    "colab": {
     "base_uri": "https://localhost:8080/",
     "height": 170
    },
    "colab_type": "code",
    "id": "c9PP_8VCwrWm",
    "outputId": "e2672d0a-1ee7-45e8-e8cd-e2fc5565baad"
   },
   "outputs": [
    {
     "data": {
      "text/plain": [
       "XGBClassifier(base_score=0.5, booster='gbtree', colsample_bylevel=1,\n",
       "              colsample_bynode=1, colsample_bytree=1, gamma=0,\n",
       "              learning_rate=0.1, max_delta_step=0, max_depth=3,\n",
       "              min_child_weight=1, missing=None, n_estimators=100, n_jobs=1,\n",
       "              nthread=None, objective='binary:logistic',\n",
       "              params={'learning_rate': 0.2, 'max_depth': 2, 'n_estimators': 200,\n",
       "                      'objective': 'binary:logistic', 'subsample': 0.6},\n",
       "              random_state=0, reg_alpha=0, reg_lambda=1, scale_pos_weight=1,\n",
       "              seed=None, silent=None, subsample=1, verbosity=1)"
      ]
     },
     "execution_count": 154,
     "metadata": {
      "tags": []
     },
     "output_type": "execute_result"
    }
   ],
   "source": [
    "#### haven't chosen the optimum\n",
    "# chosen hyperparameters\n",
    "# 'objective':'binary:logistic' outputs probability rather than label, which we need for auc\n",
    "params = {'learning_rate': 0.2,\n",
    "          'max_depth': 2, \n",
    "          'n_estimators':200,\n",
    "          'subsample':0.6,\n",
    "         'objective':'binary:logistic'}\n",
    "\n",
    "# fit model on training data\n",
    "model = XGBClassifier(params = params)\n",
    "model.fit(df_train_pca, y_train)"
   ]
  },
  {
   "cell_type": "code",
   "execution_count": 155,
   "metadata": {
    "colab": {
     "base_uri": "https://localhost:8080/",
     "height": 187
    },
    "colab_type": "code",
    "id": "WdXvuCJ1w_Wb",
    "outputId": "b3e87fa9-e995-4320-9fa1-000909acccb1"
   },
   "outputs": [
    {
     "data": {
      "text/plain": [
       "array([[0.9183114 , 0.08168856],\n",
       "       [0.7518403 , 0.2481597 ],\n",
       "       [0.9606752 , 0.03932482],\n",
       "       [0.06397724, 0.93602276],\n",
       "       [0.0855245 , 0.9144755 ],\n",
       "       [0.7039833 , 0.29601666],\n",
       "       [0.8230406 , 0.17695943],\n",
       "       [0.44330293, 0.5566971 ],\n",
       "       [0.8027084 , 0.19729161],\n",
       "       [0.47073203, 0.52926797]], dtype=float32)"
      ]
     },
     "execution_count": 155,
     "metadata": {
      "tags": []
     },
     "output_type": "execute_result"
    }
   ],
   "source": [
    "# predict\n",
    "y_pred = model.predict_proba(df_test_pca)\n",
    "y_pred[:10]"
   ]
  },
  {
   "cell_type": "code",
   "execution_count": 156,
   "metadata": {
    "colab": {
     "base_uri": "https://localhost:8080/",
     "height": 34
    },
    "colab_type": "code",
    "id": "TVysO9JvxMpQ",
    "outputId": "c9e796f9-df8a-4717-a9fd-e278fc23c5e1"
   },
   "outputs": [
    {
     "data": {
      "text/plain": [
       "0.8904162211125553"
      ]
     },
     "execution_count": 156,
     "metadata": {
      "tags": []
     },
     "output_type": "execute_result"
    }
   ],
   "source": [
    "# roc_auc\n",
    "auc = metrics.roc_auc_score(y_test, y_pred[:, 1])\n",
    "auc"
   ]
  },
  {
   "cell_type": "code",
   "execution_count": 157,
   "metadata": {
    "colab": {
     "base_uri": "https://localhost:8080/",
     "height": 629
    },
    "colab_type": "code",
    "id": "zA_AdzycxeEm",
    "outputId": "799dcaf7-907e-46ee-d211-23f453bbe3f0"
   },
   "outputs": [
    {
     "data": {
      "text/plain": [
       "{0: 0.23846568,\n",
       " 1: 0.015770713,\n",
       " 2: 0.053154774,\n",
       " 3: 0.058530565,\n",
       " 4: 0.05215168,\n",
       " 5: 0.06076783,\n",
       " 6: 0.045217138,\n",
       " 7: 0.025929688,\n",
       " 8: 0.012986376,\n",
       " 9: 0.014447175,\n",
       " 10: 0.033598065,\n",
       " 11: 0.04940374,\n",
       " 12: 0.04649261,\n",
       " 13: 0.013253822,\n",
       " 14: 0.03035896,\n",
       " 15: 0.014034848,\n",
       " 16: 0.023172932,\n",
       " 17: 0.030591069,\n",
       " 18: 0.012670319,\n",
       " 19: 0.011375907,\n",
       " 20: 0.0070599406,\n",
       " 21: 0.005899799,\n",
       " 22: 0.009109016,\n",
       " 23: 0.008567645,\n",
       " 24: 0.008998855,\n",
       " 25: 0.0077620875,\n",
       " 26: 0.0075364085,\n",
       " 27: 0.007901098,\n",
       " 28: 0.009404273,\n",
       " 29: 0.019217664,\n",
       " 30: 0.014710476,\n",
       " 31: 0.00995456,\n",
       " 32: 0.010489527,\n",
       " 33: 0.0074224374,\n",
       " 34: 0.008632621,\n",
       " 35: 0.014959709}"
      ]
     },
     "execution_count": 157,
     "metadata": {
      "tags": []
     },
     "output_type": "execute_result"
    }
   ],
   "source": [
    "# feature importance\n",
    "importance = dict(zip(df_train_pca.columns, model.feature_importances_))\n",
    "importance"
   ]
  },
  {
   "cell_type": "code",
   "execution_count": 158,
   "metadata": {
    "colab": {
     "base_uri": "https://localhost:8080/",
     "height": 269
    },
    "colab_type": "code",
    "id": "2jrjgQ5YxqJy",
    "outputId": "64bb8b2b-59a4-4b64-b6a0-5ade841a1cd3"
   },
   "outputs": [
    {
     "data": {
      "image/png": "[encoded data removed]",
      "text/plain": [
       "<Figure size 432x288 with 1 Axes>"
      ]
     },
     "metadata": {
      "tags": []
     },
     "output_type": "display_data"
    }
   ],
   "source": [
    "# plot\n",
    "plt.bar(range(len(model.feature_importances_)), model.feature_importances_)\n",
    "plt.show()"
   ]
  },
  {
   "cell_type": "code",
   "execution_count": 159,
   "metadata": {
    "colab": {
     "base_uri": "https://localhost:8080/",
     "height": 51
    },
    "colab_type": "code",
    "id": "XOnLdE_eyR2z",
    "outputId": "57ef71d2-47b4-439d-fee8-9f0e38e4a8d6"
   },
   "outputs": [
    {
     "data": {
      "text/plain": [
       "array([[7119, 1160],\n",
       "       [ 158,  563]])"
      ]
     },
     "execution_count": 159,
     "metadata": {
      "tags": []
     },
     "output_type": "execute_result"
    }
   ],
   "source": [
    "y_pred_fin = model.predict(df_test_pca)\n",
    "\n",
    "conf = metrics.confusion_matrix(y_test, y_pred_fin )\n",
    "conf"
   ]
  },
  {
   "cell_type": "code",
   "execution_count": 160,
   "metadata": {
    "colab": {
     "base_uri": "https://localhost:8080/",
     "height": 102
    },
    "colab_type": "code",
    "id": "zJ-oLcZ3ymuf",
    "outputId": "b723047b-8a9b-49f1-a536-13841c3267e4"
   },
   "outputs": [
    {
     "name": "stdout",
     "output_type": "stream",
     "text": [
      "Sensitivity/ Recall                  =  0.7808599167822469\n",
      "Specificity                          =  0.8598864597173572\n",
      "false positive rate                  =  0.14011354028264283\n",
      "Positive predictive value/Precision  =  0.3267556587347649\n",
      "Negative predictive value            =  0.9782877559433832\n"
     ]
    }
   ],
   "source": [
    "TP = conf[1,1] # true positive \n",
    "TN = conf[0,0] # true negatives\n",
    "FP = conf[0,1] # false positives\n",
    "FN = conf[1,0] # false negatives\n",
    "# Printing other performance meterics\n",
    "print('Sensitivity/ Recall                  = ', TP / float(TP+FN))\n",
    "print('Specificity                          = ',TN / float(TN+FP))\n",
    "print('false positive rate                  = ',FP/ float(TN+FP))\n",
    "print ('Positive predictive value/Precision  = ',TP / float(TP+FP))\n",
    "print ('Negative predictive value            = ', TN / float(TN+FN))"
   ]
  },
  {
   "cell_type": "markdown",
   "metadata": {
    "colab_type": "text",
    "id": "6DlxJaph7ygg"
   },
   "source": [
    "## Model Results"
   ]
  },
  {
   "cell_type": "markdown",
   "metadata": {
    "colab_type": "text",
    "id": "vmmB7RcPAJUW"
   },
   "source": [
    "Model Accuracy is better along with Sensitivity and Specificity while using Logic Regression along with PCA.\n",
    "Model which is built with probablity of 0.6 or greater yielded Better results.\n",
    "\n",
    "Area under the curve also resulted in 0.91"
   ]
  },
  {
   "cell_type": "markdown",
   "metadata": {
    "colab_type": "text",
    "id": "40glb7zRAr7O"
   },
   "source": [
    "# Important Predictive variables which decide Churn are as follows:\n",
    "\n",
    "1. total_og_mou_8\n",
    "2. sep_vbc_3g\n",
    "3. onnet_mou_8\n",
    "4. loc_ic_t2m_mou_8\n",
    "5. std_og_t2m_mou_8\n",
    "6. avg_total_ic_mou_67\n",
    "7. loc_ic_t2t_mou_8\n",
    "8. og_others_8"
   ]
  },
  {
   "cell_type": "markdown",
   "metadata": {
    "colab_type": "text",
    "id": "5xWgkgO_J42C"
   },
   "source": [
    "## Recommended Strategy"
   ]
  },
  {
   "cell_type": "markdown",
   "metadata": {
    "colab_type": "text",
    "id": "EcvCnTsSKK6v"
   },
   "source": [
    "Based on the above variables, reduced usage of the mobile either for call or data is a clear indication of churn.\n",
    "\n",
    "Hence on any month, if the usage of customer reduces or go below the average usage in previous month, then we do the following:\n",
    "1. Roll out offers to retain them\n",
    "2. Assign a dedicated customer service specialist to understand the reason for leaving and bring the issue to closure in case of any pending problems reported by customer."
   ]
  },
  {
   "cell_type": "markdown",
   "metadata": {
    "colab_type": "text",
    "id": "m8YfB3CmLBPj"
   },
   "source": [
    "## Predictor Plot"
   ]
  },
  {
   "cell_type": "code",
   "execution_count": 0,
   "metadata": {
    "colab": {},
    "colab_type": "code",
    "id": "dZ-R41lmKIN0"
   },
   "outputs": [],
   "source": [
    "## Summary Table\n",
    "\n",
    "# Feature               # Coefficient\n",
    "# total_og_mou_8        # -1.98\n",
    "# sep_vbc_3g            # -1.57\n",
    "# onnet_mou_8           # 0.800\n",
    "# loc_ic_t2m_mou_8      # -0.70\n",
    "# std_og_t2m_mou_8      # 0.69\n",
    "# avg_total_ic_mou_67   # 0.68\n",
    "# loc_ic_t2t_mou_8      # -0.65\n",
    "# og_others_8           # -0.60"
   ]
  },
  {
   "cell_type": "code",
   "execution_count": 0,
   "metadata": {
    "colab": {},
    "colab_type": "code",
    "id": "f5SGUj0cLV3O"
   },
   "outputs": [],
   "source": []
  }
 ],
 "metadata": {
  "accelerator": "TPU",
  "colab": {
   "collapsed_sections": [],
   "name": "Telecom Churn Case Study",
   "provenance": []
  },
  "kernelspec": {
   "display_name": "Python 3",
   "language": "python",
   "name": "python3"
  },
  "language_info": {
   "codemirror_mode": {
    "name": "ipython",
    "version": 3
   },
   "file_extension": ".py",
   "mimetype": "text/x-python",
   "name": "python",
   "nbconvert_exporter": "python",
   "pygments_lexer": "ipython3",
   "version": "3.7.1"
  }
 },
 "nbformat": 4,
 "nbformat_minor": 1
}
